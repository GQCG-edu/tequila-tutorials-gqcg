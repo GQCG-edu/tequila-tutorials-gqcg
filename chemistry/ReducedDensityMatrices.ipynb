{
 "cells": [
  {
   "cell_type": "markdown",
   "metadata": {},
   "source": [
    "# Reduced Density Matrices in Tequila\n",
    "\n",
    "This notebook serves as a tutorial to the computation and usage of the one- and two-particle reduced density matrices."
   ]
  },
  {
   "cell_type": "code",
   "execution_count": 1,
   "metadata": {},
   "outputs": [],
   "source": [
    "# needs version > 1.5.1\n",
    "import tequila as tq\n",
    "import numpy"
   ]
  },
  {
   "cell_type": "markdown",
   "metadata": {},
   "source": [
    "## The 1- and 2-RDM\n",
    "\n",
    "First, look at the definition of the reduced density matrices (RDM) for some state $ |\\psi\\rangle$:\n",
    "\n",
    "1-RDM: $ \\gamma^p_q \\equiv \\langle \\psi | a^p a_q | \\psi\\rangle$\n",
    "\n",
    "2-RDM $ \\gamma^{pq}_{rs} \\equiv \\langle \\psi | a^p a^q a_s a_r | \\psi\\rangle$ (we mainly use the standard physics ordering for the second-quantized operators, i.e. $p,r$ go with particle 1 and $q,s$ with particle 2)\n",
    "\n",
    "The operators $ a^p = a_p^\\dagger $ and $a_p$ denote the standard fermionic creation and annihilation operators.\n",
    "\n",
    "Since we work on a quantum computer, $|\\psi\\rangle$ is represented by some unitary transformation $U$: $|\\psi\\rangle = U |0\\rangle^{\\otimes N_q}$, using $N_q$ qubits. This corresponds to $N_q$ spin-orbitals in Jordan-Wigner encoding. Obtaining the RDMs from a quantum computer is most intuitive when using the Jordan-Wigner transformation, since the results directly correspond to the ones computed classically in second quantized form.\n",
    "\n",
    "It is worth mentioning that since we only consider real orbitals in chemistry applications, the implementation also expects only real-valued RDM's.\n",
    "The well-known anticommutation relations yield a series of symmetry properties for the reduced density matrices, which can be taken into consideration to reduce the computational cost:\n",
    "\\begin{align} \\gamma^p_q &= \\gamma^q_p \\\\ \\gamma^{pq}_{rs} &= -\\gamma^{qp}_{rs} = -\\gamma^{pq}_{sr} = \\gamma^{qp}_{sr} = \\gamma^{rs}_{pq}\\end{align}\n",
    "\n",
    "In chemistry applications, solving the electronic structure problem involves the electronic Hamiltonian (here in Born-Oppenheimer approximation)\n",
    "$$ H_{el} = h_0 + \\sum_{pq} h^q_p a^p_q + \\frac{1}{2}\\sum_{pqrs} h^{rs}_{pq} a^{pq}_{rs}$$\n",
    "with the one- and two-body integrals $h^q_p, h^{rs}_{pq}$ that turn out to be independent of spin.\n",
    "\n",
    "Therefore, we introduce the spin-free RDMs $\\Gamma^P_Q$ and $\\Gamma^{PQ}_{RS}$, obtained by spin-summation (we write molecular orbitals in uppercase letters $P,Q,\\ldots\\in\\{1,\\ldots,N_p\\}$ in opposite to spin-orbitals $p,q,\\ldots\\in\\{1,\\ldots,N_q\\}$):\n",
    "\n",
    "\\begin{align} \\Gamma^P_Q &= \\sum_{\\sigma \\in \\{\\alpha, \\beta\\}} \\gamma^{p\\sigma}_{q\\sigma} = \\langle \\psi |\\sum_{\\sigma} a^{p\\sigma} a_{q\\sigma} | \\psi\\rangle \\\\\n",
    " \\Gamma^{PQ}_{RS} &= \\sum_{\\sigma,\\tau \\in \\{\\alpha, \\beta\\}} \\gamma^{p\\sigma q\\tau}_{r\\sigma s\\tau} = \\langle \\psi | \\sum_{\\sigma,\\tau}  a^{p\\sigma} a^{q\\tau} a_{s\\tau} a_{r\\sigma} | \\psi \\rangle.  \\end{align}\n",
    " \n",
    "Note, that by making use of linearity, we obtain the second equality in the two expressions above. Performing the summation before evaluating the expected value means less expected values and a considerable reduction in computational cost (only $N_p=\\frac{N_q}{2}$ molecular orbitals vs. $N_q$ spin-orbitals).\n",
    "\n",
    "Due to the orthogonality of the spin states, the symmetries for the spin-free 2-RDM are slightly less than for the spin-orbital RDM:\n",
    "\\begin{align} \\Gamma^P_Q &= \\Gamma^Q_P\\\\\n",
    " \\Gamma^{PQ}_{RS} &= \\Gamma^{QP}_{SR} = \\Gamma^{RS}_{PQ} \\end{align}"
   ]
  },
  {
   "cell_type": "code",
   "execution_count": 2,
   "metadata": {},
   "outputs": [
    {
     "name": "stdout",
     "output_type": "stream",
     "text": [
      "Optimizer: <class 'tequila.optimizers.optimizer_scipy.OptimizerSciPy'> \n",
      "backend         : qulacs\n",
      "device          : None\n",
      "samples         : None\n",
      "save_history    : True\n",
      "noise           : None\n",
      "\n",
      "Method          : BFGS\n",
      "Objective       : 1 expectationvalues\n",
      "gradient        : 12 expectationvalues\n",
      "\n",
      "active variables : 3\n",
      "\n",
      "E=-2.85516043  angles= {a1: 0.0, a2: 0.0, a3: 0.0}  samples= None\n",
      "Optimization terminated successfully.\n",
      "         Current function value: -2.855160\n",
      "         Iterations: 0\n",
      "         Function evaluations: 1\n",
      "         Gradient evaluations: 1\n"
     ]
    }
   ],
   "source": [
    "# As an example, let's use the Helium atom in a minimal basis\n",
    "mol = tq.chemistry.Molecule(geometry='He 0.0 0.0 0.0', basis_set='6-31g')\n",
    "\n",
    "# We want to get the 1- and 2-RDM for the (approximate) ground state of Helium\n",
    "# For that, we (i) need to set up a unitary transformation U(angles)\n",
    "#             (ii) determine a set of angles using VQE s.th. U(angles) |0> = |psi>, where H|psi> = E_0|psi>\n",
    "#            (iii) compute the RDMs using compute_rdms\n",
    "\n",
    "# (i) Set up a circuit\n",
    "# This can be done either using the make_uccsd-method (see Chemistry-tutorial) or by a hand-written circuit\n",
    "# We use a hand-written circuit here\n",
    "U = tq.gates.X(target=0)\n",
    "U += tq.gates.X(target=1)\n",
    "U += tq.gates.Ry(target=3, control=0, angle='a1')\n",
    "U += tq.gates.X(target=0)\n",
    "U += tq.gates.X(target=1, control=3)\n",
    "U += tq.gates.Ry(target=2, control=1, angle='a2')\n",
    "U += tq.gates.X(target=1)\n",
    "U += tq.gates.Ry(target=2, control=1, angle='a3')\n",
    "U += tq.gates.X(target=1)\n",
    "U += tq.gates.X(target=2)\n",
    "U += tq.gates.X(target=0, control=2)\n",
    "U += tq.gates.X(target=2)\n",
    "\n",
    "# (ii) Run VQE\n",
    "H = mol.make_hamiltonian()\n",
    "O = tq.objective.objective.ExpectationValue(H=H, U=U)\n",
    "result = tq.minimize(objective=O, method='bfgs')\n"
   ]
  },
  {
   "cell_type": "code",
   "execution_count": 3,
   "metadata": {},
   "outputs": [
    {
     "name": "stdout",
     "output_type": "stream",
     "text": [
      "\n",
      "The spin-free matrices:\n",
      "1-RDM:\n",
      "[[2. 0.]\n",
      " [0. 0.]]\n",
      "2-RDM:\n",
      "[[[[2. 0.]\n",
      "   [0. 0.]]\n",
      "\n",
      "  [[0. 0.]\n",
      "   [0. 0.]]]\n",
      "\n",
      "\n",
      " [[[0. 0.]\n",
      "   [0. 0.]]\n",
      "\n",
      "  [[0. 0.]\n",
      "   [0. 0.]]]]\n",
      "\n",
      "The spin-ful matrices:\n",
      "1-RDM has not been computed. Return None for 1-RDM.\n",
      "1-RDM is None now: None\n",
      "2-RDM has been determined:\n",
      "[[[[ 0.  0.  0.  0.]\n",
      "   [ 0.  0.  0.  0.]\n",
      "   [ 0.  0.  0.  0.]\n",
      "   [ 0.  0.  0.  0.]]\n",
      "\n",
      "  [[ 0.  1.  0.  0.]\n",
      "   [-1.  0.  0.  0.]\n",
      "   [-0. -0.  0.  0.]\n",
      "   [-0. -0. -0.  0.]]\n",
      "\n",
      "  [[ 0.  0.  0.  0.]\n",
      "   [-0.  0.  0.  0.]\n",
      "   [-0. -0.  0.  0.]\n",
      "   [-0. -0. -0.  0.]]\n",
      "\n",
      "  [[ 0.  0.  0.  0.]\n",
      "   [-0.  0.  0.  0.]\n",
      "   [-0. -0.  0.  0.]\n",
      "   [-0. -0. -0.  0.]]]\n",
      "\n",
      "\n",
      " [[[ 0. -1. -0. -0.]\n",
      "   [ 1.  0. -0. -0.]\n",
      "   [ 0.  0.  0. -0.]\n",
      "   [ 0.  0.  0.  0.]]\n",
      "\n",
      "  [[ 0.  0.  0.  0.]\n",
      "   [ 0.  0.  0.  0.]\n",
      "   [ 0.  0.  0.  0.]\n",
      "   [ 0.  0.  0.  0.]]\n",
      "\n",
      "  [[ 0.  0.  0.  0.]\n",
      "   [-0.  0.  0.  0.]\n",
      "   [-0. -0.  0.  0.]\n",
      "   [-0. -0. -0.  0.]]\n",
      "\n",
      "  [[ 0.  0.  0.  0.]\n",
      "   [-0.  0.  0.  0.]\n",
      "   [-0. -0.  0.  0.]\n",
      "   [-0. -0. -0.  0.]]]\n",
      "\n",
      "\n",
      " [[[ 0. -0. -0. -0.]\n",
      "   [ 0.  0. -0. -0.]\n",
      "   [ 0.  0.  0. -0.]\n",
      "   [ 0.  0.  0.  0.]]\n",
      "\n",
      "  [[ 0. -0. -0. -0.]\n",
      "   [ 0.  0. -0. -0.]\n",
      "   [ 0.  0.  0. -0.]\n",
      "   [ 0.  0.  0.  0.]]\n",
      "\n",
      "  [[ 0.  0.  0.  0.]\n",
      "   [ 0.  0.  0.  0.]\n",
      "   [ 0.  0.  0.  0.]\n",
      "   [ 0.  0.  0.  0.]]\n",
      "\n",
      "  [[ 0.  0.  0.  0.]\n",
      "   [-0.  0.  0.  0.]\n",
      "   [-0. -0.  0.  0.]\n",
      "   [-0. -0. -0.  0.]]]\n",
      "\n",
      "\n",
      " [[[ 0. -0. -0. -0.]\n",
      "   [ 0.  0. -0. -0.]\n",
      "   [ 0.  0.  0. -0.]\n",
      "   [ 0.  0.  0.  0.]]\n",
      "\n",
      "  [[ 0. -0. -0. -0.]\n",
      "   [ 0.  0. -0. -0.]\n",
      "   [ 0.  0.  0. -0.]\n",
      "   [ 0.  0.  0.  0.]]\n",
      "\n",
      "  [[ 0. -0. -0. -0.]\n",
      "   [ 0.  0. -0. -0.]\n",
      "   [ 0.  0.  0. -0.]\n",
      "   [ 0.  0.  0.  0.]]\n",
      "\n",
      "  [[ 0.  0.  0.  0.]\n",
      "   [ 0.  0.  0.  0.]\n",
      "   [ 0.  0.  0.  0.]\n",
      "   [ 0.  0.  0.  0.]]]]\n",
      "1-RDM is also here now:\n",
      "[[1. 0. 0. 0.]\n",
      " [0. 1. 0. 0.]\n",
      " [0. 0. 0. 0.]\n",
      " [0. 0. 0. 0.]]\n"
     ]
    }
   ],
   "source": [
    "# (iii) Using the optimal parameters out of VQE, we know have a circuit U_opt |0> ~ U|0> = |psi> \n",
    "mol.compute_rdms(U=U, variables=result.angles, spin_free=True, get_rdm1=True, get_rdm2=True)\n",
    "rdm1_spinfree, rdm2_spinfree = mol.rdm1, mol.rdm2\n",
    "print('\\nThe spin-free matrices:')\n",
    "print('1-RDM:\\n' + str(rdm1_spinfree))\n",
    "print('2-RDM:\\n' + str(rdm2_spinfree))\n",
    "\n",
    "\n",
    "# Let's also get the spin-orbital rdm2\n",
    "# We can select to only determine one of either matrix, but if both are needed at some point, it is \n",
    "# more efficient to compute both within one call of compute_rdms\n",
    "print('\\nThe spin-ful matrices:')\n",
    "mol.compute_rdms(U=U, variables=result.angles, spin_free=False, get_rdm1=False, get_rdm2=True)\n",
    "rdm1_spin, rdm2_spin = mol.rdm1, mol.rdm2\n",
    "print('1-RDM is None now: ' + str(rdm1_spin))\n",
    "print('2-RDM has been determined:\\n' + str(rdm2_spin))\n",
    "\n",
    "# We can compute the 1-rdm still at a later point\n",
    "mol.compute_rdms(U=U, variables=result.angles, spin_free=False, get_rdm1=True, get_rdm2=False)\n",
    "rdm1_spin = mol.rdm1\n",
    "print('1-RDM is also here now:\\n' + str(rdm1_spin))"
   ]
  },
  {
   "cell_type": "code",
   "execution_count": 4,
   "metadata": {},
   "outputs": [
    {
     "name": "stdout",
     "output_type": "stream",
     "text": [
      "\n",
      "Consistency of spin summation:\n",
      "1-RDM: True\n",
      "2-RDM: True\n"
     ]
    }
   ],
   "source": [
    "# To check consistency with the spin-free rdms, we can do spin-summation afterwards \n",
    "# (again, if only the spin-free version is of interest, it is cheaper to get it right from compute_rdms) \n",
    "rdm1_spinsum, rdm2_spinsum = mol.rdm_spinsum(sum_rdm1=True, sum_rdm2=True)\n",
    "print('\\nConsistency of spin summation:')\n",
    "print('1-RDM: ' + str(numpy.allclose(rdm1_spinsum, rdm1_spinfree, atol=1e-10)))\n",
    "print('2-RDM: ' + str(numpy.allclose(rdm2_spinsum, rdm2_spinfree, atol=1e-10)))"
   ]
  },
  {
   "cell_type": "code",
   "execution_count": 5,
   "metadata": {},
   "outputs": [
    {
     "name": "stdout",
     "output_type": "stream",
     "text": [
      "\n",
      "Psi4-RDMs:\n",
      "1-RDM:\n",
      "[[ 1.9913455  -0.00385072]\n",
      " [-0.00385072  0.0086545 ]]\n",
      "2-RDM:\n",
      "[[[[ 1.99133696e+00 -4.12235350e-03]\n",
      "   [-4.12235350e-03 -1.31213704e-01]]\n",
      "\n",
      "  [[-4.12235350e-03  8.53386376e-06]\n",
      "   [ 8.53386376e-06  2.71631211e-04]]]\n",
      "\n",
      "\n",
      " [[[-4.12235350e-03  8.53386376e-06]\n",
      "   [ 8.53386376e-06  2.71631211e-04]]\n",
      "\n",
      "  [[-1.31213704e-01  2.71631211e-04]\n",
      "   [ 2.71631211e-04  8.64596819e-03]]]]\n",
      "\n",
      "FCI energy: -2.8701621389008194\n",
      "VQE-Energy: -2.8551604253719836\n"
     ]
    }
   ],
   "source": [
    "# We can also compute the RDMs using the psi4-interface.\n",
    "# Then, psi4 is called to perform a CI-calculation, while collecting the 1- and 2-RDM\n",
    "# Let's use full CI here, but other CI flavors work as well\n",
    "mol.compute_rdms(psi4_method='fci')\n",
    "rdm1_psi4, rdm2_psi4 = mol.rdm1, mol.rdm2\n",
    "print('\\nPsi4-RDMs:')\n",
    "print('1-RDM:\\n' + str(rdm1_psi4))\n",
    "print('2-RDM:\\n' + str(rdm2_psi4))\n",
    "\n",
    "# Comparing the results to the VQE-matrices, we observe a close resemblance,\n",
    "# also suggested by the obtained energies\n",
    "fci_energy = mol.logs['fci'].variables['FCI TOTAL ENERGY']\n",
    "vqe_energy = result.energy\n",
    "print('\\nFCI energy: ' + str(fci_energy))\n",
    "print('VQE-Energy: ' + str(vqe_energy))"
   ]
  },
  {
   "cell_type": "markdown",
   "metadata": {
    "pycharm": {
     "name": "#%% md\n"
    }
   },
   "source": [
    "## Consistency checks\n",
    "\n",
    "At this point, we can make a few consistency checks.\n",
    "\n",
    "We can validate the trace condition for the 1- and 2-RDM:\n",
    "\n",
    "\\begin{align}\\mathrm{tr}(\\mathbf{\\Gamma}_m)&=N!/(N-m)!\\\\ \\mathrm{tr} (\\mathbf{\\Gamma}_1) &= \\sum_P \\Gamma^P_P = N \\\\\n",
    " \\mathrm{tr} (\\mathbf{\\Gamma}_2) &= \\sum_{PQ} \\Gamma^{PQ}_{PQ} = N(N-1), \\end{align}\n",
    "\n",
    "$N$ describes the number of particles involved, i.e. in our case using a minimal basis this corresponds to $N_p$ above. For the Helium atom in Born-Oppenheimer approximation, $N_p=2$.\n",
    "In the literature, one can also find the $m$-particle reduced density matrices normalized by a factor $1/m!$, which in that case would be inherited by the trace conditions.\n",
    "\n",
    "Also, the (in our case, as we use the wavefunction from VQE, ground-state) energy can be computed by\n",
    "\n",
    "\\begin{equation} E = \\langle H_{el} \\rangle = h_0 + \\sum_{PQ} h^Q_P \\Gamma^P_Q + \\frac{1}{2}\\sum_{PQRS} h^{RS}_{PQ} \\Gamma^{PQ}_{RS}, \\end{equation}\n",
    "\n",
    "where $h_0$ denotes the nuclear repulsion energy, which is 0 for Helium anyways.\n",
    "\n",
    "Note, that the expressions above also hold true for the spin-RDMs, given that the one- and two-body integrals are available in spin-orbital basis.\n"
   ]
  },
  {
   "cell_type": "code",
   "execution_count": 7,
   "metadata": {
    "pycharm": {
     "name": "#%%\n"
    }
   },
   "outputs": [
    {
     "name": "stdout",
     "output_type": "stream",
     "text": [
      "1-RDM: N_true = 2, N_spin = 2.0, N_spinfree = 2.0.\n",
      "2-RDM: N*(N-1)_true = 2, spin = 2.0, spinfree = 2.0.\n",
      "h0 is zero: 0.0\n",
      "\n",
      "VQE-Energy is:      -2.8551604253719836\n",
      "RDM-energy matches: -2.855160425371983\n"
     ]
    }
   ],
   "source": [
    "# Computation of consistency checks\n",
    "#todo: normalization of rdm2 *= 1/2\n",
    "# Trace\n",
    "tr1_spin = numpy.einsum('pp', rdm1_spin, optimize='greedy')\n",
    "tr1_spinfree = numpy.einsum('pp', rdm1_spinfree, optimize='greedy')\n",
    "\n",
    "tr2_spin = numpy.einsum('pqpq', rdm2_spin, optimize='greedy')\n",
    "tr2_spinfree = numpy.einsum('pqpq', rdm2_spinfree, optimize='greedy')\n",
    "\n",
    "print(\"1-RDM: N_true = 2, N_spin = \" + str(tr1_spin) + \", N_spinfree = \" + str(tr1_spinfree)+\".\")\n",
    "print(\"2-RDM: N*(N-1)_true = 2, spin = \" + str(tr2_spin) + \", spinfree = \" + str(tr2_spinfree)+\".\")\n",
    "\n",
    "# Energy\n",
    "# Get molecular integrals\n",
    "h0 = mol.molecule.nuclear_repulsion\n",
    "print(\"h0 is zero: \" + str(h0))\n",
    "h1 = mol.molecule.one_body_integrals\n",
    "h2 = mol.molecule.two_body_integrals\n",
    "# Reorder two-body-integrals according to physics convention\n",
    "h2 = tq.chemistry.qc_base.NBodyTensor(elems=h2, ordering='openfermion')\n",
    "h2.reorder(to='phys')\n",
    "h2 = h2.elems\n",
    "# Compute energy\n",
    "rdm_energy = numpy.einsum('qp, pq', h1, rdm1_spinfree, optimize='greedy') + 1/2*numpy.einsum('rspq, pqrs', h2, rdm2_spinfree, optimize='greedy')\n",
    "print('\\nVQE-Energy is:      ' + str(vqe_energy))\n",
    "print('RDM-energy matches: ' + str(rdm_energy))\n"
   ]
  },
  {
   "cell_type": "markdown",
   "metadata": {
    "pycharm": {
     "name": "#%% md\n"
    }
   },
   "source": [
    "## References \n",
    "... for the definition of the reduced density matrices, spin-free formulation, symmetries:\n",
    "1. Kutzelnigg, W., Shamasundar, K. R. & Mukherjee, D. Spinfree formulation of reduced density matrices, density cumulants and generalised normal ordering. Mol. Phys. 108, 433–451 (2010).\n",
    "2. Helgaker, T., Jørgensen, P. & Olsen, J. Molecular Electronic-Structure Theory (John Wiley & Sons, Ltd, 2000). \n",
    "\n",
    "## Possible applications\n",
    "So far, the content of this notebook is comparably trivial, and misses some interesting applications. An interesting possilibity on how to make use of the RDM's obtained by a quantum computer is given by a technique that has been named quantum subspace expansion, which e.g. can be used to approximate excited states [3], decode quantum errors [4] or improve the accuracy of results [5]. \n",
    "References herefore:\n",
    "3. McClean, J. R., Kimchi-Schwartz, M. E., Carter, J. & De Jong, W. A. Hybrid quantum-classical hierarchy for mitigation of decoherence and determination of excited states. Phys. Rev. A 95, 1–10 (2017).\n",
    "4. McClean, J. R., Jiang, Z., Rubin, N. C., Babbush, R. & Neven, H. Decoding quantum errors with subspace expansions. Nat. Commun. 11, 1–9 (2020).\n",
    "5. Takeshita, T. et al. Increasing the Representation Accuracy of Quantum Simulations of Chemistry without Extra Quantum Resources. Phys. Rev. X 10, 11004 (2020).\n",
    "\n",
    "Everybody is invited to enrich this notebook by implementing one of the techniques mentioned, or some other application of the 1- and 2-RDM!\n"
   ]
  }
 ],
 "metadata": {
  "kernelspec": {
   "display_name": "tequila-3.7",
   "language": "python",
   "name": "tequila-3.7"
  },
  "language_info": {
   "codemirror_mode": {
    "name": "ipython",
    "version": 3
   },
   "file_extension": ".py",
   "mimetype": "text/x-python",
   "name": "python",
   "nbconvert_exporter": "python",
   "pygments_lexer": "ipython3",
   "version": "3.7.9"
  }
 },
 "nbformat": 4,
 "nbformat_minor": 2
}

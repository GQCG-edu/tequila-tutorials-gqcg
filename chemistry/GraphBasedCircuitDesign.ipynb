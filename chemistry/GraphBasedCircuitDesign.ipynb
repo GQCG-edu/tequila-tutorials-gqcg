{
 "cells": [
  {
   "cell_type": "code",
   "execution_count": 1,
   "metadata": {},
   "outputs": [],
   "source": [
    "# Necessary dependencies for this Notebook:\n",
    "# Needs tequila version>1.7.0\n",
    "# e.g. pip install --upgrade git+https://github.com/aspuru-guzik-group/tequila.git@devel\n",
    "# PySCF: pip install pyscf\n",
    "# Recommended: pip install qulacs\n",
    "import tequila as tq\n",
    "import numpy\n",
    "import time\n",
    "\n",
    "# convenience to avoid \"tq.gates\" in circuit construction\n",
    "from tequila.circuit.gates import X, CNOT, Ry, QubitExcitation"
   ]
  },
  {
   "cell_type": "markdown",
   "metadata": {},
   "source": [
    "# Molecular Quantum Circuit Design: A Graph Based Approach\n",
    "\n",
    "<img src=\"pics/overview_cartoon.png\" width=400/>\n",
    "\n",
    "- This notebook showcases the results of the article with the same title.  \n",
    "- You can find the original article [here](https://arxiv.org/abs/2207.12421).  \n",
    "\n",
    "- If you are using this for your research, considering citing dependencies as well (see the \"Computational Details & Code Availability\" section of the article).\n",
    "\n",
    "\n"
   ]
  },
  {
   "cell_type": "markdown",
   "metadata": {},
   "source": [
    "## Two-Electron Systems\n",
    "\n",
    "We will start by creating a function that generates a general version of the circuit displayed in Eq.(11) in the paper\n",
    "\n",
    "<img src=\"pics/electron_pair_circuit.png\" width=400/>\n",
    "\n",
    "it generates a wavefunction for a spin-restriced electron-pair in $R_\\text{e}$ spatial orbitals. Spin-restriction in this context means, that electrons are always forced to form spin pairs. They move as quasi-particles sometimes referred to as *hardcore Bosons* - (see for example Section I.A. of [arxiv/2105.03836](https://arxiv.org/pdf/2105.03836.pdf)).  \n",
    "\n",
    "The $N$-qubit wavefunction looks like\n",
    "$$\n",
    "U_2^N \\lvert 0\\dots0 \\rangle = \\sum_{k=0}^{R_\\text{e}-1} \\cos\\left(\\frac{\\theta_k}{2}\\right)\\prod_{l=0}^{k-1}\\left(\\sin\\left(\\frac{\\theta_l}{2}\\right)\\right)\\lvert2^{2k+1}+2^{2k}\\rangle\\nonumber = c_0 \\lvert 1100\\dots0 \\rangle + c_1 \\lvert 0011\\dots0 \\rangle + \\dots\n",
    "$$\n",
    "with $N=2R_\\text{e}$"
   ]
  },
  {
   "cell_type": "code",
   "execution_count": 4,
   "metadata": {},
   "outputs": [],
   "source": [
    "def make_Upair(qubits: list, label=None):\n",
    "    # need even number of qubits\n",
    "    assert len(qubits) % 2 == 0\n",
    "    U = X(qubits[0])\n",
    "    c = None\n",
    "    for q in range(len(qubits)//2-1):\n",
    "        angle = (q,q+1,label)\n",
    "        U+= Ry(angle,qubits[2*q+2],control=c)\n",
    "        U+= CNOT(qubits[2*q+2], qubits[2*q])\n",
    "        c = 2*q+2\n",
    "    # the CNOT sequence that transforms from Hardcore Boson to Jordan-Wigner\n",
    "    U += sum([CNOT(qubits[2*q],qubits[2*q+1]) for q in range(len(qubits)//2)], tq.QCircuit())\n",
    "    return U"
   ]
  },
  {
   "cell_type": "markdown",
   "metadata": {},
   "source": [
    "Let's run this circuit for some angles and see how the wavefunction looks. It should look like described above:"
   ]
  },
  {
   "cell_type": "code",
   "execution_count": 3,
   "metadata": {},
   "outputs": [
    {
     "name": "stdout",
     "output_type": "stream",
     "text": [
      "+0.8776|11000000> +0.4207|00110000> +0.2017|00001100> +0.1102|00000011> \n"
     ]
    }
   ],
   "source": [
    "U = make_Upair(qubits=[0,1,2,3,4,5,6,7])\n",
    "variables = {k:1.0 for k in U.extract_variables()}\n",
    "wfn = tq.simulate(U, variables)\n",
    "print(wfn)"
   ]
  },
  {
   "cell_type": "markdown",
   "metadata": {},
   "source": [
    "Let's reproduce the left plot in Fig.2 of the paper where this particular circuit is tried out for Hydrogen-Molecules in an 6-31G basis. First we will create the molecule with tequila and then compute two VQEs, one with the standard Hartree-Fock orbitals and one with optimized orbitals for this circuit - note that the optimized orbitals are still in the same basis set, we are just optimizing the orbital representation within the given 6-31G basis.  "
   ]
  },
  {
   "cell_type": "code",
   "execution_count": 4,
   "metadata": {},
   "outputs": [
    {
     "name": "stdout",
     "output_type": "stream",
     "text": [
      "converged SCF energy = -1.05802481296927\n",
      "converged SCF energy = -1.12530860416883\n",
      "converged SCF energy = -1.08435007825667\n",
      "converged SCF energy = -1.02926301467656\n",
      "converged SCF energy = -0.977519224346808\n",
      "converged SCF energy = -0.932367146464438\n",
      "converged SCF energy = -0.894183762983294\n",
      "converged SCF energy = -0.862514623706141\n",
      "converged SCF energy = -0.836584370668952\n",
      "converged SCF energy = -0.815591772270656\n",
      "runtime: 401.4002389907837s\n"
     ]
    }
   ],
   "source": [
    "# loop over bond distances\n",
    "# feel free to reduce points for faster runtime\n",
    "# 10 points should take about 400s (reference: Dell XPS from 2019 ,intel i5, 4 threads)\n",
    "# Time consuming part: orbital-optimization (evaluation of density matrices, takes a few iterations since no clever guess is used here)\n",
    "npoints=10\n",
    "geom = \"H 0.0 0.0 0.0\\nH 0.0 0.0 {}\"\n",
    "start = time.time()\n",
    "# collecting data\n",
    "spa_hf=[]\n",
    "spa_opt=[]\n",
    "exact = []\n",
    "x = []\n",
    "\n",
    "guess = None\n",
    "for R in numpy.linspace(0.5, 3.0, npoints):\n",
    "    mol = tq.Molecule(geometry=geom.format(R), basis_set=\"6-31G\")\n",
    "    # no orbital optimization\n",
    "    H = mol.make_hamiltonian()\n",
    "    E = tq.ExpectationValue(H=H, U=U)\n",
    "    result = tq.minimize(E, silent=True)\n",
    "    delta=1.0\n",
    "    energy = result.energy\n",
    "    # orbital optimization\n",
    "    while(delta > 1.e-4):\n",
    "        opt = tq.chemistry.optimize_orbitals(circuit=U, molecule=mol, silent=True, initial_guess=guess)\n",
    "        guess = opt.mo_coeff\n",
    "        delta=abs(opt.energy-energy)\n",
    "        energy = opt.energy\n",
    "    # save data\n",
    "    spa_hf.append(result.energy)\n",
    "    spa_opt.append(opt.energy)\n",
    "    exact.append(mol.compute_energy(\"fci\"))\n",
    "    x.append(R)\n",
    "end = time.time()\n",
    "print(\"runtime: {}s\".format(end-start))"
   ]
  },
  {
   "cell_type": "code",
   "execution_count": 5,
   "metadata": {},
   "outputs": [
    {
     "data": {
      "image/png": "[encoded data removed]",
      "text/plain": [
       "<Figure size 432x288 with 1 Axes>"
      ]
     },
     "metadata": {
      "needs_background": "light"
     },
     "output_type": "display_data"
    }
   ],
   "source": [
    "# this is just the plotting\n",
    "import matplotlib.pyplot as plt\n",
    "Re = len(x)\n",
    "plt.plot([spa_hf[i]-exact[i] for i in range(Re)], color=\"navy\", label=\"SPA-HF\")\n",
    "plt.plot([spa_opt[i]-exact[i] for i in range(Re)], color=\"tab:red\", label=\"SPA-Opt\")\n",
    "plt.yscale(\"log\")\n",
    "plt.legend()\n",
    "plt.show()"
   ]
  },
  {
   "cell_type": "markdown",
   "metadata": {},
   "source": [
    "Looks like in the paper.  \n",
    "The red line might vary (as internal optimization thresholds change in tequila an pyscf and below 1.e-4 doesn't really matter anymore)"
   ]
  },
  {
   "cell_type": "markdown",
   "metadata": {},
   "source": [
    "## Graph-SPA\n",
    "\n",
    "Now that we have seen the two-electron circuit at work we will construct a four electron circuit for H4/STO-3G(4,8) from it as described in the paper.  \n",
    "We start by initializing the molecule in a basis of orthonormalized STO-3G orbitals - this can be achieved over the `orthonormalize_basis_orbitals` function of a tequila molecule."
   ]
  },
  {
   "cell_type": "code",
   "execution_count": 2,
   "metadata": {},
   "outputs": [
    {
     "name": "stdout",
     "output_type": "stream",
     "text": [
      "converged SCF energy = -1.82913741235697\n"
     ]
    }
   ],
   "source": [
    "geom = \"H 0.0 0.0 0.0\\nH 0.0 0.0 1.5\\nH 0.0 0.0 3.0\\nH 0.0 0.0 4.5\"\n",
    "mol = tq.Molecule(geometry=geom, basis_set=\"STO-3G\")\n",
    "mol = mol.orthonormalize_basis_orbitals()\n",
    "fci = mol.compute_energy(\"fci\")"
   ]
  },
  {
   "cell_type": "markdown",
   "metadata": {},
   "source": [
    "As an initial guess for the optimal basis function we will try to mimic the molecular graph\n",
    "\n",
    "<img src=\"pics/h4_graph_1.png\" width=200/>\n",
    "\n",
    "this means we are creating the following linear combination out of our atomic orbitals as guess orbitals\n",
    "\n",
    "<img src=\"pics/h4_orbital_guess.png\" width=150/>\n",
    "\n",
    "where blue and red dots represent positive and negative superpositions of STO-3G S-Orbitals.\n",
    "\n"
   ]
  },
  {
   "cell_type": "code",
   "execution_count": 5,
   "metadata": {},
   "outputs": [
    {
     "name": "stdout",
     "output_type": "stream",
     "text": [
      "finished H4-Graph-SPA in 30.4s\n",
      "Graph-SPA Energy : -1.97989\n",
      "Graph-SPA Error  : -0.01626\n"
     ]
    }
   ],
   "source": [
    "# if we use the same labels, we use the same variables\n",
    "# that means we are exploiting symmetry (which is fine in this example)\n",
    "USPA = make_Upair(qubits=[0,1,2,3],label=0)\n",
    "USPA+= make_Upair(qubits=[4,5,6,7],label=0)\n",
    "\n",
    "delta = 1.0\n",
    "energy = 1.0\n",
    "guess = numpy.zeros(shape=[mol.n_orbitals, mol.n_orbitals])\n",
    "guess[0] = [1.0, 1.0,0.0,0.0]\n",
    "guess[1] = [1.0,-1.0,0.0,0.0]\n",
    "guess[2] = [0.0,0.0,1.0, 1.0]\n",
    "guess[3] = [0.0,0.0,1.0,-1.0]\n",
    "# more convenient to initialize guess in transposed form\n",
    "guess = guess.T\n",
    "start = time.time()\n",
    "while(delta > 1.e-4):\n",
    "    opt = tq.chemistry.optimize_orbitals(circuit=USPA, molecule=mol, silent=True, initial_guess=guess)\n",
    "    guess = opt.mo_coeff\n",
    "    delta=abs(opt.energy-energy)\n",
    "    energy = opt.energy\n",
    "stop = time.time()\n",
    "\n",
    "# make the optimized molecule the molecule\n",
    "mol = opt.molecule\n",
    "\n",
    "print(\"finished H4-Graph-SPA in {:4.1f}s\".format(stop-start))\n",
    "print(\"Graph-SPA Energy : {:+2.5f}\".format(energy))\n",
    "print(\"Graph-SPA Error  : {:+2.5f}\".format(fci-energy))"
   ]
  },
  {
   "cell_type": "markdown",
   "metadata": {},
   "source": [
    "We can now look at the optimized orbital coefficients and compare to our initial guess"
   ]
  },
  {
   "cell_type": "code",
   "execution_count": 6,
   "metadata": {},
   "outputs": [
    {
     "name": "stdout",
     "output_type": "stream",
     "text": [
      "basis_type      : custom\n",
      "basis_name      : STO-3G\n",
      "orthogonal      : True\n",
      "functions       : 4\n",
      "reference       : [0, 1]\n",
      "Current Orbitals\n",
      "{idx_total:0, idx:0}\n",
      "coefficients:  [ 0.7043653   0.70026191  0.08240649 -0.08192642]\n",
      "{idx_total:1, idx:1}\n",
      "coefficients:  [ 0.70026191 -0.7043653   0.08192642  0.08240649]\n",
      "{idx_total:2, idx:2}\n",
      "coefficients:  [-0.08192642  0.08240649  0.70026191  0.7043653 ]\n",
      "{idx_total:3, idx:3}\n",
      "coefficients:  [-0.08240649 -0.08192642  0.7043653  -0.70026191]\n"
     ]
    }
   ],
   "source": [
    "mol.print_basis_info()"
   ]
  },
  {
   "cell_type": "markdown",
   "metadata": {},
   "source": [
    "As in the paper, we see that they represent a slightly more delocalized picture\n",
    "<img src=\"pics/h4_orbital_result.png\" width=150/>"
   ]
  },
  {
   "cell_type": "markdown",
   "metadata": {},
   "source": [
    "## Multi-Graph Circuit\n",
    "\n",
    "We will now extend the SPA circuit from the section before with another molecular graph, the one that resembles a central H-H bond:\n",
    "\n",
    "<img src=\"pics/h4_graph_2.png\" width=200/>\n",
    "\n",
    "the initial guess for the corresponding orbitals is\n",
    "\n",
    "<img src=\"pics/h4_orbitals_2.png\" width=150/>\n",
    "\n",
    "as we are rotating from the optimized SPA orbitals to this frame and back we can't optimize the orbitals as before, but rather have to represent the orbital rotation by unitary circuits. The image on the top of this notebook illustrates that process.   \n",
    "For H4, we chose the same strategy as in the paper and first rotate back to the local frame before we rotate to the central bond picture."
   ]
  },
  {
   "cell_type": "code",
   "execution_count": 7,
   "metadata": {},
   "outputs": [
    {
     "name": "stdout",
     "output_type": "stream",
     "text": [
      "finished H4-Graph-SPA in  3.9s\n",
      "Multi-Graph Energy : -1.98771\n",
      "Multi-Graph Error  : -0.00844\n"
     ]
    }
   ],
   "source": [
    "R0 = tq.Variable(\"R0\")\n",
    "R1 = tq.Variable(\"R1\")\n",
    "pi = numpy.pi\n",
    "# rotate back to localized frame\n",
    "UR0 = mol.make_excitation_gate(angle=(R0+0.5)*pi, indices=[(0,2)])\n",
    "UR0+= mol.make_excitation_gate(angle=(R0+0.5)*pi, indices=[(1,3)])\n",
    "UR0+= mol.make_excitation_gate(angle=(R0+0.5)*pi, indices=[(4,6)])\n",
    "UR0+= mol.make_excitation_gate(angle=(R0+0.5)*pi, indices=[(5,7)])\n",
    "# form the central bond\n",
    "UR1 = mol.make_excitation_gate(angle=(R1+0.5)*pi, indices=[(2,4)])\n",
    "UR1+= mol.make_excitation_gate(angle=(R1+0.5)*pi, indices=[(3,5)])\n",
    "\n",
    "# add electron-pair correlator to the central bond - see Eq.(22) in the paper.\n",
    "UC = tq.gates.QubitExcitation(target=[2,4,3,5], angle=\"C\")\n",
    "\n",
    "# construct the circuit for both graphs\n",
    "U = USPA + UR0 + UR1 + UC + UR1.dagger() + UR0.dagger()\n",
    "\n",
    "# construct and optimize the expectation value\n",
    "H = mol.make_hamiltonian()\n",
    "E = tq.ExpectationValue(H=H, U=U)\n",
    "start = time.time()\n",
    "result_multi = tq.minimize(E, silent=True)\n",
    "stop = time.time()\n",
    "\n",
    "print(\"finished H4-Graph-SPA in {:4.1f}s\".format(stop-start))\n",
    "print(\"Multi-Graph Energy : {:+2.5f}\".format(result_multi.energy))\n",
    "print(\"Multi-Graph Error  : {:+2.5f}\".format(fci-result_multi.energy))"
   ]
  },
  {
   "cell_type": "markdown",
   "metadata": {},
   "source": [
    "We observe the same results as described in the paper!  \n",
    "\n",
    "Finally we demonstrate an additional orbital optimization round, this time with the Multi-Graph circuir instead of the SPA circuit. This will show, that there is no further improvement. Good news, as the orbital optimization is much cheaper when performend with the classically tractable SPA circuit!"
   ]
  },
  {
   "cell_type": "code",
   "execution_count": 8,
   "metadata": {},
   "outputs": [
    {
     "name": "stdout",
     "output_type": "stream",
     "text": [
      "-0.008127148704816012\n"
     ]
    }
   ],
   "source": [
    "start = time.time()\n",
    "U = USPA + UR0 + UR1 + UC + UR1.dagger() + UR0.dagger()\n",
    "energy=1.0\n",
    "delta=1.0\n",
    "guess=None\n",
    "while(delta > 1.e-4):\n",
    "    opt = tq.chemistry.optimize_orbitals(circuit=U, molecule=mol, silent=True, initial_guess=guess)\n",
    "    guess = opt.mo_coeff\n",
    "    delta=abs(opt.energy-energy)\n",
    "    energy = opt.energy\n",
    "stop = time.time()\n",
    "print(fci-energy)"
   ]
  },
  {
   "cell_type": "markdown",
   "metadata": {},
   "source": [
    "## Bonus\n",
    "\n",
    "Unsure if an SPA pair is really classically tractable? Here is a simulation with up to 1024 qubits. Note that you need to use the symbolic simulator of tequila (usually not recommended since it is the by-far slowest). The reason being that this simulator is not allocating memory for 2^1024 complex numbers (what qulacs is for example doing) but creating the wavefunction one gate after another. You could do an expectation value as well, however, computing the Hamiltonian and evaluating the individual Pauli expectationvalues is not optimized for this simulator, so we wouldn't recommend. Would also go not too large with the symbolic simulator as it operates on python strings and uses a horrible integer-to-binary-number converter (better not go over 500 qubit)."
   ]
  },
  {
   "cell_type": "code",
   "execution_count": 9,
   "metadata": {},
   "outputs": [
    {
     "name": "stdout",
     "output_type": "stream",
     "text": [
      "simulated    2 qubits SPA with    2 gates in 0.00s\n",
      "simulated    4 qubits SPA with    5 gates in 0.01s\n",
      "simulated    8 qubits SPA with   11 gates in 0.01s\n",
      "simulated   16 qubits SPA with   23 gates in 0.02s\n",
      "simulated   32 qubits SPA with   47 gates in 0.05s\n",
      "simulated   64 qubits SPA with   95 gates in 0.17s\n",
      "simulated  128 qubits SPA with  191 gates in 0.89s\n",
      "simulated  256 qubits SPA with  383 gates in 5.43s\n",
      "simulated  512 qubits SPA with  767 gates in 39.67s\n"
     ]
    }
   ],
   "source": [
    "def run(biggest=512, silent=False):\n",
    "    Nq = 2\n",
    "    times = []\n",
    "    gates = []\n",
    "    while(Nq <= biggest):\n",
    "        Ubig = make_Upair(qubits=list(range(Nq)))\n",
    "        gates.append(len(Ubig.gates))\n",
    "        variables = {k:1.0 for k in Ubig.extract_variables()}\n",
    "\n",
    "        start = time.time()\n",
    "        wfn = tq.simulate(Ubig, variables=variables, backend=\"symbolic\")\n",
    "        stop=time.time()\n",
    "        if not silent: print(\"simulated {:4} qubits SPA with {:4} gates in {:4.2f}s\".format(Nq, gates[-1], stop-start))\n",
    "        Nq *= 2\n",
    "        times.append(stop-start)\n",
    "    return times, gates\n",
    "\n",
    "times, gates = run()"
   ]
  },
  {
   "cell_type": "markdown",
   "metadata": {},
   "source": [
    "doesn't look like there are serious memory troubles. However: Don't take data from the tequila symbolic backend as serious benchmark, the simulator is not very good and only intended for debug purposes :-)."
   ]
  },
  {
   "cell_type": "code",
   "execution_count": 10,
   "metadata": {},
   "outputs": [
    {
     "data": {
      "image/png": "[encoded data removed]",
      "text/plain": [
       "<Figure size 432x288 with 1 Axes>"
      ]
     },
     "metadata": {
      "needs_background": "light"
     },
     "output_type": "display_data"
    },
    {
     "data": {
      "image/png": "[encoded data removed]",
      "text/plain": [
       "<Figure size 432x288 with 1 Axes>"
      ]
     },
     "metadata": {
      "needs_background": "light"
     },
     "output_type": "display_data"
    }
   ],
   "source": [
    "from matplotlib import pyplot as plt\n",
    "plt.figure()\n",
    "qubits = [2**(i+1) for i in range(len(times))]\n",
    "plt.xlabel(\"number of qubits\")\n",
    "plt.ylabel(\"time/s\")\n",
    "plt.yscale(\"log\")\n",
    "plt.xscale(\"log\")\n",
    "plt.plot(qubits,times, marker=\"x\")\n",
    "plt.show()\n",
    "plt.ylabel(\"number of gates\")\n",
    "plt.yscale(\"log\")\n",
    "plt.plot(qubits,times, marker=\"x\")\n",
    "plt.show()"
   ]
  },
  {
   "cell_type": "code",
   "execution_count": null,
   "metadata": {},
   "outputs": [],
   "source": []
  },
  {
   "cell_type": "code",
   "execution_count": null,
   "metadata": {},
   "outputs": [],
   "source": []
  },
  {
   "cell_type": "code",
   "execution_count": null,
   "metadata": {},
   "outputs": [],
   "source": []
  }
 ],
 "metadata": {
  "kernelspec": {
   "display_name": "tq-pyscf-3.9",
   "language": "python",
   "name": "tq-pyscf-3.9"
  },
  "language_info": {
   "codemirror_mode": {
    "name": "ipython",
    "version": 3
   },
   "file_extension": ".py",
   "mimetype": "text/x-python",
   "name": "python",
   "nbconvert_exporter": "python",
   "pygments_lexer": "ipython3",
   "version": "3.9.12"
  }
 },
 "nbformat": 4,
 "nbformat_minor": 2
}

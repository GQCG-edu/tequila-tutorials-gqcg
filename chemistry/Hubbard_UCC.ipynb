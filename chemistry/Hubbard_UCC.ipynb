{
 "cells": [
  {
   "cell_type": "markdown",
   "metadata": {},
   "source": [
    "# The Hubbard model with a UCC ansatz\n",
    "In this notebook, we will demonstrate how to approximate the ground state of a Hubbard Hamiltonian in tequila using a UCC ansatz. The [Hubbard model](https://en.wikipedia.org/wiki/Hubbard_model) provides a model Hamiltonian in which the system consists of a number of orthogonal interacting sites. In second quantization the Hamiltonian is given by\n",
    "$$\n",
    "\\begin{equation*}\n",
    "\\mathcal{H} = \\sum_{\\braket{ij}} t_{ij} \\hat{a}^\\dagger_i \\hat{a}_j + \\sum_{i}U_i\\hat{n}_{i\\uparrow}\\hat{n}_{i\\downarrow}\n",
    "\\end{equation*}\n",
    "$$\n",
    "where $t_{ij}$ is the hopping term between sites $i$ and $j$ and the $U_i$ is the repulsion between electrons on the same site. The $\\hat{n}_i$ is the number operator for site $i$ and is given by $\\hat{n}_i = \\hat{a}_i^\\dagger\\hat{a}_i$."
   ]
  },
  {
   "cell_type": "code",
   "execution_count": 1,
   "metadata": {},
   "outputs": [],
   "source": [
    "import tequila as tq\n",
    "import openfermion as of\n",
    "import cirq\n",
    "import numpy as np"
   ]
  },
  {
   "cell_type": "markdown",
   "metadata": {},
   "source": [
    "We can use OpenFermion to generate a Hubbard hamiltonian and turn it into a tequila QubitHamiltonian object."
   ]
  },
  {
   "cell_type": "code",
   "execution_count": 2,
   "metadata": {},
   "outputs": [],
   "source": [
    "# create the OpenFermion Hubbard hamiltonian in second quantization\n",
    "openfermion_hamiltonian = of.fermi_hubbard(1, 2, tunneling=1, coulomb=0.5)\n",
    "\n",
    "# Map the hamiltonian to the qubit space to form a QubitOperator\n",
    "openfermion_hamiltonian_jw = of.jordan_wigner(openfermion_hamiltonian)\n",
    "\n",
    "# turn the QubitOperator in a tequila QubitHamiltonian\n",
    "hamiltonian = tq.QubitHamiltonian.from_openfermion(openfermion_hamiltonian_jw)"
   ]
  },
  {
   "cell_type": "markdown",
   "metadata": {},
   "source": [
    "Now we need to make the UCC ansatz, in tequila this depends on the Molecule object. However, for the Hubbard model we cannot rely on this, so we need to manually create all excitations. In UCC the order of the excitation operators matters, since the individual excitation operators do not commute with each other. We can once again use the OpenFermion functions to generate this circuit. For the two site Hubbard model in this tutorial, we will only consider singlet excitations."
   ]
  },
  {
   "cell_type": "code",
   "execution_count": 3,
   "metadata": {},
   "outputs": [],
   "source": [
    "# first, we start with an initial guess for the parameters of the wave function\n",
    "# In the singlet case, there are two independent parameters\n",
    "num_params = of.uccsd_singlet_paramsize(4, 2)\n",
    "\n",
    "# for the initial guess we supply variables\n",
    "init = [np.pi/3 for i in range(num_params)]\n",
    "\n",
    "unitary = of.uccsd_singlet_generator(init, 4, 2)"
   ]
  },
  {
   "cell_type": "markdown",
   "metadata": {},
   "source": [
    "This ansatz creates only single and double excitation operators in second quantization. However, the order of these operators matters, since information only folws in one direction trough the quantum circuit. According to [Grimsley et al.](https://pubs.acs.org/doi/10.1021/acs.jctc.9b01083) the double excitations shoud come before the single excitations. So here we will separate the single and double excitations into separate circuits and then apply the doubles first. But first we need to transform the unitary using the Jordan Wigner transformation and encode the resulting operator in a quantum circuit. We use the approach outlined by [Anand et al.](https://pubs.rsc.org/en/content/articlelanding/2022/cs/d1cs00932j)"
   ]
  },
  {
   "cell_type": "code",
   "execution_count": 4,
   "metadata": {},
   "outputs": [],
   "source": [
    "# these functions aid in the creation of the circuit resulting from an exponential of pauli strings.\n",
    "def build_cnot_ladder(circuit: tq.circuit.circuit.QCircuit, involved_qubits:list) -> tq.circuit.circuit.QCircuit:\n",
    "    \"\"\"\n",
    "    adds a cnot ladder to the given circuit, starts with the first qubit\n",
    "    \n",
    "    :param circuit: the quantum circuit of interest\n",
    "    :param involved_qubits: the qubits that are involved in the rotation\n",
    "    \"\"\"\n",
    "    # the qubits are sorted in ascending order (q0, q1, q2, ...)\n",
    "    qubits = involved_qubits\n",
    "\n",
    "    for index, qubit in enumerate(qubits[:-1]):\n",
    "        circuit += tq.gates.X(control=qubit, target=qubits[index + 1])\n",
    "    \n",
    "    return circuit\n",
    "\n",
    "def build_reverse_cnot_ladder(circuit: tq.circuit.circuit.QCircuit, involved_qubits:list) -> tq.circuit.circuit.QCircuit:\n",
    "    \"\"\"\n",
    "    adds a cnot ladder to the given circuit, starts with the last qubit\n",
    "    \n",
    "    :param circuit: the quantum circuit of interest\n",
    "    :param involved_qubits: the qubits that are involved in the rotation\n",
    "    \"\"\"\n",
    "    # the qubits are sorted in ascending order (q0, q1, q2, ...)\n",
    "    qubits = involved_qubits\n",
    "    qubits.sort(reverse=True) # we need them in descending order\n",
    "\n",
    "    for index, qubit in enumerate(qubits[:-1]):\n",
    "        circuit += tq.gates.X(control=qubits[index + 1], target=qubit)\n",
    "    \n",
    "    return circuit\n",
    "\n",
    "def create_exponential_map(paulistring: of.ops.operators.qubit_operator.QubitOperator, n_qubits:int) -> tq.circuit.circuit.QCircuit:\n",
    "    \"\"\"\n",
    "    Creates a quantum circuit corresponding to the passed pauli string\n",
    "    \n",
    "    :param paulistring: the paulistring you want to turn into an operator\n",
    "    :param n_qubits: the amount of qubits\n",
    "    \"\"\"\n",
    "    qubits = [i for i in range(n_qubits)]\n",
    "    circuit = tq.circuit.QCircuit()\n",
    "\n",
    "    # not all qubits have to be involved in every rotation\n",
    "    involved_qubits = []\n",
    "\n",
    "    # the terms are contained in a dictionary\n",
    "    for element in paulistring.terms.keys():\n",
    "        for operator in element:\n",
    "            if operator[1] == \"X\":\n",
    "                circuit += tq.gates.H(target=qubits[operator[0]])\n",
    "            elif operator[1] == \"Y\":\n",
    "                circuit += tq.gates.Rx(angle=np.pi/2, target=qubits[operator[0]])\n",
    "            involved_qubits.append(qubits[operator[0]])\n",
    "    involved_qubits.sort()\n",
    "    circuit = build_cnot_ladder(circuit, involved_qubits)\n",
    "    \n",
    "    for element in paulistring.terms.keys():\n",
    "        rotation_angle = -2*paulistring.terms[element].imag\n",
    "        circuit += tq.gates.Rz(angle=2*rotation_angle, target=involved_qubits[-1])\n",
    "    \n",
    "    circuit = build_reverse_cnot_ladder(circuit, involved_qubits)\n",
    "\n",
    "    # the terms are contained in a dictionary\n",
    "    for element in paulistring.terms.keys():\n",
    "        for operator in element:\n",
    "            if operator[1] == \"X\":\n",
    "                circuit += tq.gates.H(qubits[operator[0]])\n",
    "            elif operator[1] == \"Y\":\n",
    "                circuit += tq.gates.Rx(angle=-np.pi/2, target=qubits[operator[0]])\n",
    "    \n",
    "    return circuit"
   ]
  },
  {
   "cell_type": "code",
   "execution_count": 5,
   "metadata": {},
   "outputs": [
    {
     "name": "stdout",
     "output_type": "stream",
     "text": [
      "0: ───X───────X^0.5───@──────────────────────────────@────────X^-0.5───X^0.5───@──────────────────────────────────@────────X^-0.5───H───@─────────────────────────────@────────H───────H───────@──────────────────────────────────@────────H────────X^0.5───@──────────────────────────────@───────X^-0.5───X^0.5───@───────────────────────────────────@───X^-0.5───H───────@──────────────────────────────@───────H────────H───@──────────────────────────────────@───H───X^0.5───@──────────────────────@───X^-0.5───H───@─────────────────────@────────H──────────────────────────────────────────────────────────────────────────────────\n",
      "                      │                              │                         │                                  │                     │                             │                        │                                  │                         │                              │                        │                                   │                    │                              │                    │                                  │               │                      │                │                     │\n",
      "1: ───X───────X^0.5───X───@──────────────────────@───X────────X^-0.5───H───────X───@─────────────────────@────────X────────H────────H───X───@─────────────────────@───X────────H───────X^0.5───X───@─────────────────────@────────X────────X^-0.5───H───────X───@──────────────────────@───X───────H────────X^0.5───X───@──────────────────────@────────X───X^-0.5───X^0.5───X───@──────────────────────@───X───────X^-0.5───H───X───@─────────────────────@────────X───H───────────X───@──────────────@───X────────────────X───@─────────────@───X────────X^0.5───@──────────────────────@───X^-0.5───H───@─────────────────────@────────H───\n",
      "                          │                      │                                 │                     │                                  │                     │                                │                     │                                      │                      │                                │                      │                                 │                      │                            │                     │                            │              │                        │             │                    │                      │                │                     │\n",
      "2: ───X^0.5───────────────X───@──────────────@───X───X^-0.5───X^0.5────────────────X───@─────────────@───X────────X^-0.5───X^0.5────────────X───@─────────────@───X───X^-0.5───X^0.5───────────────X───@─────────────@───X────────X^-0.5───H────────────────────X───@──────────────@───X───H───────H────────────────────X───@──────────────@───X────────H───H────────────────────X───@──────────────@───X───H───────H────────────────X───@─────────────@───X────────H───H───────────────X───Z^(-2/3)───X───H───X^0.5────────────X───Z^(2/3)───X───X^-0.5───────────X───@──────────────@───X────────────────X───@─────────────@───X────────────\n",
      "                              │              │                                         │             │                                          │             │                                        │             │                                              │              │                                        │              │                                         │              │                                    │             │                                                                                                               │              │                        │             │\n",
      "3: ───H───────────────────────X───Z^(-1/3)───X───H───X^0.5─────────────────────────────X───Z^(1/3)───X───X^-0.5───H─────────────────────────────X───Z^(1/3)───X───H───X^0.5────────────────────────────X───Z^(1/3)───X───X^-0.5───H─────────────────────────────────X───Z^(-1/3)───X───H───X^0.5────────────────────────────X───Z^(-1/3)───X───X^-0.5───H────────────────────────────X───Z^(-1/3)───X───H───X^0.5────────────────────────X───Z^(1/3)───X───X^-0.5───H──────────────────────────────────────────────────────────────────────────────────────────────────X───Z^(-2/3)───X───H───X^0.5────────────X───Z^(2/3)───X───X^-0.5───────\n"
     ]
    },
    {
     "data": {
      "text/plain": [
       "''"
      ]
     },
     "execution_count": 5,
     "metadata": {},
     "output_type": "execute_result"
    }
   ],
   "source": [
    "unitary_jw = of.jordan_wigner(unitary)\n",
    "singles, doubles = [], []\n",
    "for element in unitary_jw.get_operators():\n",
    "    gates = list(element.terms.keys())[0]\n",
    "    # single excitation gates always have three single qubit gates\n",
    "    # doubles always have four, this only holds in this specific example\n",
    "    if len(gates) == 3:\n",
    "        singles.append(element)\n",
    "    else:\n",
    "        doubles.append(element)\n",
    "\n",
    "total = doubles + singles\n",
    "\n",
    "num_qubits = 4\n",
    "num_electrons = 2\n",
    "U = tq.circuit.QCircuit()\n",
    "\n",
    "# initialize the electrons\n",
    "for electron in range(num_electrons):\n",
    "    U += tq.gates.X(electron)\n",
    "\n",
    "# build the excitation gates\n",
    "for excitation_gate in total:\n",
    "    partial = create_exponential_map(excitation_gate, num_qubits)\n",
    "    U += partial\n",
    "\n",
    "tq.draw(U, backend=\"cirq\")"
   ]
  },
  {
   "cell_type": "markdown",
   "metadata": {},
   "source": [
    "Now that we have the ansatz and the hamiltonian ready, we can calculate the expectation value using the standard tequila functions. However, since the OpenFermion UCCSD generator requires numeric inputs we cannot simply supply tequila variables. As such we will have to write a simple optimize function based on scipy optimization routines."
   ]
  },
  {
   "cell_type": "code",
   "execution_count": 6,
   "metadata": {},
   "outputs": [],
   "source": [
    "import scipy.optimize as op\n",
    "\n",
    "def optimize(input):\n",
    "    unitary = of.uccsd_singlet_generator(input, 4, 2)\n",
    "    unitary_jw = of.jordan_wigner(unitary)\n",
    "    singles, doubles = [], []\n",
    "    for element in unitary_jw.get_operators():\n",
    "        gates = list(element.terms.keys())[0]\n",
    "        # single excitation gates always have three single qubit gates\n",
    "        # doubles always have four, this only holds in this specific example\n",
    "        if len(gates) == 3:\n",
    "            singles.append(element)\n",
    "        else:\n",
    "            doubles.append(element)\n",
    "\n",
    "    total = doubles + singles\n",
    "\n",
    "    num_qubits = 4\n",
    "    num_electrons = 2\n",
    "    U = tq.circuit.QCircuit()\n",
    "\n",
    "    # initialize the electrons\n",
    "    for electron in range(num_electrons):\n",
    "        U += tq.gates.X(electron)\n",
    "\n",
    "    # build the excitation gates\n",
    "    for excitation_gate in total:\n",
    "        partial = create_exponential_map(excitation_gate, num_qubits)\n",
    "        U += partial\n",
    "    E = tq.ExpectationValue(U=U, H=hamiltonian)\n",
    "    result = tq.simulate(E)\n",
    "    return result"
   ]
  },
  {
   "cell_type": "code",
   "execution_count": 7,
   "metadata": {},
   "outputs": [
    {
     "data": {
      "text/plain": [
       "-1.7655643975022528"
      ]
     },
     "execution_count": 7,
     "metadata": {},
     "output_type": "execute_result"
    }
   ],
   "source": [
    "opt_result = op.minimize(optimize, x0=[np.pi/3, np.pi/3], method=\"Nelder-Mead\")\n",
    "opt_result.fun"
   ]
  },
  {
   "cell_type": "markdown",
   "metadata": {},
   "source": [
    "Now let us now introduce shot noise, for that we will add shots to the optimization function."
   ]
  },
  {
   "cell_type": "code",
   "execution_count": 8,
   "metadata": {},
   "outputs": [],
   "source": [
    "def optimize_noisy(input):\n",
    "    unitary = of.uccsd_singlet_generator(input, 4, 2)\n",
    "    unitary_jw = of.jordan_wigner(unitary)\n",
    "    singles, doubles = [], []\n",
    "    for element in unitary_jw.get_operators():\n",
    "        gates = list(element.terms.keys())[0]\n",
    "        # single excitation gates always have three single qubit gates\n",
    "        # doubles always have four, this only holds in this specific example\n",
    "        if len(gates) == 3:\n",
    "            singles.append(element)\n",
    "        else:\n",
    "            doubles.append(element)\n",
    "\n",
    "    total = doubles + singles\n",
    "\n",
    "    num_qubits = 4\n",
    "    num_electrons = 2\n",
    "    U = tq.circuit.QCircuit()\n",
    "\n",
    "    # initialize the electrons\n",
    "    for electron in range(num_electrons):\n",
    "        U += tq.gates.X(electron)\n",
    "\n",
    "    # build the excitation gates\n",
    "    for excitation_gate in total:\n",
    "        partial = create_exponential_map(excitation_gate, num_qubits)\n",
    "        U += partial\n",
    "    E = tq.ExpectationValue(U=U, H=hamiltonian)\n",
    "    \n",
    "    result = tq.simulate(E, samples=1000)\n",
    "    return result"
   ]
  },
  {
   "cell_type": "code",
   "execution_count": 9,
   "metadata": {},
   "outputs": [
    {
     "data": {
      "text/plain": [
       "-1.7940000000000005"
      ]
     },
     "execution_count": 9,
     "metadata": {},
     "output_type": "execute_result"
    }
   ],
   "source": [
    "opt_result_noisy = op.minimize(optimize_noisy, x0=[np.pi/4, np.pi/4], method=\"Nelder-Mead\")\n",
    "opt_result_noisy.fun"
   ]
  },
  {
   "cell_type": "markdown",
   "metadata": {},
   "source": [
    "When we introduce sampling noise, we see that the optimization takes longer and that the result is less accurate. However by increasing the amount of samples we can increase the accuracy."
   ]
  },
  {
   "cell_type": "code",
   "execution_count": null,
   "metadata": {},
   "outputs": [],
   "source": []
  }
 ],
 "metadata": {
  "kernelspec": {
   "display_name": "Python 3",
   "language": "python",
   "name": "python3"
  },
  "language_info": {
   "codemirror_mode": {
    "name": "ipython",
    "version": 3
   },
   "file_extension": ".py",
   "mimetype": "text/x-python",
   "name": "python",
   "nbconvert_exporter": "python",
   "pygments_lexer": "ipython3",
   "version": "3.9.12"
  }
 },
 "nbformat": 4,
 "nbformat_minor": 2
}

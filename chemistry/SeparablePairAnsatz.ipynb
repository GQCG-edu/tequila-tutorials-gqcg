{
 "cells": [
  {
   "cell_type": "markdown",
   "metadata": {},
   "source": [
    "# Low-Depth Quantum Circuits using a Separable Pair Approximation"
   ]
  },
  {
   "cell_type": "code",
   "execution_count": 1,
   "metadata": {},
   "outputs": [
    {
     "name": "stderr",
     "output_type": "stream",
     "text": [
      "/home/jsk/anaconda3/envs/tq-1.8.0/lib/python3.9/site-packages/pkg_resources/__init__.py:122: PkgResourcesDeprecationWarning: -1.0.0- is an invalid version and will not be supported in a future release\n",
      "  warnings.warn(\n",
      "/home/jsk/anaconda3/envs/tq-1.8.0/lib/python3.9/site-packages/pkg_resources/__init__.py:122: PkgResourcesDeprecationWarning: XXXX is an invalid version and will not be supported in a future release\n",
      "  warnings.warn(\n"
     ]
    }
   ],
   "source": [
    "# needs version >= 1.8.1\n",
    "# needs pyscf installed\n",
    "import tequila as tq\n",
    "import numpy\n",
    "import matplotlib.pyplot as plt"
   ]
  },
  {
   "cell_type": "markdown",
   "metadata": {},
   "source": [
    "This notebook illustrates some examples for the separable pair ansatz (SPA) following [arxiv:2105.03836](https://arxiv.org/abs/2105.03836).  \n",
    "\n",
    "As in the article, we will use a combination with the basis-set-free VQE from [arxiv:2008.02819](https://arxiv.org/pdf/2008.02819.pdf).\n",
    "\n",
    "Feel free to contact [me](mailto:jakob.kottmann@utoronto.ca) if you have questions :-) \n",
    "\n",
    "### Dependencies\n",
    "Here are some instructions, you need to follow if you want to compute your own basis-set-free Hamiltonians with madness. You however don't need to install it and can just use the provided pre-computed Hamiltonians.\n",
    "The necessary data for all molecules of this notebook (and some more) is provided (`.npy` and `pnoinfo.txt` files in `data/basis-set-free-molecules/`), in order to read the data in, set `npno=None` in the cell below and of course, make sure to have the [data](https://github.com/aspuru-guzik-group/tequila-tutorials/tree/main/data/basis-set-free-molecules) available on your system.\n",
    "\n",
    "If you want to compute your own Hamiltonians, tequila needs a special [fork](https://github.com/kottmanj/madness) of madness compiled - instruction on compilation can be found by following the link. Note, that Windows is not supported as an OS. See also the corresponding [tutorial](https://github.com/aspuru-guzik-group/tequila-tutorials/blob/main/ChemistryMadnessInterface.ipynb) on the madness interface.\n",
    "\n",
    "In order for tequila to find the madness backend, the directory where madness was compiled needs to be exported to the environment variable `MAD_ROOT_DIR`. In the cell below this is illustrated for this notebook. Of course, the path needs to be adapted depending where you have installed madness. If you plan to read the data from the provided files, just ignore the next cell. See the `madness_interface` tutorial for more information."
   ]
  },
  {
   "cell_type": "code",
   "execution_count": 2,
   "metadata": {},
   "outputs": [],
   "source": [
    "import os\n",
    "os.environ['MAD_ROOT_DIR'] = \"/home/jsk/devel/madness/build-opt\" # needs to be adapted\n",
    "\n",
    "#if set to \"read\" we will read data from files. Make sure those files are there (in data/basis-set-free-molecules/)\n",
    "#set n_pno=2 (or other value) in order to compute with madness as backend (will delete old files)\n",
    "n_pno=None\n",
    "datadir=None\n",
    "read_in_data=True\n",
    "\n",
    "# check if madness is there\n",
    "executable = tq.chemistry.QuantumChemistryMadness.find_executable()\n",
    "if executable is None or read_in_data:\n",
    "    #if data is not read in it is recommended to switch the directory in order to not overwrite files\n",
    "    datadir=\"data/basis-set-free-molecules/\"\n",
    "    n_pno=\"read\""
   ]
  },
  {
   "cell_type": "markdown",
   "metadata": {},
   "source": [
    "## Example1: BeH$_2$ near equilibrium\n",
    "\n",
    "We will start with a simple calculation of the BeH$_2$ molecule. This molecule has 6 electrons.\n",
    "By default the `frozen_core` approximation is activated, this means that 2 of the 6 electrons are neglected in the correlated treatment.\n",
    "The two electrons are the core-electrons of the Be atom (the occupied Hartree-Fock orbital with the lowest energy). So we will end up with 4 electrons in 2+`n_pno` spatial orbitals.\n",
    "In this notebook we have `n_pno=2` which leads to 4 electrons in 4 spatial orbitals (8 qubits/spin-orbitals) i.e. BeH$_2$(4,8)."
   ]
  },
  {
   "cell_type": "code",
   "execution_count": 3,
   "metadata": {},
   "outputs": [],
   "source": [
    "geometry=\"Be 0.0 0.0 0.0\\nH 0.0 0.0 {R}\\nH 0.0 0.0 -{R}\"\n",
    "name=\"beh2_{R}\""
   ]
  },
  {
   "cell_type": "code",
   "execution_count": 4,
   "metadata": {},
   "outputs": [],
   "source": [
    "R=1.5\n",
    "mol = tq.Molecule(name=name.format(R=R), geometry=geometry.format(R=R), n_pno=n_pno, datadir=datadir)"
   ]
  },
  {
   "cell_type": "markdown",
   "metadata": {},
   "source": [
    "We can print the molecule, in order to obtain some more information about it. Note that orbital 0 is missing (due to `frozen_core=True` which is the default but can be deactivated by passing the keyword to `tq.Molecule`)."
   ]
  },
  {
   "cell_type": "code",
   "execution_count": 5,
   "metadata": {},
   "outputs": [
    {
     "name": "stdout",
     "output_type": "stream",
     "text": [
      "<class 'tequila.quantumchemistry.madness_interface.QuantumChemistryMadness'>\n",
      "Qubit Encoding\n",
      "JordanWigner\n",
      "\n",
      "Parameters\n",
      "basis_set       : custom          \n",
      "geometry        : Be 0.0 0.0 0.0\n",
      "H 0.0 0.0 1.5\n",
      "H 0.0 0.0 -1.5 \n",
      "description     :                 \n",
      "multiplicity    : 1               \n",
      "charge          : 0               \n",
      "name            : data/basis-set-free-molecules/beh2_1.5 \n",
      "frozen_core     : True            \n",
      "n_qubits        : 8               \n",
      "reference state : [1, 1, 1, 1, 0, 0, 0, 0] \n",
      "\n",
      "Basis\n",
      "\n",
      "IntegralManager:\n",
      "ActiveSpace:\n",
      "Active Space Data:\n",
      "active_orbitals : [1, 2, 3, 4]    \n",
      "reference_orbitals : [0, 1, 2]       \n",
      "active_reference_orbitals : [1, 2]          \n",
      "Orbitals:\n",
      "{idx_total:0, occ:2.0, pair:(0, 0)}\n",
      "{idx_total:1, idx:0, occ:2.0, pair:(1, 1)}\n",
      "{idx_total:2, idx:1, occ:2.0, pair:(2, 2)}\n",
      "{idx_total:3, idx:2, occ:0.00920606, pair:(1, 1)}\n",
      "{idx_total:4, idx:3, occ:0.00920605, pair:(2, 2)}\n",
      "\n",
      "more information with: self.print_basis_info()\n",
      "executable      : /home/jsk/anaconda3/envs/tq-1.8.0/bin/pno_integrals\n",
      "htensor         : data/basis-set-free-molecules/beh2_1.5_htensor.npy\n",
      "gtensor         : data/basis-set-free-molecules/beh2_1.5_gtensor.npy\n",
      "\n"
     ]
    }
   ],
   "source": [
    "print(mol)"
   ]
  },
  {
   "cell_type": "markdown",
   "metadata": {},
   "source": [
    "Let's compute some energies (two classical methods: MP2, CCSD and two VQE methods: SPA and UpCCGSD)"
   ]
  },
  {
   "cell_type": "code",
   "execution_count": 6,
   "metadata": {
    "scrolled": true
   },
   "outputs": [
    {
     "data": {
      "image/png": "[encoded data removed]",
      "text/plain": [
       "<Figure size 432x288 with 1 Axes>"
      ]
     },
     "metadata": {
      "needs_background": "light"
     },
     "output_type": "display_data"
    }
   ],
   "source": [
    "errors = {}\n",
    "reference = mol.compute_energy(\"fci\")\n",
    "for method in [\"SPA\", \"UpCCGSD\", \"MP2\", \"CCSD\"]:\n",
    "    errors[method] = reference-mol.compute_energy(method, silent=True)\n",
    "\n",
    "plt.bar(list(errors.keys()), list(errors.values()))\n",
    "plt.ylabel(\"Errors/Eh\")\n",
    "plt.show()"
   ]
  },
  {
   "cell_type": "markdown",
   "metadata": {},
   "source": [
    "## Example2: Stretched BeH$_2$  \n",
    "\n",
    "For the second example we use the same molecule, but a more challenging structure. In the following we will construct the SPA circuit and combine it with a layer of (approximate) generalized singles rotations.  \n",
    "\n",
    "First we construct the molecule and compute some reference values (same procedure as before)"
   ]
  },
  {
   "cell_type": "code",
   "execution_count": 7,
   "metadata": {},
   "outputs": [],
   "source": [
    "R=4.5\n",
    "mol2 = tq.Molecule(name=name.format(R=R), geometry=geometry.format(R=R), n_pno=n_pno)"
   ]
  },
  {
   "cell_type": "code",
   "execution_count": 8,
   "metadata": {},
   "outputs": [],
   "source": [
    "errors2={}\n",
    "fci2 = mol2.compute_energy(\"fci\")\n",
    "errors2[\"MP2\"]=fci2 - mol2.compute_energy(\"MP2\")"
   ]
  },
  {
   "cell_type": "markdown",
   "metadata": {},
   "source": [
    "Now we construct the SPA ansatz and get the qubit Hamiltonian from the molecule. Later this will be combined to expectation values that can be optimized.  \n",
    "\n",
    "See the Chemistry, BasicUsage and Optimizer tutorials of tequila for more information about the individual components."
   ]
  },
  {
   "cell_type": "code",
   "execution_count": 9,
   "metadata": {},
   "outputs": [],
   "source": [
    "U = mol2.make_upccgsd_ansatz(name=\"spa\")\n",
    "H = mol2.make_hamiltonian()"
   ]
  },
  {
   "cell_type": "markdown",
   "metadata": {},
   "source": [
    "Let's see how the SPA circuit looks like in this case. Wee will use the local\\_qubit\\_map to see the pair strucutre of the circuit. Note that you can transform the Hamiltonian in the same way if you want to use this qubit mapping. The local qubit map groups the orbitals of the separable electron pairs together ( pair $x$ has Hartree-Fock orbital $x$ and all PNOs of MP2 pair $(x,x)$. "
   ]
  },
  {
   "cell_type": "code",
   "execution_count": 10,
   "metadata": {},
   "outputs": [],
   "source": [
    "# not necessary to use the map, but will give more overview in circuit plots\n",
    "# the map sorts the orbitals by their respective pairs (naturally they are sorted by their occupation numbers in the MP2-MRA-PNO surrogate model)\n",
    "qm = mol2.local_qubit_map()\n",
    "\n",
    "#Only run of qpic is installed\n",
    "#tq.circuit.export_to(U.map_qubits(qm), filename=\"pics/beh2_spa.png\")"
   ]
  },
  {
   "cell_type": "markdown",
   "metadata": {},
   "source": [
    "This is the circuit that was drawn by the code above:\n",
    "<img src=\"pics/beh2_spa.png\" alt=\"SPA Circuit\" width=\"200\"/>"
   ]
  },
  {
   "cell_type": "markdown",
   "metadata": {},
   "source": [
    "In the second circuit we take the SPA circuit and add a further layer of generalized approximate singles to it. The apprioximation corresponds to neglecting all $Z$ terms in the Jordan-Wigner strings of the excitation operators that generate the corresponding gates. The approximation is triggered by the \"A\" in the name and will only work for Jordan-Wigner encoding.\n",
    "\n",
    "Further down we construct a similar circuit using standard single excitations."
   ]
  },
  {
   "cell_type": "code",
   "execution_count": 11,
   "metadata": {},
   "outputs": [],
   "source": [
    "U2 = U + mol2.make_upccgsd_ansatz(name=\"GAS\", include_reference=False)"
   ]
  },
  {
   "cell_type": "code",
   "execution_count": 12,
   "metadata": {},
   "outputs": [],
   "source": [
    "#Only run of qpic is installed\n",
    "#tq.circuit.export_to(U2.map_qubits(qm), filename=\"pics/beh2_spa+gas.png\")"
   ]
  },
  {
   "cell_type": "markdown",
   "metadata": {},
   "source": [
    "<img src=\"pics/beh2_spa+gas.png\" alt=\"drawing\" width=\"500\"/>"
   ]
  },
  {
   "cell_type": "markdown",
   "metadata": {},
   "source": [
    "Now we optimize the expectation values resulting from the different circuits. Note that the standard initialization (all variables to 0.0) will result in faulty convergence for the signles layer, so we let the initial values deviate a bit)."
   ]
  },
  {
   "cell_type": "code",
   "execution_count": 13,
   "metadata": {
    "scrolled": true
   },
   "outputs": [
    {
     "name": "stdout",
     "output_type": "stream",
     "text": [
      "Optimizer: <class 'tequila.optimizers.optimizer_scipy.OptimizerSciPy'> \n",
      "backend         : qulacs\n",
      "device          : None\n",
      "samples         : None\n",
      "save_history    : True\n",
      "noise           : None\n",
      "\n",
      "Method          : BFGS\n",
      "Objective       : 1 expectationvalues\n",
      "gradient        : 4 expectationvalues\n",
      "\n",
      "active variables : 2\n",
      "\n",
      "E=-15.32656857\n",
      "E=-15.34381382\n",
      "E=-15.36510721\n",
      "E=-15.36609255\n",
      "Optimization terminated successfully.\n",
      "         Current function value: -15.366093\n",
      "         Iterations: 3\n",
      "         Function evaluations: 4\n",
      "         Gradient evaluations: 4\n",
      "Optimizer: <class 'tequila.optimizers.optimizer_scipy.OptimizerSciPy'> \n",
      "backend         : qulacs\n",
      "device          : None\n",
      "samples         : None\n",
      "save_history    : True\n",
      "noise           : None\n",
      "\n",
      "Method          : BFGS\n",
      "Objective       : 1 expectationvalues\n",
      "gradient        : 28 expectationvalues\n",
      "\n",
      "active variables : 14\n",
      "\n",
      "E=-15.20625352\n",
      "E=-15.25216883\n",
      "E=-15.37694280\n",
      "E=-15.39736163\n",
      "E=-15.40246591\n",
      "E=-15.41052450\n",
      "E=-15.41626888\n",
      "E=-15.41776280\n",
      "E=-15.42010585\n",
      "E=-15.42198346\n",
      "E=-15.42273515\n",
      "E=-15.42388957\n",
      "E=-15.42520898\n",
      "E=-15.42667292\n",
      "E=-15.42905670\n",
      "E=-15.43279810\n",
      "E=-15.43839204\n",
      "E=-15.44559516\n",
      "E=-15.45417427\n",
      "E=-15.46087094\n",
      "E=-15.46699638\n",
      "E=-15.47079966\n",
      "E=-15.47650957\n",
      "E=-15.48082610\n",
      "E=-15.48280007\n",
      "E=-15.48581691\n",
      "E=-15.49048653\n",
      "E=-15.49835105\n",
      "E=-15.50646094\n",
      "E=-15.51382462\n",
      "E=-15.52467036\n",
      "E=-15.52970952\n",
      "E=-15.53069885\n",
      "E=-15.53192600\n",
      "E=-15.53221352\n",
      "E=-15.53234544\n",
      "E=-15.53239356\n",
      "E=-15.53240400\n",
      "E=-15.53241170\n",
      "Optimization terminated successfully.\n",
      "         Current function value: -15.532412\n",
      "         Iterations: 37\n",
      "         Function evaluations: 39\n",
      "         Gradient evaluations: 39\n",
      "Optimizer: <class 'tequila.optimizers.optimizer_scipy.OptimizerSciPy'> \n",
      "backend         : qulacs\n",
      "device          : None\n",
      "samples         : None\n",
      "save_history    : True\n",
      "noise           : None\n",
      "\n",
      "Method          : BFGS\n",
      "Objective       : 1 expectationvalues\n",
      "gradient        : 20 expectationvalues\n",
      "\n",
      "active variables : 6\n",
      "\n",
      "E=-14.76927519\n",
      "E=-14.96119708\n",
      "E=-15.08466712\n",
      "E=-15.11517219\n",
      "E=-15.16687881\n",
      "E=-15.25691439\n",
      "E=-15.20057986\n",
      "E=-15.27657150\n",
      "E=-15.30017220\n",
      "E=-15.31692403\n",
      "E=-15.31872483\n",
      "E=-15.32115854\n",
      "E=-15.32255465\n",
      "E=-15.32492874\n",
      "E=-15.32881624\n",
      "E=-15.33312755\n",
      "E=-15.33583032\n",
      "E=-15.33845513\n",
      "E=-15.33914727\n",
      "E=-15.33920916\n",
      "E=-15.33921483\n",
      "Optimization terminated successfully.\n",
      "         Current function value: -15.339215\n",
      "         Iterations: 19\n",
      "         Function evaluations: 21\n",
      "         Gradient evaluations: 21\n",
      "Optimizer: <class 'tequila.optimizers.optimizer_scipy.OptimizerSciPy'> \n",
      "backend         : qulacs\n",
      "device          : None\n",
      "samples         : None\n",
      "save_history    : True\n",
      "noise           : None\n",
      "\n",
      "Method          : BFGS\n",
      "Objective       : 1 expectationvalues\n",
      "gradient        : 28 expectationvalues\n",
      "\n",
      "active variables : 8\n",
      "\n",
      "E=-15.18368350\n",
      "E=-15.27087761\n",
      "E=-15.34912238\n",
      "E=-15.35975984\n",
      "E=-15.38005225\n",
      "E=-15.44111488\n",
      "E=-15.39007775\n",
      "E=-15.45478304\n",
      "E=-15.47886088\n",
      "E=-15.51484154\n",
      "E=-15.54185361\n",
      "E=-15.55784293\n",
      "E=-15.56104136\n",
      "E=-15.56246388\n",
      "E=-15.56286508\n",
      "E=-15.56322201\n",
      "E=-15.56339839\n",
      "E=-15.56347415\n",
      "E=-15.56350373\n",
      "E=-15.56351388\n",
      "Optimization terminated successfully.\n",
      "         Current function value: -15.563514\n",
      "         Iterations: 17\n",
      "         Function evaluations: 20\n",
      "         Gradient evaluations: 20\n"
     ]
    }
   ],
   "source": [
    "# SPA optimization\n",
    "E = tq.ExpectationValue(H=H, U=U)\n",
    "result = tq.minimize(E, print_level=2)\n",
    "errors2[\"SPA\"]=fci2-result.energy\n",
    "\n",
    "# perturbation for starting points (starting singles in 0.0 usually is already a local minimum)\n",
    "x = numpy.pi/4\n",
    "\n",
    "# SPA+GAS optimization (approximated singles rotations)\n",
    "E2 = tq.ExpectationValue(H=H, U=U2)\n",
    "ival={**{k:numpy.random.normal(scale=x,loc=0.0) for k in E2.extract_variables()}, **result.variables}\n",
    "result2 = tq.minimize(E2, initial_values=ival, print_level=2)\n",
    "errors2[\"SPA+GAS\"]=fci2-result2.energy\n",
    "\n",
    "# SPA+S optimization\n",
    "# enforce more symmetry by not approximating singles\n",
    "# spin-adaption will be turned on by default\n",
    "U3 = U + mol2.make_upccgsd_ansatz(name=\"S\", include_reference=False)\n",
    "E3 = tq.ExpectationValue(H=H, U=U3)\n",
    "ival={**{k:numpy.random.normal(scale=x,loc=0.0) for k in E3.extract_variables()}, **result.variables}\n",
    "result3 = tq.minimize(E3, initial_values=ival, print_level=2)\n",
    "errors2[\"SPA+S\"]=fci2-result3.energy\n",
    "\n",
    "# SPA+GS optimization\n",
    "# the same with generalized singles\n",
    "U4 = U + mol2.make_upccgsd_ansatz(name=\"GS\", include_reference=False)\n",
    "E4 = tq.ExpectationValue(H=H, U=U4)\n",
    "ival={**{k:numpy.random.normal(scale=x,loc=0.0) for k in E4.extract_variables()}, **result.variables}\n",
    "result4 = tq.minimize(E4, initial_values=ival, print_level=2)\n",
    "errors2[\"SPA+GS\"]=fci2-result4.energy"
   ]
  },
  {
   "cell_type": "markdown",
   "metadata": {},
   "source": [
    "This is what we get:  \n",
    "Adding the singles layer can improve the result significantly. This is what is demonstrated in the article on LiH and C$_2$H$_6$ in more detail. \n",
    "On first glance it doesn't seem to make a huge difference if the singles are approximated or not."
   ]
  },
  {
   "cell_type": "code",
   "execution_count": 14,
   "metadata": {},
   "outputs": [
    {
     "data": {
      "image/png": "[encoded data removed]",
      "text/plain": [
       "<Figure size 432x288 with 1 Axes>"
      ]
     },
     "metadata": {
      "needs_background": "light"
     },
     "output_type": "display_data"
    }
   ],
   "source": [
    "plt.figure()\n",
    "plt.bar(list(errors2.keys()), list(errors2.values()), label=\"Errors/Eh\")\n",
    "plt.legend()\n",
    "plt.show()"
   ]
  },
  {
   "cell_type": "markdown",
   "metadata": {},
   "source": [
    "Since we are dealing with a 8 qubit model here, we can diagonalize the corresponding Hamiltonian exactly without much trouble. If we do so, we discover, that for this instance, the groundstate is a triplet, and the targeted singlet groundstate is slightly higher in energy. Note that the simple numpy diagonalization does usually not lead to the triplet in it's canonical representation, instead the spin-polarized and spin-neutral parts are mixed (this will vary each run).\n",
    "\n",
    "Note that we are operating in a system-adapted basis that targets the singlet groundstate (this is what the madness code does) - see more in this [article](https://doi.org/10.1021/acs.jpclett.0c03410) (or [arxiv:2008.02819](https://arxiv.org/abs/2008.02819)).\n",
    "Let's see how much overlap we have with this state by using either the plain Hartree-Fock wavefunction, the SPA wavefunction or it's extended versions SPA+GAS and SPA+GS. Be aware that for SPA+GAS/GS different runs might result in different outcomes due to the slightly random initialization - good initialization protocols would be great in the future :-)."
   ]
  },
  {
   "cell_type": "code",
   "execution_count": 15,
   "metadata": {
    "scrolled": true
   },
   "outputs": [
    {
     "name": "stdout",
     "output_type": "stream",
     "text": [
      "state 0, E=-15.56382\n",
      "fidelity(HF)     :+0.00000\n",
      "fidelity(SPA)    :+0.00000\n",
      "fidelity(SPA+GAS):+0.00000\n",
      "fidelity(SPA+S)  :+0.00000\n",
      "fidelity(SPA+GS) :+0.00000\n",
      "state 1, E=-15.56382\n",
      "fidelity(HF)     :+0.00000\n",
      "fidelity(SPA)    :+0.00000\n",
      "fidelity(SPA+GAS):+0.00000\n",
      "fidelity(SPA+S)  :+0.00000\n",
      "fidelity(SPA+GS) :+0.00000\n",
      "state 2, E=-15.56382\n",
      "fidelity(HF)     :+0.00000\n",
      "fidelity(SPA)    :+0.00000\n",
      "fidelity(SPA+GAS):+0.90656\n",
      "fidelity(SPA+S)  :+0.00000\n",
      "fidelity(SPA+GS) :+0.00000\n",
      "state 3, E=-15.56353\n",
      "fidelity(HF)     :+0.38814\n",
      "fidelity(SPA)    :+0.44696\n",
      "fidelity(SPA+GAS):+0.00365\n",
      "fidelity(SPA+S)  :+0.56169\n",
      "fidelity(SPA+GS) :+0.99995\n"
     ]
    }
   ],
   "source": [
    "v,vv = numpy.linalg.eigh(H.to_matrix())\n",
    "UHF = mol2.prepare_reference()\n",
    "UHF.n_qubits=8\n",
    "hf_wfn = tq.simulate(UHF)\n",
    "spa_wfn = tq.simulate(U, variables=result.variables)\n",
    "spa_gas_wfn = tq.simulate(U2, variables=result2.variables)\n",
    "spa_s_wfn = tq.simulate(U3, variables=result3.variables)\n",
    "spa_gs_wfn = tq.simulate(U4, variables=result4.variables)\n",
    "energies=[]\n",
    "# 0,1,2 is a triplet, state 3 is the singlet groundstate\n",
    "fidelity={\"SPA+GS\":[], \"SPA+S\":[], \"SPA+GAS\":[], \"SPA\":[], \"HF\":[]}\n",
    "for i in range(len(v)):\n",
    "    if abs(v[i]) < 1:\n",
    "        break\n",
    "    energies.append(v[i])\n",
    "    exact_wfn = tq.QubitWaveFunction.from_array(vv[:,i])\n",
    "    fidelity[\"SPA+GS\"]  += [abs(exact_wfn.inner(spa_gs_wfn))**2]\n",
    "    fidelity[\"SPA+GAS\"] += [abs(exact_wfn.inner(spa_gas_wfn))**2]\n",
    "    fidelity[\"HF\"]      += [abs(exact_wfn.inner(hf_wfn))**2]\n",
    "    fidelity[\"SPA\"]     += [abs(exact_wfn.inner(spa_wfn))**2]\n",
    "    fidelity[\"SPA+S\"]  += [abs(exact_wfn.inner(spa_s_wfn))**2]\n",
    "    if i>3:\n",
    "        continue\n",
    "    print(\"state {}, E={:+2.5f}\".format(i,v[i]))\n",
    "    print(\"fidelity(HF)     :{:+2.5f}\".format(fidelity[\"HF\"][-1]))\n",
    "    print(\"fidelity(SPA)    :{:+2.5f}\".format(fidelity[\"SPA\"][-1]))\n",
    "    print(\"fidelity(SPA+GAS):{:+2.5f}\".format(fidelity[\"SPA+GAS\"][-1]))\n",
    "    print(\"fidelity(SPA+S)  :{:+2.5f}\".format(fidelity[\"SPA+S\"][-1]))\n",
    "    print(\"fidelity(SPA+GS) :{:+2.5f}\".format(fidelity[\"SPA+GS\"][-1]))"
   ]
  },
  {
   "cell_type": "code",
   "execution_count": 16,
   "metadata": {},
   "outputs": [
    {
     "data": {
      "image/png": "[encoded data removed]",
      "text/plain": [
       "<Figure size 432x288 with 1 Axes>"
      ]
     },
     "metadata": {
      "needs_background": "light"
     },
     "output_type": "display_data"
    }
   ],
   "source": [
    "plt.figure()\n",
    "plt.bar(energies,fidelity[\"SPA\"], label=\"SPA\", width=0.05, align=\"edge\", color=\"tab:red\")\n",
    "plt.bar(energies,fidelity[\"SPA+GS\"], label=\"SPA+GS\", width=-0.05, align=\"edge\", color=\"tab:green\")\n",
    "plt.bar(energies,fidelity[\"HF\"], label=\"HF\", width=0.05, align=\"center\", color=\"navy\")\n",
    "plt.bar(energies,fidelity[\"SPA+GAS\"], label=\"SPA+GAS\", width=0.01, align=\"center\", color=\"gray\")\n",
    "plt.ylabel(\"fidelity\")\n",
    "plt.xlabel(\"eigenenergy\")\n",
    "plt.legend()\n",
    "plt.savefig(\"beh2_profile.pdf\")\n",
    "plt.show()"
   ]
  },
  {
   "cell_type": "markdown",
   "metadata": {},
   "source": [
    "As in the [article](https://arxiv.org/abs/2105.03836), SPA improves upon HF for a fair price in additional gates in the preparation of the intitial state. By adding the generalized singles layer, the overlap with the singlet groundstate can ne further improved. Note, a similar result as in SPA+GS could be realized by an orbital-optimized version of SPA (see the article).\n",
    "\n",
    "Approximating the singles (SPA+GAS) does in this case also lead to overlap with the low-lying triplet state that is nearly degenerate with the singlet groundstate. Through the approximation, the generalized singles loose their spin-adaption, SPA and SPA+GS can on the other hand not leave the singlet manifold -- note that you could switch off the spin-adaption for non-approximated singles by adding `spin_adapt_singles=False` to the construction of the GS layer or by manually construcing the circuits. Spin adaptation in this sense is just using the same variable for spin-up and spin-down orbital rotations.  "
   ]
  },
  {
   "cell_type": "markdown",
   "metadata": {},
   "source": [
    "### What's next?\n",
    "\n",
    "Some suggestions what to do with the SPA circuits introduced in this tutorial  \n",
    "- Use them as initial state `Upre` in [adaptive algorithms](https://github.com/aspuru-guzik-group/tequila-tutorials/blob/main/AdaptiveSolver.ipynb). Maybe: Also construct your own pools!\n",
    "- Use them as initial state for your own algorithms. If the goal is a VQE: Can you improve the correlation between the pairs?  \n",
    "- Try it out in combination with other algorithms (see the [article](https://arxiv.org/abs/2105.03836) for some suggestions)\n",
    "- Try to implement an orbital-optimized variant of SPA (see the [article](https://arxiv.org/abs/2105.03836) for references on that)\n",
    "- Compare it to other algorithms (you can for example use the Hamiltonians from this notebook)\n"
   ]
  },
  {
   "cell_type": "markdown",
   "metadata": {},
   "source": [
    "### More Molecules without explicitly computing them?\n",
    "\n",
    "In the [data/basis-set-free-molecules](https://github.com/aspuru-guzik-group/tequila-tutorials/tree/main/data/basis-set-free-molecules) directory, there are some more molecules provided (BeH$_2$, N$_2$ and BH$_3$ from the [article](https://arxiv.org/abs/2105.03836)). \n",
    "\n",
    "Here are some examples:"
   ]
  },
  {
   "cell_type": "markdown",
   "metadata": {},
   "source": [
    "#### BeH$_2$(4,8)"
   ]
  },
  {
   "cell_type": "code",
   "execution_count": 17,
   "metadata": {},
   "outputs": [],
   "source": [
    "have_pyscf = False\n",
    "try:\n",
    "    import pyscf\n",
    "    have_pyscf = True\n",
    "except:\n",
    "    have_pyscf = False\n",
    "\n",
    "fci={}\n",
    "spa={}\n",
    "hf={}\n",
    "ccsd={}\n",
    "n_pno = None # read data! computed with n_pno=2\n",
    "for R in sorted([1.0+i*0.25 for i in range(15)] + [1.1, 1.3, 1.4]):\n",
    "    mol3 = tq.Molecule(geometry=\"Be 0.0 0.0 0.0\\nH 0.0 0.0 {R}\\nH 0.0 0.0 -{R}\".format(R=R), name=datadir+\"/beh2_{R}\".format(R=R), n_pno=\"read\")\n",
    "    spa[R] = mol3.compute_energy(method=\"spa\", silent=True)\n",
    "    if have_pyscf:\n",
    "        fci[R] = mol3.compute_energy(method=\"fci\") # needs pyscf installed\n",
    "        hf[R]=mol3.compute_energy(\"hf\") # needs pyscf installed\n",
    "        ccsd[R]=mol3.compute_energy(\"ccsd\") # needs pyscf installed"
   ]
  },
  {
   "cell_type": "code",
   "execution_count": 18,
   "metadata": {},
   "outputs": [
    {
     "data": {
      "image/png": "[encoded data removed]",
      "text/plain": [
       "<Figure size 432x288 with 1 Axes>"
      ]
     },
     "metadata": {
      "needs_background": "light"
     },
     "output_type": "display_data"
    }
   ],
   "source": [
    "plt.figure()\n",
    "plt.plot(list(hf.keys()), list(hf.values()), marker=\".\", label=\"HF\", color=\"navy\")\n",
    "plt.plot(list(ccsd.keys()), list(ccsd.values()), marker=\".\", label=\"CCSD\", color=\"darkgreen\")\n",
    "plt.plot(list(spa.keys()), list(spa.values()), marker=\"o\", label=\"SPA\", color=\"tab:red\")\n",
    "plt.plot(list(fci.keys()), list(fci.values()), marker=\"x\", label=\"FCI\", color=\"black\")\n",
    "plt.legend()\n",
    "plt.show()"
   ]
  },
  {
   "cell_type": "markdown",
   "metadata": {},
   "source": [
    "#### N$_2$(6,12)"
   ]
  },
  {
   "cell_type": "code",
   "execution_count": 19,
   "metadata": {
    "scrolled": true
   },
   "outputs": [],
   "source": [
    "fci={}\n",
    "spa={}\n",
    "hf={}\n",
    "ccsd={}\n",
    "n_pno = None # read data! computed with n_pno=3\n",
    "for R in sorted([0.75+i*0.25 for i in range(10)] + [0.8,0.9, 1.1, 1.2, 1.3, 1.4]):\n",
    "    mol3 = tq.Molecule(geometry=\"N 0.0 0.0 0.0\\nN 0.0 0.0 {R}\".format(R=R), name=datadir+\"/n2_{R}\".format(R=R), n_pno=\"read\")\n",
    "    spa[R] = mol3.compute_energy(method=\"spa\", silent=True)\n",
    "    if have_pyscf:\n",
    "        fci[R] = mol3.compute_energy(method=\"fci\") # needs pyscf installed\n",
    "        hf[R]=mol3.compute_energy(\"hf\") # needs pyscf installed\n",
    "        ccsd[R]=mol3.compute_energy(\"ccsd\") # needs pyscf installed"
   ]
  },
  {
   "cell_type": "code",
   "execution_count": 20,
   "metadata": {},
   "outputs": [
    {
     "data": {
      "image/png": "[encoded data removed]",
      "text/plain": [
       "<Figure size 432x288 with 1 Axes>"
      ]
     },
     "metadata": {
      "needs_background": "light"
     },
     "output_type": "display_data"
    }
   ],
   "source": [
    "plt.figure()\n",
    "plt.plot(list(hf.keys()), list(hf.values()), marker=\".\", label=\"HF\", color=\"navy\")\n",
    "plt.plot(list(ccsd.keys()), list(ccsd.values()), marker=\".\", label=\"CCSD\", color=\"darkgreen\")\n",
    "plt.plot(list(spa.keys()), list(spa.values()), marker=\"o\", label=\"SPA\", color=\"tab:red\")\n",
    "plt.plot(list(fci.keys()), list(fci.values()), marker=\"x\", label=\"FCI\", color=\"black\")\n",
    "plt.show()"
   ]
  },
  {
   "cell_type": "markdown",
   "metadata": {},
   "source": [
    "#### LiH(4,8)"
   ]
  },
  {
   "cell_type": "code",
   "execution_count": 21,
   "metadata": {},
   "outputs": [],
   "source": [
    "fci={}\n",
    "spa={}\n",
    "hf={}\n",
    "ccsd={}\n",
    "n_pno=None # read data! it was computed with n_pno=1\n",
    "for R in sorted([0.5 + x*0.25 for x in range(20)] + [1.4, 1.6, 1.7]):\n",
    "    mol3 = tq.Molecule(n_pno=\"read\", geometry=\"Li 0.0 0.0 0.0\\nH 0.0 0.0 {R}\".format(R=R), name=datadir+\"/lih_{R}\".format(R=R))\n",
    "    spa[R] = mol3.compute_energy(method=\"spa\", silent=True)\n",
    "    if have_pyscf:\n",
    "        fci[R] = mol3.compute_energy(method=\"fci\") # needs pyscf installed\n",
    "        hf[R]=mol3.compute_energy(\"hf\") # needs pyscf installed\n",
    "        ccsd[R]=mol3.compute_energy(\"ccsd\") # needs pyscf installed"
   ]
  },
  {
   "cell_type": "code",
   "execution_count": 22,
   "metadata": {},
   "outputs": [
    {
     "data": {
      "image/png": "[encoded data removed]",
      "text/plain": [
       "<Figure size 432x288 with 1 Axes>"
      ]
     },
     "metadata": {
      "needs_background": "light"
     },
     "output_type": "display_data"
    }
   ],
   "source": [
    "plt.figure()\n",
    "plt.plot(list(hf.keys()), list(hf.values()), marker=\".\", label=\"HF\", color=\"navy\")\n",
    "plt.plot(list(ccsd.keys()), list(ccsd.values()), marker=\".\", label=\"CCSD\", color=\"darkgreen\")\n",
    "plt.plot(list(spa.keys()), list(spa.values()), marker=\"o\", label=\"SPA\", color=\"tab:red\")\n",
    "plt.plot(list(fci.keys()), list(fci.values()), marker=\"x\", label=\"FCI\", color=\"black\")\n",
    "plt.legend()\n",
    "plt.show()"
   ]
  },
  {
   "cell_type": "markdown",
   "metadata": {},
   "source": [
    "#### H$_2$(2,4)"
   ]
  },
  {
   "cell_type": "code",
   "execution_count": 23,
   "metadata": {
    "scrolled": true
   },
   "outputs": [],
   "source": [
    "fci={}\n",
    "spa={}\n",
    "hf={}\n",
    "ccsd={}\n",
    "n_pno = None # read data! computed with n_pno=1\n",
    "for R in sorted([0.5+i*0.25 for i in range(10)] + [0.6, 0.7, 0.8, 0.9]):\n",
    "    mol3 = tq.Molecule(geometry=\"H 0.0 0.0 0.0\\nH 0.0 0.0 {R}\".format(R=R), name=datadir+\"/h2_{R}\".format(R=R), n_pno=\"read\")\n",
    "    spa[R] = mol3.compute_energy(method=\"spa\", silent=True)\n",
    "    if have_pyscf:\n",
    "        fci[R] = mol3.compute_energy(method=\"fci\") # needs pyscf installed\n",
    "        hf[R]=mol3.compute_energy(\"hf\") # needs pyscf installed\n",
    "        ccsd[R]=mol3.compute_energy(\"ccsd\") # needs pyscf installed"
   ]
  },
  {
   "cell_type": "code",
   "execution_count": 24,
   "metadata": {},
   "outputs": [
    {
     "data": {
      "image/png": "[encoded data removed]",
      "text/plain": [
       "<Figure size 432x288 with 1 Axes>"
      ]
     },
     "metadata": {
      "needs_background": "light"
     },
     "output_type": "display_data"
    }
   ],
   "source": [
    "plt.figure()\n",
    "plt.plot(list(hf.keys()), list(hf.values()), marker=\".\", label=\"HF\", color=\"navy\")\n",
    "plt.plot(list(ccsd.keys()), list(ccsd.values()), marker=\".\", label=\"CCSD\", color=\"darkgreen\")\n",
    "plt.plot(list(spa.keys()), list(spa.values()), marker=\"o\", label=\"SPA\", color=\"tab:red\")\n",
    "plt.plot(list(fci.keys()), list(fci.values()), marker=\"x\", label=\"FCI\", color=\"black\")\n",
    "plt.legend()\n",
    "plt.show()"
   ]
  },
  {
   "cell_type": "markdown",
   "metadata": {},
   "source": [
    "#### BH$_3$"
   ]
  },
  {
   "cell_type": "code",
   "execution_count": 25,
   "metadata": {
    "scrolled": true
   },
   "outputs": [],
   "source": [
    "fci={}\n",
    "spa={}\n",
    "hf={}\n",
    "ccsd={}\n",
    "n_pno = None # read data! computed with n_pno=3\n",
    "for R in sorted([0.5+i*0.25 for i in range(10)] + [0.6, 0.9, 1.1]):\n",
    "    mol3 = tq.Molecule(geometry=datadir+\"/bh3_{}.xyz\".format(R), name=datadir+\"/bh3_{R}\".format(R=R), n_pno=\"read\")\n",
    "    spa[R] = mol3.compute_energy(method=\"spa\", silent=True)\n",
    "    if have_pyscf:\n",
    "        fci[R] = mol3.compute_energy(method=\"fci\") # needs pyscf installed\n",
    "        hf[R]=mol3.compute_energy(\"hf\") # needs pyscf installed\n",
    "        ccsd[R]=mol3.compute_energy(\"ccsd\") # needs pyscf installed"
   ]
  },
  {
   "cell_type": "code",
   "execution_count": 26,
   "metadata": {},
   "outputs": [
    {
     "data": {
      "image/png": "[encoded data removed]",
      "text/plain": [
       "<Figure size 432x288 with 1 Axes>"
      ]
     },
     "metadata": {
      "needs_background": "light"
     },
     "output_type": "display_data"
    }
   ],
   "source": [
    "plt.figure()\n",
    "plt.plot(list(hf.keys()), list(hf.values()), marker=\".\", label=\"HF\", color=\"navy\")\n",
    "plt.plot(list(ccsd.keys()), list(ccsd.values()), marker=\".\", label=\"CCSD\", color=\"darkgreen\")\n",
    "plt.plot(list(spa.keys()), list(spa.values()), marker=\"o\", label=\"SPA\", color=\"tab:red\")\n",
    "plt.plot(list(fci.keys()), list(fci.values()), marker=\"x\", label=\"FCI\", color=\"black\")\n",
    "plt.legend()\n",
    "plt.show()"
   ]
  },
  {
   "cell_type": "code",
   "execution_count": 27,
   "metadata": {},
   "outputs": [],
   "source": [
    "# Since it might be useful, here is one convenient way to create the BH3 coordinates over a Z-Matrix\n",
    "# You will need to have psi4 installed for this\n",
    "def bh3(R):\n",
    "    try:\n",
    "        import psi4\n",
    "    except:\n",
    "        raise Exception(\"You need psi4\")\n",
    "    ZM = \"\"\"\n",
    "    0 1\n",
    "    B\n",
    "    H       1        {R}\n",
    "    H       1        {R}         2      120.00000\n",
    "    H       1        {R}         2      120.00000     3      180.0\n",
    "    \"\"\"\n",
    "\n",
    "    mol = psi4.geometry(ZM.format(R=R))\n",
    "    coord = mol.save_string_xyz_file()\n",
    "    with open( datadir+\"/bh3_{}.xyz\".format(R) , \"w\") as f:\n",
    "        print(coord, file=f)\n",
    "    "
   ]
  },
  {
   "cell_type": "code",
   "execution_count": null,
   "metadata": {},
   "outputs": [],
   "source": []
  },
  {
   "cell_type": "code",
   "execution_count": null,
   "metadata": {},
   "outputs": [],
   "source": []
  }
 ],
 "metadata": {
  "kernelspec": {
   "display_name": "tq-1.8.0",
   "language": "python",
   "name": "tq-1.8.0"
  },
  "language_info": {
   "codemirror_mode": {
    "name": "ipython",
    "version": 3
   },
   "file_extension": ".py",
   "mimetype": "text/x-python",
   "name": "python",
   "nbconvert_exporter": "python",
   "pygments_lexer": "ipython3",
   "version": "3.9.12"
  }
 },
 "nbformat": 4,
 "nbformat_minor": 2
}

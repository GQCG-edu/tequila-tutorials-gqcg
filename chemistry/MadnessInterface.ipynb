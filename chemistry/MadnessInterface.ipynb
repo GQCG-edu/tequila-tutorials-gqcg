{
 "cells": [
  {
   "cell_type": "markdown",
   "metadata": {},
   "source": [
    "# Basis-Set-Free VQEs with the Tequila - Madness interface"
   ]
  },
  {
   "cell_type": "markdown",
   "metadata": {},
   "source": [
    "<img src=pics/madness_interface.png width=700>"
   ]
  },
  {
   "cell_type": "markdown",
   "metadata": {},
   "source": [
    "This tutorial covers the basic usage of the `tequila`-`madness` interface that allows to construct basis-set-free qubit Hamiltonians described in [arxiv:2008.02819](https://arxiv.org/abs/2008.02819/) using the MP2-PNO surrogate described in [doi:10.1063/1.5141880](https://doi.org/10.1063/1.5141880)."
   ]
  },
  {
   "cell_type": "markdown",
   "metadata": {},
   "source": [
    "## Install the right madness backend\n",
    "\n",
    "In order to use madness as chemistry backend in tequila we need a slightly altered version.  \n",
    "We can conveniently install it over the anaconda cloud with:\n",
    "```bash\n",
    "conda install madtequila -c kottmann\n",
    "```\n",
    "alternatively we can compile it manually: follow the instructions from this [fork](https://github.com/kottmanj/madness).  \n",
    "Madness is quite sensitive about changes in it's dependencies (e.g. MKL or MPICH), so we recommend to install this in a fresh environment without many other packages. See the last cell of this notebook for an example."
   ]
  },
  {
   "cell_type": "markdown",
   "metadata": {},
   "source": [
    "### A first test if the installation succeeded\n",
    "\n",
    "You should see output like\n",
    "```bash\n",
    "Starting madness calculation with executable:  /PATH/TO/bin/pno_integrals\n",
    "output redirected to he_pno_integrals.out logfile\n",
    "```"
   ]
  },
  {
   "cell_type": "code",
   "execution_count": 4,
   "metadata": {},
   "outputs": [
    {
     "name": "stdout",
     "output_type": "stream",
     "text": [
      "Starting madness calculation with executable:  /home/jsk/anaconda3/envs/tq-1.8.1/bin/pno_integrals\n",
      "output redirected to he_pno_integrals.out logfile\n",
      "finished after 12.509206771850586s\n",
      "took 12.52s\n",
      "basis_type      : custom\n",
      "basis_name      : custom\n",
      "orthogonal      : True\n",
      "functions       : 2\n",
      "reference       : [0]\n",
      "Current Orbitals\n",
      "{idx_total:0, idx:0, occ:2.0, pair:(0, 0)}\n",
      "coefficients:  [1. 0.]\n",
      "{idx_total:1, idx:1, occ:0.00437607, pair:(0, 0)}\n",
      "coefficients:  [0. 1.]\n"
     ]
    }
   ],
   "source": [
    "import tequila as tq\n",
    "import time\n",
    "\n",
    "start=time.time()\n",
    "mol = tq.Molecule(geometry=\"He 0.0 0.0 0.0\")\n",
    "print(\"took {:4.2f}s\".format(time.time()-start))\n",
    "\n",
    "mol.print_basis_info()"
   ]
  },
  {
   "cell_type": "markdown",
   "metadata": {},
   "source": [
    "In the previous cell we created an Helium atom in a system adapted orbital basis. Note that we did not specify how many orbitals shall be computed. The default for this is: N-Orbitals = N-electrons. Helium has 2 electrons, so 2 orbitals were computed. The printed information shows us, that we have one Hartree-Fock orbital with occupation number 2.0 and one pair-natural orbital (PNO) with occupation number 0.004. These occupation numbers are from the surrogate model (MP2-PNO) which is based on perturbation theory. From the 0.004 occupation number in the PNO we see that the perturbation in the surrogate is not large meaning that it is justified. We can therefore expect, that these two orbitals are close to optimal."
   ]
  },
  {
   "cell_type": "markdown",
   "metadata": {},
   "source": [
    "## "
   ]
  },
  {
   "cell_type": "markdown",
   "metadata": {},
   "source": [
    "### More Information\n",
    "\n",
    "One of `tequila`s primary aims is to simplify usage of many specialized algorithms and programs. In the following you will find a list of articles that describe some of the technology that is applied behind the scenes when you are using tequila with madness as chemistry backend:\n",
    "\n",
    "#### Technology automatically applied in the background within this tutorial\n",
    "- [arxiv:2008.02819](https://arxiv.org/abs/2008.02819): initial article about basis-set-free VQEs\n",
    "- [doi:10.1063/1.5141880](https://doi.org/10.1063/1.5141880): the MP2-PNO surrogate model in MRA representation\n",
    "- [arxiv:1507.01888](https://arxiv.org/abs/1507.01888): `madness` overview\n",
    "- [arxiv:2011.03057](https://arxiv.org/abs/2011.03057): `tequila` overview\n",
    "- [arxiv:2011.05938](https://arxiv.org/abs/2011.05938): affordable gradients for UCC operations automatically available in tequila\n",
    "\n",
    "\n",
    "#### Other Backends used in this tutorial\n",
    "- [`OpenFermion`](https://github.com/quantumlib/OpenFermion): Fermion to qubit mappings\n",
    "- [`qulacs`](https://github.com/qulacs/qulacs): Qulacs quantum circuit simulator\n",
    "- [scipy](https://github.com/scipy/scipy): Optimizers\n",
    "- [jax](https://github.com/google/jax)): Gradients of python functions\n",
    "\n",
    "#### Last stable run of this notebook\n",
    "\n",
    "Used anaconda3 with conda v4.12.0\n",
    "```bash\n",
    "conda create -n test_env python=3.8\n",
    "conda activate test_env\n",
    "\n",
    "conda install madtequila -c kottmann\n",
    "python -m pip install --upgrade pip\n",
    "python -m pip install \"tequila-basic==1.8.1\"\n",
    "python -m pip install \"qulacs==0.3.1\"\n",
    "python -m pip install \"pyscf==2.0.1\"\n",
    "```\n",
    " "
   ]
  },
  {
   "cell_type": "code",
   "execution_count": null,
   "metadata": {},
   "outputs": [],
   "source": []
  },
  {
   "cell_type": "code",
   "execution_count": null,
   "metadata": {},
   "outputs": [],
   "source": []
  }
 ],
 "metadata": {
  "kernelspec": {
   "display_name": "tq-1.8.1",
   "language": "python",
   "name": "tq-1.8.1"
  },
  "language_info": {
   "codemirror_mode": {
    "name": "ipython",
    "version": 3
   },
   "file_extension": ".py",
   "mimetype": "text/x-python",
   "name": "python",
   "nbconvert_exporter": "python",
   "pygments_lexer": "ipython3",
   "version": "3.8.13"
  }
 },
 "nbformat": 4,
 "nbformat_minor": 2
}

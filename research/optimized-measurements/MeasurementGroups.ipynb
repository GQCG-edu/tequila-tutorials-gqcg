{
 "cells": [
  {
   "cell_type": "markdown",
   "metadata": {},
   "source": [
    "# Optimize Measurements by grouping into commuting cliques\n",
    "\n",
    "Quantum mechanics allows simultaneuous measurements of all mutually commuting operators. VQE however permits only the measurements of a much more restricted set of operators, the qubit-wise commuting operators (Verteletskyi et al., “Measurement Optimization in the Variational Quantum Eigensolver Using a Minimum Clique Cover\" [J. Chem. Phys. 152, 124114 (2020)](https://doi.org/10.1063/1.5141458)). But through certain unitary transformations any group of mutually commuting operators can be tranformed into their qubit-wise commuting form (Yen et al., \"Measuring all compatible operators in one series of single-qubit measurements using unitary transformations\" [Chem. Theory Comput. 2020, 16, 4, 2400–2409](https://doi.org/10.1021/acs.jctc.0c00008)). \n",
    "\n",
    "## How to Use:\n",
    "This is how the technique can be used in tequila. Note that you will only benefit from optimizing measurements when you are running on a real quantum backend or when you simulate with finite samples. The difference in timings is just an indicator that different processes happen, in this specific example we have an Hamiltonian with 4 terms where optimization of the measurements reduces those to 2 commuting groups (see the next section for details)"
   ]
  },
  {
   "cell_type": "code",
   "execution_count": 1,
   "metadata": {},
   "outputs": [
    {
     "name": "stdout",
     "output_type": "stream",
     "text": [
      "backend         | wfn        | sampling   | noise      | installed \n",
      "--------------------------------------------------------------------\n",
      "qulacs_gpu      | False      | False      | False      | False     \n",
      "qulacs          | True       | True       | True       | True      \n",
      "qibo            | False      | False      | False      | False     \n",
      "qiskit          | False      | False      | False      | False     \n",
      "cirq            | True       | True       | True       | True      \n",
      "pyquil          | False      | False      | False      | False     \n",
      "symbolic        | True       | False      | False      | True      \n",
      "qlm             | False      | False      | False      | False     \n",
      "+1.0000Z(0)Z(1)+1.0000Y(0)Y(1)+1.0000X(0)X(1)+1.0000X(0)+1.0000Z(0)Z(1)Z(2)Z(3)Z(4)Z(5)Z(6)\n",
      "0.005120000000000013\n",
      "time : 6.146994113922119s\n",
      "0.0014600157737731934\n",
      "time : 3.3788418769836426s\n"
     ]
    }
   ],
   "source": [
    "import tequila as tq\n",
    "import time\n",
    "tq.show_available_simulators()\n",
    "backend = None\n",
    "\n",
    "H = tq.paulis.Z([0,1]) + tq.paulis.Y([0,1]) + tq.paulis.X([0,1]) + tq.paulis.X(0) + tq.paulis.Z([0,1,2,3,4,5,6])\n",
    "\n",
    "U = tq.gates.ExpPauli(angle = \"a\", paulistring=tq.PauliString.from_string('X(0)Y(1)'))\n",
    "U += tq.gates.X(target=[0,1,2,3,4,5,6])\n",
    "\n",
    "E1 = tq.ExpectationValue(H=H, U=U) \n",
    "E2 = tq.ExpectationValue(H=H, U=U, optimize_measurements = True)\n",
    "\n",
    "print(H)\n",
    "start = time.time()\n",
    "print(tq.simulate(E1, variables={\"a\":1.0}, samples=100000, backend=backend))\n",
    "print(\"time : {}s\".format(time.time()-start))\n",
    "\n",
    "start = time.time()\n",
    "print(tq.simulate(E2, variables={\"a\":1.0}, samples=100000, backend=backend))\n",
    "print(\"time : {}s\".format(time.time()-start))\n",
    "\n",
    "\n"
   ]
  },
  {
   "cell_type": "markdown",
   "metadata": {},
   "source": [
    "## Behind the Scenes"
   ]
  },
  {
   "cell_type": "code",
   "execution_count": 2,
   "metadata": {},
   "outputs": [],
   "source": [
    "import tequila as tq\n",
    "import numpy as np\n",
    "from tequila.hamiltonian import QubitHamiltonian, paulis\n",
    "from tequila.grouping.binary_rep import BinaryHamiltonian"
   ]
  },
  {
   "cell_type": "markdown",
   "metadata": {},
   "source": [
    "The following examples shows how to partition a given Hamiltonian into commuting parts and how to find the unitary transformation needed to transform the commuting terms into qubit-wise commuting form that is easy to measure. \n",
    "\n",
    "The Hamiltonian is simply \n",
    "$$ H = \\sigma_z(0)\\sigma_z(1) + \\sigma_y(0)\\sigma_y(1) + \\sigma_x(0)\\sigma_x(1) + \\sigma_x(0)$$\n",
    "where $\\sigma_z(0)\\sigma_z(1)$, $\\sigma_y(0)\\sigma_y(1)$ does not commute with $\\sigma_x(0)$, so two separate measurements are needed."
   ]
  },
  {
   "cell_type": "code",
   "execution_count": 3,
   "metadata": {},
   "outputs": [],
   "source": [
    "H = paulis.Z(0) * paulis.Z(1) + paulis.Y(0) * paulis.Y(1) + \\\n",
    "    paulis.X(0) * paulis.X(1) + paulis.X(0) \n"
   ]
  },
  {
   "cell_type": "markdown",
   "metadata": {},
   "source": [
    "Here we use the binary representation of the Hamiltonian for partitioning. The method commuting_groups gets back a list of BinaryHamiltonian whose terms are mutually commuting. \n",
    "\n",
    "Call to_qubit_hamiltonian to visualize."
   ]
  },
  {
   "cell_type": "code",
   "execution_count": 6,
   "metadata": {},
   "outputs": [],
   "source": [
    "binary_H = BinaryHamiltonian.init_from_qubit_hamiltonian(H)\n",
    "commuting_parts = binary_H.commuting_groups()[0]"
   ]
  },
  {
   "cell_type": "code",
   "execution_count": 7,
   "metadata": {},
   "outputs": [
    {
     "name": "stdout",
     "output_type": "stream",
     "text": [
      "2\n",
      "+1.0000X(0)X(1)+1.0000X(0)\n",
      "+1.0000Z(0)Z(1)+1.0000Y(0)Y(1)\n"
     ]
    }
   ],
   "source": [
    "print(len(commuting_parts)) # Number of measurements needed\n",
    "print(commuting_parts[0].to_qubit_hamiltonian())\n",
    "print(commuting_parts[1].to_qubit_hamiltonian())"
   ]
  },
  {
   "cell_type": "markdown",
   "metadata": {},
   "source": [
    "The second group of terms $H_2$ are not currently qubit-wise commuting and cannot be directly measured on current hardware. They require further unitary transformation $U$ to become qubit-wise commuting. The following code identifies two bases (list of BinaryPauliString) that encodes the unitary transformation as\n",
    "$$ U = \\prod_i \\frac{1}{\\sqrt{2}} (\\text{old_basis}[i] + \\text{new_basis}[i])$$\n",
    "such that $UH_2U$ is qubit-wise commuting."
   ]
  },
  {
   "cell_type": "code",
   "execution_count": 8,
   "metadata": {},
   "outputs": [],
   "source": [
    "qubit_wise_parts, old_basis, new_basis = commuting_parts[1].single_qubit_form()"
   ]
  },
  {
   "cell_type": "code",
   "execution_count": 9,
   "metadata": {},
   "outputs": [
    {
     "name": "stdout",
     "output_type": "stream",
     "text": [
      "Old Basis\n",
      "+1.0000Z(0)Z(1)\n",
      "+1.0000X(0)X(1)\n",
      "\n",
      "New Basis\n",
      "+1.0000X(0)\n",
      "+1.0000Z(1)\n"
     ]
    }
   ],
   "source": [
    "def display_basis(basis):\n",
    "    for term in basis:\n",
    "        print(QubitHamiltonian.from_paulistrings(term.to_pauli_strings()))\n",
    "print('Old Basis')\n",
    "display_basis(old_basis)\n",
    "print('\\nNew Basis')\n",
    "display_basis(new_basis)"
   ]
  },
  {
   "cell_type": "markdown",
   "metadata": {},
   "source": [
    "The transfromed term $UH_2U$ is qubit-wise commuting. "
   ]
  },
  {
   "cell_type": "code",
   "execution_count": 10,
   "metadata": {},
   "outputs": [
    {
     "name": "stdout",
     "output_type": "stream",
     "text": [
      "+1.0000X(0)-1.0000X(0)Z(1)\n"
     ]
    }
   ],
   "source": [
    "print(qubit_wise_parts.to_qubit_hamiltonian())"
   ]
  },
  {
   "cell_type": "markdown",
   "metadata": {},
   "source": [
    "Get the circuit for the unitary transformation to implement the measurement scheme.\n",
    "The next function illustrates what is happening if expectation values are formed with the `optimize_measurements` keyword meaning it does the same as `tq.ExpectationValue(H=H,U=U, optimize_measurements=True)`"
   ]
  },
  {
   "cell_type": "code",
   "execution_count": 14,
   "metadata": {},
   "outputs": [],
   "source": [
    "def optimize_measurements(H, U):\n",
    "    binary_H = BinaryHamiltonian.init_from_qubit_hamiltonian(H)\n",
    "    commuting_parts = binary_H.commuting_groups()[0]\n",
    "    result = tq.Objective()\n",
    "    for cH in commuting_parts:\n",
    "        qwc, Um = cH.get_qubit_wise()\n",
    "        Etmp = tq.ExpectationValue(H=qwc, U=U+Um)\n",
    "        result += Etmp\n",
    "    \n",
    "    return result\n",
    "        "
   ]
  },
  {
   "cell_type": "markdown",
   "metadata": {},
   "source": [
    "The new measurement scheme produces the same expectation values"
   ]
  },
  {
   "cell_type": "code",
   "execution_count": 15,
   "metadata": {},
   "outputs": [
    {
     "name": "stdout",
     "output_type": "stream",
     "text": [
      "Without measurement grouping\n",
      "0.21115270229780903\n",
      "\n",
      "With measurement grouping\n",
      "0.21115270256996155\n"
     ]
    }
   ],
   "source": [
    "U = tq.gates.ExpPauli(angle = \"a\", paulistring=tq.PauliString.from_string('X(0)Y(1)'))\n",
    "E1 = tq.ExpectationValue(H=commuting_parts[1].to_qubit_hamiltonian(), U=U)\n",
    "E2 = optimize_measurements(H=commuting_parts[1].to_qubit_hamiltonian(), U=U)\n",
    "\n",
    "variables = {\"a\" : np.random.rand(1) * 2 * np.pi}\n",
    "print('Without measurement grouping')\n",
    "print(tq.simulate(E1, variables))\n",
    "print('\\nWith measurement grouping')\n",
    "print(tq.simulate(E2, variables))"
   ]
  },
  {
   "cell_type": "markdown",
   "metadata": {},
   "source": [
    "The get_qubit_wise methods always transforms the hamiltonian into the qubit-wise commuting form with only z on each qubit. This is done via extra single-qubit unitaries. "
   ]
  },
  {
   "cell_type": "code",
   "execution_count": 16,
   "metadata": {},
   "outputs": [
    {
     "name": "stdout",
     "output_type": "stream",
     "text": [
      "The qubit-wise commuting hamiltonian, but does not have all z\n",
      "+1.0000X(0)X(1)+1.0000X(0)\n",
      "\n",
      "The same qubit-wise commuting hamiltonian with all z\n",
      "+1.0000Z(0)Z(1)+1.0000Z(0)\n",
      "\n",
      "The corresponding single qubit unitaries\n",
      "circuit: \n",
      "Rz(target=(0,), parameter=-1.5707963267948966)\n",
      "Rx(target=(0,), parameter=-1.5707963267948966)\n",
      "Rz(target=(0,), parameter=-1.5707963267948966)\n",
      "Rz(target=(1,), parameter=-1.5707963267948966)\n",
      "Rx(target=(1,), parameter=-1.5707963267948966)\n",
      "Rz(target=(1,), parameter=-1.5707963267948966)\n",
      "\n"
     ]
    }
   ],
   "source": [
    "print('The qubit-wise commuting hamiltonian, but does not have all z')\n",
    "print(commuting_parts[0].to_qubit_hamiltonian())\n",
    "\n",
    "qwc, U = commuting_parts[0].get_qubit_wise()\n",
    "print('\\nThe same qubit-wise commuting hamiltonian with all z')\n",
    "print(qwc)\n",
    "print('\\nThe corresponding single qubit unitaries')\n",
    "print(U)"
   ]
  },
  {
   "cell_type": "code",
   "execution_count": null,
   "metadata": {},
   "outputs": [],
   "source": []
  }
 ],
 "metadata": {
  "kernelspec": {
   "display_name": "Python 3 (ipykernel)",
   "language": "python",
   "name": "python3"
  },
  "language_info": {
   "codemirror_mode": {
    "name": "ipython",
    "version": 3
   },
   "file_extension": ".py",
   "mimetype": "text/x-python",
   "name": "python",
   "nbconvert_exporter": "python",
   "pygments_lexer": "ipython3",
   "version": "3.9.7"
  }
 },
 "nbformat": 4,
 "nbformat_minor": 2
}

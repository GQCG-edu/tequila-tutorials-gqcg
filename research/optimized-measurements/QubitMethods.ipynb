{
 "cells": [
  {
   "cell_type": "markdown",
   "id": "b0187acc",
   "metadata": {},
   "source": [
    "# Qubit-algebra-based measurement optimization\n",
    "\n",
    "The measurement optimization techniques introduced here are applicable to a general observable, but for concreteness, we focus on measuring the expectation value of the molecular electronic Hamiltonian. Measuring the expectation value of $\\hat{H}$ is an important subroutine and a bottleneck of the variational quantum eigensolver \\[see [Phys. Rev. Research **4**, 033154 (2022)](https://journals.aps.org/prresearch/abstract/10.1103/PhysRevResearch.4.033154)\\].\n",
    "\n",
    "Qubit-algebra-based techniques first present the molecular electronic Hamiltonian in its qubit representation\n",
    "$$\n",
    "\\hat{H} = \\sum_{j} c_{j} \\hat{P}_{j},\n",
    "$$\n",
    "obtained by, e.g., Jordan&ndash;Wigner transformation. Then, \n",
    "the expectation value of the qubit Hamiltonian is measured by grouping $\\hat{P}_{j}$ into mutually commutative groups since each such group can be measured simultaneously \\[[J. Chem. Theory Comput. **16**(4), 2400–2409 (2020)](https://doi.org/10.1021/acs.jctc.0c00008)\\]. The number of measurements required to obtain the expectation value of $\\hat{H}$ depends on how we group the Pauli products and how many measurements (shots) we assign to each group (measurement allocation).\n",
    "\n",
    "In this tutorial, we introduce two measurement optimization schemes available within Tequila:\n",
    "\n",
    "1. Sorted insertion (SI) [Quantum **5**, 385 (2021)](https://doi.org/10.22331/q-2021-01-20-385) \n",
    "2. Iterative coefficient splitting (ICS) [npj Quantum Inf. **9**, 14 (2023)](https://www.nature.com/articles/s41534-023-00683-y) \n"
   ]
  },
  {
   "cell_type": "markdown",
   "id": "51788a1f",
   "metadata": {},
   "source": [
    "## Common to both SI and ICS\n",
    "### Setting up the test Hamiltonian and covariance dictionary:\n",
    "To start, both SI and ICS require approximate covariances between $\\hat{P}_{j}$'s in $\\hat{H}$. In SI, these covariances are used to optimize the measurement allocation. In ICS, they are additionally used for the optimization of Pauli product groups. Because quantum wavefunction is only available on the quantum computer, we use a classically efficient proxy \\[e.g., Hartree&ndash;Fock or configuration interaction singles and doubles (CISD) wavefunction\\] to approximate the variances. Here we use the CISD wavefunction.\n",
    "\n",
    "For concreteness, we use H$_4$ in the STO-3G basis for demonstration."
   ]
  },
  {
   "cell_type": "code",
   "execution_count": 1,
   "id": "16ad4331",
   "metadata": {},
   "outputs": [
    {
     "name": "stdout",
     "output_type": "stream",
     "text": [
      "converged SCF energy = -2.09854593699776\n",
      "Number of Pauli products to measure: 184\n"
     ]
    }
   ],
   "source": [
    "# Needs pyscf or psi4 installed:\n",
    "# pip install pyscf\n",
    "# tequila version needs to be > 1.8.3 or from devel branch\n",
    "import tequila as tq\n",
    "from tequila.hamiltonian import QubitHamiltonian, PauliString\n",
    "from tequila.grouping.binary_rep import BinaryPauliString, BinaryHamiltonian\n",
    "from tequila.grouping.fermionic_functions import n_elec\n",
    "from tequila.grouping.fermionic_methods import get_wavefunction\n",
    "import numpy as np\n",
    "\n",
    "def prepare_test_hamiltonian():\n",
    "    '''\n",
    "    Return a test hamiltonian.\n",
    "    '''\n",
    "    trafo = \"JordanWigner\"\n",
    "    mol = tq.chemistry.Molecule(\n",
    "                            geometry=\"H 0.0 0.0 0.0 \\n H 0.0 0.0 1. \\n H 0.0 0.0 2. \\n H 0.0 0.0 3.\",\n",
    "                            basis_set=\"sto3g\",\n",
    "                            transformation=trafo,\n",
    "                            backend='pyscf'\n",
    "                                 )\n",
    "    H = mol.make_hamiltonian()\n",
    "    Hbin = BinaryHamiltonian.init_from_qubit_hamiltonian(H)\n",
    "    _, psis_appr = get_wavefunction(H.to_openfermion(), \"cisd\", \"h4\", n_elec(\"h4\"), save=False)\n",
    "    return mol, H, Hbin, psis_appr[0], len(Hbin.binary_terms) - 1\n",
    "\n",
    "def prepare_cov_dict(H, psi_appr):\n",
    "    '''\n",
    "    Return the covariance dictionary containing Cov(P1, P2). \n",
    "    In a practical calculation, this covariance dictionary would be built from\n",
    "    a Hartree-Fock or configuration interaction singles and doulbes (CISD) \n",
    "    wavefunction. Here, we use the CISD wavefunction.\n",
    "    '''\n",
    "    terms = H.binary_terms\n",
    "    cov_dict = {}\n",
    "    wfn0 = tq.QubitWaveFunction(psi_appr)\n",
    "    for idx, term1 in enumerate(terms):\n",
    "        for term2 in terms[idx:]:\n",
    "            pw1 = BinaryPauliString(term1.get_binary(), 1.0)\n",
    "            pw2 = BinaryPauliString(term2.get_binary(), 1.0)\n",
    "            op1 = QubitHamiltonian.from_paulistrings(pw1.to_pauli_strings())\n",
    "            op2 = QubitHamiltonian.from_paulistrings(pw2.to_pauli_strings())\n",
    "            if pw1.commute(pw2):\n",
    "                prod_op = op1 * op2\n",
    "                cov_dict[(term1.binary_tuple(), term2.binary_tuple())] = wfn0.inner(prod_op(wfn0)) - wfn0.inner(op1(wfn0)) * wfn0.inner(op2(wfn0))\n",
    "    return cov_dict\n",
    "\n",
    "mol, H, Hbin, psi_appr, n_paulis = prepare_test_hamiltonian()\n",
    "print(\"Number of Pauli products to measure: {}\".format(n_paulis))\n",
    "cov_dict = prepare_cov_dict(Hbin, psi_appr)"
   ]
  },
  {
   "cell_type": "markdown",
   "id": "664fe153",
   "metadata": {},
   "source": [
    "## Sorted Insertion\n",
    "\n",
    "To employ SI, simply define an \"options\" dictionary as follows. Note that the user can choose between fully commuting (FC) and qubit-wise commuting (QWC) fragments. FC yields fewer number of quantum measurements. However, a more complicated quantum circuit is needed to rotate an FC group into measurable Pauli-$\\hat{z}$ operators. For further details, including numerical results, see [npj Quantum Inf. **9**, 14 (2023)](https://www.nature.com/articles/s41534-023-00683-y) and [J. Phys. Chem. A  **126**, 7007 (2022)](https://pubs.acs.org/doi/full/10.1021/acs.jpca.2c04726)."
   ]
  },
  {
   "cell_type": "code",
   "execution_count": 2,
   "id": "3986e27e",
   "metadata": {},
   "outputs": [],
   "source": [
    "options = {\"method\":\"si\", \"condition\": \"fc\", \"cov_dict\":cov_dict}"
   ]
  },
  {
   "cell_type": "markdown",
   "id": "d34a8994",
   "metadata": {},
   "source": [
    "### Running SI\n",
    "One can obtain the groups of commuting Pauli products and optimal measurement allocation for each group by running:"
   ]
  },
  {
   "cell_type": "code",
   "execution_count": 3,
   "id": "e97d0542",
   "metadata": {},
   "outputs": [
    {
     "name": "stdout",
     "output_type": "stream",
     "text": [
      "Number of SI groups: 9\n",
      "Group # 1: Mutually commuting? True\n",
      "Group # 2: Mutually commuting? True\n",
      "Group # 3: Mutually commuting? True\n",
      "Group # 4: Mutually commuting? True\n",
      "Group # 5: Mutually commuting? True\n",
      "Group # 6: Mutually commuting? True\n",
      "Group # 7: Mutually commuting? True\n",
      "Group # 8: Mutually commuting? True\n",
      "Group # 9: Mutually commuting? True\n",
      "Suggested samples: [0.27906757 0.05827309 0.19752505 0.19658682 0.05167209 0.02181115\n",
      " 0.02181115 0.09466249 0.07859059]\n"
     ]
    }
   ],
   "source": [
    "commuting_parts, suggested_sample_size = Hbin.commuting_groups(options=options)\n",
    "print(\"Number of SI groups: {}\".format(len(commuting_parts)))\n",
    "for idx, part in enumerate(commuting_parts):\n",
    "    print(\"Group # {}: Mutually commuting? {}\".format(idx+1, part.is_commuting()))\n",
    "print(\"Suggested samples:\", suggested_sample_size)"
   ]
  },
  {
   "cell_type": "markdown",
   "id": "43fc7e05",
   "metadata": {},
   "source": [
    "### Estimating the number of required measurements in SI\n",
    "In the following, we estimate the number of measurements (in millions) required to obtain the Hamiltonian expectation value with a millihartree accuracy. For this estimation, we suppose that one is interested in measuring $\\langle \\mathrm{FCI} | \\hat{H} | \\mathrm{FCI} \\rangle$ because all succesful VQE algorithms should converge close to the FCI solution. To evaluate the measurement cost, we use Eq. (4) from [J. Chem. Theory Comput. **18**, 7394 (2022)](https://pubs.acs.org/doi/pdf/10.1021/acs.jctc.2c00837)."
   ]
  },
  {
   "cell_type": "code",
   "execution_count": 4,
   "id": "b96e182b",
   "metadata": {},
   "outputs": [
    {
     "name": "stdout",
     "output_type": "stream",
     "text": [
      "Required number of measurements (in miilions): 1.0156030017170306\n"
     ]
    }
   ],
   "source": [
    "var_metric = 0.\n",
    "fci_energies, psis_fci = get_wavefunction(H.to_openfermion(), \"fci\", \"h4\", n_elec(\"h4\"), save=False)\n",
    "wf_fci = tq.QubitWaveFunction(psis_fci[0])\n",
    "for idx, part in enumerate(commuting_parts):\n",
    "    op = part.to_qubit_hamiltonian()\n",
    "    prod_op = op * op\n",
    "    var_part = wf_fci.inner(prod_op(wf_fci)) - wf_fci.inner(op(wf_fci)) ** 2 \n",
    "    var_metric += var_part/suggested_sample_size[idx]\n",
    "print(\"Required number of measurements (in miilions): {}\".format(np.real_if_close(var_metric)))"
   ]
  },
  {
   "cell_type": "markdown",
   "id": "0ebba695",
   "metadata": {},
   "source": [
    "## Iterative coefficient splitting\n",
    "\n",
    "To employ ICS, simply define an \"options\" dictionary as follows. \n",
    "Like in SI, the user can choose between fully commuting (FC) and qubit-wise commuting (QWC) fragments."
   ]
  },
  {
   "cell_type": "code",
   "execution_count": 5,
   "id": "7ca961dd",
   "metadata": {},
   "outputs": [],
   "source": [
    "options_ics = {\"method\":\"ics\", \"condition\": \"fc\", \"cov_dict\":cov_dict}"
   ]
  },
  {
   "cell_type": "markdown",
   "id": "57b688b3",
   "metadata": {},
   "source": [
    "### Running ICS\n",
    "One can obtain the groups of commuting Pauli products and optimal number of measurements for each group by running:"
   ]
  },
  {
   "cell_type": "code",
   "execution_count": 6,
   "id": "b747645c",
   "metadata": {},
   "outputs": [
    {
     "name": "stdout",
     "output_type": "stream",
     "text": [
      "Number of ICS groups: 9\n",
      "Group # 1: Mutually commuting?  True\n",
      "\t   Is group same as SI? False\n",
      "Group # 2: Mutually commuting?  True\n",
      "\t   Is group same as SI? False\n",
      "Group # 3: Mutually commuting?  True\n",
      "\t   Is group same as SI? False\n",
      "Group # 4: Mutually commuting?  True\n",
      "\t   Is group same as SI? False\n",
      "Group # 5: Mutually commuting?  True\n",
      "\t   Is group same as SI? False\n",
      "Group # 6: Mutually commuting?  True\n",
      "\t   Is group same as SI? False\n",
      "Group # 7: Mutually commuting?  True\n",
      "\t   Is group same as SI? False\n",
      "Group # 8: Mutually commuting?  True\n",
      "\t   Is group same as SI? False\n",
      "Group # 9: Mutually commuting?  True\n",
      "\t   Is group same as SI? False\n"
     ]
    }
   ],
   "source": [
    "commuting_parts_ics, suggested_sample_size_ics = Hbin.commuting_groups(options=options_ics)\n",
    "print(\"Number of ICS groups: {}\".format(len(commuting_parts_ics)))\n",
    "for idx, part in enumerate(commuting_parts_ics):\n",
    "    print(\"Group # {}: Mutually commuting?  {}\".format(idx+1, part.is_commuting()))\n",
    "    print(\"\\t   Is group same as SI? {}\".format(part == commuting_parts[idx]))"
   ]
  },
  {
   "cell_type": "markdown",
   "id": "54521336",
   "metadata": {},
   "source": [
    "### Estimating the number of required measurements in ICS\n",
    "The optimization of Pauli product groups in ICS means that the number of required measurements in ICS is lower than that in SI:"
   ]
  },
  {
   "cell_type": "code",
   "execution_count": 7,
   "id": "d828767a",
   "metadata": {},
   "outputs": [
    {
     "name": "stdout",
     "output_type": "stream",
     "text": [
      "Required number of measurements (in miilions): 0.7074154405316988\n",
      "The number of measurements is 1.44 times lower than that in SI\n"
     ]
    }
   ],
   "source": [
    "var_metric_ics = 0.\n",
    "for idx, part in enumerate(commuting_parts_ics):\n",
    "    op = part.to_qubit_hamiltonian()\n",
    "    prod_op = op * op\n",
    "    var_part = wf_fci.inner(prod_op(wf_fci)) - wf_fci.inner(op(wf_fci)) ** 2 \n",
    "    var_metric_ics += var_part/suggested_sample_size_ics[idx]\n",
    "print(\"Required number of measurements (in miilions): {}\".format(np.real_if_close(var_metric_ics)))\n",
    "print(\"The number of measurements is {:.2f} times lower than that in SI\".format(np.real(var_metric/var_metric_ics)))"
   ]
  },
  {
   "cell_type": "markdown",
   "id": "a3f4acc0",
   "metadata": {},
   "source": [
    "## Measuring the expectation value using a quantum circuit\n",
    "Now let us use Tequila to measure the expectation value of a test wavefunction (wfn) on a quantum circuit. While the demonstration is only for ICS, it is easily transferrable to SI by simply replacing \"options_ics\" with its SI counterpart (by specifying {\"method\":\"si\"})."
   ]
  },
  {
   "cell_type": "code",
   "execution_count": 8,
   "id": "5a19cd53",
   "metadata": {},
   "outputs": [
    {
     "name": "stdout",
     "output_type": "stream",
     "text": [
      "=========================================\n",
      "ICS measurement scheme\n",
      "=========================================\n",
      "Objective with 9 unique expectation values\n",
      "total measurements = 9\n",
      "variables          = [((0, 1), 'D', None), ((2, 3), 'D', None)]\n",
      "types              = not compiled\n",
      "Benchmark Energy: -1.4066483974456787\n",
      "Energy measured with ICS: -1.4041930437088013\n"
     ]
    }
   ],
   "source": [
    "U = mol.make_ansatz(name=\"SPA\", edges=[(0,1), (2,3)])\n",
    "E = tq.ExpectationValue(H=H, U=U)\n",
    "result = tq.minimize(E, silent=True)\n",
    "wfn = tq.simulate(U, variables=result.variables)\n",
    "\n",
    "print(\"=========================================\")\n",
    "print(\"ICS measurement scheme\")\n",
    "print(\"=========================================\")\n",
    "e_ics = tq.ExpectationValue(H=Hbin.to_qubit_hamiltonian(), U=U, optimize_measurements=options_ics)\n",
    "print(e_ics)\n",
    "\n",
    "#Print Benchmark Energy (unnecessary in real measurement).\n",
    "result_ics = tq.simulate(e_ics, result.variables)\n",
    "print(\"Benchmark Energy:\", result_ics)\n",
    "\n",
    "compiled_ics = tq.compile(e_ics)\n",
    "# auto-100000 means automatically allocate 100000 samples (shots) \n",
    "# between measurable fragments.\n",
    "exp_ics = compiled_ics(result.variables, samples=\"auto-700000\")\n",
    "\n",
    "print(\"Energy measured with ICS:\", exp_ics)"
   ]
  }
 ],
 "metadata": {
  "kernelspec": {
   "display_name": "Python 3 (ipykernel)",
   "language": "python",
   "name": "python3"
  },
  "language_info": {
   "codemirror_mode": {
    "name": "ipython",
    "version": 3
   },
   "file_extension": ".py",
   "mimetype": "text/x-python",
   "name": "python",
   "nbconvert_exporter": "python",
   "pygments_lexer": "ipython3",
   "version": "3.9.7"
  }
 },
 "nbformat": 4,
 "nbformat_minor": 5
}

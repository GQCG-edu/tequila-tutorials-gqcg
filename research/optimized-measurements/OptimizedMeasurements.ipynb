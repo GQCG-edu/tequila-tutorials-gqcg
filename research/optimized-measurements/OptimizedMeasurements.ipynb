{
 "cells": [
  {
   "cell_type": "markdown",
   "id": "b0187acc",
   "metadata": {},
   "source": [
    "# Improving measurements by measuring Pauli products in multiple groups\n",
    "\n",
    "One of the most common strategies for measuring the expectation value of a complicated observable is to partition the observable into groups of mutually comutative Pauil products \\[[J. Chem. Theory Comput. **16**(4), 2400–2409 (2020)](https://doi.org/10.1021/acs.jctc.0c00008)\\]. The observable expectation value is then obtained by In this scheme, The total number of measurements required to obtain the expectation value is proportional to the sum of variances of the Pauli product groups \\[[Quantum **5**, 385 (2021)](https://doi.org/10.22331/q-2021-01-20-385)\\]. The method introduced here achieves a severalfold reduction in the number of required measurements by measuring Pauli products in all possible groups \\[[arXiv:2201.01471](\n",
    "https://doi.org/10.48550/arXiv.2201.01471\n",
    ")\\]. This novel measurement technique is called the *iterative coefficient splitting* (ICS) method.\n",
    "\n",
    "## How to Use:\n",
    "The following demonstrates how the ICS method can be used in tequila. See [MeasurementGroups](./MeasurementGroups.ipynb) for further details on transforming the group of commutative Pauli product terms into Pauli-z operators, measurable on a quantum computer."
   ]
  },
  {
   "cell_type": "markdown",
   "id": "51788a1f",
   "metadata": {},
   "source": [
    "### Setting up the test Hamiltonian and covariance dictionary:\n",
    "We demonstrate ICS using a simple Hamiltonian for H$_2$ in STO-3G basis set. For ICS, we allocate coefficients and number of samples per group according to the approximate covariances. In this simple example, we use the FCI wavefunction to evaluate these. However, in a more realistic computations, one would use a classically efficient proxy, e.g., Hartree-Fock or CISD wavefunction to approximate the covariances.\n",
    "\n",
    "For this test example, we use a simple Pauli rotation with a fixed angle as the VQE unitary. "
   ]
  },
  {
   "cell_type": "code",
   "execution_count": 41,
   "id": "16ad4331",
   "metadata": {},
   "outputs": [
    {
     "name": "stdout",
     "output_type": "stream",
     "text": [
      "converged SCF energy = -1.06610864931794\n"
     ]
    }
   ],
   "source": [
    "# Needs pyscf or psi4 installed:\n",
    "# pip install pyscf\n",
    "# tequila version needs to be > 1.8.3 or from devel branch",
    "import tequila as tq\n",
    "from tequila.hamiltonian import QubitHamiltonian, PauliString\n",
    "from tequila.grouping.binary_rep import BinaryPauliString, BinaryHamiltonian\n",
    "import numpy as np\n",
    "import pickle\n",
    "\n",
    "def prepare_test_hamiltonian():\n",
    "    '''\n",
    "    Return a test hamiltonian.\n",
    "    '''\n",
    "    trafo = \"BravyiKitaev\"\n",
    "    mol = tq.chemistry.Molecule(\n",
    "                            geometry=\"H 0.0 0.0 0.0 \\n H 0.0 0.0 1.\",\n",
    "                            basis_set=\"sto3g\",\n",
    "                            transformation=trafo,\n",
    "                            backend='pyscf'\n",
    "                                 )\n",
    "    H = mol.make_hamiltonian()\n",
    "\n",
    "    U = mol.make_ansatz(name=\"SPA\", edges=[(0,1)])\n",
    "    E = tq.ExpectationValue(H=H, U=U)\n",
    "    result = tq.minimize(E, silent=True)\n",
    "    wfn = tq.simulate(U, variables=result.variables)\\\n",
    "    \n",
    "    Hbin = BinaryHamiltonian.init_from_qubit_hamiltonian(H)\n",
    "    return Hbin, wfn, len(Hbin.binary_terms) - 1\n",
    "\n",
    "def prepare_cov_dict(H):\n",
    "    '''\n",
    "    Return the covariance dictionary containing Cov(P1, P2). \n",
    "    In a practical calculation, this covariance dictionary would be built from\n",
    "    a Hartree-Fock or configuration interaction singles and doulbes (CISD) \n",
    "    wavefunction. Here, we use the CISD wavefunction.\n",
    "    '''\n",
    "    terms = H.binary_terms\n",
    "    cov_dict = {}\n",
    "    with open(\"h2_cisd_wfn.pkl\", \"rb\") as f:\n",
    "        wfn0 = tq.QubitWaveFunction(pickle.load(f))\n",
    "    for idx, term1 in enumerate(terms):\n",
    "        for term2 in terms[idx:]:\n",
    "            pw1 = BinaryPauliString(term1.get_binary(), 1.0)\n",
    "            pw2 = BinaryPauliString(term2.get_binary(), 1.0)\n",
    "            op1 = QubitHamiltonian.from_paulistrings(pw1.to_pauli_strings())\n",
    "            op2 = QubitHamiltonian.from_paulistrings(pw2.to_pauli_strings())\n",
    "            if pw1.commute(pw2):\n",
    "                prod_op = op1 * op2\n",
    "                cov_dict[(term1.binary_tuple(), term2.binary_tuple())] = wfn0.inner(prod_op(wfn0)) - wfn0.inner(op1(wfn0)) * wfn0.inner(op2(wfn0))\n",
    "    return cov_dict\n",
    "\n",
    "Hbin, wfn0, n_paulis = prepare_test_hamiltonian()\n",
    "cov_dict = prepare_cov_dict(Hbin)\n",
    "\n",
    "U = tq.gates.ExpPauli(angle=\"a\", paulistring=tq.PauliString.from_string('X(0)Y(1)'))\n",
    "variables = {\"a\": 0.35 * 2 * np.pi}"
   ]
  },
  {
   "cell_type": "markdown",
   "id": "664fe153",
   "metadata": {},
   "source": [
    "### Defining the options for ICS:\n",
    "\n",
    "To use ICS, define the options as following. Note that cov_dict can be precomputed using a separate subscript and should contain the approximate covariances, Cov(P1, P2). The measurement groups are optimized according to cov_dict."
   ]
  },
  {
   "cell_type": "code",
   "execution_count": 17,
   "id": "3986e27e",
   "metadata": {},
   "outputs": [],
   "source": [
    "options = {\"method\":\"osi\", \"condition\": \"fc\", \"cov_dict\":cov_dict}"
   ]
  },
  {
   "cell_type": "markdown",
   "id": "43fc7e05",
   "metadata": {},
   "source": [
    "### Comparing the performance\n",
    "\n",
    "In the following, we demonstrate the performance of ICS by comparing it with simple measurement schemes. Note that the total number of samples in the conventional method is samples * n_paulis, whereas the total number of samples is # in \"auto-#\" in ICS (see below).\n",
    "We will compute the **average error** from **1000 measurements** to demonstrate ICS's performance."
   ]
  },
  {
   "cell_type": "code",
   "execution_count": 43,
   "id": "abeab918",
   "metadata": {},
   "outputs": [
    {
     "name": "stdout",
     "output_type": "stream",
     "text": [
      "=========================================\n",
      "Unoptimized measurement scheme\n",
      "=========================================\n",
      "Objective with 1 unique expectation values\n",
      "total measurements = 15\n",
      "variables          = [a]\n",
      "types              = not compiled\n",
      "=========================================\n",
      "Optimized measurement scheme\n",
      "=========================================\n",
      "Objective with 2 unique expectation values\n",
      "total measurements = 2\n",
      "variables          = [a]\n",
      "types              = not compiled\n",
      "=========================================\n",
      "Benchmark Energy: -0.32684417286792544\n",
      "Energy measured with ICS: -0.32726723650097844\n",
      "Energy measured without optimization: -0.3282812211667907\n",
      "Factor of reduction in average error by using ICS: 2.581172435465373\n"
     ]
    }
   ],
   "source": [
    "print(\"=========================================\")\n",
    "print(\"Unoptimized measurement scheme\")\n",
    "print(\"=========================================\")\n",
    "e_ori = tq.ExpectationValue(H=Hbin.to_qubit_hamiltonian(), U=U)\n",
    "print(e_ori)\n",
    "print(\"=========================================\")\n",
    "print(\"Optimized measurement scheme\")\n",
    "print(\"=========================================\")\n",
    "e_ics = tq.ExpectationValue(H=Hbin.to_qubit_hamiltonian(), U=U, optimize_measurements=options)\n",
    "print(e_ics)\n",
    "print(\"=========================================\")\n",
    "\n",
    "result_ori = tq.simulate(e_ori, variables)\n",
    "print(\"Benchmark Energy:\", result_ori)\n",
    "\n",
    "n_meas = 1000\n",
    "\n",
    "exp_ics = np.zeros(n_meas) \n",
    "exp_no_opt = np.zeros(n_meas)\n",
    "\n",
    "compiled_ics = tq.compile(e_ics)\n",
    "compiled_no_opt = tq.compile(e_ori)\n",
    "\n",
    "for repeat in range(n_meas):\n",
    "    exp_ics[repeat] = compiled_ics(variables, samples=\"auto-1000\")\n",
    "    exp_no_opt[repeat] = compiled_no_opt(variables, samples=int(1000/n_paulis))\n",
    "\n",
    "print(\"Energy measured with ICS:\", np.average(exp_ics))\n",
    "print(\"Energy measured without optimization:\", np.average(exp_no_opt))\n",
    "print(\"Factor of reduction in average error by using ICS:\", \n",
    "      np.average( np.abs(exp_no_opt - result_ori) ) \n",
    "      / np.average( np.abs(exp_ics - result_ori) ) )"
   ]
  }
 ],
 "metadata": {
  "kernelspec": {
   "display_name": "Python 3 (ipykernel)",
   "language": "python",
   "name": "python3"
  },
  "language_info": {
   "codemirror_mode": {
    "name": "ipython",
    "version": 3
   },
   "file_extension": ".py",
   "mimetype": "text/x-python",
   "name": "python",
   "nbconvert_exporter": "python",
   "pygments_lexer": "ipython3",
   "version": "3.9.7"
  }
 },
 "nbformat": 4,
 "nbformat_minor": 5
}

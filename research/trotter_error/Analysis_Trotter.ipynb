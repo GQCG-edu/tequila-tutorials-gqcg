{
 "cells": [
  {
   "cell_type": "markdown",
   "id": "e13354ea",
   "metadata": {},
   "source": [
    "# Unitary propagator Error estimation for first-order Trotter formulas"
   ]
  },
  {
   "cell_type": "markdown",
   "id": "ed8cf80f",
   "metadata": {},
   "source": [
    "Hamiltonian unitary evolution is part of the Quantum Phase Estimation (QPE) algorithm for calculation of energy eigenvalues of a target Hamiltonian $H$, in a digital quantum computer. In practice, given the classically intractable diagonalization of $H$, approximations are need for the implementation of the unitary time evolution operator. One of these common approximations is the (so-called first order) Trotter approximation:\n",
    "$$\n",
    "U(t)=e^{-iHt}=\\prod_{n=1}^{N}e^{-iH_{n}t}+\\mathcal{A}=U_{T}(t)+\\mathcal{A}\n",
    "$$\n",
    "where $H=\\sum_{n}H_{n}$ and $H_{n}$ can be classically diagonalized for all $n$. The deviation of the Trotterized evolution operator from the exact one $U_{T}(t)-U(t)=\\mathcal{A}$ can be quantified in terms of its spectral norm:\n",
    "$$\n",
    "|| \\mathcal{A}||=\\alpha t^{2}+\\mathcal{O}(t^{3})\n",
    "$$\n",
    "$$\n",
    "\\alpha=\\sum_{i,j}|| [H_{i},H_{j}]||\n",
    "$$\n",
    "It has been shown in the literature (see for instance [PNAS **29**, 7555 (2017)](https://www.pnas.org/doi/abs/10.1073/pnas.1619152114), [Quantum **4**, 296 (2020)](https://quantum-journal.org/papers/q-2020-07-16-296/)) that the Trotter error $\\alpha$ is an important figure of merit to quantify an upper-bound estimation of the error incurred in estimation of energy eigenvalues within a QPE framework, which ultimately determines the resources needed to build a quantum computer able to compute energy eigenvalues within a target error."
   ]
  },
  {
   "cell_type": "markdown",
   "id": "3b358800",
   "metadata": {},
   "source": [
    "# Trotter error for grouping techniques of molecular electronic Hamiltonians"
   ]
  },
  {
   "cell_type": "markdown",
   "id": "d53c5f5a",
   "metadata": {},
   "source": [
    "For potential applications of quantum computers in quantum chemistry, we have the calculation of energy eigenvalues of molecular electronic Hamiltonians, which in second-quantized form are given by\n",
    "$$\n",
    "H_{el}=\\sum_{pq}h_{pq}a^{\\dagger}_{p}a_{q}+\\sum_{pqrs}g_{pqrs}a^{\\dagger}_{p}a_{q}a^{\\dagger}_{r}a_{s}\n",
    "$$\n",
    "$a_{p}$ ($a^{\\dagger}_{p}$) being the annhilitation (creation) fermionic operator that acts on the $p$th fermionic mode (molecular orbital). Considering an estimation of energy eigenvalues with QPE and the Trotter approximation, our first task is to decompose the electronic Hamiltonian into classically diagonalizable (or fast-forwardable) Hamiltonian fragments. \n"
   ]
  },
  {
   "cell_type": "markdown",
   "id": "eedcd575",
   "metadata": {},
   "source": [
    "Once these Hamiltonian fragments are found, we can use Tequila to compute $\\alpha$ and compare the performance of different Hamiltonian decomposition techniques for test systems. Smaller $\\alpha$'s imply smaller (worst-case scenario) scaling of error in phase estimation with circuit depth. Thus, it is a signature of calculation speedup in a quantum computer and a more resource-efficient quantum circuit."
   ]
  },
  {
   "cell_type": "markdown",
   "id": "7c2f68bf",
   "metadata": {},
   "source": [
    "Below we show how to perform a partition of the Hamiltonian using three techniques, namely Fully-Commuting grouping ([JCTC **16**, 2400 (2020)](https://pubs.acs.org/doi/10.1021/acs.jctc.0c00008)) using the so-called Largest-First (FC-LF) and Sorted-Insertion (FC-SI) heuristics; and Low-Rank (LR) factorization technique ([npj Quantum Information **7**, 83 (2021)](https://www.nature.com/articles/s41534-021-00416-z))."
   ]
  },
  {
   "cell_type": "code",
   "execution_count": 3,
   "id": "f3bdc053",
   "metadata": {},
   "outputs": [],
   "source": [
    "from tequila.trotter_err.main_trot import EstTrotErr\n",
    "import numpy as np\n",
    "import tequila as tq\n",
    "from tequila.hamiltonian import QubitHamiltonian, PauliString\n",
    "from tequila.grouping.binary_rep import BinaryPauliString, BinaryHamiltonian\n",
    "from tequila.grouping.fermionic_methods import do_svd\n",
    "from tequila.grouping.fermionic_functions import obt_to_ferm, convert_tbts_to_frags\n",
    "from tequila.grouping.fermionic_functions import n_elec\n",
    "import openfermion"
   ]
  },
  {
   "cell_type": "code",
   "execution_count": 18,
   "id": "748c5542",
   "metadata": {},
   "outputs": [],
   "source": [
    "def build_toymol():\n",
    "    '''\n",
    "    Build the qubit Hamiltonian with Jordan Wigner encoding for H2 at a particular geometry.\n",
    "    '''\n",
    "\n",
    "    trafo = \"JordanWigner\"\n",
    "    mol = tq.chemistry.Molecule(\n",
    "                            geometry=\"H 0.0 0.0 0.0 \\n H 0.0 0.0 1.0\",\n",
    "                            basis_set=\"sto3g\",\n",
    "                            transformation=trafo,\n",
    "                            backend='pyscf'\n",
    "                                 )\n",
    "    H = mol.make_hamiltonian()\n",
    "    \n",
    "    Hferm = mol.make_molecular_hamiltonian()\n",
    "    \n",
    "    return H,openfermion.get_fermion_operator(Hferm)\n",
    "\n",
    "def get_fclf(H):\n",
    "    '''\n",
    "    Get the Hamiltonian fragments under the qubit FC-LF partition method, as explained in JCTC 16, 2400 (2020))\n",
    "    '''\n",
    "    \n",
    "    Hbin = BinaryHamiltonian.init_from_qubit_hamiltonian(H)\n",
    "    options={\"method\":\"lf\", \"condition\": \"fc\"}\n",
    "    \n",
    "    commuting_parts, _ = Hbin.commuting_groups(options=options)\n",
    "    print(\"Number of FC-LF groups: {}\".format(len(commuting_parts)))\n",
    "    \n",
    "    ListFrags=[]\n",
    "\n",
    "    for i in range(len(commuting_parts)):\n",
    "        tqqubFrag=commuting_parts[i].to_qubit_hamiltonian()\n",
    "        ListFrags.append(tqqubFrag.to_openfermion())\n",
    "        \n",
    "    return ListFrags\n",
    "\n",
    "def get_fcsi(H):\n",
    "    '''\n",
    "    Get the Hamiltonian fragments under the qubit FC-SI partition method, as explained in JCTC 16, 2400 (2020))\n",
    "    '''\n",
    "    \n",
    "    Hbin = BinaryHamiltonian.init_from_qubit_hamiltonian(H)\n",
    "    options={\"method\":\"si\", \"condition\": \"fc\"}\n",
    "    \n",
    "    commuting_parts, _ = Hbin.commuting_groups(options=options)\n",
    "    print(\"Number of FC-SI groups: {}\".format(len(commuting_parts)))\n",
    "    \n",
    "    ListFrags=[]\n",
    "\n",
    "    for i in range(len(commuting_parts)):\n",
    "        tqqubFrag=commuting_parts[i].to_qubit_hamiltonian()\n",
    "        ListFrags.append(tqqubFrag.to_openfermion())\n",
    "        \n",
    "    return ListFrags\n",
    "\n",
    "#set opf routines to get LR fragments...\n",
    "def cartan_to_fermionic_operator(cobt, ctbts, orb_rot):\n",
    "    '''\n",
    "    Turn Hamiltonian fragments in their diagonal form into OpenFermion's FermionOperator.\n",
    "    '''\n",
    "    obt = np.einsum(\"pa, qb, ab\", orb_rot[0], orb_rot[0], cobt)\n",
    "    tbts = np.einsum(\"ipa, iqb, irc, isd, iabcd -> ipqrs\", \n",
    "                     orb_rot[1:], orb_rot[1:], orb_rot[1:], orb_rot[1:], ctbts)\n",
    "    ferm_ops = [obt_to_ferm(obt,True)] + convert_tbts_to_frags(tbts, True)\n",
    "    return ferm_ops\n",
    "\n",
    "def get_LR(Hferm,name=\"h2\"):\n",
    "    '''\n",
    "    Get Low-Rank Hamiltonian fragments, according to the technique outlined in npj Quantum Information 7, 83 (2021)\n",
    "    '''\n",
    "    \n",
    "    orb_rots, cartan_obt, cartan_tbts, meas_alloc = do_svd(Hferm, n_elec(name))\n",
    "    \n",
    "    ferm_ops = cartan_to_fermionic_operator(cartan_obt, cartan_tbts, orb_rots)\n",
    "    \n",
    "    return ferm_ops\n"
   ]
  },
  {
   "cell_type": "code",
   "execution_count": 19,
   "id": "f292c091",
   "metadata": {},
   "outputs": [],
   "source": [
    "nqubs=openfermion.count_qubits(Hferm)"
   ]
  },
  {
   "cell_type": "code",
   "execution_count": 20,
   "id": "21ca628f",
   "metadata": {},
   "outputs": [
    {
     "name": "stdout",
     "output_type": "stream",
     "text": [
      "converged SCF energy = -1.06610864931794\n",
      "Number of FC-LF groups: 2\n",
      "Number of FC-SI groups: 2\n",
      "Starting SVD routine\n",
      "Diagonalizing two-body tensor\n",
      "Truncating SVD for coefficients with magnitude smaller or equal to 2.7755575615628914e-17, using 3 fragments\n",
      "Finished SVD routine\n",
      "Allocating measurements\n"
     ]
    }
   ],
   "source": [
    "#Build the toy molecule and compute FC-SI, FC-LF and LR Hamiltonian fragments.\n",
    "Hq,Hferm=build_toymol()\n",
    "\n",
    "FCLFFrags=get_fclf(Hq)\n",
    "\n",
    "FCSIFrags=get_fcsi(Hq)\n",
    "\n",
    "LRFrags=get_LR(Hferm)"
   ]
  },
  {
   "cell_type": "code",
   "execution_count": 25,
   "id": "1c3f938e",
   "metadata": {},
   "outputs": [
    {
     "data": {
      "text/plain": [
       "0.4211769529694661"
      ]
     },
     "execution_count": 25,
     "metadata": {},
     "output_type": "execute_result"
    }
   ],
   "source": [
    "#Calculation of Trotter error for FC-LF fragments:\n",
    "EstTrotErr(FCLFFrags,nqubs)"
   ]
  },
  {
   "cell_type": "code",
   "execution_count": 26,
   "id": "0f4844b9",
   "metadata": {},
   "outputs": [
    {
     "data": {
      "text/plain": [
       "0.42117695296946633"
      ]
     },
     "execution_count": 26,
     "metadata": {},
     "output_type": "execute_result"
    }
   ],
   "source": [
    "#Calculation of Trotter error for FC-SI fragments:\n",
    "EstTrotErr(FCSIFrags,nqubs)"
   ]
  },
  {
   "cell_type": "code",
   "execution_count": 24,
   "id": "480547e1",
   "metadata": {},
   "outputs": [
    {
     "data": {
      "text/plain": [
       "0.42178077369380856"
      ]
     },
     "execution_count": 24,
     "metadata": {},
     "output_type": "execute_result"
    }
   ],
   "source": [
    "#Calculation of Trotter error for LR fragments\n",
    "EstTrotErr(LRFrags,nqubs)"
   ]
  },
  {
   "cell_type": "markdown",
   "id": "79e15698",
   "metadata": {},
   "source": [
    "# Use of symmetries for Trotter error calculation"
   ]
  },
  {
   "cell_type": "markdown",
   "id": "a95139af",
   "metadata": {},
   "source": [
    "We can leverage symmetries featured by molecular electronic Hamiltonians to carry out tighter estimations of Trotter error. The motivation is that in practice, unitary time propagation can be performed on an initial state belonging to one of the symmetry group irreducible representations. Thus, Trotter error can be estimated by considering only the subspace of the total Hilbert space corresponding to the irreducible representation of interest.\n"
   ]
  },
  {
   "cell_type": "markdown",
   "id": "673c401f",
   "metadata": {},
   "source": [
    "For concreteness, we define, for a Hamiltonian decomposition of the form \n",
    "$$\n",
    "H=\\sum_{n}H_{n}\n",
    "$$\n",
    "and a set of M observables $\\{O_{m}\\}$ that satisfy $[H_{n},O_{m}]=0$, $\\forall n,m$, a symmetry-projected Trotter error:\n",
    "$$\n",
    "\\alpha_{\\mathbf{Q}}=\\sum_{n,m}||[H_{n},H_{m}]||_{\\mathbf{Q}}\n",
    "$$\n",
    "where $||[H_{n},H_{m}]||_{\\mathbf{Q}}=||[H_{n},H_{m}]\\mathcal{P}^{q_{1}}_{1}\\mathcal{P}^{q_{2}}_{2}\\cdots\\mathcal{P}^{q_{M}}_{M}||$, $\\mathcal{P}^{q_{i}}_{i}$ being the projector to the manifold spanned by eigenvectors of $O_{i}$ with eigenvalue $q_{i}$."
   ]
  },
  {
   "cell_type": "markdown",
   "id": "87794976",
   "metadata": {},
   "source": [
    "In Tequila, we have implemented tools for the calculation of $\\alpha_{\\mathbf{Q}}$."
   ]
  },
  {
   "cell_type": "markdown",
   "id": "fd992cb6",
   "metadata": {},
   "source": [
    "# <font size=\"4\"> a) Fermionic-based Hamiltonian decomposition.</font>"
   ]
  },
  {
   "cell_type": "markdown",
   "id": "d5af29f1",
   "metadata": {},
   "source": [
    "We can build fast-forwardable Hamiltonian fragments that preserve symmetries of the total Hamiltonian such as particle-number and spin. In fact there are methods of Hamiltonian decomposition, based on its second-quantized form, that yield fragments featuring those symmetries, such as the so-called Low-Rank factorization ([npj Quantum Information **7**, 83 (2021)](https://www.nature.com/articles/s41534-021-00416-z)), and its generalization ([PRX Quantum **2**, 040320 (2021)](https://journals.aps.org/prxquantum/abstract/10.1103/PRXQuantum.2.040320)). \n"
   ]
  },
  {
   "cell_type": "markdown",
   "id": "960185d8",
   "metadata": {},
   "source": [
    "Below, we show how to compute $\\alpha_{\\mathbf{Q}}$ for the Low-Rank factorization technique, using particle number and spin symmetries."
   ]
  },
  {
   "cell_type": "code",
   "execution_count": 81,
   "id": "61303f31",
   "metadata": {},
   "outputs": [],
   "source": [
    "def BuildNumSpinOps(nqubs):\n",
    "    #Build the number and spin fermionic operators...\n",
    "    norb=nqubs//2\n",
    "    # Sx \n",
    "    Sx = openfermion.hamiltonians.sx_operator(norb)\n",
    "    # Sy\n",
    "    Sy =  openfermion.hamiltonians.sy_operator(norb)\n",
    "    # Sz\n",
    "    Sz = openfermion.hamiltonians.sz_operator(norb)\n",
    "    # N\n",
    "    # S squared operator\n",
    "    S_sq = Sx**2+Sy**2+Sz**2\n",
    "    Nop = openfermion.hamiltonians.number_operator(nqubs)\n",
    "    \n",
    "    return Nop,S_sq,Sz"
   ]
  },
  {
   "cell_type": "code",
   "execution_count": 84,
   "id": "b12a64d5",
   "metadata": {},
   "outputs": [
    {
     "data": {
      "text/plain": [
       "0.21089038684690425"
      ]
     },
     "execution_count": 84,
     "metadata": {},
     "output_type": "execute_result"
    }
   ],
   "source": [
    "DictFerm={}\n",
    "\n",
    "#We store operators and associated eigenvalues in a dictionary.\n",
    "Nop,S_sq,Sz=BuildNumSpinOps(nqubs)\n",
    "DictFerm['SymOps']=[Nop,S_sq,Sz]\n",
    "DictFerm['QNumbs']=[2,0,0] #eigenvalues of the particle-number, S^{2} and S_{z} that define the manifold the Trotter\n",
    "                            #error is projected on\n",
    "\n",
    "EstTrotErr(LRFrags, nqubs, SymDict=DictSym)"
   ]
  },
  {
   "cell_type": "code",
   "execution_count": null,
   "id": "0ca11b59",
   "metadata": {},
   "outputs": [],
   "source": []
  },
  {
   "cell_type": "markdown",
   "id": "2e5038a6",
   "metadata": {},
   "source": [
    "# <font size=\"4\"> a) Qubit-based Hamiltonian decomposition.</font>"
   ]
  },
  {
   "cell_type": "markdown",
   "id": "2c0c1407",
   "metadata": {},
   "source": [
    "Similarly, for methods based on the decomposition of the Hamiltonian in its qubit encoding, it is possible to find qubit symmetries that commute with all Hamiltonian fragments afforded by a qubit-based decomposition. We can use a classically efficient technique based on qubit tapering (https://arxiv.org/abs/1701.08213) to find single Pauli product symmetries, which constitute a subset of all possible qubit symmetries that commute with Hamiltonian fragments."
   ]
  },
  {
   "cell_type": "code",
   "execution_count": 79,
   "id": "849fc190",
   "metadata": {},
   "outputs": [],
   "source": [
    "#We import the function that finds qubit symmetries..\n",
    "from tequila.trotter_err.qubtap_utils import GetQubSymsandEigs"
   ]
  },
  {
   "cell_type": "code",
   "execution_count": 80,
   "id": "43a8d0b3",
   "metadata": {},
   "outputs": [
    {
     "data": {
      "text/plain": [
       "0.21058847648473317"
      ]
     },
     "execution_count": 80,
     "metadata": {},
     "output_type": "execute_result"
    }
   ],
   "source": [
    "SymOps,EigSyms=GetQubSymsandEigs(Hq,4)\n",
    "\n",
    "#Symmetries are stored in a dictionary for calculation of Trotter error...\n",
    "DictSym={}\n",
    "DictSym['SymOps']=SymOps \n",
    "DictSym['QNumbs']=EigSyms #these are the eigenvalues of the qubit symmetry operators associated to the\n",
    "                          #ground state of the Hamiltonian\n",
    "\n",
    "#We use the FCSI Hamiltonian fragments found above, and compute Trotter error using symmetries\n",
    "EstTrotErr(FCSIFrags, nqubs, SymDict=DictSym)"
   ]
  },
  {
   "cell_type": "markdown",
   "id": "84b23269",
   "metadata": {},
   "source": [
    "An assessment and analysis of various Hamiltonian decomposition techniques in terms of their associated Trotter error using the tools presented in this tutorial can be found in (https://arxiv.org/abs/2210.10189). Script tests/testTrotErr.py computes Trotter errors for molecules and methods explored in that work."
   ]
  },
  {
   "cell_type": "markdown",
   "id": "f473d2ab",
   "metadata": {},
   "source": [
    "# Trotter errors for different molecules and partition methods"
   ]
  },
  {
   "cell_type": "markdown",
   "id": "8e8479a8",
   "metadata": {},
   "source": [
    "Here, we show the calculation of upper bound estimations for Trotter error for H2 and LiH, using pre-computed Hamiltonian partitionings"
   ]
  },
  {
   "cell_type": "code",
   "execution_count": 49,
   "id": "7b501262",
   "metadata": {},
   "outputs": [],
   "source": [
    "import pickle\n",
    "from tequila.trotter_err.qubtap_utils import GetQubSymsandEigs\n",
    "import pandas as pd\n",
    "from matplotlib import pyplot as plt\n",
    "\n"
   ]
  },
  {
   "cell_type": "code",
   "execution_count": 50,
   "id": "51cc56f6",
   "metadata": {},
   "outputs": [],
   "source": [
    "path_Frags='./Frag_Lib/'\n",
    "path_Hams='./ham_lib/'\n"
   ]
  },
  {
   "cell_type": "code",
   "execution_count": 51,
   "id": "9d0484dd",
   "metadata": {},
   "outputs": [],
   "source": [
    "def loadFrags(mol,meth,path_Frags=path_Frags):\n",
    "    '''\n",
    "    Utility to load pre-calculated fragments.\n",
    "    Input: mol, string for name of molecule. It can be either h2,lih,beh2,h2o,nh3\n",
    "    meth: name of Hamiltonian partition method.\n",
    "    path_Frags: path to location where Hamiltonian fragments are stored.\n",
    "    '''\n",
    "    #FileName=path_Frags+meth+'/'+mol+'_'+meth+'Frags'\n",
    "    FileName=path_Frags+meth+'/'+mol+'_'+meth+'FiltFrags'\n",
    "    f=open(FileName,'rb')\n",
    "    dat=pickle.load(f)\n",
    "\n",
    "    nqubs=dat['n_qubits']\n",
    "    Frags=dat['grouping']\n",
    "\n",
    "    f.close()\n",
    "\n",
    "    return nqubs,Frags\n",
    "\n",
    "def load_hamiltonian(mol_name,pathham=path_Hams):\n",
    "\n",
    "    with open(pathham + mol_name + '_fer.bin', 'rb') as f:\n",
    "        Hf = pickle.load(f)\n",
    "\n",
    "    return Hf\n",
    "\n",
    "def BuildNumSpinOps(nqubs):\n",
    "    #Build the number and spin fermionic operators...\n",
    "    norb=nqubs//2\n",
    "    # Sx\n",
    "    Sx = openfermion.hamiltonians.sx_operator(norb)\n",
    "    # Sy\n",
    "    Sy =  openfermion.hamiltonians.sy_operator(norb)\n",
    "    # Sz\n",
    "    Sz = openfermion.hamiltonians.sz_operator(norb)\n",
    "    # N\n",
    "    # S squared operator\n",
    "    S_sq = Sx**2+Sy**2+Sz**2\n",
    "    Nop = openfermion.hamiltonians.number_operator(nqubs)\n",
    "\n",
    "    return Nop,S_sq,Sz\n",
    "\n"
   ]
  },
  {
   "cell_type": "code",
   "execution_count": null,
   "id": "c8233dff",
   "metadata": {},
   "outputs": [],
   "source": [
    "\n",
    "mols=['h2','lih']\n",
    "Dictnelecs={}\n",
    "Dictnelecs['h2']=2\n",
    "Dictnelecs['lih']=4\n",
    "\n",
    "meths=['FC-SI','LR','LR-LCU','GFRO','GFROLCU','SD-GFRO','FRO','FC-LF']\n",
    "\n",
    "GlobDict={}\n",
    "GlobDict['mol']=[]\n",
    "GlobDict['nqubs']=[]\n",
    "GlobDict['method']=[]\n",
    "GlobDict['Nfrags']=[]\n",
    "GlobDict['alpha']=[]\n",
    "GlobDict['sym_alpha']=[]\n",
    "\n",
    "\n",
    "for mol in mols:\n",
    "    for meth in meths:\n",
    "\n",
    "        hferm=load_hamiltonian(mol)\n",
    "\n",
    "        nqubs,Frags=loadFrags(mol,meth)\n",
    "        print(\"Current molecule:\",mol)\n",
    "        print(\"Current method:\",meth)\n",
    "        #'Bare' trotter errors...\n",
    "        alpha_2=EstTrotErr(Frags, nqubs)\n",
    "\n",
    "        #symmetry-projected results...\n",
    "        if meth=='FC-SI':\n",
    "            bkHam=openfermion.bravyi_kitaev(hferm)\n",
    "            tq_bkHam=QubitHamiltonian.from_openfermion(bkHam)\n",
    "\n",
    "            SymOps,EigSyms=GetQubSymsandEigs(tq_bkHam,nqubs)\n",
    "\n",
    "            DictSym={}\n",
    "            DictSym['SymOps']=SymOps\n",
    "            DictSym['QNumbs']=EigSyms\n",
    "\n",
    "        else:\n",
    "            DictSym={}\n",
    "            nelec=Dictnelecs[mol]\n",
    "            Nop,S_sq,Sz=BuildNumSpinOps(nqubs)\n",
    "            DictSym['SymOps']=[Nop,S_sq,Sz]\n",
    "            DictSym['QNumbs']=[nelec,0,0]\n",
    "\n",
    "        alpha_2_sym=EstTrotErr(Frags, nqubs, SymDict=DictSym)\n",
    "\n",
    "        GlobDict['mol'].append(mol)\n",
    "        GlobDict['method'].append(meth)\n",
    "        GlobDict['nqubs'].append(nqubs)\n",
    "        GlobDict['Nfrags'].append(len(Frags))\n",
    "        GlobDict['alpha'].append(alpha_2)\n",
    "        GlobDict['sym_alpha'].append(alpha_2_sym)\n",
    "\n",
    "pdResults=pd.DataFrame(GlobDict)\n",
    "\n",
    "\n",
    "width = 0.8\n",
    "Nmols=len(mols)\n",
    "indices = np.arange(Nmols)\n",
    "\n",
    "#xticks=[r'H$_2$','LiH',r'BeH$_{2}$',r'H$_{2}$O',r'NH$_{3}$']\n",
    "xticks=mols\n",
    "\n",
    "#group results in two sets...\n",
    "Meths1=['FC-SI','LR','LR-LCU','GFRO','GFROLCU','SD-GFRO']\n",
    "Meths2=['FRO','FC-LF']\n",
    "\n",
    "fig, axs = plt.subplots(2, 2)\n",
    "#Plot 1...\n",
    "for meth in Meths2:\n",
    "    meth_rows=pdResults.loc[pdResults['method'] == meth]\n",
    "\n",
    "    axs[0,0].scatter(np.arange(Nmols),meth_rows['alpha'],label=meth)\n",
    "    axs[0,0].plot(np.arange(Nmols),meth_rows['alpha'])\n",
    "\n",
    "\n",
    "axs[0, 0].set_xticks(np.arange(Nmols))\n",
    "axs[0, 0].set_xticklabels(xticks,fontsize=12)\n",
    "\n",
    "\n",
    "axs[0,0].legend(fontsize=4,loc='upper left')\n",
    "axs[0,0].set_title('Trotter errors',fontsize=12)\n",
    "axs[0,0].set_ylabel(r'$\\alpha$',fontsize=18)\n",
    "\n",
    "\n",
    "#Plot 2...\n",
    "for meth in Meths1:\n",
    "    meth_rows=pdResults.loc[pdResults['method'] == meth]\n",
    "\n",
    "    axs[1,0].scatter(np.arange(Nmols),meth_rows['alpha'],label=meth)\n",
    "    axs[1,0].plot(np.arange(Nmols),meth_rows['alpha'])\n",
    "\n",
    "axs[1, 0].set_xticks(np.arange(Nmols))\n",
    "axs[1, 0].set_xticklabels(xticks,fontsize=12)\n",
    "\n",
    "\n",
    "axs[1,0].legend(fontsize=4,loc='upper left')\n",
    "axs[1,0].set_title('Trotter errors',fontsize=12)\n",
    "axs[1,0].set_ylabel(r'$\\alpha$',fontsize=18)\n",
    "\n",
    "#Plot 3...\n",
    "for meth in Meths2:\n",
    "    meth_rows=pdResults.loc[pdResults['method'] == meth]\n",
    "\n",
    "    axs[0,1].scatter(np.arange(Nmols),meth_rows['sym_alpha'],label=meth)\n",
    "    axs[0,1].plot(np.arange(Nmols),meth_rows['sym_alpha'])\n",
    "\n",
    "\n",
    "axs[0, 1].set_xticks(np.arange(Nmols))\n",
    "axs[0, 1].set_xticklabels(xticks,fontsize=12)\n",
    "\n",
    "axs[0,1].legend(fontsize=4,loc='upper left')\n",
    "axs[0,1].set_title('Symmetry Projected Trotter errors',fontsize=10)\n",
    "axs[0,1].set_ylabel(r'$\\alpha$',fontsize=18)\n",
    "\n",
    "#Plot 4...\n",
    "for meth in Meths1:\n",
    "    meth_rows=pdResults.loc[pdResults['method'] == meth]\n",
    "\n",
    "    axs[1,1].scatter(np.arange(Nmols),meth_rows['sym_alpha'],label=meth)\n",
    "    axs[1,1].plot(np.arange(Nmols),meth_rows['sym_alpha'])\n",
    "\n",
    "\n",
    "axs[1, 1].set_xticks(np.arange(Nmols))\n",
    "axs[1, 1].set_xticklabels(xticks,fontsize=12)\n",
    "\n",
    "\n",
    "axs[1,1].legend(fontsize=4,loc='upper left')\n",
    "axs[1,1].set_title('Symmetry Projected Trotter errors',fontsize=10)\n",
    "axs[1,1].set_ylabel(r'$\\alpha$',fontsize=18)\n",
    "\n",
    "\n",
    "\n",
    "fig.tight_layout()\n",
    "#plt.savefig(\"./AlphasPlots.pdf\",bbox_inches='tight', dpi=150)\n",
    "plt.show()"
   ]
  },
  {
   "cell_type": "code",
   "execution_count": null,
   "id": "5ba8b2d4",
   "metadata": {},
   "outputs": [],
   "source": []
  },
  {
   "cell_type": "code",
   "execution_count": null,
   "id": "c0208384",
   "metadata": {},
   "outputs": [],
   "source": []
  },
  {
   "cell_type": "code",
   "execution_count": null,
   "id": "1d156e0c",
   "metadata": {},
   "outputs": [],
   "source": []
  },
  {
   "cell_type": "code",
   "execution_count": null,
   "id": "455a267e",
   "metadata": {},
   "outputs": [],
   "source": []
  },
  {
   "cell_type": "code",
   "execution_count": null,
   "id": "8e55d4b8",
   "metadata": {},
   "outputs": [],
   "source": []
  }
 ],
 "metadata": {
  "kernelspec": {
   "display_name": "Python 3",
   "language": "python",
   "name": "python3"
  },
  "language_info": {
   "codemirror_mode": {
    "name": "ipython",
    "version": 3
   },
   "file_extension": ".py",
   "mimetype": "text/x-python",
   "name": "python",
   "nbconvert_exporter": "python",
   "pygments_lexer": "ipython3",
   "version": "3.8.12"
  }
 },
 "nbformat": 4,
 "nbformat_minor": 5
}

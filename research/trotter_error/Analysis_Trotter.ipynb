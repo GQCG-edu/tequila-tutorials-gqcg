{
 "cells": [
  {
   "cell_type": "markdown",
   "id": "e13354ea",
   "metadata": {},
   "source": [
    "# Unitary propagator Error estimation for first-order Trotter formulas"
   ]
  },
  {
   "cell_type": "markdown",
   "id": "ed8cf80f",
   "metadata": {},
   "source": [
    "Hamiltonian unitary evolution is part of the Quantum Phase Estimation (QPE) algorithm for calculation of energy eigenvalues of a target Hamiltonian $H$, in a digital quantum computer. In practice, given the classically intractable diagonalization of $H$, approximations are need for the implementation of the unitary time evolution operator. One of these common approximations is the (so-called first order) Trotter approximation:\n",
    "$$\n",
    "U(t)=e^{-iHt}=\\prod_{n=1}^{N}e^{-iH_{n}t}+\\mathcal{A}=U_{T}(t)+\\mathcal{A}\n",
    "$$\n",
    "where $H=\\sum_{n}H_{n}$ and $H_{n}$ can be classically diagonalized for all $n$. The deviation of the Trotterized evolution operator from the exact one $U_{T}(t)-U(t)=\\mathcal{A}$ can be quantified in terms of its spectral norm:\n",
    "$$\n",
    "|| \\mathcal{A}||=\\alpha t^{2}+\\mathcal{O}(t^{3})\n",
    "$$\n",
    "$$\n",
    "\\alpha=\\sum_{i,j}|| [H_{i},H_{j}]||\n",
    "$$\n",
    "It has been shown in the literature (see for instance [PNAS **29**, 7555 (2017)](https://www.pnas.org/doi/abs/10.1073/pnas.1619152114), [Quantum **4**, 296 (2020)](https://quantum-journal.org/papers/q-2020-07-16-296/)) that the Trotter error $\\alpha$ is an important figure of merit to quantify an upper-bound estimation of the error incurred in estimation of energy eigenvalues within a QPE framework, which ultimately determines the resources needed to build a quantum computer able to compute energy eigenvalues within a target error."
   ]
  },
  {
   "cell_type": "markdown",
   "id": "3b358800",
   "metadata": {},
   "source": [
    "# Trotter error for grouping techniques of molecular electronic Hamiltonians"
   ]
  },
  {
   "cell_type": "markdown",
   "id": "d53c5f5a",
   "metadata": {},
   "source": [
    "For potential applications of quantum computers in quantum chemistry, we have the calculation of energy eigenvalues of molecular electronic Hamiltonians, which in second-quantized form are given by\n",
    "$$\n",
    "H_{el}=\\sum_{pq}h_{pq}a^{\\dagger}_{p}a_{q}+\\sum_{pqrs}g_{pqrs}a^{\\dagger}_{p}a_{q}a^{\\dagger}_{r}a_{s}\n",
    "$$\n",
    "$a_{p}$ ($a^{\\dagger}_{p}$) being the annhilitation (creation) fermionic operator that acts on the $p$th fermionic mode (molecular orbital). Considering an estimation of energy eigenvalues with QPE and the Trotter approximation, our first task is to decompose the electronic Hamiltonian into classically diagonalizable (or fast-forwardable) Hamiltonian fragments. \n"
   ]
  },
  {
   "cell_type": "markdown",
   "id": "eedcd575",
   "metadata": {},
   "source": [
    "Once these Hamiltonian fragments are found, we can use Tequila to compute $\\alpha$ and compare the performance of different Hamiltonian decomposition techniques for test systems. Smaller $\\alpha$'s imply smaller (worst-case scenario) scaling of error in phase estimation with circuit depth. Thus, it is a signature of calculation speedup in a quantum computer and a more resource-efficient quantum circuit."
   ]
  },
  {
   "cell_type": "markdown",
   "id": "7c2f68bf",
   "metadata": {},
   "source": [
    "Below we show how to perform a partition of the Hamiltonian using three techniques, namely Fully-Commuting grouping ([JCTC **16**, 2400 (2020)](https://pubs.acs.org/doi/10.1021/acs.jctc.0c00008)) using the so-called Largest-First (FC-LF) and Sorted-Insertion (FC-SI) heuristics; and Low-Rank (LR) factorization technique ([npj Quantum Information **7**, 83 (2021)](https://www.nature.com/articles/s41534-021-00416-z))."
   ]
  },
  {
   "cell_type": "code",
   "execution_count": 65,
   "id": "3f886e1f",
   "metadata": {},
   "outputs": [],
   "source": [
    "from tequila.trotter_err.main_trot import EstTrotErr\n",
    "import numpy as np\n",
    "import tequila as tq\n",
    "from tequila.hamiltonian import QubitHamiltonian, PauliString\n",
    "from tequila.grouping.binary_rep import BinaryPauliString, BinaryHamiltonian\n",
    "from tequila.grouping.fermionic_methods import do_svd\n",
    "from tequila.grouping.fermionic_functions import obt_to_ferm, convert_tbts_to_frags\n",
    "from tequila.grouping.fermionic_functions import n_elec\n",
    "import openfermion"
   ]
  },
  {
   "cell_type": "code",
   "execution_count": 85,
   "id": "748c5542",
   "metadata": {},
   "outputs": [],
   "source": [
    "def build_toymol():\n",
    "    '''\n",
    "    Build the qubit Hamiltonian with Bravyi-Kitaev encoding for H2 at a particular geometry.\n",
    "    '''\n",
    "\n",
    "    trafo = \"JordanWigner\"\n",
    "    mol = tq.chemistry.Molecule(\n",
    "                            geometry=\"H 0.0 0.0 0.0 \\n H 0.0 0.0 1.0\",\n",
    "                            basis_set=\"sto3g\",\n",
    "                            transformation=trafo,\n",
    "                            backend='pyscf'\n",
    "                                 )\n",
    "    H = mol.make_hamiltonian()\n",
    "    \n",
    "    Hq = H.to_openfermion()\n",
    "    Hferm = openfermion.reverse_jordan_wigner(Hq)\n",
    "    \n",
    "    return H,Hferm\n",
    "\n",
    "def get_fclf(H):\n",
    "    '''\n",
    "    Get the Hamiltonian fragments under the qubit FC-LF partition method, as explained in JCTC 16, 2400 (2020))\n",
    "    '''\n",
    "    \n",
    "    Hbin = BinaryHamiltonian.init_from_qubit_hamiltonian(H)\n",
    "    options={\"method\":\"lf\", \"condition\": \"fc\"}\n",
    "    \n",
    "    commuting_parts, _ = Hbin.commuting_groups(options=options)\n",
    "    print(\"Number of FC-LF groups: {}\".format(len(commuting_parts)))\n",
    "    \n",
    "    ListFrags=[]\n",
    "\n",
    "    for i in range(len(commuting_parts)):\n",
    "        tqqubFrag=commuting_parts[i].to_qubit_hamiltonian()\n",
    "        ListFrags.append(tqqubFrag.to_openfermion())\n",
    "        \n",
    "    return ListFrags\n",
    "\n",
    "def get_fcsi(H):\n",
    "    '''\n",
    "    Get the Hamiltonian fragments under the qubit FC-SI partition method, as explained in JCTC 16, 2400 (2020))\n",
    "    '''\n",
    "    \n",
    "    Hbin = BinaryHamiltonian.init_from_qubit_hamiltonian(H)\n",
    "    options={\"method\":\"si\", \"condition\": \"fc\"}\n",
    "    \n",
    "    commuting_parts, _ = Hbin.commuting_groups(options=options)\n",
    "    print(\"Number of FC-SI groups: {}\".format(len(commuting_parts)))\n",
    "    \n",
    "    ListFrags=[]\n",
    "\n",
    "    for i in range(len(commuting_parts)):\n",
    "        tqqubFrag=commuting_parts[i].to_qubit_hamiltonian()\n",
    "        ListFrags.append(tqqubFrag.to_openfermion())\n",
    "        \n",
    "    return ListFrags\n",
    "\n",
    "#set opf routines to get LR fragments...\n",
    "def cartan_to_fermionic_operator(cobt, ctbts, orb_rot):\n",
    "    '''\n",
    "    Turn Hamiltonian fragments in their diagonal form into OpenFermion's FermionOperator.\n",
    "    '''\n",
    "    obt = np.einsum(\"pa, qb, ab\", orb_rot[0], orb_rot[0], cobt)\n",
    "    tbts = np.einsum(\"ipa, iqb, irc, isd, iabcd -> ipqrs\", \n",
    "                     orb_rot[1:], orb_rot[1:], orb_rot[1:], orb_rot[1:], ctbts)\n",
    "    ferm_ops = [obt_to_ferm(obt,True)] + convert_tbts_to_frags(tbts, True)\n",
    "    return ferm_ops\n",
    "\n",
    "def get_LR(Hferm,name=\"h2\"):\n",
    "    '''\n",
    "    Get Low-Rank Hamiltonian fragments, according to the technique outlined in npj Quantum Information 7, 83 (2021)\n",
    "    '''\n",
    "    \n",
    "    orb_rots, cartan_obt, cartan_tbts, meas_alloc = do_svd(Hferm, n_elec(name))\n",
    "    \n",
    "    ferm_ops = cartan_to_fermionic_operator(cartan_obt, cartan_tbts, orb_rots)\n",
    "    \n",
    "    return ferm_ops\n"
   ]
  },
  {
   "cell_type": "code",
   "execution_count": 70,
   "id": "6439bc0d",
   "metadata": {},
   "outputs": [
    {
     "name": "stdout",
     "output_type": "stream",
     "text": [
      "converged SCF energy = -1.06610864931794\n",
      "Number of FC-LF groups: 2\n",
      "Number of FC-SI groups: 2\n",
      "Starting SVD routine\n",
      "Diagonalizing two-body tensor\n",
      "Truncating SVD for coefficients with magnitude smaller or equal to 1.3877787807814457e-17, using 3 fragments\n",
      "Finished SVD routine\n",
      "Allocating measurements\n"
     ]
    }
   ],
   "source": [
    "#Build the toy molecule and compute FC-SI, FC-LF and LR Hamiltonian fragments.\n",
    "Hq,Hferm=build_toymol()\n",
    "\n",
    "FCLFFrags=get_fclf(Hq)\n",
    "\n",
    "FCSIFrags=get_fcsi(Hq)\n",
    "\n",
    "LRFrags=get_LR(Hferm)\n",
    "\n",
    "\n"
   ]
  },
  {
   "cell_type": "code",
   "execution_count": 86,
   "id": "1c3f938e",
   "metadata": {},
   "outputs": [
    {
     "data": {
      "text/plain": [
       "0.210588476484733"
      ]
     },
     "execution_count": 86,
     "metadata": {},
     "output_type": "execute_result"
    }
   ],
   "source": [
    "#Calculation of Trotter error for FC-LF fragments:\n",
    "EstTrotErr(FCLFFrags,Hmol)"
   ]
  },
  {
   "cell_type": "code",
   "execution_count": 87,
   "id": "0f4844b9",
   "metadata": {},
   "outputs": [
    {
     "data": {
      "text/plain": [
       "0.2105884764847334"
      ]
     },
     "execution_count": 87,
     "metadata": {},
     "output_type": "execute_result"
    }
   ],
   "source": [
    "#Calculation of Trotter error for FC-SI fragments:\n",
    "EstTrotErr(FCSIFrags,Hmol)"
   ]
  },
  {
   "cell_type": "code",
   "execution_count": 88,
   "id": "480547e1",
   "metadata": {},
   "outputs": [
    {
     "data": {
      "text/plain": [
       "0.21089038684690423"
      ]
     },
     "execution_count": 88,
     "metadata": {},
     "output_type": "execute_result"
    }
   ],
   "source": [
    "#Calculation of Trotter error for LR fragments\n",
    "EstTrotErr(LRFrags,Hmol)"
   ]
  },
  {
   "cell_type": "markdown",
   "id": "79e15698",
   "metadata": {},
   "source": [
    "# Use of symmetries for Trotter error calculation"
   ]
  },
  {
   "cell_type": "markdown",
   "id": "a95139af",
   "metadata": {},
   "source": [
    "We can leverage symmetries featured by molecular electronic Hamiltonians to carry out tighter estimations of Trotter error. The motivation is that in practice, unitary time propagation can be performed on an initial state belonging to one of the symmetry group irreducible representations. Thus, Trotter error can be estimated by considering only the subspace of the total Hilbert space corresponding to the irreducible representation of interest.\n"
   ]
  },
  {
   "cell_type": "markdown",
   "id": "673c401f",
   "metadata": {},
   "source": [
    "For concreteness, we define, for a Hamiltonian decomposition of the form \n",
    "$$\n",
    "H=\\sum_{n}H_{n}\n",
    "$$\n",
    "and a set of M observables $\\{O_{m}\\}$ that satisfy $[H_{n},O_{m}]=0$, $\\forall n,m$, a symmetry-projected Trotter error:\n",
    "$$\n",
    "\\alpha_{\\mathbf{Q}}=\\sum_{n,m}||[H_{n},H_{m}]||_{\\mathbf{Q}}\n",
    "$$\n",
    "where $||[H_{n},H_{m}]||_{\\mathbf{Q}}=||[H_{n},H_{m}]\\mathcal{P}^{q_{1}}_{1}\\mathcal{P}^{q_{2}}_{2}\\cdots\\mathcal{P}^{q_{M}}_{M}||$, $\\mathcal{P}^{q_{i}}_{i}$ being the projector to the manifold spanned by eigenvectors of $O_{i}$ with eigenvalue $q_{i}$."
   ]
  },
  {
   "cell_type": "markdown",
   "id": "87794976",
   "metadata": {},
   "source": [
    "In Tequila, we have implemented tools for the calculation of $\\alpha_{\\mathbf{Q}}$."
   ]
  },
  {
   "cell_type": "markdown",
   "id": "fd992cb6",
   "metadata": {},
   "source": [
    "# <font size=\"4\"> a) Fermionic-based Hamiltonian decomposition.</font>"
   ]
  },
  {
   "cell_type": "markdown",
   "id": "d5af29f1",
   "metadata": {},
   "source": [
    "We can build fast-forwardable Hamiltonian fragments that preserve symmetries of the total Hamiltonian such as particle-number and spin. In fact there are methods of Hamiltonian decomposition, based on its second-quantized form, that yield fragments featuring those symmetries, such as the so-called Low-Rank factorization ([npj Quantum Information **7**, 83 (2021)](https://www.nature.com/articles/s41534-021-00416-z)), and its generalization ([PRX Quantum **2**, 040320 (2021)](https://journals.aps.org/prxquantum/abstract/10.1103/PRXQuantum.2.040320)). \n"
   ]
  },
  {
   "cell_type": "markdown",
   "id": "960185d8",
   "metadata": {},
   "source": [
    "Below, we show how to compute $\\alpha_{\\mathbf{Q}}$ for the Low-Rank factorization technique, using particle number and spin symmetries."
   ]
  },
  {
   "cell_type": "code",
   "execution_count": 81,
   "id": "61303f31",
   "metadata": {},
   "outputs": [],
   "source": [
    "def BuildNumSpinOps(nqubs):\n",
    "    #Build the number and spin fermionic operators...\n",
    "    norb=nqubs//2\n",
    "    # Sx \n",
    "    Sx = openfermion.hamiltonians.sx_operator(norb)\n",
    "    # Sy\n",
    "    Sy =  openfermion.hamiltonians.sy_operator(norb)\n",
    "    # Sz\n",
    "    Sz = openfermion.hamiltonians.sz_operator(norb)\n",
    "    # N\n",
    "    # S squared operator\n",
    "    S_sq = Sx**2+Sy**2+Sz**2\n",
    "    Nop = openfermion.hamiltonians.number_operator(nqubs)\n",
    "    \n",
    "    return Nop,S_sq,Sz"
   ]
  },
  {
   "cell_type": "code",
   "execution_count": 84,
   "id": "b12a64d5",
   "metadata": {},
   "outputs": [
    {
     "data": {
      "text/plain": [
       "0.21089038684690425"
      ]
     },
     "execution_count": 84,
     "metadata": {},
     "output_type": "execute_result"
    }
   ],
   "source": [
    "DictFerm={}\n",
    "\n",
    "#We store operators and associated eigenvalues in a dictionary.\n",
    "Nop,S_sq,Sz=BuildNumSpinOps(nqubs)\n",
    "DictFerm['SymOps']=[Nop,S_sq,Sz]\n",
    "DictFerm['QNumbs']=[2,0,0] #eigenvalues of the particle-number, S^{2} and S_{z} that define the manifold the Trotter\n",
    "                            #error is projected on\n",
    "\n",
    "EstTrotErr(LRFrags, nqubs, SymDict=DictSym)"
   ]
  },
  {
   "cell_type": "code",
   "execution_count": null,
   "id": "0ca11b59",
   "metadata": {},
   "outputs": [],
   "source": []
  },
  {
   "cell_type": "markdown",
   "id": "2e5038a6",
   "metadata": {},
   "source": [
    "# <font size=\"4\"> a) Qubit-based Hamiltonian decomposition.</font>"
   ]
  },
  {
   "cell_type": "markdown",
   "id": "2c0c1407",
   "metadata": {},
   "source": [
    "Similarly, for methods based on the decomposition of the Hamiltonian in its qubit encoding, it is possible to find qubit symmetries that commute with all Hamiltonian fragments afforded by a qubit-based decomposition. We can use a classically efficient technique based on qubit tapering (https://arxiv.org/abs/1701.08213) to find single Pauli product symmetries, which constitute a subset of all possible qubit symmetries that commute with Hamiltonian fragments."
   ]
  },
  {
   "cell_type": "code",
   "execution_count": 79,
   "id": "849fc190",
   "metadata": {},
   "outputs": [],
   "source": [
    "#We import the function that finds qubit symmetries..\n",
    "from tequila.trotter_err.qubtap_utils import GetQubSymsandEigs"
   ]
  },
  {
   "cell_type": "code",
   "execution_count": 80,
   "id": "43a8d0b3",
   "metadata": {},
   "outputs": [
    {
     "data": {
      "text/plain": [
       "0.21058847648473317"
      ]
     },
     "execution_count": 80,
     "metadata": {},
     "output_type": "execute_result"
    }
   ],
   "source": [
    "SymOps,EigSyms=GetQubSymsandEigs(Hq,4)\n",
    "\n",
    "#Symmetries are stored in a dictionary for calculation of Trotter error...\n",
    "DictSym={}\n",
    "DictSym['SymOps']=SymOps \n",
    "DictSym['QNumbs']=EigSyms #these are the eigenvalues of the qubit symmetry operators associated to the\n",
    "                          #ground state of the Hamiltonian\n",
    "\n",
    "#We use the FCSI Hamiltonian fragments found above, and compute Trotter error using symmetries\n",
    "EstTrotErr(FCSIFrags, nqubs, SymDict=DictSym)"
   ]
  },
  {
   "cell_type": "markdown",
   "id": "84b23269",
   "metadata": {},
   "source": [
    "An assessment and analysis of various Hamiltonian decomposition techniques in terms of their associated Trotter error using the tools presented in this tutorial can be found in (https://arxiv.org/abs/2210.10189)"
   ]
  },
  {
   "cell_type": "code",
   "execution_count": null,
   "id": "c6f4f7a8",
   "metadata": {},
   "outputs": [],
   "source": []
  },
  {
   "cell_type": "code",
   "execution_count": null,
   "id": "8e55d4b8",
   "metadata": {},
   "outputs": [],
   "source": []
  }
 ],
 "metadata": {
  "kernelspec": {
   "display_name": "Python 3",
   "language": "python",
   "name": "python3"
  },
  "language_info": {
   "codemirror_mode": {
    "name": "ipython",
    "version": 3
   },
   "file_extension": ".py",
   "mimetype": "text/x-python",
   "name": "python",
   "nbconvert_exporter": "python",
   "pygments_lexer": "ipython3",
   "version": "3.8.12"
  }
 },
 "nbformat": 4,
 "nbformat_minor": 5
}

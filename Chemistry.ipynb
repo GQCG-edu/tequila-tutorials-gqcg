{
 "cells": [
  {
   "cell_type": "markdown",
   "metadata": {},
   "source": [
    "# Tequila Chemistry Basics\n",
    "\n",
    "Here we show the basics of the tequila chemistry module.  \n",
    "\n",
    "- Initialization of molecules within tequila\n",
    "- Usage of different qubit encodings from openermion (JW, BK, BKSF, Tapered-BK)\n",
    "- Using basic functionality of Psi4 with tequila\n",
    "- Setting up active spaces\n",
    "- Constructing UCC based quantum circuits with tequila\n",
    "\n",
    "We recommend also to take a look at:  \n",
    "- [arxiv:2011.03057](https://arxiv.org/abs/2011.03057) that gives a general overview over `tequila` including chemistry applications\n",
    "- [arxiv:2011.05938](https://arxiv.org/abs/2011.05938) that describes the automatically differentiable framework for unitary coupled-cluster. This framework is automatically applied for all gates that are constructed with `mol.make_excitation_gate` function. \n",
    "\n",
    "In order for this notebook to work properly, you need to have psi4 installed in the same python environment as tequila.  \n",
    "If you are in a conda environment, installing psi4 is easy:\n",
    "`conda install psi4 -c psi4`  \n",
    "But better also check the [psi4 website](http://www.psicode.org/) for up to date instructions.\n",
    "\n",
    "In some cases, problems with the environment were observed which are suspected to originate from conflicts between psi4 and tequila dependcies.  \n",
    "Usually the safest way is to install psi4 **first** and then install tequila.    \n",
    "\n",
    "Basic functionality is currently also provided with PySCF which might be easier to install. \n",
    "\n",
    "`tequila` also supports `madness` as a quantum chemistry backend. With `madness` it is possible to construct system adapted Hamiltonians in a basis-set-free representation. It offers some extended features, but everything else (creating UCC circuits, fermion-to-qubit encodings, etc) stays roughly the same. For more information, see [arxiv:2008.02819](https://arxiv.org/abs/2008.02819) and the separate [tutorial](https://github.com/aspuru-guzik-group/tequila-tutorials/blob/main/ChemistryMadnessInterface.ipynb).  \n",
    "\n",
    "At the moment we only support automatized handling of closed-shell molecules. Note however, that this only concerns the computation of molecular orbitals; \n",
    "In other words: Only closed-shell references can be handeled automatically.\n",
    "\n",
    "**There might be issues with psi4 and jupyter, currently the workarround is to reload the kernel before a cell gets executed, or run as a regular python script**  \n",
    "(issue seems to be resolved, leaving this warning in, just in case)As alwasy: If you should experience any trouble, please raise an issue on github or contact us directly"
   ]
  },
  {
   "cell_type": "markdown",
   "metadata": {},
   "source": [
    "One of `tequila`s primary aims is to simplify usage of many specialized algorithms and programs. The underlying technology should however be acknowledged, so if you are using the interface please acknowledge/cite the following articles (we give arxiv links to provide open access to the articles, but please cite the scientific journals if the articles have been published there):\n",
    "\n",
    "- [arxiv:2011.03057](https://arxiv.org/abs/2011.03057) giving the general overview of tequila.\n",
    "- [arxiv:2011.05938](https://arxiv.org/abs/2011.05938) describing the automatically differentiable framework for unitary coupled-cluster (those techniques are automatically applied in the background). \n",
    "- [OpenFermion](https://github.com/quantumlib/OpenFermion) that handles the standard fermion-to-qubit mappings.\n",
    "- Please also cite the corresponding articles of the quantum simulators (if not specified, this is usually [qulacs](https://github.com/qulacs/qulacs)) and optimizers that you are using within  `tequila` and the corresponding quantum chemistry backends (like [Psi4](https://github.com/psi4/psi4), [madness](https://github.com/m-a-d-n-e-s-s/madness) or [PySCF](https://github.com/pyscf)). "
   ]
  },
  {
   "cell_type": "code",
   "execution_count": 3,
   "metadata": {},
   "outputs": [],
   "source": [
    "import tequila as tq"
   ]
  },
  {
   "cell_type": "markdown",
   "metadata": {},
   "source": [
    "## Initialize Molecules\n",
    "\n",
    "Molecules can be initialized by passing their geometries as string or the name of a `xyz` file.  \n",
    "So instead of the example in the code cell below, you could also specify `geometry=lih.xyz` and provide a file `lih.xyz` that gives the LiH coordinates in [xyz](https://en.wikipedia.org/wiki/XYZ_file_format) format. As it is often conventional in quantum chemistry, molecular coordinates are expected in Ångstrom units while all other quantities (energies) will be in atomic units (Hartree).  \n",
    "You can print out the `Molecule` object to receive more information."
   ]
  },
  {
   "cell_type": "code",
   "execution_count": 7,
   "metadata": {},
   "outputs": [
    {
     "name": "stdout",
     "output_type": "stream",
     "text": [
      "<class 'tequila.quantumchemistry.psi4_interface.QuantumChemistryPsi4'>\n",
      "Qubit Encoding\n",
      "transformation=<function jordan_wigner at 0x7f7d76256268>\n",
      "\n",
      "Parameters\n",
      "basis_set       : sto-3g          \n",
      "geometry        : H 0.0 0.0 0.0\n",
      "Li 0.0 0.0 1.6 \n",
      "description     :                 \n",
      "multiplicity    : 1               \n",
      "charge          : 0               \n",
      "closed_shell    : True            \n",
      "name            : molecule        \n",
      "\n",
      "Psi4 Data\n",
      "Point Group (full) : c_inf_v         \n",
      "Point Group (used) : c2v             \n",
      "nirrep          : 4 \n",
      "irreps          : ['A1', 'A2', 'B1', 'B2'] \n",
      "mos per irrep   : [4, 0, 1, 1]    \n",
      "\n",
      "Orbitals:\n",
      "0 : 0A1 energy = -2.348839 \n",
      "1 : 1A1 energy = -0.285276 \n",
      "2 : 2A1 energy = +0.078216 \n",
      "3 : 0B1 energy = +0.163950 \n",
      "4 : 0B2 energy = +0.163950 \n",
      "5 : 3A1 energy = +0.547769 \n",
      "\n"
     ]
    }
   ],
   "source": [
    "import tequila as tq\n",
    "molecule = tq.chemistry.Molecule(geometry = \"H 0.0 0.0 0.0\\nLi 0.0 0.0 1.6\", basis_set=\"sto-3g\")\n",
    "print(molecule)"
   ]
  },
  {
   "cell_type": "markdown",
   "metadata": {},
   "source": [
    "### Molecular Orbitals and Point-Groups\n",
    "As seen in the above printout, the (spatial) molecular orbitals are labelled by their irreducible representations. \n",
    "If you are not familiar with discrete point-groups: Just ignore that information. It is not needed in any of our functions, but you might want to use that information for your own algorithms.  \n",
    "\n",
    "The full point-group of the linear LiH molecule is $C_{{\\infty}v}$, `Psi4` can however only handle abelian point-groups and resorts to the largest abelian subgroup, that is in this case $C_{2v}$. \n",
    "\n",
    "In case you want to change the point-group you can do so by providing the `Molecule` initialization with the keyword: `point_group='POINT_GROUP_NAME'`.  \n",
    "\n",
    "The `mol.orbitals` array carries all information about the orbitals (energies are in this case the Hartree-Fock orbital energies).  "
   ]
  },
  {
   "cell_type": "code",
   "execution_count": 10,
   "metadata": {},
   "outputs": [
    {
     "data": {
      "text/plain": [
       "QuantumChemistryPsi4.OrbitalData(irrep='B1', idx_irrep=0, idx_total=3, energy=0.16394999261429738)"
      ]
     },
     "execution_count": 10,
     "metadata": {},
     "output_type": "execute_result"
    }
   ],
   "source": [
    "molecule.orbitals[3]"
   ]
  },
  {
   "cell_type": "markdown",
   "metadata": {},
   "source": [
    "### Initialize Qubit-Hamiltonians"
   ]
  },
  {
   "cell_type": "markdown",
   "metadata": {},
   "source": [
    "You can initialize a tequila `QubitHamiltonian` from a molecule with `make_hamiltonian`.\n",
    "The standard transformation is the `jordan-wigner` transformation.  \n",
    "You can use other transformations by initializing the molecule with the `transformation` keyword."
   ]
  },
  {
   "cell_type": "code",
   "execution_count": 12,
   "metadata": {},
   "outputs": [
    {
     "name": "stdout",
     "output_type": "stream",
     "text": [
      "Hamiltonian has 631 terms\n",
      "Hamiltonian has 12 qubits\n"
     ]
    }
   ],
   "source": [
    "import tequila as tq\n",
    "H = molecule.make_hamiltonian()\n",
    "# the LiH Hamiltonian is already quite large, better not print the full thing\n",
    "print(\"Hamiltonian has {} terms\".format(len(H)))\n",
    "print(\"Hamiltonian has {} qubits\".format(H.n_qubits))"
   ]
  },
  {
   "cell_type": "markdown",
   "metadata": {},
   "source": [
    "Here are some examples where we initialize the `Molecule` with different transformation keywords.  "
   ]
  },
  {
   "cell_type": "code",
   "execution_count": 13,
   "metadata": {},
   "outputs": [
    {
     "name": "stdout",
     "output_type": "stream",
     "text": [
      "Hamiltonian has 631 terms\n",
      "Hamiltonian has 12 qubits\n"
     ]
    }
   ],
   "source": [
    "molecule = tq.chemistry.Molecule(geometry = \"H 0.0 0.0 0.0\\nLi 0.0 0.0 1.6\", basis_set=\"sto-3g\", transformation=\"bravyi_kitaev\")\n",
    "H = molecule.make_hamiltonian()\n",
    "print(\"Hamiltonian has {} terms\".format(len(H)))\n",
    "print(\"Hamiltonian has {} qubits\".format(H.n_qubits))"
   ]
  },
  {
   "cell_type": "code",
   "execution_count": 14,
   "metadata": {},
   "outputs": [
    {
     "name": "stdout",
     "output_type": "stream",
     "text": [
      "trafo_args =  {'active_orbitals': 12, 'active_fermions': 4}\n",
      "trafo_args =  {'active_orbitals': 12, 'active_fermions': 4}\n",
      "Hamiltonian has 631 terms\n",
      "Hamiltonian has 10 qubits\n"
     ]
    }
   ],
   "source": [
    "molecule = tq.chemistry.Molecule(geometry = \"H 0.0 0.0 0.0\\nLi 0.0 0.0 1.6\", basis_set=\"sto-3g\", transformation=\"symmetry_conserving_bravyi_kitaev\")\n",
    "H = molecule.make_hamiltonian()\n",
    "print(\"Hamiltonian has {} terms\".format(len(H)))\n",
    "print(\"Hamiltonian has {} qubits\".format(H.n_qubits))"
   ]
  },
  {
   "cell_type": "markdown",
   "metadata": {},
   "source": [
    "## Using different Qubit Encodings of OpenFermion"
   ]
  },
  {
   "cell_type": "markdown",
   "metadata": {},
   "source": [
    "The different qubit encodings of openfermion can be applied by passing the keyword `transformation` to the molecule and setting it to the name of the corresponding openfermion function.  \n",
    "\n",
    "Some of those transformation might require additional keywords. Following `psi4` conventions those should be given to the `Molecule` initialization with the prefix `transformation__`. For most of them, `tequila` is however able to assign the keys automatically (see above for the `symmetry_conserving_bravyi_kitaev` transformation, that tapers off two qubits.\n",
    "\n",
    "In the following we provide some examples using various transformations from openfermion"
   ]
  },
  {
   "cell_type": "code",
   "execution_count": 15,
   "metadata": {},
   "outputs": [
    {
     "name": "stdout",
     "output_type": "stream",
     "text": [
      "Jordan-Wigner\n",
      " -0.0421+0.1777Z(0)+0.1777Z(1)-0.2427Z(2)-0.2427Z(3)+0.1706Z(0)Z(1)+0.0448Y(0)X(1)X(2)Y(3)-0.0448Y(0)Y(1)X(2)X(3)-0.0448X(0)X(1)Y(2)Y(3)+0.0448X(0)Y(1)Y(2)X(3)+0.1229Z(0)Z(2)+0.1677Z(0)Z(3)+0.1677Z(1)Z(2)+0.1229Z(1)Z(3)+0.1763Z(2)Z(3)\n",
      "lowest energy =  -1.1361894540879054\n",
      "Bravyi-Kitaev\n",
      " -0.0421+0.1777Z(0)+0.1777Z(0)Z(1)-0.2427Z(2)-0.2427Z(1)Z(2)Z(3)+0.1706Z(1)+0.0448Y(0)Z(1)Y(2)Z(3)+0.0448X(0)Z(1)X(2)+0.0448X(0)Z(1)X(2)Z(3)+0.0448Y(0)Z(1)Y(2)+0.1229Z(0)Z(2)+0.1677Z(0)Z(1)Z(2)Z(3)+0.1677Z(0)Z(1)Z(2)+0.1229Z(0)Z(2)Z(3)+0.1763Z(1)Z(3)\n",
      "lowest energy =  -1.1361894540879054\n",
      "trafo_args =  {'active_orbitals': 4, 'active_fermions': 2}\n",
      "trafo_args =  {'active_orbitals': 4, 'active_fermions': 2}\n",
      "Symmetry conserving Bravyi-Kitaev\n",
      " -0.2879+0.4205Z(0)+0.4205Z(1)+0.0115Z(0)Z(1)+0.1790X(0)X(1)\n",
      "lowest energy =  -1.1361894540879054\n"
     ]
    }
   ],
   "source": [
    "import tequila as tq\n",
    "import numpy\n",
    "geomstring = \"H 0.0 0.0 0.0\\nH 0.0 0.0 0.7\"\n",
    "basis_set = \"sto-3g\"\n",
    "\n",
    "# Jordan-Wigner (this is the default)\n",
    "mol = tq.chemistry.Molecule(geometry=geomstring, basis_set=basis_set, transformation=\"jordan_wigner\")\n",
    "H = mol.make_hamiltonian()\n",
    "print(\"Jordan-Wigner\\n\", H)\n",
    "eigenValues = numpy.linalg.eigvalsh(H.to_matrix())\n",
    "print(\"lowest energy = \", eigenValues[0])\n",
    "\n",
    "# Bravyi-Kitaev\n",
    "mol = tq.chemistry.Molecule(geometry=geomstring, basis_set=basis_set, transformation=\"bravyi_kitaev\")\n",
    "H = mol.make_hamiltonian()\n",
    "print(\"Bravyi-Kitaev\\n\", H)\n",
    "eigenValues = numpy.linalg.eigvalsh(H.to_matrix())\n",
    "print(\"lowest energy = \", eigenValues[0])\n",
    "\n",
    "# symmetry_conserving_bravyi_kitaev\n",
    "# this transformation will taper off two qubits of the Hamiltonian\n",
    "# it needs additional information on the number of spin-orbitals and the active_fermions/electrons in the system\n",
    "mol = tq.chemistry.Molecule(geometry=geomstring, basis_set=basis_set,\n",
    "                              transformation=\"symmetry_conserving_bravyi_kitaev\")\n",
    "H = mol.make_hamiltonian()\n",
    "print(\"Symmetry conserving Bravyi-Kitaev\\n\", H)\n",
    "eigenValues = numpy.linalg.eigvalsh(H.to_matrix())\n",
    "print(\"lowest energy = \", eigenValues[0])\n",
    "\n",
    "# Symmetry "
   ]
  },
  {
   "cell_type": "markdown",
   "metadata": {},
   "source": [
    "## Setting active spaces\n",
    "\n",
    "You can define active spaces on your molcule by passing down a dictionary of active orbitals.  \n",
    "The orbitals are grouped into the irreducible representation of the underlying symmetry group (see the printout of `print(molecule)` above).\n",
    "\n",
    "Lets take the LiH molecule from above but initialize it with an active space containing the second two A1 orbitals (meaning the first 0A1 orbital is frozen) and the B1 orbital"
   ]
  },
  {
   "cell_type": "code",
   "execution_count": 16,
   "metadata": {},
   "outputs": [
    {
     "name": "stdout",
     "output_type": "stream",
     "text": [
      "Hamiltonian has 62 terms\n"
     ]
    }
   ],
   "source": [
    "import tequila as tq\n",
    "active_orbitals = {\"A1\":[1,2], \"B1\":[0]}\n",
    "molecule = tq.chemistry.Molecule(geometry = \"H 0.0 0.0 0.0\\nLi 0.0 0.0 1.6\", basis_set=\"sto-3g\", active_orbitals=active_orbitals)\n",
    "H = molecule.make_hamiltonian()\n",
    "print(\"Hamiltonian has {} terms\".format(len(H)))"
   ]
  },
  {
   "cell_type": "markdown",
   "metadata": {},
   "source": [
    "Lets make the active space even smaller, so that we can print out the full Hamiltonian"
   ]
  },
  {
   "cell_type": "code",
   "execution_count": 17,
   "metadata": {},
   "outputs": [
    {
     "name": "stdout",
     "output_type": "stream",
     "text": [
      "Hamiltonian has 15 terms\n",
      "-7.4711+0.1352Z(0)+0.1352Z(1)-0.0310Z(2)-0.0310Z(3)+0.1218Z(0)Z(1)+0.0059Y(0)X(1)X(2)Y(3)-0.0059Y(0)Y(1)X(2)X(3)-0.0059X(0)X(1)Y(2)Y(3)+0.0059X(0)Y(1)Y(2)X(3)+0.0617Z(0)Z(2)+0.0675Z(0)Z(3)+0.0675Z(1)Z(2)+0.0617Z(1)Z(3)+0.0782Z(2)Z(3)\n"
     ]
    }
   ],
   "source": [
    "import tequila as tq\n",
    "active_orbitals = {\"A1\":[1], \"B1\":[0]}\n",
    "molecule = tq.chemistry.Molecule(geometry = \"H 0.0 0.0 0.0\\nLi 0.0 0.0 1.6\", basis_set=\"sto-3g\", active_orbitals=active_orbitals)\n",
    "H = molecule.make_hamiltonian()\n",
    "print(\"Hamiltonian has {} terms\".format(len(H)))\n",
    "print(H)"
   ]
  },
  {
   "cell_type": "markdown",
   "metadata": {},
   "source": [
    "## Computing classical methods with Psi4\n",
    "\n",
    "We can use psi4 to compute the energies (and sometimes other quantities) with the `compute_energy` function.\n",
    "Here are some examples. Note that the energies are computed within the active space if one is set.\n",
    "\n",
    "Note also that not all active spaces can be represented by psi4 which will mean you can/should not use the classical psi4 methods with those (a warning will be printed). You will still get the right active space hamiltonian however.\n",
    "\n",
    "Active spaces which will not work for psi4 methds are the ones where the orbitals of individual irreps are not in one block ( e.g. {`\"A1\":[1,3]`} )"
   ]
  },
  {
   "cell_type": "code",
   "execution_count": 18,
   "metadata": {},
   "outputs": [
    {
     "name": "stdout",
     "output_type": "stream",
     "text": [
      "There are known issues with some psi4 methods and frozen virtual orbitals. Proceed with fingers crossed for mp2.\n",
      "{(1, 0, 1, 0): -0.026069395810974533, (2, 0, 2, 0): -0.026069395810972833}\n",
      "{(1, 0, 1, 0): -0.027418022914682542, (2, 0, 2, 0): -0.027418022914682535}\n"
     ]
    }
   ],
   "source": [
    "import tequila as tq\n",
    "active_orbitals = {\"A1\":[1], \"B1\":[0], \"B2\":[0]}\n",
    "molecule = tq.chemistry.Molecule(geometry = \"H 0.0 0.0 0.0\\nLi 0.0 0.0 1.6\", basis_set=\"sto-3g\", active_orbitals=active_orbitals)\n",
    "\n",
    "mp2 = molecule.compute_energy(method=\"mp2\")\n",
    "\n",
    "# Note there are known issues for some methods when the active space as frozen virtuals as is the case here\n",
    "# detci based methods are fine again \n",
    "fci = molecule.compute_energy(method=\"fci\")\n",
    "\n",
    "# for most coupled-cluster like models you can compute amplitudes\n",
    "# Amplitudes are computed in c1 and in the full space, this is why the active space troubles from above usually don't hold\n",
    "# Note that amplitudes are in closed-shell\n",
    "amplitudes = molecule.compute_amplitudes(\"mp2\")\n",
    "\n",
    "# you can export a parameter dictionary which holds the indices of the amplitude as keys and values as values\n",
    "# for this small active space that is only one amplitude for mp2\n",
    "variables = amplitudes.make_parameter_dictionary()\n",
    "print(variables)\n",
    "\n",
    "# similar for ccsd since the singles are 0 due to symmetry (that changes if you change the active space)\n",
    "amplitudes = molecule.compute_amplitudes(\"ccsd\")\n",
    "variables = amplitudes.make_parameter_dictionary()\n",
    "print(variables)"
   ]
  },
  {
   "cell_type": "markdown",
   "metadata": {},
   "source": [
    "## Hello World \"H2\" optimization with LiH in an active space"
   ]
  },
  {
   "cell_type": "markdown",
   "metadata": {},
   "source": [
    "Lets do a small hand-constructed VQE like it would be done for the Hydrogen molecule in STO-3G, just that we use our active space LiH molecule from the cell above.\n",
    "For consistency reasons we initialize everything again.  \n",
    "\n",
    "Check the `BasicUsage` and `SciPyOptimizers` tutorial notebooks for more information about then"
   ]
  },
  {
   "cell_type": "code",
   "execution_count": 19,
   "metadata": {},
   "outputs": [
    {
     "name": "stdout",
     "output_type": "stream",
     "text": [
      "Optimizer: <class 'tequila.optimizers.optimizer_scipy.OptimizerSciPy'> \n",
      "backend         : qulacs\n",
      "device          : None\n",
      "samples         : None\n",
      "save_history    : True\n",
      "noise           : None\n",
      "\n",
      "Method          : BFGS\n",
      "Objective       : 1 expectationvalues\n",
      "gradient        : 2 expectationvalues\n",
      "\n",
      "active variables : 1\n",
      "\n",
      "E=-7.19702401  angles= {a: 0.0}  samples= None\n",
      "E=-7.19766373  angles= {a: -0.0234220027923584}  samples= None\n",
      "E=-7.20203763  angles= {a: -0.11711001396179199}  samples= None\n",
      "E=-7.24749228  angles= {a: -0.49186205863952637}  samples= None\n",
      "E=-7.68640044  angles= {a: -1.9908702373504639}  samples= None\n",
      "E=-7.59671569  angles= {a: -7.986902952194214}  samples= None\n",
      "E=-7.86212174  angles= {a: -3.129600457337474}  samples= None\n",
      "E=-7.59889693  angles= {a: -1.7104055550334691}  samples= None\n",
      "E=-7.86268191  angles= {a: -3.0777237637496633}  samples= None\n",
      "E=-7.86268890  angles= {a: -3.0712456201159126}  samples= None\n",
      "Optimization terminated successfully.\n",
      "         Current function value: -7.862689\n",
      "         Iterations: 3\n",
      "         Function evaluations: 10\n",
      "         Gradient evaluations: 10\n",
      "VQE : -7.8626889f\n",
      "FCI : -7.8626889f\n"
     ]
    }
   ],
   "source": [
    "import tequila as tq\n",
    "# define the active space\n",
    "active_orbitals = {\"A1\":[1], \"B1\":[0]}\n",
    "\n",
    "# define the molecule\n",
    "molecule = tq.chemistry.Molecule(geometry = \"H 0.0 0.0 0.0\\nLi 0.0 0.0 1.6\", basis_set=\"sto-3g\", active_orbitals=active_orbitals)\n",
    "\n",
    "# make the hamiltonian\n",
    "H = molecule.make_hamiltonian()\n",
    "\n",
    "# define a hand designed circuit\n",
    "U = tq.gates.Ry(angle=\"a\", target=0) + tq.gates.X(target=[2,3])\n",
    "U += tq.gates.X(target=1, control=0)\n",
    "U += tq.gates.X(target=2, control=0)\n",
    "U += tq.gates.X(target=3, control=1)\n",
    "\n",
    "# define the expectationvalue\n",
    "E = tq.ExpectationValue(H=H, U=U)\n",
    "\n",
    "# optimize\n",
    "result = tq.minimize(objective=E, method=\"BFGS\", initial_values={k:0.0 for k in E.extract_variables()})\n",
    "\n",
    "# compute a reference value with psi4\n",
    "fci = molecule.compute_energy(method=\"fci\")\n",
    "\n",
    "print(\"VQE : {:+2.8}f\".format(result.energy))\n",
    "print(\"FCI : {:+2.8}f\".format(fci))\n"
   ]
  },
  {
   "cell_type": "code",
   "execution_count": null,
   "metadata": {},
   "outputs": [],
   "source": [
    "# some more information from the optimization\n",
    "result.history.plot(\"energies\", baselines={\"fci\":fci})"
   ]
  },
  {
   "cell_type": "markdown",
   "metadata": {},
   "source": [
    "## Unitary Coupled-Cluster Style Construction\n",
    "\n",
    "Here we show how to initialize in the style of unitary coupled-cluster.  \n",
    "See also the overview article [arxiv.org/abs/2011.03057](https://arxiv.org/abs/2011.03057) for more details about the underlying methods.\n",
    "\n",
    "In the next example we are gonna compute the `mp2` amplitudes and build a UCC type circuit from them.  \n",
    "Here we use the cc2 amplitudes only to define an order on the trotterized gates and remove small amplitudes as classical prescreening.\n",
    "\n",
    "We use again an active space to make the computation fast.\n",
    "\n",
    "First we start with the manual construction and then show how to use in build convenience functions of tequila to.\n",
    "\n",
    "An important function is the `make_excitation_generator` function of the molecule.  \n",
    "This initializes a `QubitHamiltonian` which can be used to define a unitary gate which acts as excitation operation of electrons.\n",
    "\n",
    "$$\\displaystyle\n",
    "U(\\theta) = e^{-i\\frac{\\theta}{2} G_{iajbkc\\dots}}\n",
    "$$\n",
    "\n",
    "In fermionic language the generator is defined as\n",
    "\n",
    "$$\n",
    "G_{ia,jb,jc,\\dots} =  i ( a^\\dagger_a a_i a^\\dagger_b a_j a^\\dagger_c a_k \\dots - h.c. )\n",
    "$$\n",
    "\n",
    "The `make_excitation_generator` function gives back this generator in the qubit representation (depends on the chosen `transformation` of the molecule) and takes the indices as list of tuples  \n",
    "  \n",
    "$$\n",
    "\\texttt{make_excitation_generator(indices=[(a,i),(b,j),...])} \\longrightarrow G_{ia,jb,jc,\\dots}\n",
    "$$\n",
    "\n",
    "You can use those generators to initialize \\textit{formally} Trotterized Gates (one step is exact):  \n",
    "$$\n",
    "\\texttt{tq.gates.Trotterized(generators=[generator], angles=[\"a\"], steps=1)} \\longrightarrow U(\\theta) = e^{-i\\frac{\\theta}{2} G_{iajbkc\\dots}}\n",
    "$$\n",
    "\n",
    "The last part was the general construction of gates over their parameters. In the case of Unitary coupled-cluster you can define fermionic gates directly, \\textsc{tequila} will then be able to compute analytical gradients with substantially reduced cost (see this article for an in-depth description: [arxiv.org/abs/2011.05938](https://arxiv.org/abs/2011.05938)). The fermionic gate is initialized over the same list of index-tuples that initialize generators:\n",
    "\n",
    "$$\n",
    "\\texttt{make_excitation_gate(indices=[(a,i),(b,j),...])} \\longrightarrow U(\\theta) = e^{-i\\frac{\\theta}{2} G_{iajbkc\\dots}}\n",
    "$$\n",
    "\n",
    "Angles can be either numeric types (such as 1.0, 1.5, numpy.pi/2) for fixed angles, any hashable type (such as \"a\", \"xyz\", (1,2,3) ) for variables, or a tequila objective for variable dependent transformations (see also the BasicUsage tutorial here). \n"
   ]
  },
  {
   "cell_type": "markdown",
   "metadata": {},
   "source": [
    "### Manual Construction"
   ]
  },
  {
   "cell_type": "code",
   "execution_count": 20,
   "metadata": {},
   "outputs": [
    {
     "name": "stdout",
     "output_type": "stream",
     "text": [
      "MP2 Amplitudes:\n",
      " {(1, 0, 1, 0): -0.026069395810974533}\n",
      "This is our circuit:\n",
      "circuit: \n",
      "X(target=(0,))\n",
      "X(target=(1,))\n",
      "FermionicEx(target=(0, 1, 2, 3), control=(), parameter=Objective with 0 unique expectation values\n",
      "variables = [a]\n",
      "types     = [])\n",
      "\n",
      "Optimizer: <class 'tequila.optimizers.optimizer_scipy.OptimizerSciPy'> \n",
      "backend         : qulacs\n",
      "device          : None\n",
      "samples         : None\n",
      "save_history    : True\n",
      "noise           : None\n",
      "\n",
      "Method          : BFGS\n",
      "Objective       : 1 expectationvalues\n",
      "gradient        : 2 expectationvalues\n",
      "\n",
      "active variables : 1\n",
      "\n",
      "E=-7.86132988  angles= {a: 0.01}  samples= None\n",
      "E=-7.86253976  angles= {a: -0.05013059616088867}  samples= None\n",
      "E=-7.86268890  angles= {a: -0.03515792946196591}  samples= None\n",
      "Optimization terminated successfully.\n",
      "         Current function value: -7.862689\n",
      "         Iterations: 2\n",
      "         Function evaluations: 3\n",
      "         Gradient evaluations: 3\n",
      "VQE : -7.8626889f\n",
      "FCI : -7.8626889f\n",
      "MP2 Amplitudes: {(1, 0, 1, 0): -0.026069395810974533}\n",
      "Optimized UCC Amplitudes: a : -0.03515792946196591\n",
      "\n"
     ]
    }
   ],
   "source": [
    "import tequila as tq\n",
    "threshold = 1.e-6\n",
    "\n",
    "# define the active space\n",
    "active_orbitals = {\"A1\":[1], \"B1\":[0]}\n",
    "\n",
    "# define the molecule\n",
    "molecule = tq.chemistry.Molecule(geometry = \"H 0.0 0.0 0.0\\nLi 0.0 0.0 1.6\", basis_set=\"sto-3g\", active_orbitals=active_orbitals)\n",
    "# make the hamiltonian\n",
    "H = molecule.make_hamiltonian()\n",
    "\n",
    "# compute classical amplitudes\n",
    "amplitudes = molecule.compute_amplitudes(method=\"mp2\")\n",
    "\n",
    "# in this example there is only one closed-shell MP2 amplitude, therefore manual construction is reasonable in this tutorial\n",
    "# first we make a dictionary out of the non-zero MP2 amplitudes\n",
    "ampdict = amplitudes.make_parameter_dictionary(threshold=threshold)\n",
    "print(\"MP2 Amplitudes:\\n\", ampdict)\n",
    "# lets get the indices of the only amplitude which is there manually\n",
    "indices = list(ampdict.keys())[0]\n",
    "\n",
    "# the (1, 0, 1, 0) index in closed shell leads to the (2, 0, 3, 1) and (3, 1, 2, 0) excitations on the qubits\n",
    "# but first we need to initialize the hartree fock state\n",
    "U = molecule.prepare_reference()\n",
    "\n",
    "# UCC excitation gates can be directly initialized as follows:\n",
    "# This will lead to significantly reduced cost in gradient evaluation (see text cell above)\n",
    "# We also illustrate here how to define transformed angles by scaling the angle with 2.0\n",
    "# (this makes it comarable to the MP2 amplitude, since it cancels out the conventional factor of 1/2 in the definition of the gates)\n",
    "a = tq.Variable(\"a\")\n",
    "U += molecule.make_excitation_gate(indices=[(3, 1),(2, 0)], angle=2.0*a)\n",
    "\n",
    "print(\"This is our circuit:\")\n",
    "print(U)\n",
    "\n",
    "# lets form the expectation value\n",
    "E = tq.ExpectationValue(H=H, U=U)\n",
    "\n",
    "# optimize\n",
    "result = tq.minimize(objective=E, method=\"BFGS\", initial_values={k:0.01 for k in E.extract_variables()})\n",
    "\n",
    "# compute a reference value with psi4\n",
    "fci = molecule.compute_energy(method=\"fci\")\n",
    "print(\"VQE : {:+2.8}f\".format(result.energy))\n",
    "print(\"FCI : {:+2.8}f\".format(fci))\n",
    "print(\"MP2 Amplitudes:\", ampdict) # indices in spatial orbital notation\n",
    "print(\"Optimized UCC Amplitudes:\", result.variables) # indices in spin-orbital notation\n",
    "\n"
   ]
  },
  {
   "cell_type": "markdown",
   "metadata": {},
   "source": [
    "### Automatic Construction"
   ]
  },
  {
   "cell_type": "code",
   "execution_count": 21,
   "metadata": {},
   "outputs": [
    {
     "name": "stdout",
     "output_type": "stream",
     "text": [
      "Optimizer: <class 'tequila.optimizers.optimizer_scipy.OptimizerSciPy'> \n",
      "backend         : qulacs\n",
      "device          : None\n",
      "samples         : None\n",
      "save_history    : True\n",
      "noise           : None\n",
      "\n",
      "Method          : BFGS\n",
      "Objective       : 1 expectationvalues\n",
      "gradient        : 4 expectationvalues\n",
      "\n",
      "active variables : 1\n",
      "\n",
      "E=-7.86186477  angles= {(1, 0, 1, 0): 0.0}  samples= None\n",
      "E=-7.86259809  angles= {(1, 0, 1, 0): -0.0468440055847168}  samples= None\n",
      "E=-7.86268890  angles= {(1, 0, 1, 0): -0.03516504106977361}  samples= None\n",
      "Optimization terminated successfully.\n",
      "         Current function value: -7.862689\n",
      "         Iterations: 2\n",
      "         Function evaluations: 3\n",
      "         Gradient evaluations: 3\n",
      "VQE : -7.8626889f\n",
      "FCI : -7.8626889f\n"
     ]
    }
   ],
   "source": [
    "import tequila as tq\n",
    "threshold = 1.e-6\n",
    "\n",
    "# define the active space\n",
    "active_orbitals = {\"A1\":[1], \"B1\":[0]}\n",
    "\n",
    "# define the molecule\n",
    "molecule = tq.chemistry.Molecule(geometry = \"H 0.0 0.0 0.0\\nLi 0.0 0.0 1.6\", basis_set=\"sto-3g\", active_orbitals=active_orbitals)\n",
    "\n",
    "# make the hamiltonian\n",
    "H = molecule.make_hamiltonian()\n",
    "\n",
    "# make the UCCSD ansatz (note that this will be without singles since it starts from mp2)\n",
    "U = molecule.make_uccsd_ansatz(initial_amplitudes=\"mp2\", threshold=threshold, trotter_steps=1)\n",
    "\n",
    "# define the expectationvalue\n",
    "E = tq.ExpectationValue(H=H, U=U)\n",
    "\n",
    "# optimize\n",
    "result = tq.minimize(objective=E, method=\"BFGS\", initial_values={k:0.0 for k in E.extract_variables()})\n",
    "\n",
    "# compute a reference value with psi4\n",
    "fci = molecule.compute_energy(method=\"fci\")\n",
    "\n",
    "print(\"VQE : {:+2.8}f\".format(result.energy))\n",
    "print(\"FCI : {:+2.8}f\".format(fci))\n",
    "    \n",
    "    "
   ]
  },
  {
   "cell_type": "markdown",
   "metadata": {},
   "source": [
    "### Pi System of Benzene\n",
    "Here is the \\pi-system of Benzene, computed with the [UpCCGSD](https://pubs.acs.org/doi/10.1021/acs.jctc.8b01004) ansatz. The fermionic gradient techniques from [arxiv.org/abs/2011.05938](https://arxiv.org/abs/2011.05938) allow us to compute analytical gradients with a cost factor of 2 (this is the same cost as the cheapest 2-point numerical stencils). We neglect the singles here to speed-up the computation - so essentially this is UpCCGD. You can increase the `order` (in other words, the number of UpCCGD layers) to yield better energies. You can also try to build a batched optimization by re-using results from previous optimizations (get the optimized variables over `result.variables`)"
   ]
  },
  {
   "cell_type": "code",
   "execution_count": 24,
   "metadata": {},
   "outputs": [
    {
     "name": "stdout",
     "output_type": "stream",
     "text": [
      "There are known issues with some psi4 methods and frozen virtual orbitals. Proceed with fingers crossed for mp2.\n",
      "Optimizer: <class 'tequila.optimizers.optimizer_scipy.OptimizerSciPy'> \n",
      "backend         : qulacs\n",
      "device          : None\n",
      "samples         : None\n",
      "save_history    : True\n",
      "noise           : None\n",
      "\n",
      "Method          : BFGS\n",
      "Objective       : 1 expectationvalues\n",
      "gradient        : 30 expectationvalues\n",
      "\n",
      "active variables : 15\n",
      "\n",
      "E=-227.88792153  angles= {(0, ((0, 2), (1, 3)), None): 0.0, (0, ((0, 4), (1, 5)), None): 0.0, (0, ((0, 6), (1, 7)), None): 0.0, (0, ((0, 8), (1, 9)), None): 0.0, (0, ((0, 10), (1, 11)), None): 0.0, (0, ((2, 4), (3, 5)), None): 0.0, (0, ((2, 6), (3, 7)), None): 0.0, (0, ((2, 8), (3, 9)), None): 0.0, (0, ((2, 10), (3, 11)), None): 0.0, (0, ((4, 6), (5, 7)), None): 0.0, (0, ((4, 8), (5, 9)), None): 0.0, (0, ((4, 10), (5, 11)), None): 0.0, (0, ((6, 8), (7, 9)), None): 0.0, (0, ((6, 10), (7, 11)), None): 0.0, (0, ((8, 10), (9, 11)), None): 0.0}  samples= None\n",
      "E=-227.91711515  angles= {(0, ((0, 2), (1, 3)), None): 0.0, (0, ((0, 4), (1, 5)), None): 0.0, (0, ((0, 6), (1, 7)), None): 0.0558624267578125, (0, ((0, 8), (1, 9)), None): 0.0558624267578125, (0, ((0, 10), (1, 11)), None): 0.04338836669921875, (0, ((2, 4), (3, 5)), None): 0.0, (0, ((2, 6), (3, 7)), None): 0.0554046630859375, (0, ((2, 8), (3, 9)), None): 0.09698486328125, (0, ((2, 10), (3, 11)), None): 0.0570220947265625, (0, ((4, 6), (5, 7)), None): 0.09698486328125, (0, ((4, 8), (5, 9)), None): 0.05541229248046875, (0, ((4, 10), (5, 11)), None): 0.0570220947265625, (0, ((6, 8), (7, 9)), None): 0.0, (0, ((6, 10), (7, 11)), None): 0.0, (0, ((8, 10), (9, 11)), None): 0.0}  samples= None\n",
      "E=-227.92873702  angles= {(0, ((0, 2), (1, 3)), None): 0.0, (0, ((0, 4), (1, 5)), None): 0.0, (0, ((0, 6), (1, 7)), None): 0.09786596742047593, (0, ((0, 8), (1, 9)), None): 0.0976625873202719, (0, ((0, 10), (1, 11)), None): 0.052762978792723444, (0, ((2, 4), (3, 5)), None): 0.0, (0, ((2, 6), (3, 7)), None): 0.11233874719939826, (0, ((2, 8), (3, 9)), None): 0.22243699470153327, (0, ((2, 10), (3, 11)), None): 0.09314485790925103, (0, ((4, 6), (5, 7)), None): 0.22239341325148954, (0, ((4, 8), (5, 9)), None): 0.11224546901406462, (0, ((4, 10), (5, 11)), None): 0.09317391220928017, (0, ((6, 8), (7, 9)), None): 0.0, (0, ((6, 10), (7, 11)), None): 0.00309428295310414, (0, ((8, 10), (9, 11)), None): 0.0031088101031187133}  samples= None\n",
      "E=-227.92990736  angles= {(0, ((0, 2), (1, 3)), None): 0.0, (0, ((0, 4), (1, 5)), None): 0.0, (0, ((0, 6), (1, 7)), None): 0.09239769788748751, (0, ((0, 8), (1, 9)), None): 0.09184046913023139, (0, ((0, 10), (1, 11)), None): 0.04390635579711417, (0, ((2, 4), (3, 5)), None): 0.0, (0, ((2, 6), (3, 7)), None): 0.11833720545048518, (0, ((2, 8), (3, 9)), None): 0.2551877622991945, (0, ((2, 10), (3, 11)), None): 0.08417244248767165, (0, ((4, 6), (5, 7)), None): 0.25516701705373407, (0, ((4, 8), (5, 9)), None): 0.11825510207973058, (0, ((4, 10), (5, 11)), None): 0.08419479890338182, (0, ((6, 8), (7, 9)), None): 5.115751241935877e-05, (0, ((6, 10), (7, 11)), None): 0.006921187500350597, (0, ((8, 10), (9, 11)), None): 0.00691957633010084}  samples= None\n",
      "E=-227.93052215  angles= {(0, ((0, 2), (1, 3)), None): 0.0, (0, ((0, 4), (1, 5)), None): 0.0, (0, ((0, 6), (1, 7)), None): 0.07696703938301278, (0, ((0, 8), (1, 9)), None): 0.07592142777368031, (0, ((0, 10), (1, 11)), None): 0.038460325917025286, (0, ((2, 4), (3, 5)), None): 0.0, (0, ((2, 6), (3, 7)), None): 0.11737617413433302, (0, ((2, 8), (3, 9)), None): 0.28464169015127705, (0, ((2, 10), (3, 11)), None): 0.06696105065775615, (0, ((4, 6), (5, 7)), None): 0.28465561234711056, (0, ((4, 8), (5, 9)), None): 0.11738542528263475, (0, ((4, 10), (5, 11)), None): 0.06695235238086522, (0, ((6, 8), (7, 9)), None): 0.0001377637463377784, (0, ((6, 10), (7, 11)), None): 0.011751444319324057, (0, ((8, 10), (9, 11)), None): 0.011716383817192744}  samples= None\n",
      "E=-227.93056604  angles= {(0, ((0, 2), (1, 3)), None): 0.0, (0, ((0, 4), (1, 5)), None): 0.0, (0, ((0, 6), (1, 7)), None): 0.07206828102975894, (0, ((0, 8), (1, 9)), None): 0.07096368033221169, (0, ((0, 10), (1, 11)), None): 0.04234447893476166, (0, ((2, 4), (3, 5)), None): 0.0, (0, ((2, 6), (3, 7)), None): 0.11471830378017904, (0, ((2, 8), (3, 9)), None): 0.286749550989483, (0, ((2, 10), (3, 11)), None): 0.06373585567353227, (0, ((4, 6), (5, 7)), None): 0.28675827995903236, (0, ((4, 8), (5, 9)), None): 0.11473336235071123, (0, ((4, 10), (5, 11)), None): 0.06372505615106064, (0, ((6, 8), (7, 9)), None): 0.00016203666820308998, (0, ((6, 10), (7, 11)), None): 0.012242748066254874, (0, ((8, 10), (9, 11)), None): 0.012205039988559197}  samples= None\n",
      "E=-227.93057449  angles= {(0, ((0, 2), (1, 3)), None): 0.0, (0, ((0, 4), (1, 5)), None): 0.0, (0, ((0, 6), (1, 7)), None): 0.069950884765735, (0, ((0, 8), (1, 9)), None): 0.06885676963471324, (0, ((0, 10), (1, 11)), None): 0.04596071044500396, (0, ((2, 4), (3, 5)), None): 0.0, (0, ((2, 6), (3, 7)), None): 0.11306806969540889, (0, ((2, 8), (3, 9)), None): 0.2867978434287594, (0, ((2, 10), (3, 11)), None): 0.06330928837358049, (0, ((4, 6), (5, 7)), None): 0.28678446517648576, (0, ((4, 8), (5, 9)), None): 0.11301704697084791, (0, ((4, 10), (5, 11)), None): 0.06330930185635274, (0, ((6, 8), (7, 9)), None): 0.00017627735984458926, (0, ((6, 10), (7, 11)), None): 0.012189334915732953, (0, ((8, 10), (9, 11)), None): 0.012151065646664043}  samples= None\n",
      "Optimization terminated successfully.\n",
      "         Current function value: -227.930574\n",
      "         Iterations: 6\n",
      "         Function evaluations: 7\n",
      "         Gradient evaluations: 7\n",
      "VQE : -227.93057f\n",
      "MP2 : -227.9475f\n",
      "CISD: -227.98666f\n",
      "FCI : -227.99711f\n"
     ]
    }
   ],
   "source": [
    "import tequila as tq\n",
    "threshold = 1.e-6\n",
    "active = {\"B1u\": [0], \"B3g\": [0, 1], \"B2g\": [0], \"Au\": [0], \"b1u\": [1]}\n",
    "molecule = tq.quantumchemistry.Molecule(geometry=\"data/benzene.xyz\", basis_set='sto-3g', active_orbitals=active)\n",
    "H = molecule.make_hamiltonian()\n",
    "\n",
    "U = molecule.make_upccgsd_ansatz(order=1, include_singles=False)\n",
    "\n",
    "# define the expectationvalue\n",
    "E = tq.ExpectationValue(H=H, U=U)\n",
    "\n",
    "# compute reference energies\n",
    "mp2 = molecule.compute_energy(\"mp2\")\n",
    "cisd = molecule.compute_energy(\"detci\", options={\"detci__ex_level\": 2})\n",
    "fci = molecule.compute_energy(\"fci\")\n",
    "\n",
    "# optimize\n",
    "result = tq.minimize(objective=E, method=\"BFGS\", initial_values=0.0)\n",
    "\n",
    "print(\"VQE : {:+2.8}f\".format(result.energy))\n",
    "print(\"MP2 : {:+2.8}f\".format(mp2))\n",
    "print(\"CISD: {:+2.8}f\".format(cisd))\n",
    "print(\"FCI : {:+2.8}f\".format(fci))"
   ]
  },
  {
   "cell_type": "code",
   "execution_count": null,
   "metadata": {},
   "outputs": [],
   "source": [
    "result.history.plot(\"energies\", baselines={\"fci\":fci, \"cisd\": cisd, \"mp2\":mp2}, filename=\"benzene_result_bfgs\")"
   ]
  },
  {
   "cell_type": "markdown",
   "metadata": {},
   "source": [
    "## Noisy optimization of an active space molecule with tapered qubit embeding using `qiskit` as quantum backend\n",
    "\n",
    "This example shows the combination of several features of tequila in a few lines.  \n",
    "Note that you will need to have `qiskit` installed for this.  \n",
    "If not: Set `backend=None` (`tequila` will then pick whatever backend you have installed that is most appropriate for the job) and set `device=None` (there will be no specialized noise emulation in that case, see our tutorial on noise model on how to construct your own!)\n",
    "\n",
    "- automatic handling of active spaces\n",
    "- consitent usage of qubit encodings (here the symmetry_conserving_bravyi_kitaev encoding from openfermion which reduces the number of qubits by 2)\n",
    "- custom circuit construction\n",
    "- unitary cluster circuits\n",
    "- optimization of measurements (here the Hamiltonian will be grouped into two commuting groups, this can be seen by the optimizer output which holds two expectation values). See the [MeasurementGroups](https://github.com/aspuru-guzik-group/tequila/blob/master/tutorials/MeasurementGroups.ipynb) tutorial for more background information.\n",
    "- interface to different quantum backends (you will need qiskit to run this cell)"
   ]
  },
  {
   "cell_type": "code",
   "execution_count": 2,
   "metadata": {},
   "outputs": [
    {
     "name": "stdout",
     "output_type": "stream",
     "text": [
      "trafo_args =  {'active_orbitals': 12, 'active_fermions': 4}\n",
      "trafo_args =  {'active_orbitals': 4, 'active_fermions': 2}\n",
      "Optimizer: <class 'tequila.optimizers.optimizer_scipy.OptimizerSciPy'> \n",
      "backend         : qulacs\n",
      "device          : None\n",
      "samples         : None\n",
      "save_history    : True\n",
      "noise           : None\n",
      "\n",
      "Method          : COBYLA\n",
      "Objective       : 2 expectationvalues\n",
      "\n",
      "active variables : 1\n",
      "\n",
      "E=-7.19702387  angles= {a: 0.0}  samples= None\n",
      "E=-7.33012819  angles= {a: 1.0}  samples= None\n",
      "E=-7.64648247  angles= {a: 2.0}  samples= None\n",
      "E=-7.85523319  angles= {a: 3.0}  samples= None\n",
      "E=-7.76445484  angles= {a: 4.0}  samples= None\n",
      "E=-7.84895802  angles= {a: 3.5}  samples= None\n",
      "E=-7.82776165  angles= {a: 2.75}  samples= None\n",
      "E=-7.86143017  angles= {a: 3.125}  samples= None\n",
      "E=-7.86244774  angles= {a: 3.25}  samples= None\n",
      "E=-7.85826778  angles= {a: 3.375}  samples= None\n",
      "E=-7.86100483  angles= {a: 3.3125}  samples= None\n",
      "E=-7.86268139  angles= {a: 3.21875}  samples= None\n",
      "E=-7.86258984  angles= {a: 3.1875}  samples= None\n",
      "E=-7.86267614  angles= {a: 3.203125}  samples= None\n",
      "E=-7.86265326  angles= {a: 3.2265625}  samples= None\n",
      "E=-7.86268759  angles= {a: 3.21484375}  samples= None\n",
      "E=-7.86268902  angles= {a: 3.2109375}  samples= None\n",
      "E=-7.86268473  angles= {a: 3.20703125}  samples= None\n",
      "E=-7.86268759  angles= {a: 3.208984375}  samples= None\n",
      "E=-7.86268902  angles= {a: 3.2119375}  samples= None\n",
      "Optimizer: <class 'tequila.optimizers.optimizer_scipy.OptimizerSciPy'> \n",
      "backend         : qiskit\n",
      "device          : fake_valencia\n",
      "samples         : 10000\n",
      "save_history    : True\n",
      "noise           : None\n",
      "\n",
      "Method          : COBYLA\n",
      "Objective       : 2 expectationvalues\n",
      "\n",
      "active variables : 1\n",
      "\n",
      "E=-7.19717407  angles= {a: 0.0}  samples= 10000\n",
      "E=-7.32773733  angles= {a: 1.0}  samples= 10000\n",
      "E=-7.65208292  angles= {a: 2.0}  samples= 10000\n",
      "E=-7.85493469  angles= {a: 3.0}  samples= 10000\n",
      "E=-7.76740646  angles= {a: 4.0}  samples= 10000\n",
      "E=-7.84833336  angles= {a: 3.5}  samples= 10000\n",
      "E=-7.82716036  angles= {a: 2.75}  samples= 10000\n",
      "E=-7.86157417  angles= {a: 3.125}  samples= 10000\n",
      "E=-7.86226368  angles= {a: 3.25}  samples= 10000\n",
      "E=-7.85959530  angles= {a: 3.375}  samples= 10000\n",
      "E=-7.86165285  angles= {a: 3.3125}  samples= 10000\n",
      "E=-7.86258411  angles= {a: 3.21875}  samples= 10000\n",
      "E=-7.86222792  angles= {a: 3.1875}  samples= 10000\n",
      "E=-7.86213303  angles= {a: 3.203125}  samples= 10000\n",
      "E=-7.86276627  angles= {a: 3.2265625}  samples= 10000\n",
      "E=-7.86268902  angles= {a: 3.234375}  samples= 10000\n",
      "E=-7.86249495  angles= {a: 3.23046875}  samples= 10000\n",
      "E=-7.86264658  angles= {a: 3.224609375}  samples= 10000\n",
      "E=-7.86266994  angles= {a: 3.2275625}  samples= 10000\n",
      "Optimizer: <class 'tequila.optimizers.optimizer_scipy.OptimizerSciPy'> \n",
      "backend         : qulacs\n",
      "device          : None\n",
      "samples         : None\n",
      "save_history    : True\n",
      "noise           : None\n",
      "\n",
      "Method          : COBYLA\n",
      "Objective       : 2 expectationvalues\n",
      "\n",
      "active variables : 1\n",
      "\n",
      "E=-7.86186457  angles= {(0, ((0, 2), (1, 3)), None): 0.0}  samples= None\n",
      "E=-7.72876072  angles= {(0, ((0, 2), (1, 3)), None): 1.0}  samples= None\n",
      "E=-7.68934298  angles= {(0, ((0, 2), (1, 3)), None): -1.0}  samples= None\n",
      "E=-7.80994129  angles= {(0, ((0, 2), (1, 3)), None): -0.5}  samples= None\n",
      "E=-7.85732555  angles= {(0, ((0, 2), (1, 3)), None): 0.24999999999999997}  samples= None\n",
      "E=-7.85635090  angles= {(0, ((0, 2), (1, 3)), None): -0.12499999999999999}  samples= None\n",
      "E=-7.86267853  angles= {(0, ((0, 2), (1, 3)), None): 0.06249999999999999}  samples= None\n",
      "E=-7.86219120  angles= {(0, ((0, 2), (1, 3)), None): 0.125}  samples= None\n",
      "E=-7.86243439  angles= {(0, ((0, 2), (1, 3)), None): 0.031249999999999993}  samples= None\n",
      "E=-7.86267900  angles= {(0, ((0, 2), (1, 3)), None): 0.078125}  samples= None\n",
      "E=-7.86264801  angles= {(0, ((0, 2), (1, 3)), None): 0.0859375}  samples= None\n",
      "E=-7.86268663  angles= {(0, ((0, 2), (1, 3)), None): 0.07421875}  samples= None\n",
      "E=-7.86268902  angles= {(0, ((0, 2), (1, 3)), None): 0.0703125}  samples= None\n",
      "E=-7.86268616  angles= {(0, ((0, 2), (1, 3)), None): 0.06640625}  samples= None\n",
      "E=-7.86268854  angles= {(0, ((0, 2), (1, 3)), None): 0.068359375}  samples= None\n",
      "E=-7.86268854  angles= {(0, ((0, 2), (1, 3)), None): 0.0713125}  samples= None\n",
      "Optimizer: <class 'tequila.optimizers.optimizer_scipy.OptimizerSciPy'> \n",
      "backend         : qiskit\n",
      "device          : fake_valencia\n",
      "samples         : 10000\n",
      "save_history    : True\n",
      "noise           : None\n",
      "\n",
      "Method          : COBYLA\n",
      "Objective       : 2 expectationvalues\n",
      "\n",
      "active variables : 1\n",
      "\n",
      "E=-7.86178493  angles= {(0, ((0, 2), (1, 3)), None): 0.0}  samples= 10000\n",
      "E=-7.73168516  angles= {(0, ((0, 2), (1, 3)), None): 1.0}  samples= 10000\n",
      "E=-7.69636631  angles= {(0, ((0, 2), (1, 3)), None): -1.0}  samples= 10000\n",
      "E=-7.81055021  angles= {(0, ((0, 2), (1, 3)), None): -0.5}  samples= 10000\n",
      "E=-7.85741520  angles= {(0, ((0, 2), (1, 3)), None): 0.25}  samples= 10000\n",
      "E=-7.85695314  angles= {(0, ((0, 2), (1, 3)), None): -0.125}  samples= 10000\n",
      "E=-7.86335182  angles= {(0, ((0, 2), (1, 3)), None): 0.0625}  samples= 10000\n",
      "E=-7.86188793  angles= {(0, ((0, 2), (1, 3)), None): 0.125}  samples= 10000\n",
      "E=-7.86236048  angles= {(0, ((0, 2), (1, 3)), None): 0.09375}  samples= 10000\n",
      "E=-7.86209393  angles= {(0, ((0, 2), (1, 3)), None): 0.046875}  samples= 10000\n",
      "E=-7.86341619  angles= {(0, ((0, 2), (1, 3)), None): 0.0703125}  samples= 10000\n",
      "E=-7.86272430  angles= {(0, ((0, 2), (1, 3)), None): 0.078125}  samples= 10000\n",
      "E=-7.86239004  angles= {(0, ((0, 2), (1, 3)), None): 0.07421875}  samples= 10000\n",
      "E=-7.86265087  angles= {(0, ((0, 2), (1, 3)), None): 0.068359375}  samples= 10000\n",
      "E=-7.86216879  angles= {(0, ((0, 2), (1, 3)), None): 0.0713125}  samples= 10000\n",
      "VQE         = -7.86268902\n",
      "VQE (noisy) = -7.86276627\n",
      "UCC         = -7.86268902\n",
      "UCC (noisy) = -7.86341619\n"
     ]
    }
   ],
   "source": [
    "import tequila as tq\n",
    "# define the active space\n",
    "active_orbitals = {\"A1\":[1], \"B1\":[0]}\n",
    "samples = 10000\n",
    "if 'qiskit' in tq.INSTALLED_SIMULATORS:\n",
    "    backend = \"qiskit\"\n",
    "    device = \"fake_valencia\"\n",
    "else:\n",
    "    backend = None\n",
    "    device = None\n",
    "\n",
    "# define the molecule\n",
    "molecule = tq.chemistry.Molecule(geometry = \"H 0.0 0.0 0.0\\nLi 0.0 0.0 1.6\",\n",
    "                                 basis_set=\"sto-3g\",\n",
    "                                 active_orbitals=active_orbitals,\n",
    "                                 transformation=\"symmetry_conserving_bravyi_kitaev\")\n",
    "\n",
    "fci = molecule.compute_energy(\"fci\")\n",
    "\n",
    "H = molecule.make_hamiltonian()\n",
    "\n",
    "# Toy circuit (no deeper meaning)\n",
    "U = tq.gates.Ry(angle=\"a\", target=0)\n",
    "U += tq.gates.X(target=1, control=0)\n",
    "E = tq.ExpectationValue(H=H, U=U, optimize_measurements=True)\n",
    "\n",
    "vqe = tq.minimize(method=\"cobyla\", objective=E, initial_values=0.0)\n",
    "noisy_vqe = tq.minimize(method=\"cobyla\", objective=E, samples=samples, backend=backend, device=device, initial_values=0.0)\n",
    " \n",
    "# The same with UpCCGSD\n",
    "UpCCGSD = molecule.make_upccgsd_ansatz(include_singles=False)\n",
    "E2 = tq.ExpectationValue(H=H, U=UpCCGSD, optimize_measurements=True)\n",
    "ucc = tq.minimize(method=\"cobyla\", objective=E2, initial_values=0.0)\n",
    "noisy_ucc = tq.minimize(method=\"cobyla\", objective=E2, samples=samples,  backend=backend, device=device, initial_values=0.0)\n",
    "\n",
    "print(\"VQE         = {:2.8f}\".format(min(vqe.history.energies)))\n",
    "print(\"VQE (noisy) = {:2.8f}\".format(min(noisy_vqe.history.energies)))\n",
    "print(\"UCC         = {:2.8f}\".format(min(ucc.history.energies)))\n",
    "print(\"UCC (noisy) = {:2.8f}\".format(min(noisy_ucc.history.energies)))\n"
   ]
  },
  {
   "cell_type": "code",
   "execution_count": null,
   "metadata": {},
   "outputs": [],
   "source": []
  },
  {
   "cell_type": "code",
   "execution_count": null,
   "metadata": {},
   "outputs": [],
   "source": []
  },
  {
   "cell_type": "code",
   "execution_count": null,
   "metadata": {},
   "outputs": [],
   "source": []
  }
 ],
 "metadata": {
  "kernelspec": {
   "display_name": "tequila-3.6",
   "language": "python",
   "name": "tequila-3.6"
  },
  "language_info": {
   "codemirror_mode": {
    "name": "ipython",
    "version": 3
   },
   "file_extension": ".py",
   "mimetype": "text/x-python",
   "name": "python",
   "nbconvert_exporter": "python",
   "pygments_lexer": "ipython3",
   "version": "3.6.9"
  }
 },
 "nbformat": 4,
 "nbformat_minor": 2
}

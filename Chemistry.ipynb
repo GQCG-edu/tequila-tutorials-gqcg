{
 "cells": [
  {
   "cell_type": "markdown",
   "metadata": {},
   "source": [
    "# Tequila Chemistry Basics\n",
    "\n",
    "Here we show the basics of the tequila chemistry module.  \n",
    "\n",
    "- Initialization of molecules within tequila\n",
    "- Usage of different qubit encodings from openermion (JW, BK, BKSF, Tapered-BK)\n",
    "- Using basic functionality of Psi4 with tequila\n",
    "- Setting up active spaces\n",
    "- Constructing UCC based quantum circuits with tequila\n",
    "\n",
    "We recommend also to take a look at:  \n",
    "- [arxiv:2011.03057](https://arxiv.org/abs/2011.03057) that gives a general overview over `tequila` including chemistry applications\n",
    "- [arxiv:2011.05938](https://arxiv.org/abs/2011.05938) that describes the automatically differentiable framework for unitary coupled-cluster. This framework is automatically applied for all gates that are constructed with `mol.make_excitation_gate` function. \n",
    "\n",
    "In order for this notebook to work properly, you need to have psi4 installed in the same python environment as tequila.  \n",
    "If you are in a conda environment, installing psi4 is easy:\n",
    "`conda install psi4 -c psi4`  \n",
    "But better also check the [psi4 website](http://www.psicode.org/) for up to date instructions.\n",
    "\n",
    "In some cases, problems with the environment were observed which are suspected to originate from conflicts between psi4 and tequila dependcies.  \n",
    "Usually the safest way is to install psi4 **first** and then install tequila.    \n",
    "\n",
    "Basic functionality is currently also provided with PySCF which might be easier to install. \n",
    "\n",
    "`tequila` also supports `madness` as a quantum chemistry backend. With `madness` it is possible to construct system adapted Hamiltonians in a basis-set-free representation. It offers some extended features, but everything else (creating UCC circuits, fermion-to-qubit encodings, etc) stays roughly the same. For more information, see [arxiv:2008.02819](https://arxiv.org/abs/2008.02819) and the separate [tutorial](https://github.com/aspuru-guzik-group/tequila-tutorials/blob/main/ChemistryMadnessInterface.ipynb).  \n",
    "\n",
    "At the moment we only support automatized handling of closed-shell molecules. Note however, that this only concerns the computation of molecular orbitals; \n",
    "In other words: Only closed-shell references can be handeled automatically.\n",
    "\n",
    "**There might be issues with psi4 and jupyter, currently the workarround is to reload the kernel before a cell gets executed, or run as a regular python script**  \n",
    "(issue seems to be resolved, leaving this warning in, just in case)As alwasy: If you should experience any trouble, please raise an issue on github or contact us directly"
   ]
  },
  {
   "cell_type": "markdown",
   "metadata": {},
   "source": [
    "One of `tequila`s primary aims is to simplify usage of many specialized algorithms and programs. The underlying technology should however be acknowledged, so if you are using the interface please acknowledge/cite the following articles (we give arxiv links to provide open access to the articles, but please cite the scientific journals if the articles have been published there):\n",
    "\n",
    "- [arxiv:2011.03057](https://arxiv.org/abs/2011.03057) giving the general overview of tequila.\n",
    "- [arxiv:2011.05938](https://arxiv.org/abs/2011.05938) describing the automatically differentiable framework for unitary coupled-cluster (those techniques are automatically applied in the background). \n",
    "- [OpenFermion](https://github.com/quantumlib/OpenFermion) that handles the standard fermion-to-qubit mappings.\n",
    "- Please also cite the corresponding articles of the quantum simulators (if not specified, this is usually [qulacs](https://github.com/qulacs/qulacs)) and optimizers that you are using within  `tequila` and the corresponding quantum chemistry backends (like [Psi4](https://github.com/psi4/psi4), [madness](https://github.com/m-a-d-n-e-s-s/madness) or [PySCF](https://github.com/pyscf)). "
   ]
  },
  {
   "cell_type": "code",
   "execution_count": 1,
   "metadata": {},
   "outputs": [],
   "source": [
    "# needs version >= 1.5 for full functionality\n",
    "import tequila as tq"
   ]
  },
  {
   "cell_type": "markdown",
   "metadata": {},
   "source": [
    "## Initialize Molecules\n",
    "\n",
    "Molecules can be initialized by passing their geometries as string or the name of a `xyz` file.  \n",
    "So instead of the example in the code cell below, you could also specify `geometry=lih.xyz` and provide a file `lih.xyz` that gives the LiH coordinates in [xyz](https://en.wikipedia.org/wiki/XYZ_file_format) format. As it is often conventional in quantum chemistry, molecular coordinates are expected in Ångstrom units while all other quantities (energies) will be in atomic units (Hartree).  \n",
    "You can print out the `Molecule` object to receive more information."
   ]
  },
  {
   "cell_type": "code",
   "execution_count": 2,
   "metadata": {},
   "outputs": [
    {
     "name": "stdout",
     "output_type": "stream",
     "text": [
      "<class 'tequila.quantumchemistry.psi4_interface.QuantumChemistryPsi4'>\n",
      "Qubit Encoding\n",
      "JordanWigner\n",
      "\n",
      "Parameters\n",
      "basis_set       : sto-3g          \n",
      "geometry        : H 0.0 0.0 0.0\n",
      "Li 0.0 0.0 1.6 \n",
      "description     :                 \n",
      "multiplicity    : 1               \n",
      "charge          : 0               \n",
      "closed_shell    : True            \n",
      "name            : molecule        \n",
      "\n",
      "Psi4 Data\n",
      "Point Group (full) : c_inf_v         \n",
      "Point Group (used) : c2v             \n",
      "nirrep          : 4 \n",
      "irreps          : ['A1', 'A2', 'B1', 'B2'] \n",
      "mos per irrep   : [4, 0, 1, 1]    \n",
      "\n",
      "Orbitals:\n",
      "0 : 0A1 energy = -2.348839 \n",
      "1 : 1A1 energy = -0.285276 \n",
      "2 : 2A1 energy = +0.078216 \n",
      "3 : 0B2 energy = +0.163950 \n",
      "4 : 0B1 energy = +0.163950 \n",
      "5 : 3A1 energy = +0.547769 \n",
      "\n"
     ]
    }
   ],
   "source": [
    "import tequila as tq\n",
    "molecule = tq.chemistry.Molecule(geometry = \"H 0.0 0.0 0.0\\nLi 0.0 0.0 1.6\", basis_set=\"sto-3g\")\n",
    "print(molecule)"
   ]
  },
  {
   "cell_type": "markdown",
   "metadata": {},
   "source": [
    "### Molecular Orbitals and Point-Groups\n",
    "As seen in the above printout, the (spatial) molecular orbitals are labelled by their irreducible representations. \n",
    "If you are not familiar with discrete point-groups: Just ignore that information. It is not needed in any of our functions, but you might want to use that information for your own algorithms.  \n",
    "\n",
    "The full point-group of the linear LiH molecule is $C_{{\\infty}v}$, `Psi4` can however only handle abelian point-groups and resorts to the largest abelian subgroup, that is in this case $C_{2v}$. \n",
    "\n",
    "In case you want to change the point-group you can do so by providing the `Molecule` initialization with the keyword: `point_group='POINT_GROUP_NAME'`.  \n",
    "\n",
    "The `mol.orbitals` array carries all information about the orbitals (energies are in this case the Hartree-Fock orbital energies).  "
   ]
  },
  {
   "cell_type": "code",
   "execution_count": 3,
   "metadata": {},
   "outputs": [
    {
     "data": {
      "text/plain": [
       "QuantumChemistryPsi4.OrbitalData(irrep='B2', idx_irrep=0, idx_total=3, energy=0.16394999261428023)"
      ]
     },
     "execution_count": 3,
     "metadata": {},
     "output_type": "execute_result"
    }
   ],
   "source": [
    "molecule.orbitals[3]"
   ]
  },
  {
   "cell_type": "markdown",
   "metadata": {},
   "source": [
    "### Initialize Qubit-Hamiltonians"
   ]
  },
  {
   "cell_type": "markdown",
   "metadata": {},
   "source": [
    "You can initialize a tequila `QubitHamiltonian` from a molecule with `make_hamiltonian`.\n",
    "The standard transformation is the `jordan-wigner` transformation.  \n",
    "You can use other transformations by initializing the molecule with the `transformation` keyword."
   ]
  },
  {
   "cell_type": "code",
   "execution_count": 4,
   "metadata": {},
   "outputs": [
    {
     "name": "stdout",
     "output_type": "stream",
     "text": [
      "Hamiltonian has 631 terms\n",
      "Hamiltonian has 12 qubits\n"
     ]
    }
   ],
   "source": [
    "import tequila as tq\n",
    "H = molecule.make_hamiltonian()\n",
    "# the LiH Hamiltonian is already quite large, better not print the full thing\n",
    "print(\"Hamiltonian has {} terms\".format(len(H)))\n",
    "print(\"Hamiltonian has {} qubits\".format(H.n_qubits))"
   ]
  },
  {
   "cell_type": "markdown",
   "metadata": {},
   "source": [
    "Here are some examples where we initialize the `Molecule` with different transformation keywords.  "
   ]
  },
  {
   "cell_type": "code",
   "execution_count": 5,
   "metadata": {},
   "outputs": [
    {
     "name": "stdout",
     "output_type": "stream",
     "text": [
      "Hamiltonian has 631 terms\n",
      "Hamiltonian has 12 qubits\n"
     ]
    }
   ],
   "source": [
    "molecule = tq.chemistry.Molecule(geometry = \"H 0.0 0.0 0.0\\nLi 0.0 0.0 1.6\", basis_set=\"sto-3g\", transformation=\"BravyiKitaev\")\n",
    "H = molecule.make_hamiltonian()\n",
    "print(\"Hamiltonian has {} terms\".format(len(H)))\n",
    "print(\"Hamiltonian has {} qubits\".format(H.n_qubits))"
   ]
  },
  {
   "cell_type": "code",
   "execution_count": 7,
   "metadata": {},
   "outputs": [
    {
     "name": "stdout",
     "output_type": "stream",
     "text": [
      "Hamiltonian has 631 terms\n",
      "Hamiltonian has 10 qubits\n"
     ]
    }
   ],
   "source": [
    "# symmetry_conserving_bravyi_kitaev in older tequila versions\n",
    "molecule = tq.chemistry.Molecule(geometry = \"H 0.0 0.0 0.0\\nLi 0.0 0.0 1.6\", basis_set=\"sto-3g\", transformation=\"TaperedBravyiKitaev\")\n",
    "H = molecule.make_hamiltonian()\n",
    "print(\"Hamiltonian has {} terms\".format(len(H)))\n",
    "print(\"Hamiltonian has {} qubits\".format(H.n_qubits))"
   ]
  },
  {
   "cell_type": "markdown",
   "metadata": {},
   "source": [
    "## Using different Qubit Encodings of OpenFermion"
   ]
  },
  {
   "cell_type": "markdown",
   "metadata": {},
   "source": [
    "The different qubit encodings of openfermion can be applied by passing the keyword `transformation` to the molecule and setting it to the name of the corresponding openfermion function.  \n",
    "\n",
    "Some of those transformation might require additional keywords. Following `psi4` conventions those should be given to the `Molecule` initialization with the prefix `transformation__`. For most of them, `tequila` is however able to assign the keys automatically (see above for the `TaperedBravyiKitaev` transformation, that tapers off two qubits.\n",
    "\n",
    "In the following we provide some examples using various transformations from openfermion"
   ]
  },
  {
   "cell_type": "code",
   "execution_count": 8,
   "metadata": {},
   "outputs": [
    {
     "name": "stdout",
     "output_type": "stream",
     "text": [
      "Jordan-Wigner\n",
      " -0.0421+0.1777Z(0)+0.1777Z(1)-0.2427Z(2)-0.2427Z(3)+0.1706Z(0)Z(1)+0.0448Y(0)X(1)X(2)Y(3)-0.0448Y(0)Y(1)X(2)X(3)-0.0448X(0)X(1)Y(2)Y(3)+0.0448X(0)Y(1)Y(2)X(3)+0.1229Z(0)Z(2)+0.1677Z(0)Z(3)+0.1677Z(1)Z(2)+0.1229Z(1)Z(3)+0.1763Z(2)Z(3)\n",
      "lowest energy =  -1.1361894540879054\n",
      "Bravyi-Kitaev\n",
      " -0.0421+0.1777Z(0)+0.1777Z(0)Z(1)-0.2427Z(2)-0.2427Z(1)Z(2)Z(3)+0.1706Z(1)+0.0448Y(0)Z(1)Y(2)Z(3)+0.0448X(0)Z(1)X(2)+0.0448X(0)Z(1)X(2)Z(3)+0.0448Y(0)Z(1)Y(2)+0.1229Z(0)Z(2)+0.1677Z(0)Z(1)Z(2)Z(3)+0.1677Z(0)Z(1)Z(2)+0.1229Z(0)Z(2)Z(3)+0.1763Z(1)Z(3)\n",
      "lowest energy =  -1.136189454087905\n",
      "TaperedBravyiKitaev\n",
      " -0.2879+0.4205Z(0)+0.4205Z(1)+0.0115Z(0)Z(1)+0.1790X(0)X(1)\n",
      "lowest energy =  -1.1361894540879054\n"
     ]
    }
   ],
   "source": [
    "import tequila as tq\n",
    "import numpy\n",
    "geomstring = \"H 0.0 0.0 0.0\\nH 0.0 0.0 0.7\"\n",
    "basis_set = \"sto-3g\"\n",
    "\n",
    "# Jordan-Wigner (this is the default)\n",
    "mol = tq.chemistry.Molecule(geometry=geomstring, basis_set=basis_set, transformation=\"jordan_wigner\")\n",
    "H = mol.make_hamiltonian()\n",
    "print(\"Jordan-Wigner\\n\", H)\n",
    "eigenValues = numpy.linalg.eigvalsh(H.to_matrix())\n",
    "print(\"lowest energy = \", eigenValues[0])\n",
    "\n",
    "# Bravyi-Kitaev\n",
    "mol = tq.chemistry.Molecule(geometry=geomstring, basis_set=basis_set, transformation=\"bravyi_kitaev\")\n",
    "H = mol.make_hamiltonian()\n",
    "print(\"Bravyi-Kitaev\\n\", H)\n",
    "eigenValues = numpy.linalg.eigvalsh(H.to_matrix())\n",
    "print(\"lowest energy = \", eigenValues[0])\n",
    "\n",
    "# symmetry_conserving_bravyi_kitaev in old versions\n",
    "# this transformation will taper off two qubits of the Hamiltonian\n",
    "# it needs additional information on the number of spin-orbitals and the active_fermions/electrons in the system\n",
    "mol = tq.chemistry.Molecule(geometry=geomstring, basis_set=basis_set,\n",
    "                              transformation=\"TaperedBravyiKitaev\")\n",
    "H = mol.make_hamiltonian()\n",
    "print(\"TaperedBravyiKitaev\\n\", H)\n",
    "eigenValues = numpy.linalg.eigvalsh(H.to_matrix())\n",
    "print(\"lowest energy = \", eigenValues[0])\n",
    "\n",
    "# Symmetry "
   ]
  },
  {
   "cell_type": "markdown",
   "metadata": {},
   "source": [
    "## Setting active spaces\n",
    "\n",
    "You can define active spaces on your molcule by passing down a dictionary of active orbitals.  \n",
    "The orbitals are grouped into the irreducible representation of the underlying symmetry group (see the printout of `print(molecule)` above).\n",
    "\n",
    "Lets take the LiH molecule from above but initialize it with an active space containing the second two A1 orbitals (meaning the first 0A1 orbital is frozen) and the B1 orbital"
   ]
  },
  {
   "cell_type": "code",
   "execution_count": 9,
   "metadata": {},
   "outputs": [
    {
     "name": "stdout",
     "output_type": "stream",
     "text": [
      "Hamiltonian has 62 terms\n"
     ]
    }
   ],
   "source": [
    "import tequila as tq\n",
    "active_orbitals = {\"A1\":[1,2], \"B1\":[0]}\n",
    "molecule = tq.chemistry.Molecule(geometry = \"H 0.0 0.0 0.0\\nLi 0.0 0.0 1.6\", basis_set=\"sto-3g\", active_orbitals=active_orbitals)\n",
    "H = molecule.make_hamiltonian()\n",
    "print(\"Hamiltonian has {} terms\".format(len(H)))"
   ]
  },
  {
   "cell_type": "markdown",
   "metadata": {},
   "source": [
    "Lets make the active space even smaller, so that we can print out the full Hamiltonian"
   ]
  },
  {
   "cell_type": "code",
   "execution_count": 10,
   "metadata": {},
   "outputs": [
    {
     "name": "stdout",
     "output_type": "stream",
     "text": [
      "Hamiltonian has 15 terms\n",
      "-7.4711+0.1352Z(0)+0.1352Z(1)-0.0310Z(2)-0.0310Z(3)+0.1218Z(0)Z(1)+0.0059Y(0)X(1)X(2)Y(3)-0.0059Y(0)Y(1)X(2)X(3)-0.0059X(0)X(1)Y(2)Y(3)+0.0059X(0)Y(1)Y(2)X(3)+0.0617Z(0)Z(2)+0.0675Z(0)Z(3)+0.0675Z(1)Z(2)+0.0617Z(1)Z(3)+0.0782Z(2)Z(3)\n"
     ]
    }
   ],
   "source": [
    "import tequila as tq\n",
    "active_orbitals = {\"A1\":[1], \"B1\":[0]}\n",
    "molecule = tq.chemistry.Molecule(geometry = \"H 0.0 0.0 0.0\\nLi 0.0 0.0 1.6\", basis_set=\"sto-3g\", active_orbitals=active_orbitals)\n",
    "H = molecule.make_hamiltonian()\n",
    "print(\"Hamiltonian has {} terms\".format(len(H)))\n",
    "print(H)"
   ]
  },
  {
   "cell_type": "markdown",
   "metadata": {},
   "source": [
    "## Computing classical methods with Psi4\n",
    "\n",
    "We can use psi4 to compute the energies (and sometimes other quantities) with the `compute_energy` function.\n",
    "Here are some examples. Note that the energies are computed within the active space if one is set.\n",
    "\n",
    "Note also that not all active spaces can be represented by psi4 which will mean you can/should not use the classical psi4 methods with those (a warning will be printed). You will still get the right active space hamiltonian however.\n",
    "\n",
    "Active spaces which will not work for psi4 methds are the ones where the orbitals of individual irreps are not in one block ( e.g. {`\"A1\":[1,3]`} )"
   ]
  },
  {
   "cell_type": "code",
   "execution_count": 11,
   "metadata": {},
   "outputs": [
    {
     "name": "stdout",
     "output_type": "stream",
     "text": [
      "There are known issues with some psi4 methods and frozen virtual orbitals. Proceed with fingers crossed for mp2.\n",
      "{(1, 0, 1, 0): -0.02606939581097375, (2, 0, 2, 0): -0.02606939581097238}\n",
      "{(1, 0, 1, 0): -0.027418022914682514, (2, 0, 2, 0): -0.02741802291468251}\n"
     ]
    }
   ],
   "source": [
    "import tequila as tq\n",
    "active_orbitals = {\"A1\":[1], \"B1\":[0], \"B2\":[0]}\n",
    "molecule = tq.chemistry.Molecule(geometry = \"H 0.0 0.0 0.0\\nLi 0.0 0.0 1.6\", basis_set=\"sto-3g\", active_orbitals=active_orbitals)\n",
    "\n",
    "mp2 = molecule.compute_energy(method=\"mp2\")\n",
    "\n",
    "# Note there are known issues for some methods when the active space as frozen virtuals as is the case here\n",
    "# detci based methods are fine again \n",
    "fci = molecule.compute_energy(method=\"fci\")\n",
    "\n",
    "# for most coupled-cluster like models you can compute amplitudes\n",
    "# Amplitudes are computed in c1 and in the full space, this is why the active space troubles from above usually don't hold\n",
    "# Note that amplitudes are in closed-shell\n",
    "amplitudes = molecule.compute_amplitudes(\"mp2\")\n",
    "\n",
    "# you can export a parameter dictionary which holds the indices of the amplitude as keys and values as values\n",
    "# for this small active space that is only one amplitude for mp2\n",
    "variables = amplitudes.make_parameter_dictionary()\n",
    "print(variables)\n",
    "\n",
    "# similar for ccsd since the singles are 0 due to symmetry (that changes if you change the active space)\n",
    "amplitudes = molecule.compute_amplitudes(\"ccsd\")\n",
    "variables = amplitudes.make_parameter_dictionary()\n",
    "print(variables)"
   ]
  },
  {
   "cell_type": "markdown",
   "metadata": {},
   "source": [
    "## Hello World \"H2\" optimization with LiH in an active space"
   ]
  },
  {
   "cell_type": "markdown",
   "metadata": {},
   "source": [
    "Lets do a small hand-constructed VQE like it would be done for the Hydrogen molecule in STO-3G, just that we use our active space LiH molecule from the cell above.\n",
    "For consistency reasons we initialize everything again.  \n",
    "\n",
    "Check the `BasicUsage` and `SciPyOptimizers` tutorial notebooks for more information about then"
   ]
  },
  {
   "cell_type": "code",
   "execution_count": 12,
   "metadata": {},
   "outputs": [
    {
     "name": "stderr",
     "output_type": "stream",
     "text": [
      "WARNING:absl:No GPU/TPU found, falling back to CPU. (Set TF_CPP_MIN_LOG_LEVEL=0 and rerun for more info.)\n"
     ]
    },
    {
     "name": "stdout",
     "output_type": "stream",
     "text": [
      "Optimizer: <class 'tequila.optimizers.optimizer_scipy.OptimizerSciPy'> \n",
      "backend         : qulacs\n",
      "device          : None\n",
      "samples         : None\n",
      "save_history    : True\n",
      "noise           : None\n",
      "\n",
      "Method          : BFGS\n",
      "Objective       : 1 expectationvalues\n",
      "gradient        : 2 expectationvalues\n",
      "\n",
      "active variables : 1\n",
      "\n",
      "E=-7.19702401  angles= {a: 0.0}  samples= None\n",
      "E=-7.19766373  angles= {a: -0.0234220027923584}  samples= None\n",
      "E=-7.20203763  angles= {a: -0.11711001396179199}  samples= None\n",
      "E=-7.24749228  angles= {a: -0.49186205863952637}  samples= None\n",
      "E=-7.68640044  angles= {a: -1.9908702373504639}  samples= None\n",
      "E=-7.59671569  angles= {a: -7.986902952194214}  samples= None\n",
      "E=-7.86212174  angles= {a: -3.1296004573374767}  samples= None\n",
      "E=-7.59889693  angles= {a: -1.7104055550334705}  samples= None\n",
      "E=-7.86268191  angles= {a: -3.0777237637496664}  samples= None\n",
      "E=-7.86268890  angles= {a: -3.0712456201159157}  samples= None\n",
      "Optimization terminated successfully.\n",
      "         Current function value: -7.862689\n",
      "         Iterations: 3\n",
      "         Function evaluations: 10\n",
      "         Gradient evaluations: 10\n",
      "VQE : -7.8626889f\n",
      "FCI : -7.8626889f\n"
     ]
    }
   ],
   "source": [
    "import tequila as tq\n",
    "# define the active space\n",
    "active_orbitals = {\"A1\":[1], \"B1\":[0]}\n",
    "\n",
    "# define the molecule\n",
    "molecule = tq.chemistry.Molecule(geometry = \"H 0.0 0.0 0.0\\nLi 0.0 0.0 1.6\", basis_set=\"sto-3g\", active_orbitals=active_orbitals)\n",
    "\n",
    "# make the hamiltonian\n",
    "H = molecule.make_hamiltonian()\n",
    "\n",
    "# define a hand designed circuit\n",
    "U = tq.gates.Ry(angle=\"a\", target=0) + tq.gates.X(target=[2,3])\n",
    "U += tq.gates.X(target=1, control=0)\n",
    "U += tq.gates.X(target=2, control=0)\n",
    "U += tq.gates.X(target=3, control=1)\n",
    "\n",
    "# define the expectationvalue\n",
    "E = tq.ExpectationValue(H=H, U=U)\n",
    "\n",
    "# optimize\n",
    "result = tq.minimize(objective=E, method=\"BFGS\", initial_values={k:0.0 for k in E.extract_variables()})\n",
    "\n",
    "# compute a reference value with psi4\n",
    "fci = molecule.compute_energy(method=\"fci\")\n",
    "\n",
    "print(\"VQE : {:+2.8}f\".format(result.energy))\n",
    "print(\"FCI : {:+2.8}f\".format(fci))\n"
   ]
  },
  {
   "cell_type": "code",
   "execution_count": 13,
   "metadata": {},
   "outputs": [
    {
     "data": {
      "image/png": "[encoded data removed]",
      "text/plain": [
       "<Figure size 432x288 with 1 Axes>"
      ]
     },
     "metadata": {
      "needs_background": "light"
     },
     "output_type": "display_data"
    }
   ],
   "source": [
    "# some more information from the optimization\n",
    "result.history.plot(\"energies\", baselines={\"fci\":fci})"
   ]
  },
  {
   "cell_type": "markdown",
   "metadata": {},
   "source": [
    "## Unitary Coupled-Cluster Style Construction\n",
    "\n",
    "Here we show how to initialize in the style of unitary coupled-cluster.  \n",
    "See also the overview article [arxiv.org/abs/2011.03057](https://arxiv.org/abs/2011.03057) for more details about the underlying methods.\n",
    "\n",
    "In the next example we are gonna compute the `mp2` amplitudes and build a UCC type circuit from them.  \n",
    "Here we use the cc2 amplitudes only to define an order on the trotterized gates and remove small amplitudes as classical prescreening.\n",
    "\n",
    "We use again an active space to make the computation fast.\n",
    "\n",
    "First we start with the manual construction and then show how to use in build convenience functions of tequila to.\n",
    "\n",
    "An important function is the `make_excitation_generator` function of the molecule.  \n",
    "This initializes a `QubitHamiltonian` which can be used to define a unitary gate which acts as excitation operation of electrons.\n",
    "\n",
    "$$\\displaystyle\n",
    "U(\\theta) = e^{-i\\frac{\\theta}{2} G_{iajbkc\\dots}}\n",
    "$$\n",
    "\n",
    "In fermionic language the generator is defined as\n",
    "\n",
    "$$\n",
    "G_{ia,jb,jc,\\dots} =  i ( a^\\dagger_a a_i a^\\dagger_b a_j a^\\dagger_c a_k \\dots - h.c. )\n",
    "$$\n",
    "\n",
    "The `make_excitation_generator` function gives back this generator in the qubit representation (depends on the chosen `transformation` of the molecule) and takes the indices as list of tuples  \n",
    "  \n",
    "$$\n",
    "\\texttt{make_excitation_generator(indices=[(a,i),(b,j),...])} \\longrightarrow G_{ia,jb,jc,\\dots}\n",
    "$$\n",
    "\n",
    "You can use those generators to initialize \\textit{formally} Trotterized Gates (one step is exact):  \n",
    "$$\n",
    "\\texttt{tq.gates.Trotterized(generators=[generator], angles=[\"a\"], steps=1)} \\longrightarrow U(\\theta) = e^{-i\\frac{\\theta}{2} G_{iajbkc\\dots}}\n",
    "$$\n",
    "\n",
    "The last part was the general construction of gates over their parameters. In the case of Unitary coupled-cluster you can define fermionic gates directly, \\textsc{tequila} will then be able to compute analytical gradients with substantially reduced cost (see this article for an in-depth description: [arxiv.org/abs/2011.05938](https://arxiv.org/abs/2011.05938)). The fermionic gate is initialized over the same list of index-tuples that initialize generators:\n",
    "\n",
    "$$\n",
    "\\texttt{make_excitation_gate(indices=[(a,i),(b,j),...])} \\longrightarrow U(\\theta) = e^{-i\\frac{\\theta}{2} G_{iajbkc\\dots}}\n",
    "$$\n",
    "\n",
    "Angles can be either numeric types (such as 1.0, 1.5, numpy.pi/2) for fixed angles, any hashable type (such as \"a\", \"xyz\", (1,2,3) ) for variables, or a tequila objective for variable dependent transformations (see also the BasicUsage tutorial here). \n"
   ]
  },
  {
   "cell_type": "markdown",
   "metadata": {},
   "source": [
    "### Manual Construction"
   ]
  },
  {
   "cell_type": "code",
   "execution_count": 14,
   "metadata": {},
   "outputs": [
    {
     "name": "stdout",
     "output_type": "stream",
     "text": [
      "MP2 Amplitudes:\n",
      " {(1, 0, 1, 0): -0.02606939581097238}\n",
      "This is our circuit:\n",
      "circuit: \n",
      "X(target=(0,))\n",
      "X(target=(1,))\n",
      "FermionicExcitation(target=(0, 1, 2, 3), control=(), parameter=f([a]))\n",
      "\n",
      "Optimizer: <class 'tequila.optimizers.optimizer_scipy.OptimizerSciPy'> \n",
      "backend         : qulacs\n",
      "device          : None\n",
      "samples         : None\n",
      "save_history    : True\n",
      "noise           : None\n",
      "\n",
      "Method          : BFGS\n",
      "Objective       : 1 expectationvalues\n",
      "gradient        : 2 expectationvalues\n",
      "\n",
      "active variables : 1\n",
      "\n",
      "E=-7.86132988  angles= {a: 0.01}  samples= None\n",
      "E=-7.86253976  angles= {a: -0.05013059616088867}  samples= None\n",
      "E=-7.86268890  angles= {a: -0.03515792946196591}  samples= None\n",
      "Optimization terminated successfully.\n",
      "         Current function value: -7.862689\n",
      "         Iterations: 2\n",
      "         Function evaluations: 3\n",
      "         Gradient evaluations: 3\n",
      "VQE : -7.8626889f\n",
      "FCI : -7.8626889f\n",
      "MP2 Amplitudes: {(1, 0, 1, 0): -0.02606939581097238}\n",
      "Optimized UCC Amplitudes: a : -0.03515792946196591\n",
      "\n"
     ]
    }
   ],
   "source": [
    "import tequila as tq\n",
    "threshold = 1.e-6\n",
    "\n",
    "# define the active space\n",
    "active_orbitals = {\"A1\":[1], \"B1\":[0]}\n",
    "\n",
    "# define the molecule\n",
    "molecule = tq.chemistry.Molecule(geometry = \"H 0.0 0.0 0.0\\nLi 0.0 0.0 1.6\", basis_set=\"sto-3g\", active_orbitals=active_orbitals)\n",
    "# make the hamiltonian\n",
    "H = molecule.make_hamiltonian()\n",
    "\n",
    "# compute classical amplitudes\n",
    "amplitudes = molecule.compute_amplitudes(method=\"mp2\")\n",
    "\n",
    "# in this example there is only one closed-shell MP2 amplitude, therefore manual construction is reasonable in this tutorial\n",
    "# first we make a dictionary out of the non-zero MP2 amplitudes\n",
    "ampdict = amplitudes.make_parameter_dictionary(threshold=threshold)\n",
    "print(\"MP2 Amplitudes:\\n\", ampdict)\n",
    "# lets get the indices of the only amplitude which is there manually\n",
    "indices = list(ampdict.keys())[0]\n",
    "\n",
    "# the (1, 0, 1, 0) index in closed shell leads to the (2, 0, 3, 1) and (3, 1, 2, 0) excitations on the qubits\n",
    "# but first we need to initialize the hartree fock state\n",
    "U = molecule.prepare_reference()\n",
    "\n",
    "# UCC excitation gates can be directly initialized as follows:\n",
    "# This will lead to significantly reduced cost in gradient evaluation (see text cell above)\n",
    "# We also illustrate here how to define transformed angles by scaling the angle with 2.0\n",
    "# (this makes it comarable to the MP2 amplitude, since it cancels out the conventional factor of 1/2 in the definition of the gates)\n",
    "a = tq.Variable(\"a\")\n",
    "U += molecule.make_excitation_gate(indices=[(3, 1),(2, 0)], angle=2.0*a)\n",
    "\n",
    "print(\"This is our circuit:\")\n",
    "print(U)\n",
    "\n",
    "# lets form the expectation value\n",
    "E = tq.ExpectationValue(H=H, U=U)\n",
    "\n",
    "# optimize\n",
    "result = tq.minimize(objective=E, method=\"BFGS\", initial_values={k:0.01 for k in E.extract_variables()})\n",
    "\n",
    "# compute a reference value with psi4\n",
    "fci = molecule.compute_energy(method=\"fci\")\n",
    "print(\"VQE : {:+2.8}f\".format(result.energy))\n",
    "print(\"FCI : {:+2.8}f\".format(fci))\n",
    "print(\"MP2 Amplitudes:\", ampdict) # indices in spatial orbital notation\n",
    "print(\"Optimized UCC Amplitudes:\", result.variables) # indices in spin-orbital notation\n",
    "\n"
   ]
  },
  {
   "cell_type": "markdown",
   "metadata": {},
   "source": [
    "### Automatic Construction"
   ]
  },
  {
   "cell_type": "code",
   "execution_count": 15,
   "metadata": {},
   "outputs": [
    {
     "name": "stdout",
     "output_type": "stream",
     "text": [
      "Optimizer: <class 'tequila.optimizers.optimizer_scipy.OptimizerSciPy'> \n",
      "backend         : qulacs\n",
      "device          : None\n",
      "samples         : None\n",
      "save_history    : True\n",
      "noise           : None\n",
      "\n",
      "Method          : BFGS\n",
      "Objective       : 1 expectationvalues\n",
      "gradient        : 2 expectationvalues\n",
      "\n",
      "active variables : 1\n",
      "\n",
      "E=-7.86186477  angles= {(1, 0, 1, 0): 0.0}  samples= None\n",
      "E=-7.86259809  angles= {(1, 0, 1, 0): -0.0468440055847168}  samples= None\n",
      "E=-7.86268890  angles= {(1, 0, 1, 0): -0.03516504106977361}  samples= None\n",
      "Optimization terminated successfully.\n",
      "         Current function value: -7.862689\n",
      "         Iterations: 2\n",
      "         Function evaluations: 3\n",
      "         Gradient evaluations: 3\n",
      "VQE : -7.8626889f\n",
      "FCI : -7.8626889f\n"
     ]
    }
   ],
   "source": [
    "import tequila as tq\n",
    "threshold = 1.e-6\n",
    "\n",
    "# define the active space\n",
    "active_orbitals = {\"A1\":[1], \"B1\":[0]}\n",
    "\n",
    "# define the molecule\n",
    "molecule = tq.chemistry.Molecule(geometry = \"H 0.0 0.0 0.0\\nLi 0.0 0.0 1.6\", basis_set=\"sto-3g\", active_orbitals=active_orbitals)\n",
    "\n",
    "# make the hamiltonian\n",
    "H = molecule.make_hamiltonian()\n",
    "\n",
    "# make the UCCSD ansatz (note that this will be without singles since it starts from mp2)\n",
    "U = molecule.make_uccsd_ansatz(initial_amplitudes=\"mp2\", threshold=threshold, trotter_steps=1)\n",
    "\n",
    "# define the expectationvalue\n",
    "E = tq.ExpectationValue(H=H, U=U)\n",
    "\n",
    "# optimize\n",
    "result = tq.minimize(objective=E, method=\"BFGS\", initial_values={k:0.0 for k in E.extract_variables()})\n",
    "\n",
    "# compute a reference value with psi4\n",
    "fci = molecule.compute_energy(method=\"fci\")\n",
    "\n",
    "print(\"VQE : {:+2.8}f\".format(result.energy))\n",
    "print(\"FCI : {:+2.8}f\".format(fci))\n",
    "    \n",
    "    "
   ]
  },
  {
   "cell_type": "markdown",
   "metadata": {},
   "source": [
    "### Pi System of Benzene\n",
    "Here is the \\pi-system of Benzene, computed with the [UpCCGSD](https://pubs.acs.org/doi/10.1021/acs.jctc.8b01004) ansatz. The fermionic gradient techniques from [arxiv.org/abs/2011.05938](https://arxiv.org/abs/2011.05938) allow us to compute analytical gradients with a cost factor of 2 (this is the same cost as the cheapest 2-point numerical stencils). We neglect the singles here to speed-up the computation - so essentially this is UpCCGD. You can increase the `order` (in other words, the number of UpCCGD layers) to yield better energies. You can also try to build a batched optimization by re-using results from previous optimizations (get the optimized variables over `result.variables`)"
   ]
  },
  {
   "cell_type": "code",
   "execution_count": 16,
   "metadata": {},
   "outputs": [
    {
     "name": "stdout",
     "output_type": "stream",
     "text": [
      "There are known issues with some psi4 methods and frozen virtual orbitals. Proceed with fingers crossed for mp2.\n",
      "Optimizer: <class 'tequila.optimizers.optimizer_scipy.OptimizerSciPy'> \n",
      "backend         : qulacs\n",
      "device          : None\n",
      "samples         : None\n",
      "save_history    : True\n",
      "noise           : None\n",
      "\n",
      "Method          : BFGS\n",
      "Objective       : 1 expectationvalues\n",
      "gradient        : 18 expectationvalues\n",
      "\n",
      "active variables : 9\n",
      "\n",
      "E=-227.88792153  angles= {(((0, 3),), 'D', (None, 0)): 0.0, (((0, 4),), 'D', (None, 0)): 0.0, (((0, 5),), 'D', (None, 0)): 0.0, (((1, 3),), 'D', (None, 0)): 0.0, (((1, 4),), 'D', (None, 0)): 0.0, (((1, 5),), 'D', (None, 0)): 0.0, (((2, 3),), 'D', (None, 0)): 0.0, (((2, 4),), 'D', (None, 0)): 0.0, (((2, 5),), 'D', (None, 0)): 0.0}  samples= None\n",
      "E=-227.91711515  angles= {(((0, 3),), 'D', (None, 0)): -0.0558624267578125, (((0, 4),), 'D', (None, 0)): -0.0558624267578125, (((0, 5),), 'D', (None, 0)): -0.04338836669921875, (((1, 3),), 'D', (None, 0)): -0.0554046630859375, (((1, 4),), 'D', (None, 0)): -0.09698486328125, (((1, 5),), 'D', (None, 0)): -0.0570220947265625, (((2, 3),), 'D', (None, 0)): -0.09698486328125, (((2, 4),), 'D', (None, 0)): -0.05541229248046875, (((2, 5),), 'D', (None, 0)): -0.0570220947265625}  samples= None\n",
      "E=-227.92871673  angles= {(((0, 3),), 'D', (None, 0)): -0.09783881287982635, (((0, 4),), 'D', (None, 0)): -0.09763543277962232, (((0, 5),), 'D', (None, 0)): -0.0527418878513585, (((1, 3),), 'D', (None, 0)): -0.11231181517615363, (((1, 4),), 'D', (None, 0)): -0.2223898506806732, (((1, 5),), 'D', (None, 0)): -0.09311713965784227, (((2, 3),), 'D', (None, 0)): -0.22234626923062945, (((2, 4),), 'D', (None, 0)): -0.11221853328219658, (((2, 5),), 'D', (None, 0)): -0.09314619395787141}  samples= None\n",
      "E=-227.92988495  angles= {(((0, 3),), 'D', (None, 0)): -0.09238379486006766, (((0, 4),), 'D', (None, 0)): -0.09182724728523214, (((0, 5),), 'D', (None, 0)): -0.043674750187961124, (((1, 3),), 'D', (None, 0)): -0.1182778899198395, (((1, 4),), 'D', (None, 0)): -0.2550202034444304, (((1, 5),), 'D', (None, 0)): -0.0838186163108203, (((2, 3),), 'D', (None, 0)): -0.2549824315040553, (((2, 4),), 'D', (None, 0)): -0.11820435897517374, (((2, 5),), 'D', (None, 0)): -0.0838409597050025}  samples= None\n",
      "E=-227.93052117  angles= {(((0, 3),), 'D', (None, 0)): -0.07689563271293116, (((0, 4),), 'D', (None, 0)): -0.0758423985396259, (((0, 5),), 'D', (None, 0)): -0.037560700262948464, (((1, 3),), 'D', (None, 0)): -0.11746564116438495, (((1, 4),), 'D', (None, 0)): -0.28515920107888704, (((1, 5),), 'D', (None, 0)): -0.06529618279090951, (((2, 3),), 'D', (None, 0)): -0.2851525962657847, (((2, 4),), 'D', (None, 0)): -0.11747185867025005, (((2, 5),), 'D', (None, 0)): -0.06530210061282028}  samples= None\n",
      "E=-227.93056483  angles= {(((0, 3),), 'D', (None, 0)): -0.07220085272594234, (((0, 4),), 'D', (None, 0)): -0.07107150439080319, (((0, 5),), 'D', (None, 0)): -0.04142688033190352, (((1, 3),), 'D', (None, 0)): -0.11489928364041158, (((1, 4),), 'D', (None, 0)): -0.28716250283960554, (((1, 5),), 'D', (None, 0)): -0.061621349116139854, (((2, 3),), 'D', (None, 0)): -0.2871580794373603, (((2, 4),), 'D', (None, 0)): -0.11487689538217503, (((2, 5),), 'D', (None, 0)): -0.06161722313824833}  samples= None\n",
      "E=-227.93057292  angles= {(((0, 3),), 'D', (None, 0)): -0.07025205465270777, (((0, 4),), 'D', (None, 0)): -0.06913195755618166, (((0, 5),), 'D', (None, 0)): -0.0450575735405201, (((1, 3),), 'D', (None, 0)): -0.1133821785203141, (((1, 4),), 'D', (None, 0)): -0.287172436835089, (((1, 5),), 'D', (None, 0)): -0.060955418691414555, (((2, 3),), 'D', (None, 0)): -0.28714628014820665, (((2, 4),), 'D', (None, 0)): -0.11328059811666666, (((2, 5),), 'D', (None, 0)): -0.0609502440077759}  samples= None\n",
      "Optimization terminated successfully.\n",
      "         Current function value: -227.930573\n",
      "         Iterations: 6\n",
      "         Function evaluations: 7\n",
      "         Gradient evaluations: 7\n",
      "VQE : -227.93057f\n",
      "MP2 : -227.9475f\n",
      "CISD: -227.98666f\n",
      "FCI : -227.99711f\n"
     ]
    }
   ],
   "source": [
    "import tequila as tq\n",
    "threshold = 1.e-6\n",
    "active = {\"B1u\": [0], \"B3g\": [0, 1], \"B2g\": [0], \"Au\": [0], \"b1u\": [1]}\n",
    "molecule = tq.quantumchemistry.Molecule(geometry=\"data/benzene.xyz\", basis_set='sto-3g', active_orbitals=active)\n",
    "H = molecule.make_hamiltonian()\n",
    "\n",
    "U = molecule.make_upccgsd_ansatz(order=1, include_singles=False)\n",
    "\n",
    "# define the expectationvalue\n",
    "E = tq.ExpectationValue(H=H, U=U)\n",
    "\n",
    "# compute reference energies\n",
    "mp2 = molecule.compute_energy(\"mp2\")\n",
    "cisd = molecule.compute_energy(\"detci\", options={\"detci__ex_level\": 2})\n",
    "fci = molecule.compute_energy(\"fci\")\n",
    "\n",
    "# optimize\n",
    "result = tq.minimize(objective=E, method=\"BFGS\", initial_values=0.0)\n",
    "\n",
    "print(\"VQE : {:+2.8}f\".format(result.energy))\n",
    "print(\"MP2 : {:+2.8}f\".format(mp2))\n",
    "print(\"CISD: {:+2.8}f\".format(cisd))\n",
    "print(\"FCI : {:+2.8}f\".format(fci))"
   ]
  },
  {
   "cell_type": "code",
   "execution_count": 17,
   "metadata": {},
   "outputs": [
    {
     "data": {
      "image/png": "[encoded data removed]",
      "text/plain": [
       "<Figure size 432x288 with 1 Axes>"
      ]
     },
     "metadata": {
      "needs_background": "light"
     },
     "output_type": "display_data"
    }
   ],
   "source": [
    "result.history.plot(\"energies\", baselines={\"fci\":fci, \"cisd\": cisd, \"mp2\":mp2}, filename=\"benzene_result_bfgs\")"
   ]
  },
  {
   "cell_type": "markdown",
   "metadata": {},
   "source": [
    "## Noisy optimization of an active space molecule with tapered qubit embeding using `qiskit` as quantum backend\n",
    "\n",
    "This example shows the combination of several features of tequila in a few lines.  \n",
    "Note that you will need to have `qiskit` installed for this.  \n",
    "If not: Set `backend=None` (`tequila` will then pick whatever backend you have installed that is most appropriate for the job) and set `device=None` (there will be no specialized noise emulation in that case, see our tutorial on noise model on how to construct your own!)\n",
    "\n",
    "- automatic handling of active spaces\n",
    "- consitent usage of qubit encodings (here the TaperedBravyiKitaev encoding from openfermion which reduces the number of qubits by 2)\n",
    "- custom circuit construction\n",
    "- unitary cluster circuits\n",
    "- optimization of measurements (here the Hamiltonian will be grouped into two commuting groups, this can be seen by the optimizer output which holds two expectation values). See the [MeasurementGroups](https://github.com/aspuru-guzik-group/tequila/blob/master/tutorials/MeasurementGroups.ipynb) tutorial for more background information.\n",
    "- interface to different quantum backends (you will need qiskit to run this cell)"
   ]
  },
  {
   "cell_type": "code",
   "execution_count": 23,
   "metadata": {},
   "outputs": [
    {
     "name": "stdout",
     "output_type": "stream",
     "text": [
      "Optimizer: <class 'tequila.optimizers.optimizer_scipy.OptimizerSciPy'> \n",
      "backend         : qulacs\n",
      "device          : None\n",
      "samples         : None\n",
      "save_history    : True\n",
      "noise           : None\n",
      "\n",
      "Method          : COBYLA\n",
      "Objective       : 2 expectationvalues\n",
      "\n",
      "active variables : 1\n",
      "\n",
      "E=-7.19702387  angles= {a: 0.0}  samples= None\n",
      "E=-7.33012819  angles= {a: 1.0}  samples= None\n",
      "E=-7.64648247  angles= {a: 2.0}  samples= None\n",
      "E=-7.85523319  angles= {a: 3.0}  samples= None\n",
      "E=-7.76445484  angles= {a: 4.0}  samples= None\n",
      "E=-7.84895802  angles= {a: 3.5}  samples= None\n",
      "E=-7.82776165  angles= {a: 2.75}  samples= None\n",
      "E=-7.86143017  angles= {a: 3.125}  samples= None\n",
      "E=-7.86244774  angles= {a: 3.25}  samples= None\n",
      "E=-7.85826778  angles= {a: 3.375}  samples= None\n",
      "E=-7.86100483  angles= {a: 3.3125}  samples= None\n",
      "E=-7.86268139  angles= {a: 3.21875}  samples= None\n",
      "E=-7.86258984  angles= {a: 3.1875}  samples= None\n",
      "E=-7.86267614  angles= {a: 3.203125}  samples= None\n",
      "E=-7.86265326  angles= {a: 3.2265625}  samples= None\n",
      "E=-7.86268759  angles= {a: 3.21484375}  samples= None\n",
      "E=-7.86268902  angles= {a: 3.2109375}  samples= None\n",
      "E=-7.86268473  angles= {a: 3.20703125}  samples= None\n",
      "E=-7.86268759  angles= {a: 3.208984375}  samples= None\n",
      "E=-7.86268902  angles= {a: 3.2119375}  samples= None\n",
      "Optimizer: <class 'tequila.optimizers.optimizer_scipy.OptimizerSciPy'> \n",
      "backend         : qiskit\n",
      "device          : fake_valencia\n",
      "samples         : 10000\n",
      "save_history    : True\n",
      "noise           : None\n",
      "\n",
      "Method          : COBYLA\n",
      "Objective       : 2 expectationvalues\n",
      "\n",
      "active variables : 1\n",
      "\n",
      "E=-7.19686937  angles= {a: 0.0}  samples= 10000\n",
      "E=-7.32923937  angles= {a: 1.0}  samples= 10000\n",
      "E=-7.64567947  angles= {a: 2.0}  samples= 10000\n",
      "E=-7.85540009  angles= {a: 3.0}  samples= 10000\n",
      "E=-7.76684856  angles= {a: 4.0}  samples= 10000\n",
      "E=-7.85142040  angles= {a: 3.5}  samples= 10000\n",
      "E=-7.82551670  angles= {a: 2.75}  samples= 10000\n",
      "E=-7.86176586  angles= {a: 3.125}  samples= 10000\n",
      "E=-7.86225843  angles= {a: 3.25}  samples= 10000\n",
      "E=-7.86024904  angles= {a: 3.3125}  samples= 10000\n",
      "E=-7.86218739  angles= {a: 3.21875}  samples= 10000\n",
      "E=-7.86203527  angles= {a: 3.265625}  samples= 10000\n",
      "E=-7.86279917  angles= {a: 3.2421875}  samples= 10000\n",
      "E=-7.86223555  angles= {a: 3.234375}  samples= 10000\n",
      "E=-7.86219597  angles= {a: 3.23828125}  samples= 10000\n",
      "E=-7.86285305  angles= {a: 3.244140625}  samples= 10000\n",
      "E=-7.86274624  angles= {a: 3.24609375}  samples= 10000\n",
      "E=-7.86279392  angles= {a: 3.245140625}  samples= 10000\n",
      "Optimizer: <class 'tequila.optimizers.optimizer_scipy.OptimizerSciPy'> \n",
      "backend         : qulacs\n",
      "device          : None\n",
      "samples         : None\n",
      "save_history    : True\n",
      "noise           : None\n",
      "\n",
      "Method          : COBYLA\n",
      "Objective       : 2 expectationvalues\n",
      "\n",
      "active variables : 2\n",
      "\n",
      "E=-7.86186457  angles= {(((0, 1),), 'D', (None, 0)): 0.0, ((0, 1), 'S', (None, 0)): 0.0}  samples= None\n",
      "E=-7.72876120  angles= {(((0, 1),), 'D', (None, 0)): 1.0, ((0, 1), 'S', (None, 0)): 0.0}  samples= None\n",
      "E=-7.73847914  angles= {(((0, 1),), 'D', (None, 0)): 0.0, ((0, 1), 'S', (None, 0)): 1.0}  samples= None\n",
      "E=-7.71125460  angles= {(((0, 1),), 'D', (None, 0)): -0.7333717019265481, ((0, 1), 'S', (None, 0)): -0.6798278802854134}  samples= None\n",
      "E=-7.81657648  angles= {(((0, 1),), 'D', (None, 0)): -0.36668585096327405, ((0, 1), 'S', (None, 0)): -0.3399139401427067}  samples= None\n",
      "E=-7.85739088  angles= {(((0, 1),), 'D', (None, 0)): 0.22192398040662034, ((0, 1), 'S', (None, 0)): -0.11510754501978573}  samples= None\n",
      "E=-7.85580206  angles= {(((0, 1),), 'D', (None, 0)): 0.07529124558173488, ((0, 1), 'S', (None, 0)): 0.23839301235302787}  samples= None\n",
      "E=-7.85687923  angles= {(((0, 1),), 'D', (None, 0)): -0.10851993948134334, ((0, 1), 'S', (None, 0)): -0.062035656964084626}  samples= None\n",
      "E=-7.86164188  angles= {(((0, 1),), 'D', (None, 0)): 0.011437839698278045, ((0, 1), 'S', (None, 0)): 0.0614444938382317}  samples= None\n",
      "E=-7.86264420  angles= {(((0, 1),), 'D', (None, 0)): 0.0605822146744488, ((0, 1), 'S', (None, 0)): -0.015363764679888885}  samples= None\n",
      "E=-7.86211109  angles= {(((0, 1),), 'D', (None, 0)): 0.11640005651192606, ((0, 1), 'S', (None, 0)): -0.04348170437337234}  samples= None\n",
      "E=-7.86252975  angles= {(((0, 1),), 'D', (None, 0)): 0.08849113559318743, ((0, 1), 'S', (None, 0)): -0.029422734526630613}  samples= None\n",
      "E=-7.86253691  angles= {(((0, 1),), 'D', (None, 0)): 0.053552729751077936, ((0, 1), 'S', (None, 0)): -0.029318225139258206}  samples= None\n",
      "E=-7.86263990  angles= {(((0, 1),), 'D', (None, 0)): 0.05985357822452037, ((0, 1), 'S', (None, 0)): 0.015877739588053073}  samples= None\n",
      "E=-7.86254930  angles= {(((0, 1),), 'D', (None, 0)): 0.04498155239743992, ((0, 1), 'S', (None, 0)): -0.016235522397785553}  samples= None\n",
      "E=-7.86265993  angles= {(((0, 1),), 'D', (None, 0)): 0.06839471254812589, ((0, 1), 'S', (None, 0)): -0.015358000671657835}  samples= None\n",
      "E=-7.86265326  angles= {(((0, 1),), 'D', (None, 0)): 0.07619935800552304, ((0, 1), 'S', (None, 0)): -0.01570823706943799}  samples= None\n",
      "E=-7.86264324  angles= {(((0, 1),), 'D', (None, 0)): 0.06839759455224141, ((0, 1), 'S', (None, 0)): -0.019264249608496382}  samples= None\n",
      "E=-7.86267996  angles= {(((0, 1),), 'D', (None, 0)): 0.07172089819581211, ((0, 1), 'S', (None, 0)): -0.008288938125101453}  samples= None\n",
      "E=-7.86268663  angles= {(((0, 1),), 'D', (None, 0)): 0.06717587302412018, ((0, 1), 'S', (None, 0)): -0.0019345772257909032}  samples= None\n",
      "E=-7.86268616  angles= {(((0, 1),), 'D', (None, 0)): 0.07168657177204163, ((0, 1), 'S', (None, 0)): 0.004444196406773569}  samples= None\n",
      "E=-7.86268187  angles= {(((0, 1),), 'D', (None, 0)): 0.06384502952207291, ((0, 1), 'S', (None, 0)): 0.0001060772347607989}  samples= None\n",
      "E=-7.86268711  angles= {(((0, 1),), 'D', (None, 0)): 0.06871259038744541, ((0, 1), 'S', (None, 0)): -0.003140063439266495}  samples= None\n",
      "E=-7.86268663  angles= {(((0, 1),), 'D', (None, 0)): 0.06998222189952481, ((0, 1), 'S', (None, 0)): -0.004624224174887807}  samples= None\n",
      "E=-7.86268616  angles= {(((0, 1),), 'D', (None, 0)): 0.06810984728070761, ((0, 1), 'S', (None, 0)): -0.003908422120929116}  samples= None\n",
      "E=-7.86268854  angles= {(((0, 1),), 'D', (None, 0)): 0.07025479250269563, ((0, 1), 'S', (None, 0)): -0.0019416019666513885}  samples= None\n",
      "E=-7.86268854  angles= {(((0, 1),), 'D', (None, 0)): 0.07190196273198593, ((0, 1), 'S', (None, 0)): -0.0008920651634068571}  samples= None\n",
      "E=-7.86268854  angles= {(((0, 1),), 'D', (None, 0)): 0.07109814366009226, ((0, 1), 'S', (None, 0)): -0.0014042391233901885}  samples= None\n",
      "E=-7.86268806  angles= {(((0, 1),), 'D', (None, 0)): 0.07052347392432623, ((0, 1), 'S', (None, 0)): -0.0023632775453497046}  samples= None\n",
      "E=-7.86268902  angles= {(((0, 1),), 'D', (None, 0)): 0.06971742965943444, ((0, 1), 'S', (None, 0)): -0.0010982508092547566}  samples= None\n",
      "E=-7.86268854  angles= {(((0, 1),), 'D', (None, 0)): 0.06918006681617324, ((0, 1), 'S', (None, 0)): -0.0002548996518581246}  samples= None\n",
      "Optimizer: <class 'tequila.optimizers.optimizer_scipy.OptimizerSciPy'> \n",
      "backend         : qiskit\n",
      "device          : fake_valencia\n",
      "samples         : 10000\n",
      "save_history    : True\n",
      "noise           : None\n",
      "\n",
      "Method          : COBYLA\n",
      "Objective       : 2 expectationvalues\n",
      "\n",
      "active variables : 2\n",
      "\n",
      "E=-7.86185503  angles= {(((0, 1),), 'D', (None, 0)): 0.0, ((0, 1), 'S', (None, 0)): 0.0}  samples= 10000\n",
      "E=-7.72770834  angles= {(((0, 1),), 'D', (None, 0)): 1.0, ((0, 1), 'S', (None, 0)): 0.0}  samples= 10000\n",
      "E=-7.73968458  angles= {(((0, 1),), 'D', (None, 0)): 0.0, ((0, 1), 'S', (None, 0)): 1.0}  samples= 10000\n",
      "E=-7.70862913  angles= {(((0, 1),), 'D', (None, 0)): -0.7393392508964897, ((0, 1), 'S', (None, 0)): -0.6733331063328294}  samples= 10000\n",
      "E=-7.81435823  angles= {(((0, 1),), 'D', (None, 0)): -0.36966962544824483, ((0, 1), 'S', (None, 0)): -0.3366665531664147}  samples= 10000\n",
      "E=-7.85687876  angles= {(((0, 1),), 'D', (None, 0)): 0.22274681457350176, ((0, 1), 'S', (None, 0)): -0.1135070773007482}  samples= 10000\n",
      "E=-7.85513353  angles= {(((0, 1),), 'D', (None, 0)): 0.07166138421823039, ((0, 1), 'S', (None, 0)): 0.23950917730209664}  samples= 10000\n",
      "E=-7.85681105  angles= {(((0, 1),), 'D', (None, 0)): -0.10796550751106693, ((0, 1), 'S', (None, 0)): -0.06299562832354125}  samples= 10000\n"
     ]
    },
    {
     "name": "stdout",
     "output_type": "stream",
     "text": [
      "E=-7.86177158  angles= {(((0, 1),), 'D', (None, 0)): 0.009632034705710541, ((0, 1), 'S', (None, 0)): 0.06175333114438433}  samples= 10000\n",
      "E=-7.86316824  angles= {(((0, 1),), 'D', (None, 0)): 0.06149172725424215, ((0, 1), 'S', (None, 0)): -0.011181121557781778}  samples= 10000\n",
      "E=-7.86180449  angles= {(((0, 1),), 'D', (None, 0)): 0.12250883552756375, ((0, 1), 'S', (None, 0)): -0.024714875581028584}  samples= 10000\n",
      "E=-7.86315870  angles= {(((0, 1),), 'D', (None, 0)): 0.09200028139090295, ((0, 1), 'S', (None, 0)): -0.01794799856940518}  samples= 10000\n",
      "E=-7.86307240  angles= {(((0, 1),), 'D', (None, 0)): 0.05810828874843045, ((0, 1), 'S', (None, 0)): -0.026435398626112175}  samples= 10000\n",
      "E=-7.86225033  angles= {(((0, 1),), 'D', (None, 0)): 0.06673428161223596, ((0, 1), 'S', (None, 0)): 0.019625990020609985}  samples= 10000\n",
      "E=-7.86307192  angles= {(((0, 1),), 'D', (None, 0)): 0.05795027067280562, ((0, 1), 'S', (None, 0)): -0.02639948908790142}  samples= 10000\n",
      "E=-7.86280298  angles= {(((0, 1),), 'D', (None, 0)): 0.06280447364647186, ((0, 1), 'S', (None, 0)): -0.0034797026521717284}  samples= 10000\n",
      "E=-7.86293936  angles= {(((0, 1),), 'D', (None, 0)): 0.05764101780143713, ((0, 1), 'S', (None, 0)): -0.010524748361666924}  samples= 10000\n",
      "E=-7.86263227  angles= {(((0, 1),), 'D', (None, 0)): 0.06669287600454366, ((0, 1), 'S', (None, 0)): -0.017010633366435837}  samples= 10000\n",
      "E=-7.86282921  angles= {(((0, 1),), 'D', (None, 0)): 0.057654960527146866, ((0, 1), 'S', (None, 0)): -0.01191461330576163}  samples= 10000\n",
      "E=-7.86262465  angles= {(((0, 1),), 'D', (None, 0)): 0.062239590839036026, ((0, 1), 'S', (None, 0)): -0.009376849592648956}  samples= 10000\n",
      "E=-7.86190796  angles= {(((0, 1),), 'D', (None, 0)): 0.06226622311693333, ((0, 1), 'S', (None, 0)): -0.012974122791551364}  samples= 10000\n",
      "E=-7.86286879  angles= {(((0, 1),), 'D', (None, 0)): 0.06050436915161814, ((0, 1), 'S', (None, 0)): -0.01102261610934953}  samples= 10000\n",
      "Optimizer: <class 'tequila.optimizers.optimizer_scipy.OptimizerSciPy'> \n",
      "backend         : qulacs\n",
      "device          : None\n",
      "samples         : None\n",
      "save_history    : True\n",
      "noise           : None\n",
      "\n",
      "Method          : COBYLA\n",
      "Objective       : 2 expectationvalues\n",
      "\n",
      "active variables : 1\n",
      "\n",
      "E=-7.86186457  angles= {(((0, 1),), 'D', (None, 0)): 0.0}  samples= None\n",
      "E=-7.68934298  angles= {(((0, 1),), 'D', (None, 0)): 1.0}  samples= None\n",
      "E=-7.72876120  angles= {(((0, 1),), 'D', (None, 0)): -1.0}  samples= None\n",
      "E=-7.83239985  angles= {(((0, 1),), 'D', (None, 0)): -0.5}  samples= None\n",
      "E=-7.84573603  angles= {(((0, 1),), 'D', (None, 0)): 0.25}  samples= None\n",
      "E=-7.86219120  angles= {(((0, 1),), 'D', (None, 0)): -0.125}  samples= None\n",
      "E=-7.86040449  angles= {(((0, 1),), 'D', (None, 0)): -0.1875}  samples= None\n",
      "E=-7.86259747  angles= {(((0, 1),), 'D', (None, 0)): -0.09375}  samples= None\n",
      "E=-7.86267853  angles= {(((0, 1),), 'D', (None, 0)): -0.0625}  samples= None\n",
      "E=-7.86243439  angles= {(((0, 1),), 'D', (None, 0)): -0.03125}  samples= None\n",
      "E=-7.86259747  angles= {(((0, 1),), 'D', (None, 0)): -0.046875}  samples= None\n",
      "E=-7.86268902  angles= {(((0, 1),), 'D', (None, 0)): -0.0703125}  samples= None\n",
      "E=-7.86267900  angles= {(((0, 1),), 'D', (None, 0)): -0.078125}  samples= None\n",
      "E=-7.86268616  angles= {(((0, 1),), 'D', (None, 0)): -0.07421875}  samples= None\n",
      "E=-7.86268806  angles= {(((0, 1),), 'D', (None, 0)): -0.068359375}  samples= None\n",
      "E=-7.86268902  angles= {(((0, 1),), 'D', (None, 0)): -0.0713125}  samples= None\n"
     ]
    },
    {
     "name": "stderr",
     "output_type": "stream",
     "text": [
      " /home/jsk/projects/OpenVQE/src/tequila/quantumchemistry/qc_base.py:954: TequilaWarning:Hardcore-Boson Hamiltonian without reordering will result in non-consecutive Hamiltonians that are eventually not be combinable with other features of tequila. Try transformation='ReorderedJordanWigner' or similar for more consistency\n"
     ]
    },
    {
     "name": "stdout",
     "output_type": "stream",
     "text": [
      "Optimizer: <class 'tequila.optimizers.optimizer_scipy.OptimizerSciPy'> \n",
      "backend         : qiskit\n",
      "device          : fake_valencia\n",
      "samples         : 10000\n",
      "save_history    : True\n",
      "noise           : None\n",
      "\n",
      "Method          : COBYLA\n",
      "Objective       : 2 expectationvalues\n",
      "\n",
      "active variables : 1\n",
      "\n",
      "E=-7.86154127  angles= {(((0, 1),), 'D', (None, 0)): 0.0}  samples= 10000\n",
      "E=-7.69102144  angles= {(((0, 1),), 'D', (None, 0)): 1.0}  samples= 10000\n",
      "E=-7.72733736  angles= {(((0, 1),), 'D', (None, 0)): -1.0}  samples= 10000\n",
      "E=-7.83201265  angles= {(((0, 1),), 'D', (None, 0)): -0.5}  samples= 10000\n",
      "E=-7.84506369  angles= {(((0, 1),), 'D', (None, 0)): 0.25}  samples= 10000\n",
      "E=-7.86216688  angles= {(((0, 1),), 'D', (None, 0)): -0.125}  samples= 10000\n",
      "E=-7.86089039  angles= {(((0, 1),), 'D', (None, 0)): -0.1875}  samples= 10000\n",
      "E=-7.86174536  angles= {(((0, 1),), 'D', (None, 0)): -0.09375}  samples= 10000\n",
      "E=-7.86186743  angles= {(((0, 1),), 'D', (None, 0)): -0.140625}  samples= 10000\n",
      "E=-7.86308384  angles= {(((0, 1),), 'D', (None, 0)): -0.1171875}  samples= 10000\n",
      "E=-7.86242008  angles= {(((0, 1),), 'D', (None, 0)): -0.109375}  samples= 10000\n",
      "E=-7.86271000  angles= {(((0, 1),), 'D', (None, 0)): -0.11328125}  samples= 10000\n",
      "E=-7.86322689  angles= {(((0, 1),), 'D', (None, 0)): -0.119140625}  samples= 10000\n",
      "E=-7.86222076  angles= {(((0, 1),), 'D', (None, 0)): -0.12109375}  samples= 10000\n",
      "E=-7.86194849  angles= {(((0, 1),), 'D', (None, 0)): -0.120140625}  samples= 10000\n",
      "VQE             = -7.86268902\n",
      "VQE (noisy)     = -7.86285305\n",
      "UCC             = -7.86268902\n",
      "UCC (noisy)     = -7.86316824\n",
      "HCB-UCC         = -7.86268902\n",
      "HCB-UCC (noisy) = -7.86322689\n"
     ]
    }
   ],
   "source": [
    "import tequila as tq\n",
    "# define the active space\n",
    "active_orbitals = {\"A1\":[1], \"B1\":[0]}\n",
    "samples = 10000\n",
    "if 'qiskit' in tq.INSTALLED_SIMULATORS:\n",
    "    backend = \"qiskit\"\n",
    "    device = \"fake_valencia\"\n",
    "else:\n",
    "    backend = None\n",
    "    device = None\n",
    "\n",
    "# define the molecule\n",
    "molecule = tq.chemistry.Molecule(geometry = \"H 0.0 0.0 0.0\\nLi 0.0 0.0 1.6\",\n",
    "                                 basis_set=\"sto-3g\",\n",
    "                                 active_orbitals=active_orbitals,\n",
    "                                 transformation=\"TaperedBravyiKitaev\")\n",
    "\n",
    "fci = molecule.compute_energy(\"fci\")\n",
    "\n",
    "H = molecule.make_hamiltonian()\n",
    "\n",
    "# Toy circuit (no deeper meaning)\n",
    "U = tq.gates.Ry(angle=\"a\", target=0)\n",
    "U += tq.gates.X(target=1, control=0)\n",
    "E = tq.ExpectationValue(H=H, U=U, optimize_measurements=True)\n",
    "\n",
    "vqe = tq.minimize(method=\"cobyla\", objective=E, initial_values=0.0)\n",
    "noisy_vqe = tq.minimize(method=\"cobyla\", objective=E, samples=samples, backend=backend, device=device, initial_values=0.0)\n",
    " \n",
    "# The same with UpCCSD and standard BK (Tapered encodings not supported yet for UCC generators ... )\n",
    "molecule = tq.chemistry.Molecule(geometry = \"H 0.0 0.0 0.0\\nLi 0.0 0.0 1.6\",\n",
    "                                 basis_set=\"sto-3g\",\n",
    "                                 active_orbitals=active_orbitals,\n",
    "                                 transformation=\"BravyiKitaev\")\n",
    "H = molecule.make_hamiltonian()\n",
    "UpCCGSD = molecule.make_upccgsd_ansatz(name=\"UpCCSD\")\n",
    "E2 = tq.ExpectationValue(H=H, U=UpCCGSD, optimize_measurements=True)\n",
    "ucc = tq.minimize(method=\"cobyla\", objective=E2, initial_values=0.0)\n",
    "noisy_ucc = tq.minimize(method=\"cobyla\", objective=E2, samples=samples,  backend=backend, device=device, initial_values=0.0)\n",
    "\n",
    "# The same in hardcore-boson approximation (see https://arxiv.org/abs/2105.03836 for details on the implementation\n",
    "# and the SeparablePairAnsatz notebook for more advanced approaches in this direction)\n",
    "HCBH = molecule.make_hardcore_boson_hamiltonian()\n",
    "UpCCD = molecule.make_upccgsd_ansatz(name=\"HCB-UpCCD\")\n",
    "E3 = tq.ExpectationValue(H=HCBH, U=UpCCD, optimize_measurements=True)\n",
    "ucc2 = tq.minimize(method=\"cobyla\", objective=E3, initial_values=0.0)\n",
    "noisy_ucc2 = tq.minimize(method=\"cobyla\", objective=E3, samples=samples,  backend=backend, device=device, initial_values=0.0)\n",
    "\n",
    "print(\"VQE             = {:2.8f}\".format(min(vqe.history.energies)))\n",
    "print(\"VQE (noisy)     = {:2.8f}\".format(min(noisy_vqe.history.energies)))\n",
    "print(\"UCC             = {:2.8f}\".format(min(ucc.history.energies)))\n",
    "print(\"UCC (noisy)     = {:2.8f}\".format(min(noisy_ucc.history.energies)))\n",
    "print(\"HCB-UCC         = {:2.8f}\".format(min(ucc2.history.energies)))\n",
    "print(\"HCB-UCC (noisy) = {:2.8f}\".format(min(noisy_ucc2.history.energies)))"
   ]
  },
  {
   "cell_type": "code",
   "execution_count": null,
   "metadata": {},
   "outputs": [],
   "source": []
  },
  {
   "cell_type": "code",
   "execution_count": null,
   "metadata": {},
   "outputs": [],
   "source": []
  },
  {
   "cell_type": "code",
   "execution_count": null,
   "metadata": {},
   "outputs": [],
   "source": []
  }
 ],
 "metadata": {
  "kernelspec": {
   "display_name": "tequila-3.7",
   "language": "python",
   "name": "tequila-3.7"
  },
  "language_info": {
   "codemirror_mode": {
    "name": "ipython",
    "version": 3
   },
   "file_extension": ".py",
   "mimetype": "text/x-python",
   "name": "python",
   "nbconvert_exporter": "python",
   "pygments_lexer": "ipython3",
   "version": "3.7.9"
  }
 },
 "nbformat": 4,
 "nbformat_minor": 2
}

{
 "cells": [
  {
   "cell_type": "markdown",
   "metadata": {},
   "source": [
    "# Basis-Set-Free VQEs with the Tequila - Madness interface"
   ]
  },
  {
   "cell_type": "markdown",
   "metadata": {},
   "source": [
    "![title](pics/madness_interface.png)"
   ]
  },
  {
   "cell_type": "markdown",
   "metadata": {},
   "source": [
    "This tutorial covers the basic usage of the `tequila`-`madness` interface.  \n",
    "It is currently brief and stenographic since the interface is still under development.  \n",
    "The current version is however powerful enough to reproduce all results from our [article](https://arxiv.org/abs/2008.02819)!"
   ]
  },
  {
   "cell_type": "markdown",
   "metadata": {},
   "source": [
    "One of `tequila`s primary aims is to simplify usage of many specialized algorithms and programs. The underlying technology should however be acknowledged, so if you are using the interface please acknowledge/cite the following articles:\n",
    "- Our initial [article](https://arxiv.org/abs/2008.02819) describing the interface and introducint MRA-PNOs to quantum computing.\n",
    "- The original [article](https://doi.org/10.1063/1.5141880) that describes the underlying MRA-PNO-MP2 implementation in `madness`.\n",
    "- The `madness` overview [article](https://doi.org/10.1137/15M1026171).\n",
    "- The `tequila` overview [article](https://arxiv.org/abs/2011.03057).\n",
    "- `OpenFermion` that provides the fermion to qubit mappings [see here](https://github.com/quantumlib/OpenFermion)\n",
    "- In case you are using our automatically differentiable framework for unitary coupled-cluster, please also cite the [article](https://arxiv.org/abs/2011.05938) describing this simulation.\n",
    "- Please also cite/acknoweldge also the corresponding articles of the quantum simulators and optimizers that you are using within `tequila` (if not specified this is usually [qulacs](https://github.com/qulacs/qulacs), [scipy](https://github.com/scipy/scipy) and [jax](https://github.com/google/jax)).\n",
    "\n",
    "If you just want to play with the hydrogen molecule in a minimal basis-set-free representation without installing `madness`, there is a [short tutorial](ChemistryBasisSetFreeVQE.ipynb) on this as well!  \n",
    "\n",
    "Depending on what you need, we might also be able to provide you with some pre-computed Hamiltonians. "
   ]
  },
  {
   "cell_type": "markdown",
   "metadata": {},
   "source": [
    "## Installation of madness and depenencies\n",
    "\n",
    "Currently the necessary version of `madness` is available over a fork under: https://github.com/kottmanj/madness . It is not yet merged into the main repository of madness, but will be at some point in the near future.  \n",
    "\n",
    "You find installation instructions in the [README](https://github.com/kottmanj/madness) respectively github page of this fork. `madness` can be a beast to install, feel free to contact [me](mailto:jakob.kottmann@utoronto.ca) if you are running into trouble.  \n",
    "\n",
    "After you compiled madness from the fork (make sure the `tequila` branch was checked out - it is the default, but better be safe). There are two ways to let `tequila` know about is:  \n",
    "1. export the path to the madness root (that is the directory where you compiled the code) as the environment variable 'MAD_ROOT_DIR'. E.g:  \n",
    "`export MAD_ROOT_DIR=/path/to/where/you/compiled/madness/`  \n",
    "You need to do this in your terminal (Linux or Mac) before you run your python script. `tequila` is then able to find the corresponding executable directly\n",
    "2. you provide the path to the `pno_integrals` executable yourself. E.g `tq.Molecule(..., executable=\"/path/to/where/you/compiled/madness/src/apps/pno/pno_integrals\")`.\n",
    "\n",
    "You can exploit the second option and provide the path to a customized script that will itself call `pno_integrals` in some way (this is for example an option if you are using windows and want to run madness over docker or some kind of virtual machine. See the above github fork of madness for more information on how to use it with docker).\n",
    "\n",
    "In the following I will use the second option and provide the path to the `pno_integrals` exectuable on my laptop explicitly. I'll leave that in, since that might clarify the usage a bit."
   ]
  },
  {
   "cell_type": "code",
   "execution_count": 1,
   "metadata": {},
   "outputs": [],
   "source": [
    "# this needs to be adapted for this notebook to run properly\n",
    "executable = \"/home/jsk/devel/madness/build-opt/src/apps/pno/pno_integrals\""
   ]
  },
  {
   "cell_type": "markdown",
   "metadata": {},
   "source": [
    "## Use Tequila to compute a QubitHamiltonian with madness\n",
    "\n",
    "Here is how you can create a simple QubitHamiltonian over the interface.  \n",
    "Checkout the [main chemistry tutorial](Chemistry.ipynb) and see what you can further do with this (the usage is equivalent since `tequila` will not distinguish between Hamiltonians created from MRA or GBS representations).  \n",
    "\n",
    "- Choose different qubit encodings over the `transformation` keyword (the default is Jordan-Wigner - see the main chemistry tutorial for more)\n",
    "- the `name` keyword is optional, the default is just `molecule`, it will mostly affect the output files names. It is recommended to use names though (avoid confusion between files).\n",
    "- In order to prevent unintended reading in of old files it is currently also recommended to not use the same directory for different molecules.\n",
    "- the `n_pno` keyword specifies how many pnos shall be computed and used. Note that the total number of orbitals is always `n_pno` plus all occupied Hartree-Fock orbitals."
   ]
  },
  {
   "cell_type": "code",
   "execution_count": null,
   "metadata": {},
   "outputs": [],
   "source": [
    "Here is a small example with a Helium atom and a single PNO.  \n",
    "Meaning we will end up with 2 spatial orbitals: The PNO and the occupied HF orbital."
   ]
  },
  {
   "cell_type": "code",
   "execution_count": 2,
   "metadata": {},
   "outputs": [
    {
     "name": "stdout",
     "output_type": "stream",
     "text": [
      "Starting madness calculation with executable:  /home/jsk/devel/madness/build-opt/src/apps/pno/pno_integrals\n",
      "output redirected to helium_1pno_pno_integrals.out logfile\n",
      "finished after 9.729857683181763s\n"
     ]
    }
   ],
   "source": [
    "import tequila as tq\n",
    "geomstring = \"He 0.0 0.0 0.0\"\n",
    "mol = tq.Molecule(geometry=geomstring, n_pno=1, executable=executable, name=\"helium_1pno\")\n",
    "H = mol.make_hamiltonian()"
   ]
  },
  {
   "cell_type": "code",
   "execution_count": 8,
   "metadata": {},
   "outputs": [
    {
     "name": "stdout",
     "output_type": "stream",
     "text": [
      "<class 'tequila.quantumchemistry.madness_interface.QuantumChemistryMadness'>\n",
      "Qubit Encoding\n",
      "transformation=<function jordan_wigner at 0x7f4b09b9ed08>\n",
      "\n",
      "Parameters\n",
      "basis_set       : custom          \n",
      "geometry        : He 0.0 0.0 0.0  \n",
      "description     :                 \n",
      "multiplicity    : 1               \n",
      "charge          : 0               \n",
      "closed_shell    : True            \n",
      "name            : helium_1pno     \n",
      "\n",
      "MRA Orbitals    :\n",
      "orbital 0, occupied reference orbital (0,), energy -0.917962 \n",
      "orbital 1, pno from pair (0, 0), MP2 occ 0.00437667 \n",
      "\n",
      "executable      : /home/jsk/devel/madness/build-opt/src/apps/pno/pno_integrals\n",
      "htensor         : helium_1pno_htensor.npy\n",
      "gtensor         : helium_1pno_gtensor.npy\n",
      "\n"
     ]
    }
   ],
   "source": [
    "# some information about the molecule\n",
    "print(mol)"
   ]
  },
  {
   "cell_type": "markdown",
   "metadata": {},
   "source": [
    "## Read in already existing madness outputs\n",
    "\n",
    "If you give `n_pno=None` tequila will try to read in the orbital data form madness.  \n",
    "The following files are required: `name_htensor.npy` (or `molecule_htensor.bin`) `name_gtensor.npy` (or `molecule_gtensor.bin`) and `pnoinfo.txt`. Note that the `.bin` files should not be copied between different computers. `name` can be specified as keyword (default is just `molecule`).\n",
    "\n",
    "Note that `tequila` will always try to read in, if the madness calculation failed.  "
   ]
  },
  {
   "cell_type": "code",
   "execution_count": 10,
   "metadata": {},
   "outputs": [
    {
     "name": "stdout",
     "output_type": "stream",
     "text": [
      "<class 'tequila.quantumchemistry.madness_interface.QuantumChemistryMadness'>\n",
      "Qubit Encoding\n",
      "transformation=<function jordan_wigner at 0x7f4b09b9ed08>\n",
      "\n",
      "Parameters\n",
      "basis_set       : custom          \n",
      "geometry        : He 0.0 0.0 0.0  \n",
      "description     :                 \n",
      "multiplicity    : 1               \n",
      "charge          : 0               \n",
      "closed_shell    : True            \n",
      "name            : helium_1pno     \n",
      "\n",
      "MRA Orbitals    :\n",
      "orbital 0, occupied reference orbital (0,), energy -0.917962 \n",
      "orbital 1, pno from pair (0, 0), MP2 occ 0.00437667 \n",
      "\n",
      "executable      : /home/jsk/devel/madness/build-opt/src/apps/pno/pno_integrals\n",
      "htensor         : helium_1pno_htensor.npy\n",
      "gtensor         : helium_1pno_gtensor.npy\n",
      "\n"
     ]
    }
   ],
   "source": [
    "mol2 = tq.Molecule(geometry=geomstring, n_pno=None, executable=executable, name=\"helium_1pno\")\n",
    "print(mol2)"
   ]
  },
  {
   "cell_type": "markdown",
   "metadata": {},
   "source": [
    "## Use the PNO-UpCCD ansatz\n",
    "Check our [article](https://arxiv.org/abs/2008.02819) for more details on the ansatz. \n",
    "Note that the PNOs do not need to be directly determined over a basis-set-free approach for this ansatz, but this is currently the only implementation.  \n",
    "Note, that the following four lines use all the technology mentioned in the first cell of this notebook. Please acknowledge it if you use it :-).\n",
    "The used simulator is not specified hiere, so tequila will pick depending on what you have installed (you can see it in the printout)."
   ]
  },
  {
   "cell_type": "code",
   "execution_count": 17,
   "metadata": {},
   "outputs": [
    {
     "name": "stdout",
     "output_type": "stream",
     "text": [
      "Starting madness calculation with executable:  /home/jsk/devel/madness/build-opt/src/apps/pno/pno_integrals\n",
      "output redirected to molecule_pno_integrals.out logfile\n",
      "finished after 9.489994764328003s\n",
      "refs= [orbital 0, occupied reference orbital (0,), energy -0.917962 ]\n",
      "Optimizer: <class 'tequila.optimizers.optimizer_scipy.OptimizerSciPy'> \n",
      "backend         : qulacs\n",
      "device          : None\n",
      "samples         : None\n",
      "save_history    : True\n",
      "noise           : None\n",
      "\n",
      "Method          : BFGS\n",
      "Objective       : 1 expectationvalues\n",
      "gradient        : 6 expectationvalues\n",
      "\n",
      "active variables : 3\n",
      "\n",
      "E=-2.86152285  angles= {(0, ((0, 2), (1, 3)), None): 0.0, (0, (0, 2), None): 0.0, (0, (1, 3), None): 0.0}  samples= None\n",
      "E=-2.85540235  angles= {(0, ((0, 2), (1, 3)), None): 0.2644369900226593, (0, (0, 2), None): 6.854534149169922e-06, (0, (1, 3), None): 6.854534149169922e-06}  samples= None\n",
      "E=-2.87761682  angles= {(0, ((0, 2), (1, 3)), None): 0.12154174082914501, (0, (0, 2), None): 3.150512388571456e-06, (0, (1, 3), None): 3.150512388571456e-06}  samples= None\n",
      "E=-2.87761855  angles= {(0, ((0, 2), (1, 3)), None): 0.12159293536327934, (0, (0, 2), None): -0.0016298963380842438, (0, (1, 3), None): -0.0016298963380842438}  samples= None\n",
      "Optimization terminated successfully.\n",
      "         Current function value: -2.877619\n",
      "         Iterations: 2\n",
      "         Function evaluations: 4\n",
      "         Gradient evaluations: 4\n"
     ]
    }
   ],
   "source": [
    "import tequila as tq\n",
    "geomstring = \"He 0.0 0.0 0.0\"\n",
    "mol = tq.Molecule(geometry=geomstring, n_pno=1, executable=executable)\n",
    "U = mol.make_pno_upccgsd_ansatz(generalized=False)\n",
    "H = mol.make_hamiltonian()\n",
    "E = tq.ExpectationValue(H=H, U=U)\n",
    "result = tq.minimize(method=\"bfgs\", objective=E, initial_values=0.0)"
   ]
  },
  {
   "cell_type": "markdown",
   "metadata": {},
   "source": [
    "## Customize the madness calculation\n",
    "\n",
    "The underlying madness calculation can be customized by giving the corresponding sub-programs as keywords combined with dictionaries that hold the parameters.\n",
    "To get an idea what is there: Check the output file `name_pno_integrals.out` generated by a madness calculation with default parameters and also the input file `input` writen by tequila. Here is some example how to customize it (here we change the polynomial order of the MRA which needs to be set in the scf calculation and increase the maximum rank of the PNOs which will result in 4 computed PNOs where the most important one is used for the QubitHamiltonian - this is just to illustrate the API, neither will have a notable effect on the Helium Hamiltonian with 1 PNO.). Note that the `scf` section is called `dft` in madness for historic reasons."
   ]
  },
  {
   "cell_type": "code",
   "execution_count": 14,
   "metadata": {},
   "outputs": [
    {
     "name": "stdout",
     "output_type": "stream",
     "text": [
      "Starting madness calculation with executable:  /home/jsk/devel/madness/build-opt/src/apps/pno/pno_integrals\n",
      "output redirected to helium_1pno_alt_pno_integrals.out logfile\n",
      "finished after 37.68571734428406s\n"
     ]
    }
   ],
   "source": [
    "mol3 = tq.Molecule(geometry=geomstring, n_pno=1, executable=executable, name=\"helium_1pno_alt\", dft={\"k\":9}, pno={\"maxrank\":4})\n"
   ]
  },
  {
   "cell_type": "markdown",
   "metadata": {},
   "source": [
    "## Compute orbitals with frozen-core approximation\n",
    "You can freeze occupied HF orbitals in the MP2-PNO calculation by setting the freeze keyword (e.g. `pno={\"freeze\":1}` or you just set `frozen_core=True` when intializing the Molecule.\n",
    " Note that this will not automatically set an active space. But you can of course do this by giving the keyword `active_orbitals=[1,2]`. This would use orbital 1 and 2 for the Qubit Hamiltonian (in this case, the second occupied reference orbital and the first PNO of pair 11).\n",
    "In the next update we will most probably adapt the active space syntax to understand the PNO labels (similar as with irreps for the `PSI4` backend)."
   ]
  },
  {
   "cell_type": "code",
   "execution_count": 3,
   "metadata": {},
   "outputs": [
    {
     "name": "stdout",
     "output_type": "stream",
     "text": [
      "Starting madness calculation with executable:  /home/jsk/devel/madness/build-opt/src/apps/pno/pno_integrals\n",
      "output redirected to molecule_pno_integrals.out logfile\n",
      "finished after 19.70469832420349s\n"
     ]
    }
   ],
   "source": [
    "mol = tq.Molecule(geometry=\"Be 0.0 0.0 0.0\", n_pno=1, executable=executable, frozen_core=True)"
   ]
  },
  {
   "cell_type": "code",
   "execution_count": 4,
   "metadata": {},
   "outputs": [
    {
     "name": "stdout",
     "output_type": "stream",
     "text": [
      "<class 'tequila.quantumchemistry.madness_interface.QuantumChemistryMadness'>\n",
      "Qubit Encoding\n",
      "transformation=<function jordan_wigner at 0x7f29eeb89ea0>\n",
      "\n",
      "Parameters\n",
      "basis_set       : custom          \n",
      "geometry        : Be 0.0 0.0 0.0  \n",
      "description     :                 \n",
      "multiplicity    : 1               \n",
      "charge          : 0               \n",
      "closed_shell    : True            \n",
      "name            : molecule        \n",
      "\n",
      "MRA Orbitals    :\n",
      "orbital 0, occupied reference orbital (0,), energy -4.73193 \n",
      "orbital 1, occupied reference orbital (1,), energy -0.310074 \n",
      "orbital 2, pno from pair (1, 1), MP2 occ 0.0158838 \n",
      "\n",
      "executable      : /home/jsk/devel/madness/build-opt/src/apps/pno/pno_integrals\n",
      "htensor         : molecule_htensor.npy\n",
      "gtensor         : molecule_gtensor.npy\n",
      "\n"
     ]
    }
   ],
   "source": [
    "print(mol)"
   ]
  },
  {
   "cell_type": "markdown",
   "metadata": {},
   "source": [
    "Here is the same with the active space (and we read in the integral files to avoid recomputation)"
   ]
  },
  {
   "cell_type": "code",
   "execution_count": 5,
   "metadata": {},
   "outputs": [],
   "source": [
    "mol = tq.Molecule(geometry=\"Be 0.0 0.0 0.0\", n_pno=None, active_orbitals=[1,2])"
   ]
  },
  {
   "cell_type": "code",
   "execution_count": 6,
   "metadata": {},
   "outputs": [
    {
     "name": "stdout",
     "output_type": "stream",
     "text": [
      "<class 'tequila.quantumchemistry.madness_interface.QuantumChemistryMadness'>\n",
      "Qubit Encoding\n",
      "transformation=<function jordan_wigner at 0x7f29eeb89ea0>\n",
      "\n",
      "Parameters\n",
      "basis_set       : custom          \n",
      "geometry        : Be 0.0 0.0 0.0  \n",
      "description     :                 \n",
      "multiplicity    : 1               \n",
      "charge          : 0               \n",
      "closed_shell    : True            \n",
      "name            : molecule        \n",
      "\n",
      "MRA Orbitals    :\n",
      "orbital 1, occupied reference orbital (1,), energy -0.310074 \n",
      "orbital 2, pno from pair (1, 1), MP2 occ 0.0158838 \n",
      "\n",
      "executable      : None\n",
      "htensor         : molecule_htensor.npy\n",
      "gtensor         : molecule_gtensor.npy\n",
      "\n"
     ]
    }
   ],
   "source": [
    "print(mol)"
   ]
  },
  {
   "cell_type": "code",
   "execution_count": null,
   "metadata": {},
   "outputs": [],
   "source": []
  }
 ],
 "metadata": {
  "kernelspec": {
   "display_name": "tequila-3.6",
   "language": "python",
   "name": "tequila-3.6"
  },
  "language_info": {
   "codemirror_mode": {
    "name": "ipython",
    "version": 3
   },
   "file_extension": ".py",
   "mimetype": "text/x-python",
   "name": "python",
   "nbconvert_exporter": "python",
   "pygments_lexer": "ipython3",
   "version": "3.6.9"
  }
 },
 "nbformat": 4,
 "nbformat_minor": 2
}

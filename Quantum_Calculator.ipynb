{
  "nbformat": 4,
  "nbformat_minor": 0,
  "metadata": {
    "colab": {
      "name": "tequila calculator.ipynb",
      "provenance": [],
      "collapsed_sections": []
    },
    "kernelspec": {
      "name": "python3",
      "display_name": "Python 3"
    },
    "language_info": {
      "name": "python"
    }
  },
  "cells": [
    {
      "cell_type": "markdown",
      "source": [
        "# Welcome to the Tequila Calculator Tutorial.\n",
        "\n",
        "In this tutorial, you will learn how to create a quantum circuit that simulates addition using Tequila. We also compare the performance of various backends that Tequila uses. We hope you enjoy"
      ],
      "metadata": {
        "id": "N4DUdobNEems"
      }
    },
    {
      "cell_type": "markdown",
      "source": [
        "## Step 1: Install Tequila\n",
        "Run this cell to install Tequila on your device."
      ],
      "metadata": {
        "id": "mNDRACTQEzMI"
      }
    },
    {
      "cell_type": "code",
      "execution_count": 1,
      "metadata": {
        "id": "QbIYlKev8eJV",
        "colab": {
          "base_uri": "https://localhost:8080/",
          "height": 1000
        },
        "outputId": "864ff83c-9a3d-4548-b797-b4ad79931440"
      },
      "outputs": [
        {
          "output_type": "stream",
          "name": "stdout",
          "text": [
            "Looking in indexes: https://pypi.org/simple, https://us-python.pkg.dev/colab-wheels/public/simple/\n",
            "Collecting git+https://github.com/aspuru-guzik-group/tequila.git\n",
            "  Cloning https://github.com/aspuru-guzik-group/tequila.git to /tmp/pip-req-build-0gd1l0gx\n",
            "  Running command git clone -q https://github.com/aspuru-guzik-group/tequila.git /tmp/pip-req-build-0gd1l0gx\n",
            "Requirement already satisfied: numpy in /usr/local/lib/python3.7/dist-packages (from tequila-basic==1.7.0) (1.21.6)\n",
            "Collecting scipy>=1.5\n",
            "  Downloading scipy-1.7.3-cp37-cp37m-manylinux_2_12_x86_64.manylinux2010_x86_64.whl (38.1 MB)\n",
            "\u001b[K     |████████████████████████████████| 38.1 MB 352 kB/s \n",
            "\u001b[?25hRequirement already satisfied: sympy in /usr/local/lib/python3.7/dist-packages (from tequila-basic==1.7.0) (1.7.1)\n",
            "Requirement already satisfied: jax in /usr/local/lib/python3.7/dist-packages (from tequila-basic==1.7.0) (0.3.8)\n",
            "Requirement already satisfied: jaxlib in /usr/local/lib/python3.7/dist-packages (from tequila-basic==1.7.0) (0.3.7+cuda11.cudnn805)\n",
            "Requirement already satisfied: setuptools in /usr/local/lib/python3.7/dist-packages (from tequila-basic==1.7.0) (57.4.0)\n",
            "Requirement already satisfied: pytest in /usr/local/lib/python3.7/dist-packages (from tequila-basic==1.7.0) (3.6.4)\n",
            "Collecting openfermion~=1.0\n",
            "  Downloading openfermion-1.3.0-py3-none-any.whl (1.0 MB)\n",
            "\u001b[K     |████████████████████████████████| 1.0 MB 46.2 MB/s \n",
            "\u001b[?25hRequirement already satisfied: cmake in /usr/local/lib/python3.7/dist-packages (from tequila-basic==1.7.0) (3.22.4)\n",
            "Collecting qulacs\n",
            "  Downloading Qulacs-0.3.0-cp37-cp37m-manylinux_2_12_x86_64.manylinux2010_x86_64.whl (451 kB)\n",
            "\u001b[K     |████████████████████████████████| 451 kB 60.3 MB/s \n",
            "\u001b[?25hRequirement already satisfied: networkx in /usr/local/lib/python3.7/dist-packages (from openfermion~=1.0->tequila-basic==1.7.0) (2.6.3)\n",
            "Requirement already satisfied: h5py>=2.8 in /usr/local/lib/python3.7/dist-packages (from openfermion~=1.0->tequila-basic==1.7.0) (3.1.0)\n",
            "Requirement already satisfied: requests>=2.18 in /usr/local/lib/python3.7/dist-packages (from openfermion~=1.0->tequila-basic==1.7.0) (2.23.0)\n",
            "Collecting pubchempy\n",
            "  Downloading PubChemPy-1.0.4.tar.gz (29 kB)\n",
            "Collecting cirq-core>=0.12.0\n",
            "  Downloading cirq_core-0.14.1-py3-none-any.whl (1.8 MB)\n",
            "\u001b[K     |████████████████████████████████| 1.8 MB 47.0 MB/s \n",
            "\u001b[?25hCollecting deprecation\n",
            "  Downloading deprecation-2.1.0-py2.py3-none-any.whl (11 kB)\n",
            "Collecting cirq-google>=0.12.0\n",
            "  Downloading cirq_google-0.14.1-py3-none-any.whl (541 kB)\n",
            "\u001b[K     |████████████████████████████████| 541 kB 52.5 MB/s \n",
            "\u001b[?25hRequirement already satisfied: sortedcontainers~=2.0 in /usr/local/lib/python3.7/dist-packages (from cirq-core>=0.12.0->openfermion~=1.0->tequila-basic==1.7.0) (2.4.0)\n",
            "Requirement already satisfied: typing-extensions in /usr/local/lib/python3.7/dist-packages (from cirq-core>=0.12.0->openfermion~=1.0->tequila-basic==1.7.0) (4.2.0)\n",
            "Requirement already satisfied: pandas in /usr/local/lib/python3.7/dist-packages (from cirq-core>=0.12.0->openfermion~=1.0->tequila-basic==1.7.0) (1.3.5)\n",
            "Collecting duet~=0.2.0\n",
            "  Downloading duet-0.2.6-py3-none-any.whl (28 kB)\n",
            "Requirement already satisfied: matplotlib~=3.0 in /usr/local/lib/python3.7/dist-packages (from cirq-core>=0.12.0->openfermion~=1.0->tequila-basic==1.7.0) (3.2.2)\n",
            "Requirement already satisfied: tqdm in /usr/local/lib/python3.7/dist-packages (from cirq-core>=0.12.0->openfermion~=1.0->tequila-basic==1.7.0) (4.64.0)\n",
            "Collecting backports.cached-property~=1.0.1\n",
            "  Downloading backports.cached_property-1.0.1-py3-none-any.whl (5.7 kB)\n",
            "Requirement already satisfied: protobuf>=3.13.0 in /usr/local/lib/python3.7/dist-packages (from cirq-google>=0.12.0->openfermion~=1.0->tequila-basic==1.7.0) (3.17.3)\n",
            "Requirement already satisfied: google-api-core[grpc]<2.0.0dev,>=1.14.0 in /usr/local/lib/python3.7/dist-packages (from cirq-google>=0.12.0->openfermion~=1.0->tequila-basic==1.7.0) (1.31.6)\n",
            "Collecting typing-extensions\n",
            "  Downloading typing_extensions-3.10.0.0-py3-none-any.whl (26 kB)\n",
            "Requirement already satisfied: six>=1.13.0 in /usr/local/lib/python3.7/dist-packages (from google-api-core[grpc]<2.0.0dev,>=1.14.0->cirq-google>=0.12.0->openfermion~=1.0->tequila-basic==1.7.0) (1.15.0)\n",
            "Requirement already satisfied: google-auth<2.0dev,>=1.25.0 in /usr/local/lib/python3.7/dist-packages (from google-api-core[grpc]<2.0.0dev,>=1.14.0->cirq-google>=0.12.0->openfermion~=1.0->tequila-basic==1.7.0) (1.35.0)\n",
            "Requirement already satisfied: packaging>=14.3 in /usr/local/lib/python3.7/dist-packages (from google-api-core[grpc]<2.0.0dev,>=1.14.0->cirq-google>=0.12.0->openfermion~=1.0->tequila-basic==1.7.0) (21.3)\n",
            "Requirement already satisfied: pytz in /usr/local/lib/python3.7/dist-packages (from google-api-core[grpc]<2.0.0dev,>=1.14.0->cirq-google>=0.12.0->openfermion~=1.0->tequila-basic==1.7.0) (2022.1)\n",
            "Requirement already satisfied: googleapis-common-protos<2.0dev,>=1.6.0 in /usr/local/lib/python3.7/dist-packages (from google-api-core[grpc]<2.0.0dev,>=1.14.0->cirq-google>=0.12.0->openfermion~=1.0->tequila-basic==1.7.0) (1.56.2)\n",
            "Requirement already satisfied: grpcio<2.0dev,>=1.29.0 in /usr/local/lib/python3.7/dist-packages (from google-api-core[grpc]<2.0.0dev,>=1.14.0->cirq-google>=0.12.0->openfermion~=1.0->tequila-basic==1.7.0) (1.46.3)\n",
            "Requirement already satisfied: rsa<5,>=3.1.4 in /usr/local/lib/python3.7/dist-packages (from google-auth<2.0dev,>=1.25.0->google-api-core[grpc]<2.0.0dev,>=1.14.0->cirq-google>=0.12.0->openfermion~=1.0->tequila-basic==1.7.0) (4.8)\n",
            "Requirement already satisfied: pyasn1-modules>=0.2.1 in /usr/local/lib/python3.7/dist-packages (from google-auth<2.0dev,>=1.25.0->google-api-core[grpc]<2.0.0dev,>=1.14.0->cirq-google>=0.12.0->openfermion~=1.0->tequila-basic==1.7.0) (0.2.8)\n",
            "Requirement already satisfied: cachetools<5.0,>=2.0.0 in /usr/local/lib/python3.7/dist-packages (from google-auth<2.0dev,>=1.25.0->google-api-core[grpc]<2.0.0dev,>=1.14.0->cirq-google>=0.12.0->openfermion~=1.0->tequila-basic==1.7.0) (4.2.4)\n",
            "Requirement already satisfied: cached-property in /usr/local/lib/python3.7/dist-packages (from h5py>=2.8->openfermion~=1.0->tequila-basic==1.7.0) (1.5.2)\n",
            "Requirement already satisfied: python-dateutil>=2.1 in /usr/local/lib/python3.7/dist-packages (from matplotlib~=3.0->cirq-core>=0.12.0->openfermion~=1.0->tequila-basic==1.7.0) (2.8.2)\n",
            "Requirement already satisfied: pyparsing!=2.0.4,!=2.1.2,!=2.1.6,>=2.0.1 in /usr/local/lib/python3.7/dist-packages (from matplotlib~=3.0->cirq-core>=0.12.0->openfermion~=1.0->tequila-basic==1.7.0) (3.0.9)\n",
            "Requirement already satisfied: kiwisolver>=1.0.1 in /usr/local/lib/python3.7/dist-packages (from matplotlib~=3.0->cirq-core>=0.12.0->openfermion~=1.0->tequila-basic==1.7.0) (1.4.2)\n",
            "Requirement already satisfied: cycler>=0.10 in /usr/local/lib/python3.7/dist-packages (from matplotlib~=3.0->cirq-core>=0.12.0->openfermion~=1.0->tequila-basic==1.7.0) (0.11.0)\n",
            "Requirement already satisfied: pyasn1<0.5.0,>=0.4.6 in /usr/local/lib/python3.7/dist-packages (from pyasn1-modules>=0.2.1->google-auth<2.0dev,>=1.25.0->google-api-core[grpc]<2.0.0dev,>=1.14.0->cirq-google>=0.12.0->openfermion~=1.0->tequila-basic==1.7.0) (0.4.8)\n",
            "Requirement already satisfied: certifi>=2017.4.17 in /usr/local/lib/python3.7/dist-packages (from requests>=2.18->openfermion~=1.0->tequila-basic==1.7.0) (2022.5.18.1)\n",
            "Requirement already satisfied: idna<3,>=2.5 in /usr/local/lib/python3.7/dist-packages (from requests>=2.18->openfermion~=1.0->tequila-basic==1.7.0) (2.10)\n",
            "Requirement already satisfied: chardet<4,>=3.0.2 in /usr/local/lib/python3.7/dist-packages (from requests>=2.18->openfermion~=1.0->tequila-basic==1.7.0) (3.0.4)\n",
            "Requirement already satisfied: urllib3!=1.25.0,!=1.25.1,<1.26,>=1.21.1 in /usr/local/lib/python3.7/dist-packages (from requests>=2.18->openfermion~=1.0->tequila-basic==1.7.0) (1.24.3)\n",
            "Requirement already satisfied: mpmath>=0.19 in /usr/local/lib/python3.7/dist-packages (from sympy->tequila-basic==1.7.0) (1.2.1)\n",
            "Requirement already satisfied: opt-einsum in /usr/local/lib/python3.7/dist-packages (from jax->tequila-basic==1.7.0) (3.3.0)\n",
            "Requirement already satisfied: absl-py in /usr/local/lib/python3.7/dist-packages (from jax->tequila-basic==1.7.0) (1.0.0)\n",
            "Requirement already satisfied: flatbuffers<3.0,>=1.12 in /usr/local/lib/python3.7/dist-packages (from jaxlib->tequila-basic==1.7.0) (2.0)\n",
            "Requirement already satisfied: attrs>=17.4.0 in /usr/local/lib/python3.7/dist-packages (from pytest->tequila-basic==1.7.0) (21.4.0)\n",
            "Requirement already satisfied: more-itertools>=4.0.0 in /usr/local/lib/python3.7/dist-packages (from pytest->tequila-basic==1.7.0) (8.13.0)\n",
            "Requirement already satisfied: py>=1.5.0 in /usr/local/lib/python3.7/dist-packages (from pytest->tequila-basic==1.7.0) (1.11.0)\n",
            "Requirement already satisfied: atomicwrites>=1.0 in /usr/local/lib/python3.7/dist-packages (from pytest->tequila-basic==1.7.0) (1.4.0)\n",
            "Requirement already satisfied: pluggy<0.8,>=0.5 in /usr/local/lib/python3.7/dist-packages (from pytest->tequila-basic==1.7.0) (0.7.1)\n",
            "Building wheels for collected packages: tequila-basic, pubchempy\n",
            "  Building wheel for tequila-basic (setup.py) ... \u001b[?25l\u001b[?25hdone\n",
            "  Created wheel for tequila-basic: filename=tequila_basic-1.7.0-py3-none-any.whl size=251972 sha256=9c1024f64f6828cd8b88f285db2e9cff5b311973943b1714d0b7e608deb1d063\n",
            "  Stored in directory: /tmp/pip-ephem-wheel-cache-847c60w4/wheels/1d/22/ed/b52275443f28fbfe5dc0ed6e9637b777b241af74b9db038d2b\n",
            "  Building wheel for pubchempy (setup.py) ... \u001b[?25l\u001b[?25hdone\n",
            "  Created wheel for pubchempy: filename=PubChemPy-1.0.4-py3-none-any.whl size=13834 sha256=4c1ce9b90733bdd4060d9ae5c5e6de6b4e6990101369ad69a4caf0dadc9b4656\n",
            "  Stored in directory: /root/.cache/pip/wheels/7c/3d/8c/8192697412e9899dc55bbbb08bbc1197bef333caaa2a71c448\n",
            "Successfully built tequila-basic pubchempy\n",
            "Installing collected packages: typing-extensions, scipy, duet, backports.cached-property, cirq-core, pubchempy, deprecation, cirq-google, qulacs, openfermion, tequila-basic\n",
            "  Attempting uninstall: typing-extensions\n",
            "    Found existing installation: typing-extensions 4.2.0\n",
            "    Uninstalling typing-extensions-4.2.0:\n",
            "      Successfully uninstalled typing-extensions-4.2.0\n",
            "  Attempting uninstall: scipy\n",
            "    Found existing installation: scipy 1.4.1\n",
            "    Uninstalling scipy-1.4.1:\n",
            "      Successfully uninstalled scipy-1.4.1\n",
            "\u001b[31mERROR: pip's dependency resolver does not currently take into account all the packages that are installed. This behaviour is the source of the following dependency conflicts.\n",
            "albumentations 0.1.12 requires imgaug<0.2.7,>=0.2.5, but you have imgaug 0.2.9 which is incompatible.\u001b[0m\n",
            "Successfully installed backports.cached-property-1.0.1 cirq-core-0.14.1 cirq-google-0.14.1 deprecation-2.1.0 duet-0.2.6 openfermion-1.3.0 pubchempy-1.0.4 qulacs-0.3.0 scipy-1.7.3 tequila-basic-1.7.0 typing-extensions-3.10.0.0\n"
          ]
        },
        {
          "output_type": "display_data",
          "data": {
            "application/vnd.colab-display-data+json": {
              "pip_warning": {
                "packages": [
                  "typing_extensions"
                ]
              }
            }
          },
          "metadata": {}
        }
      ],
      "source": [
        "pip install git+https://github.com/aspuru-guzik-group/tequila.git"
      ]
    },
    {
      "cell_type": "markdown",
      "source": [
        "## Step 2:\n",
        "\n",
        "Install Qiskit on your device as well. Since it is one of the simulators we will use."
      ],
      "metadata": {
        "id": "JwET6kP9E3vx"
      }
    },
    {
      "cell_type": "code",
      "source": [
        "pip install qiskit"
      ],
      "metadata": {
        "colab": {
          "base_uri": "https://localhost:8080/"
        },
        "id": "670jOfRu9Y6z",
        "outputId": "40df05a9-08ea-4342-c515-e1169e2dc7a4"
      },
      "execution_count": 11,
      "outputs": [
        {
          "output_type": "stream",
          "name": "stdout",
          "text": [
            "Looking in indexes: https://pypi.org/simple, https://us-python.pkg.dev/colab-wheels/public/simple/\n",
            "Requirement already satisfied: qiskit in /usr/local/lib/python3.7/dist-packages (0.36.2)\n",
            "Requirement already satisfied: qiskit-aer==0.10.4 in /usr/local/lib/python3.7/dist-packages (from qiskit) (0.10.4)\n",
            "Requirement already satisfied: qiskit-ibmq-provider==0.19.1 in /usr/local/lib/python3.7/dist-packages (from qiskit) (0.19.1)\n",
            "Requirement already satisfied: qiskit-ignis==0.7.1 in /usr/local/lib/python3.7/dist-packages (from qiskit) (0.7.1)\n",
            "Requirement already satisfied: qiskit-terra==0.20.2 in /usr/local/lib/python3.7/dist-packages (from qiskit) (0.20.2)\n",
            "Requirement already satisfied: scipy>=1.0 in /usr/local/lib/python3.7/dist-packages (from qiskit-aer==0.10.4->qiskit) (1.7.3)\n",
            "Requirement already satisfied: numpy>=1.16.3 in /usr/local/lib/python3.7/dist-packages (from qiskit-aer==0.10.4->qiskit) (1.21.6)\n",
            "Requirement already satisfied: websockets>=10.0 in /usr/local/lib/python3.7/dist-packages (from qiskit-ibmq-provider==0.19.1->qiskit) (10.3)\n",
            "Requirement already satisfied: requests>=2.19 in /usr/local/lib/python3.7/dist-packages (from qiskit-ibmq-provider==0.19.1->qiskit) (2.23.0)\n",
            "Requirement already satisfied: python-dateutil>=2.8.0 in /usr/local/lib/python3.7/dist-packages (from qiskit-ibmq-provider==0.19.1->qiskit) (2.8.2)\n",
            "Requirement already satisfied: requests-ntlm>=1.1.0 in /usr/local/lib/python3.7/dist-packages (from qiskit-ibmq-provider==0.19.1->qiskit) (1.1.0)\n",
            "Requirement already satisfied: urllib3>=1.21.1 in /usr/local/lib/python3.7/dist-packages (from qiskit-ibmq-provider==0.19.1->qiskit) (1.24.3)\n",
            "Requirement already satisfied: websocket-client>=1.0.1 in /usr/local/lib/python3.7/dist-packages (from qiskit-ibmq-provider==0.19.1->qiskit) (1.3.2)\n",
            "Requirement already satisfied: setuptools>=40.1.0 in /usr/local/lib/python3.7/dist-packages (from qiskit-ignis==0.7.1->qiskit) (57.4.0)\n",
            "Requirement already satisfied: retworkx>=0.8.0 in /usr/local/lib/python3.7/dist-packages (from qiskit-ignis==0.7.1->qiskit) (0.11.0)\n",
            "Requirement already satisfied: psutil>=5 in /usr/local/lib/python3.7/dist-packages (from qiskit-terra==0.20.2->qiskit) (5.4.8)\n",
            "Requirement already satisfied: sympy>=1.3 in /usr/local/lib/python3.7/dist-packages (from qiskit-terra==0.20.2->qiskit) (1.7.1)\n",
            "Requirement already satisfied: stevedore>=3.0.0 in /usr/local/lib/python3.7/dist-packages (from qiskit-terra==0.20.2->qiskit) (3.5.0)\n",
            "Requirement already satisfied: tweedledum<2.0,>=1.1 in /usr/local/lib/python3.7/dist-packages (from qiskit-terra==0.20.2->qiskit) (1.1.1)\n",
            "Requirement already satisfied: dill>=0.3 in /usr/local/lib/python3.7/dist-packages (from qiskit-terra==0.20.2->qiskit) (0.3.5.1)\n",
            "Requirement already satisfied: python-constraint>=1.4 in /usr/local/lib/python3.7/dist-packages (from qiskit-terra==0.20.2->qiskit) (1.4.0)\n",
            "Requirement already satisfied: symengine>=0.9 in /usr/local/lib/python3.7/dist-packages (from qiskit-terra==0.20.2->qiskit) (0.9.2)\n",
            "Requirement already satisfied: ply>=3.10 in /usr/local/lib/python3.7/dist-packages (from qiskit-terra==0.20.2->qiskit) (3.11)\n",
            "Requirement already satisfied: six>=1.5 in /usr/local/lib/python3.7/dist-packages (from python-dateutil>=2.8.0->qiskit-ibmq-provider==0.19.1->qiskit) (1.15.0)\n",
            "Requirement already satisfied: idna<3,>=2.5 in /usr/local/lib/python3.7/dist-packages (from requests>=2.19->qiskit-ibmq-provider==0.19.1->qiskit) (2.10)\n",
            "Requirement already satisfied: certifi>=2017.4.17 in /usr/local/lib/python3.7/dist-packages (from requests>=2.19->qiskit-ibmq-provider==0.19.1->qiskit) (2022.5.18.1)\n",
            "Requirement already satisfied: chardet<4,>=3.0.2 in /usr/local/lib/python3.7/dist-packages (from requests>=2.19->qiskit-ibmq-provider==0.19.1->qiskit) (3.0.4)\n",
            "Requirement already satisfied: cryptography>=1.3 in /usr/local/lib/python3.7/dist-packages (from requests-ntlm>=1.1.0->qiskit-ibmq-provider==0.19.1->qiskit) (37.0.2)\n",
            "Requirement already satisfied: ntlm-auth>=1.0.2 in /usr/local/lib/python3.7/dist-packages (from requests-ntlm>=1.1.0->qiskit-ibmq-provider==0.19.1->qiskit) (1.5.0)\n",
            "Requirement already satisfied: cffi>=1.12 in /usr/local/lib/python3.7/dist-packages (from cryptography>=1.3->requests-ntlm>=1.1.0->qiskit-ibmq-provider==0.19.1->qiskit) (1.15.0)\n",
            "Requirement already satisfied: pycparser in /usr/local/lib/python3.7/dist-packages (from cffi>=1.12->cryptography>=1.3->requests-ntlm>=1.1.0->qiskit-ibmq-provider==0.19.1->qiskit) (2.21)\n",
            "Requirement already satisfied: importlib-metadata>=1.7.0 in /usr/local/lib/python3.7/dist-packages (from stevedore>=3.0.0->qiskit-terra==0.20.2->qiskit) (4.11.4)\n",
            "Requirement already satisfied: pbr!=2.1.0,>=2.0.0 in /usr/local/lib/python3.7/dist-packages (from stevedore>=3.0.0->qiskit-terra==0.20.2->qiskit) (5.9.0)\n",
            "Requirement already satisfied: typing-extensions>=3.6.4 in /usr/local/lib/python3.7/dist-packages (from importlib-metadata>=1.7.0->stevedore>=3.0.0->qiskit-terra==0.20.2->qiskit) (3.10.0.0)\n",
            "Requirement already satisfied: zipp>=0.5 in /usr/local/lib/python3.7/dist-packages (from importlib-metadata>=1.7.0->stevedore>=3.0.0->qiskit-terra==0.20.2->qiskit) (3.8.0)\n",
            "Requirement already satisfied: mpmath>=0.19 in /usr/local/lib/python3.7/dist-packages (from sympy>=1.3->qiskit-terra==0.20.2->qiskit) (1.2.1)\n"
          ]
        }
      ]
    },
    {
      "cell_type": "markdown",
      "source": [
        "## Step 3: Import Statements\n",
        "\n",
        "Let's import numpy and tequila in a Python-friendly way."
      ],
      "metadata": {
        "id": "2JvfWH7-E_x1"
      }
    },
    {
      "cell_type": "code",
      "source": [
        "import tequila as tq\n",
        "import numpy\n",
        "from numpy import pi\n",
        "tq.show_available_simulators()"
      ],
      "metadata": {
        "colab": {
          "base_uri": "https://localhost:8080/"
        },
        "id": "b3B6sB3J9DyJ",
        "outputId": "94a03dfa-81b4-4439-d995-206c629724d3"
      },
      "execution_count": 2,
      "outputs": [
        {
          "output_type": "stream",
          "name": "stdout",
          "text": [
            "backend         | wfn        | sampling   | noise      | installed \n",
            "--------------------------------------------------------------------\n",
            "qulacs_gpu      | False      | False      | False      | False     \n",
            "qulacs          | True       | True       | True       | True      \n",
            "qibo            | False      | False      | False      | False     \n",
            "qiskit          | False      | False      | False      | False     \n",
            "cirq            | True       | True       | True       | True      \n",
            "pyquil          | False      | False      | False      | False     \n",
            "symbolic        | True       | False      | False      | True      \n",
            "qlm             | False      | False      | False      | False     \n"
          ]
        }
      ]
    },
    {
      "cell_type": "markdown",
      "source": [
        "## Step 4: Create our Basic Add Statement\n",
        "\n",
        "Let's first see how to add two qubits initialized at various values. We have 2 helpers functions - module (the basic circuit) and find_carry (finds what digit to carry)"
      ],
      "metadata": {
        "id": "49Rq3VIjFJ-A"
      }
    },
    {
      "cell_type": "code",
      "source": [
        "#adapted from https://www.quantum-inspire.com/kbase/full-adder/\n",
        "addcircuit = tq.gates.Toffoli(first = 0, second = 1, target = 3) + tq.gates.CNOT(target=1, control = 0)\n",
        "addcircuit = addcircuit + tq.gates.Toffoli(first = 1, second = 2, target = 3) + tq.gates.CNOT(target=2, control = 1) + tq.gates.CNOT(target=1, control = 0)\n",
        "tq.draw(addcircuit)\n",
        "\n",
        "\n",
        "def module(q, i, x, a):\n",
        "  #make sure q is initialized\n",
        "  q = q + tq.gates.CX(i, 2*len(a)+i)\n",
        "  q = q + tq.gates.CX(i+1,2*len(a)+i)\n",
        "  q.measure(2*len(a)+i,x[0])\n",
        "  find_carry(q,i,i+1,2*len(a)+i-1,2*len(a)+i,2*len(a)+i+1,x)\n",
        "  q.cx(2*len(a)+i-1,2*len(a)+i)\n",
        "  q.barrier()\n",
        "  \n",
        "def find_carry(qc, a,b, c,d,e, x):\n",
        "  qc.ccx(a,b,e).c_if(x,0)\n",
        "  qc.ccx(c,d,e).c_if(x,1)\n",
        "\n",
        "#documentation here: https://nbviewer.org/github/tequilahub/tequila-tutorials/blob/main/BasicUsage.ipynb\n",
        "#unsure how to initialize qubit values, thing doing circuit correct but depends on if numbers in first, target, etc. refer to value or \n",
        "#part of circuit (assuming refers to part of circuit)\n",
        "a = tq.Variable(\"a\")\n",
        "b = tq.Variable(\"b\")\n",
        "\n",
        "# set the value we want to simulate\n",
        "variables = {\"a\" : 1.0, \"b\": 0.0}\n",
        "wfn = tq.simulate(addcircuit, variables=variables)\n"
      ],
      "metadata": {
        "colab": {
          "base_uri": "https://localhost:8080/"
        },
        "id": "1pYRE48HrT8y",
        "outputId": "be9be2ce-0a9a-4c8c-8d67-8cb9d9ce7e0b"
      },
      "execution_count": 3,
      "outputs": [
        {
          "output_type": "stream",
          "name": "stdout",
          "text": [
            "0: ───@───@───────────@───\n",
            "      │   │           │\n",
            "1: ───@───X───@───@───X───\n",
            "      │       │   │\n",
            "2: ───┼───────@───X───────\n",
            "      │       │\n",
            "3: ───X───────X───────────\n"
          ]
        }
      ]
    },
    {
      "cell_type": "markdown",
      "source": [
        "## Step 5: Generalized Circuit \n",
        "\n",
        "Below is the generalized circuit for addition (where the input can be any value)."
      ],
      "metadata": {
        "id": "BKsYj7bnFmaK"
      }
    },
    {
      "cell_type": "code",
      "source": [
        "#establish variable values here, q_0, q_1 are ones digits, q_2, q_3 are tens digits\n",
        "qc_two = tq.gates.X(0)\n",
        "qc_two = qc_two + tq.gates.X(1)\n",
        "qc_two = qc_two + tq.gates.X(3)\n",
        "\n",
        "qc_two = qc_two + tq.gates.CX(0, 4)\n",
        "qc_two = qc_two + tq.gates.CX(1, 4)\n",
        "qc_two = qc_two + tq.gates.Toffoli(0,1,5)\n",
        "\n",
        "qc_two = qc_two + tq.gates.CX(2, 6)\n",
        "qc_two = qc_two + tq.gates.CX(3, 6)\n",
        "qc_two = qc_two + tq.gates.Toffoli(2,3,7)\n",
        "qc_two = qc_two + tq.gates.Toffoli(5,6,8)\n",
        "qc_two = qc_two + tq.gates.CX(5, 6)\n",
        "qc_two = qc_two + tq.gates.X(7)\n",
        "qc_two = qc_two + tq.gates.X(8)\n",
        "qc_two = qc_two + tq.gates.Toffoli(7, 8, 9)\n",
        "qc_two = qc_two + tq.gates.X(9)\n",
        "\n",
        "# qc_two.x(0)\n",
        "# qc_two.x(1)\n",
        "# qc_two.x(3)\n",
        "# qc_two.barrier()\n",
        "\n",
        "# qc_two.cx(0,4)\n",
        "# qc_two.cx(1,4)\n",
        "# qc_two.ccx(0,1,5)\n",
        "# qc_two.barrier()\n",
        "\n",
        "# qc_two.cx(2,6)\n",
        "# qc_two.cx(3,6)\n",
        "# qc_two.ccx(2,3,7)\n",
        "# qc_two.ccx(5,6,8)\n",
        "# qc_two.cx(5,6)\n",
        "# qc_two.x(7)\n",
        "# qc_two.x(8)\n",
        "# qc_two.ccx(7,8,9)\n",
        "# qc_two.x(9)\n",
        "# qc_two.barrier()\n",
        "\n",
        "# qc_two.measure(4,0)\n",
        "# qc_two.measure(6,1)\n",
        "# qc_two.measure(9,2)\n",
        "\n",
        "tq.draw(qc_two)\n",
        "measurements = tq.simulate(qc_two, backend='cirq')\n",
        "#list of 100s, 10s, 1s quibit values\n",
        "measurement = [str(measurements)[-8], str(measurements)[-6], str(measurements)[-3]]\n",
        "measurement.reverse()\n",
        "print(str(measurements))\n",
        "print(measurement)"
      ],
      "metadata": {
        "id": "RZW3yPz4CytH",
        "colab": {
          "base_uri": "https://localhost:8080/"
        },
        "outputId": "c047ae93-8445-4200-cbce-1ac83d4d2524"
      },
      "execution_count": 9,
      "outputs": [
        {
          "output_type": "stream",
          "name": "stdout",
          "text": [
            "      ┌──┐   ┌──┐   ┌──┐\n",
            "0: ────X──────@────────────@───────────────────\n",
            "              │            │\n",
            "1: ────X──────┼──────@─────@───────────────────\n",
            "              │      │     │\n",
            "2: ─────@─────┼──────┼@────┼───────────────────\n",
            "        │     │      ││    │\n",
            "3: ────X┼─────┼@─────┼@────┼───────────────────\n",
            "        │     ││     ││    │\n",
            "4: ─────┼─────X┼─────X┼────┼───────────────────\n",
            "        │      │      │    │\n",
            "5: ─────┼──────┼──────┼────X───@───@───────────\n",
            "        │      │      │        │   │\n",
            "6: ─────X──────X──────┼────────@───X───────────\n",
            "                      │        │\n",
            "7: ───────────────────X────X───┼───────@───────\n",
            "                               │       │\n",
            "8: ────────────────────────────X───X───@───────\n",
            "                                       │\n",
            "9: ────────────────────────────────────X───X───\n",
            "      └──┘   └──┘   └──┘\n",
            "+1.0000|1101010101> \n",
            "['1', '0', '0']\n"
          ]
        }
      ]
    },
    {
      "cell_type": "code",
      "source": [
        "tq.draw(qc_two)"
      ],
      "metadata": {
        "colab": {
          "base_uri": "https://localhost:8080/",
          "height": 422
        },
        "id": "D57P1Vh-ECZH",
        "outputId": "588f4308-37c6-4942-aefa-cad27e14ba28"
      },
      "execution_count": 5,
      "outputs": [
        {
          "output_type": "stream",
          "name": "stdout",
          "text": [
            "      ┌──┐   ┌──┐   ┌──┐\n",
            "0: ────X──────@────────────@───────────────────\n",
            "              │            │\n",
            "1: ────X──────┼──────@─────@───────────────────\n",
            "              │      │     │\n",
            "2: ─────@─────┼──────┼@────┼───────────────────\n",
            "        │     │      ││    │\n",
            "3: ────X┼─────┼@─────┼@────┼───────────────────\n",
            "        │     ││     ││    │\n",
            "4: ─────┼─────X┼─────X┼────┼───────────────────\n",
            "        │      │      │    │\n",
            "5: ─────┼──────┼──────┼────X───@───@───────────\n",
            "        │      │      │        │   │\n",
            "6: ─────X──────X──────┼────────@───X───────────\n",
            "                      │        │\n",
            "7: ───────────────────X────X───┼───────@───────\n",
            "                               │       │\n",
            "8: ────────────────────────────X───X───@───────\n",
            "                                       │\n",
            "9: ────────────────────────────────────X───X───\n",
            "      └──┘   └──┘   └──┘\n"
          ]
        },
        {
          "output_type": "execute_result",
          "data": {
            "text/plain": [
              "''"
            ],
            "application/vnd.google.colaboratory.intrinsic+json": {
              "type": "string"
            }
          },
          "metadata": {},
          "execution_count": 5
        }
      ]
    },
    {
      "cell_type": "markdown",
      "source": [
        "## Step 6: Detailed Generalized Circuit for Any Digit Addition\n",
        "\n",
        "For more details on how this circuit works, see https://averyparkinson23.medium.com/simulating-a-calculator-using-qiskit-e2a95fff179c"
      ],
      "metadata": {
        "id": "W-Cy7j69CsRY"
      }
    },
    {
      "cell_type": "code",
      "source": [
        "import torch\n",
        "from matplotlib import pyplot as plt\n",
        "import numpy as np\n"
      ],
      "metadata": {
        "id": "6zIIJnuC9N1E"
      },
      "execution_count": 12,
      "outputs": []
    },
    {
      "cell_type": "code",
      "source": [
        "def generalTwoDigit(x, y, sim):\n",
        "  abc = tq.gates.X(0) + tq.gates.X(0)\n",
        "  for i in range(len(x)):\n",
        "    i = len(x) - 1 - i\n",
        "    if x[i] == 1:\n",
        "      abc = qc_two + tq.gates.X(2*i)\n",
        "  for j in range(len(y)):\n",
        "    i = len(y) - 1 - i\n",
        "    if y[i] == 1:\n",
        "      abc = qc_two + tq.gates.X(2*i+1)\n",
        "  abc = abc + tq.gates.CX(0, 4)\n",
        "  abc = abc + tq.gates.CX(1, 4)\n",
        "  abc = abc + tq.gates.Toffoli(0,1,5)\n",
        "\n",
        "  abc = abc + tq.gates.CX(2, 6)\n",
        "  abc = abc + tq.gates.CX(3, 6)\n",
        "  abc = abc + tq.gates.Toffoli(2,3,7)\n",
        "  abc = abc + tq.gates.Toffoli(5,6,8)\n",
        "  abc = abc + tq.gates.CX(5, 6)\n",
        "  abc = abc + tq.gates.X(7)\n",
        "  abc = abc + tq.gates.X(8)\n",
        "  abc = abc + tq.gates.Toffoli(7, 8, 9)\n",
        "  abc = abc + tq.gates.X(9)\n",
        "  #tq.draw(abc)\n",
        "  measurements = tq.simulate(abc, simulator = sim)\n",
        "  #list of 100s, 10s, 1s quibit values\n",
        "  measurement = [str(measurements)[-8], str(measurements)[-6], str(measurements)[-3]]\n",
        "  measurement.reverse()\n",
        "  #print(str(measurements))\n",
        "  #print(\"Backend =\", sim)\n",
        "  return (''.join(measurement))   \n",
        "\n",
        "print(generalTwoDigit([0,1], [1, 0], \"qiskit\"))    \n"
      ],
      "metadata": {
        "id": "DT63MLBYFSRe",
        "colab": {
          "base_uri": "https://localhost:8080/"
        },
        "outputId": "581b797d-f4e1-49b6-9c60-20e9683cb6f9"
      },
      "execution_count": 17,
      "outputs": [
        {
          "output_type": "stream",
          "name": "stdout",
          "text": [
            "001\n"
          ]
        }
      ]
    },
    {
      "cell_type": "markdown",
      "source": [
        "## Step 7: Evaluate Runtime on Different Backends\n",
        "Now, let's evaluate the runtime of our algorithm on Qiskit, Cirq, and Qulacs"
      ],
      "metadata": {
        "id": "nh1AhiHwGPXB"
      }
    },
    {
      "cell_type": "code",
      "source": [
        "import time\n",
        "import random\n",
        "\n",
        "# get the start time\n",
        "st = time.time()\n",
        "\n",
        "# Generate random inputs x and y\n",
        "for i in range(1000):\n",
        "  x = [random.randint(0, 1), random.randint(0, 1)]\n",
        "  y = [random.randint(0, 1), random.randint(0, 1)]\n",
        "  # main program\n",
        "  generalTwoDigit(x, y, \"cirq\")\n",
        "\n",
        "# get the end time\n",
        "et = time.time()\n",
        "\n",
        "# get the execution time\n",
        "elapsed_time = et - st\n",
        "print('Execution time:', elapsed_time, 'seconds')"
      ],
      "metadata": {
        "id": "Yyy-sADgDQIX",
        "colab": {
          "base_uri": "https://localhost:8080/"
        },
        "outputId": "765f53a0-8204-43d2-fafb-35183defcc82"
      },
      "execution_count": 33,
      "outputs": [
        {
          "output_type": "stream",
          "name": "stdout",
          "text": [
            "Execution time: 66.15482687950134 seconds\n"
          ]
        }
      ]
    },
    {
      "cell_type": "code",
      "source": [
        ""
      ],
      "metadata": {
        "id": "STlxq-7TCWw7"
      },
      "execution_count": null,
      "outputs": []
    },
    {
      "cell_type": "markdown",
      "source": [
        "# Runtime Comparison (seconds):\n",
        "\n",
        "\n",
        "![Screen Shot 2022-06-05 at 8.56.32 PM.png](data:image/png;base64,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)\n"
      ],
      "metadata": {
        "id": "bvGJmYf7JPlG"
      }
    },
    {
      "cell_type": "code",
      "source": [
        ""
      ],
      "metadata": {
        "id": "fQ-x1OEECZuQ"
      },
      "execution_count": null,
      "outputs": []
    },
    {
      "cell_type": "code",
      "source": [
        ""
      ],
      "metadata": {
        "id": "EY4H2t9dEe2O"
      },
      "execution_count": 33,
      "outputs": []
    },
    {
      "cell_type": "code",
      "source": [
        ""
      ],
      "metadata": {
        "id": "Iqhk1ionEKzl"
      },
      "execution_count": null,
      "outputs": []
    },
    {
      "cell_type": "code",
      "source": [
        ""
      ],
      "metadata": {
        "id": "fA5aHbeuEVhu"
      },
      "execution_count": null,
      "outputs": []
    },
    {
      "cell_type": "code",
      "source": [
        ""
      ],
      "metadata": {
        "id": "QraJiWWAEXiE"
      },
      "execution_count": null,
      "outputs": []
    }
  ]
}
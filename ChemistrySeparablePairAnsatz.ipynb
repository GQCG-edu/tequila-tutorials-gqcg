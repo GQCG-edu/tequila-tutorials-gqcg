{
 "cells": [
  {
   "cell_type": "markdown",
   "metadata": {},
   "source": [
    "# Low-Depth Quantum Circuits using a Separable Pair Approximation"
   ]
  },
  {
   "cell_type": "code",
   "execution_count": 1,
   "metadata": {},
   "outputs": [],
   "source": [
    "# needs version > 1.0 (get it from source)\n",
    "import tequila as tq\n",
    "import numpy\n",
    "import matplotlib.pyplot as plt"
   ]
  },
  {
   "cell_type": "markdown",
   "metadata": {},
   "source": [
    "This notebook illustrates some examples for the separable pair ansatz (SPA) following [arxiv:2105.03836](https://arxiv.org/abs/2105.03836).  \n",
    "\n",
    "As in the article, we will use a combination with the basis-set-free VQE from [arxiv:2008.02819](https://arxiv.org/pdf/2008.02819.pdf).\n",
    "\n",
    "### Dependencies\n",
    "For full use of this notebook, tequila needs a special [fork](https://github.com/kottmanj/madness) of madness installed.  Instruction on compilation can be found by following the link. Note, that windows is not supported as a os. See also the corresponding [tutorial](https://github.com/aspuru-guzik-group/tequila-tutorials/blob/main/ChemistryMadnessInterface.ipynb)\n",
    "\n",
    "If madness is not installed, the necessary data for all molecules of this notebook (and some more) is provided (`.npy` and `pnoinfo.txt` files in `data/basis-set-free-molecules/`), in order to read the data in, set `npno=None` in the cell below and of course, make sure to have the [data](https://github.com/aspuru-guzik-group/tequila-tutorials) available.  \n",
    "\n",
    "In order for tequila to find the madness backend, the directory where madness was compiled needs to be exported to the environment variable `MAD_ROOT_DIR`. In the cell below this is illustrated for this notebook. Of course, the path needs to be adapted depending where you have installed madness. If you plan to read the data from the provided files, just ignore the next cell. See the `madness_interface` tutorial for more information."
   ]
  },
  {
   "cell_type": "code",
   "execution_count": 2,
   "metadata": {},
   "outputs": [],
   "source": [
    "import os\n",
    "os.environ['MAD_ROOT_DIR'] = \"/home/jsk/devel/madness/build-opt\" # needs to be adapted\n",
    "\n",
    "#if set to None we will read data from files. Make sure those files are there (in data/basis-set-free-molecules/)\n",
    "#set n_pno=2 (or other value) in order to compute with madness as backend (will delete old files)\n",
    "n_pno=None\n",
    "\n",
    "#if data is not read in it is recommended to switch the directory in order to not overwrite files\n",
    "datadir=\"data/basis-set-free-molecules\""
   ]
  },
  {
   "cell_type": "markdown",
   "metadata": {},
   "source": [
    "## Example1: BeH$_2$ near equilibrium\n",
    "\n",
    "We will start with a simple calculation of the BeH$_2$ molecule. This molecule has 6 electrons.\n",
    "By default the `frozen_core` approximation is activated, this means that 2 of the 6 electrons are neglected in the correlated treatment.\n",
    "The two electrons are the core-electrons of the Be atom (the occupied Hartree-Fock orbital with the lowest energy). So we will end up with 4 electrons in 2+`n_pno` spatial orbitals.\n",
    "In this notebook we have `n_pno=2` which leads to 4 electrons in 4 spatial orbitals (8 qubits/spin-orbitals) i.e. BeH$_2$(4,8)."
   ]
  },
  {
   "cell_type": "code",
   "execution_count": 3,
   "metadata": {},
   "outputs": [],
   "source": [
    "geometry=\"Be 0.0 0.0 0.0\\nH 0.0 0.0 {R}\\nH 0.0 0.0 -{R}\"\n",
    "name=datadir+\"/beh2_{R}\""
   ]
  },
  {
   "cell_type": "code",
   "execution_count": 4,
   "metadata": {},
   "outputs": [],
   "source": [
    "R=1.5\n",
    "mol = tq.Molecule(name=name.format(R=R), geometry=geometry.format(R=R), n_pno=n_pno)"
   ]
  },
  {
   "cell_type": "markdown",
   "metadata": {},
   "source": [
    "We can print the molecule, in order to obtain some more information about it. Note that orbital 0 is missing (due to `frozen_core=True` which is the default but can be deactivated by passing the keyword to `tq.Molecule`)."
   ]
  },
  {
   "cell_type": "code",
   "execution_count": 5,
   "metadata": {},
   "outputs": [
    {
     "name": "stdout",
     "output_type": "stream",
     "text": [
      "<class 'tequila.quantumchemistry.madness_interface.QuantumChemistryMadness'>\n",
      "Qubit Encoding\n",
      "JordanWigner\n",
      "\n",
      "Parameters\n",
      "basis_set       : custom          \n",
      "geometry        : Be 0.0 0.0 0.0\n",
      "H 0.0 0.0 1.5\n",
      "H 0.0 0.0 -1.5 \n",
      "description     :                 \n",
      "multiplicity    : 1               \n",
      "charge          : 0               \n",
      "closed_shell    : True            \n",
      "name            : data/basis-set-free-molecules/beh2_1.5 \n",
      "\n",
      "MRA Orbitals    :\n",
      "orbital 1, occupied reference orbital (1,), energy -0.451953 \n",
      "orbital 2, occupied reference orbital (2,), energy -0.451953 \n",
      "orbital 3, pno from pair (1, 1), MP2 occ 0.00920606 \n",
      "orbital 4, pno from pair (2, 2), MP2 occ 0.00920605 \n",
      "\n",
      "executable      : /home/jsk/devel/madness/build-opt/src/apps/pno/pno_integrals\n",
      "htensor         : data/basis-set-free-molecules/beh2_1.5_htensor.npy\n",
      "gtensor         : data/basis-set-free-molecules/beh2_1.5_gtensor.npy\n",
      "\n"
     ]
    }
   ],
   "source": [
    "print(mol)"
   ]
  },
  {
   "cell_type": "markdown",
   "metadata": {},
   "source": [
    "Let's compute some energies (two classical methods: MP2, CCSD and two VQE methods: SPA and UpCCGSD)"
   ]
  },
  {
   "cell_type": "code",
   "execution_count": 6,
   "metadata": {
    "scrolled": true
   },
   "outputs": [
    {
     "name": "stderr",
     "output_type": "stream",
     "text": [
      "WARNING:absl:No GPU/TPU found, falling back to CPU. (Set TF_CPP_MIN_LOG_LEVEL=0 and rerun for more info.)\n"
     ]
    },
    {
     "name": "stdout",
     "output_type": "stream",
     "text": [
      "E(MP2) = -15.7783424618309  E_corr = -0.0191803844502508\n",
      "E(CCSD) = -15.78941228695859  E_corr = -0.03025020957798473\n"
     ]
    },
    {
     "data": {
      "image/png": "[encoded data removed]",
      "text/plain": [
       "<Figure size 432x288 with 1 Axes>"
      ]
     },
     "metadata": {
      "needs_background": "light"
     },
     "output_type": "display_data"
    }
   ],
   "source": [
    "errors = {}\n",
    "reference = mol.compute_energy(\"fci\")\n",
    "for method in [\"SPA\", \"UpCCGSD\", \"MP2\", \"CCSD\"]:\n",
    "    errors[method] = reference-mol.compute_energy(method, silent=True)\n",
    "\n",
    "plt.bar(list(errors.keys()), list(errors.values()))\n",
    "plt.ylabel(\"Errors/Eh\")\n",
    "plt.show()"
   ]
  },
  {
   "cell_type": "markdown",
   "metadata": {},
   "source": [
    "## Example2: Stretched BeH$_2$  \n",
    "\n",
    "For the second example we use the same molecule, but a more challenging structure. In the following we will construct the SPA circuit and combine it with a layer of (approximate) generalized singles rotations.  \n",
    "\n",
    "First we construct the molecule and compute some reference values (same procedure as before)"
   ]
  },
  {
   "cell_type": "code",
   "execution_count": 7,
   "metadata": {},
   "outputs": [],
   "source": [
    "R=5.0\n",
    "mol2 = tq.Molecule(name=name.format(R=R), geometry=geometry.format(R=R), n_pno=n_pno)"
   ]
  },
  {
   "cell_type": "code",
   "execution_count": 8,
   "metadata": {},
   "outputs": [
    {
     "name": "stdout",
     "output_type": "stream",
     "text": [
      "E(MP2) = -15.7316937570044  E_corr = -0.413791681714398\n"
     ]
    }
   ],
   "source": [
    "errors2={}\n",
    "fci2 = mol2.compute_energy(\"fci\")\n",
    "errors2[\"MP2\"]=fci2 - mol2.compute_energy(\"MP2\")"
   ]
  },
  {
   "cell_type": "markdown",
   "metadata": {},
   "source": [
    "Now we construct the SPA ansatz and get the qubit Hamiltonian from the molecule. Later this will be combined to expectation values that can be optimized.  \n",
    "\n",
    "See the Chemistry, BasicUsage and Optimizer tutorials of tequila for more information about the individual components."
   ]
  },
  {
   "cell_type": "code",
   "execution_count": 9,
   "metadata": {},
   "outputs": [],
   "source": [
    "U = mol2.make_upccgsd_ansatz(name=\"spa\")\n",
    "H = mol2.make_hamiltonian()"
   ]
  },
  {
   "cell_type": "markdown",
   "metadata": {},
   "source": [
    "Let's see how the SPA circuit looks like in this case. Wee will use the local\\_qubit\\_map to see the pair strucutre of the circuit. Note that you can transform the Hamiltonian in the same way if you want to use this qubit mapping. The local qubit map groups the orbitals of the separable electron pairs together ( pair $x$ has Hartree-Fock orbital $x$ and all PNOs of MP2 pair $(x,x)$. "
   ]
  },
  {
   "cell_type": "code",
   "execution_count": 10,
   "metadata": {},
   "outputs": [],
   "source": [
    "# not necessary to use the map, but will give more overview in circuit plots\n",
    "# the map sorts the orbitals by their respective pairs (naturally they are sorted by their occupation numbers in the MP2-MRA-PNO surrogate model)\n",
    "qm = mol2.local_qubit_map()\n",
    "tq.circuit.export_to(U.map_qubits(qm), filename=\"pics/beh2_spa.png\")"
   ]
  },
  {
   "cell_type": "markdown",
   "metadata": {},
   "source": [
    "This is the circuit that was drawn by the code above:\n",
    "<img src=\"pics/beh2_spa.png\" alt=\"SPA Circuit\" width=\"200\"/>"
   ]
  },
  {
   "cell_type": "markdown",
   "metadata": {},
   "source": [
    "In the second circuit we take the SPA circuit and add a further layer of generalized approximate singles to it. The apprioximation corresponds to neglecting all $Z$ terms in the Jordan-Wigner strings of the excitation operators that generate the corresponding gates. The approximation is triggered by the \"A\" in the name and will only work for Jordan-Wigner encoding.\n",
    "\n",
    "Further down we construct a similar circuit using standard single excitations."
   ]
  },
  {
   "cell_type": "code",
   "execution_count": 11,
   "metadata": {},
   "outputs": [],
   "source": [
    "U2 = U + mol2.make_upccgsd_ansatz(name=\"GAS\", include_reference=False)"
   ]
  },
  {
   "cell_type": "code",
   "execution_count": 12,
   "metadata": {},
   "outputs": [],
   "source": [
    "tq.circuit.export_to(U2.map_qubits(qm), filename=\"pics/beh2_spa+gas.png\")"
   ]
  },
  {
   "cell_type": "markdown",
   "metadata": {},
   "source": [
    "<img src=\"pics/beh2_spa+gas.png\" alt=\"drawing\" width=\"500\"/>"
   ]
  },
  {
   "cell_type": "markdown",
   "metadata": {},
   "source": [
    "Now we optimize the expectation values resulting from the different circuits. Note that the standard initialization (all variables to 0.0) will result in faulty convergence for the signles layer, so we let the initial values deviate a bit). Our optimization strategy will keep the pre-optimized SPA circuits parameters fixed by explicitcly not declaring them active variables in the optimization (see other tequila tutorials for more details)"
   ]
  },
  {
   "cell_type": "code",
   "execution_count": 13,
   "metadata": {
    "scrolled": true
   },
   "outputs": [
    {
     "name": "stdout",
     "output_type": "stream",
     "text": [
      "Optimizer: <class 'tequila.optimizers.optimizer_scipy.OptimizerSciPy'> \n",
      "backend         : qulacs\n",
      "device          : None\n",
      "samples         : None\n",
      "save_history    : True\n",
      "noise           : None\n",
      "\n",
      "Method          : BFGS\n",
      "Objective       : 1 expectationvalues\n",
      "gradient        : 4 expectationvalues\n",
      "\n",
      "active variables : 2\n",
      "\n",
      "E=-15.31790208\n",
      "E=-15.35009435\n",
      "E=-15.40138656\n",
      "E=-15.42075426\n",
      "E=-15.42161648\n",
      "E=-15.42172663\n",
      "E=-15.42181799\n",
      "Optimization terminated successfully.\n",
      "         Current function value: -15.421818\n",
      "         Iterations: 6\n",
      "         Function evaluations: 7\n",
      "         Gradient evaluations: 7\n",
      "Optimizer: <class 'tequila.optimizers.optimizer_scipy.OptimizerSciPy'> \n",
      "backend         : qulacs\n",
      "device          : None\n",
      "samples         : None\n",
      "save_history    : True\n",
      "noise           : None\n",
      "\n",
      "Method          : BFGS\n",
      "Objective       : 1 expectationvalues\n",
      "gradient        : 24 expectationvalues\n",
      "\n",
      "active variables : 12\n",
      "\n",
      "E=-15.33762374\n",
      "E=-15.36590072\n",
      "E=-15.41556703\n",
      "E=-15.46749573\n",
      "E=-15.47107801\n",
      "E=-15.47735437\n",
      "E=-15.48521290\n",
      "E=-15.48676263\n",
      "E=-15.48898485\n",
      "E=-15.49205819\n",
      "E=-15.49412911\n",
      "E=-15.49530446\n",
      "E=-15.49641787\n",
      "E=-15.49817588\n",
      "E=-15.50083933\n",
      "E=-15.50421854\n",
      "E=-15.50663502\n",
      "E=-15.50814393\n",
      "E=-15.50969297\n",
      "E=-15.51101531\n",
      "E=-15.51228220\n",
      "E=-15.51256749\n",
      "E=-15.51276511\n",
      "E=-15.51290304\n",
      "E=-15.51295900\n",
      "E=-15.51299723\n",
      "E=-15.51304559\n",
      "E=-15.51309354\n",
      "E=-15.51311575\n",
      "Optimization terminated successfully.\n",
      "         Current function value: -15.513116\n",
      "         Iterations: 28\n",
      "         Function evaluations: 29\n",
      "         Gradient evaluations: 29\n",
      "Optimizer: <class 'tequila.optimizers.optimizer_scipy.OptimizerSciPy'> \n",
      "backend         : qulacs\n",
      "device          : None\n",
      "samples         : None\n",
      "save_history    : True\n",
      "noise           : None\n",
      "\n",
      "Method          : BFGS\n",
      "Objective       : 1 expectationvalues\n",
      "gradient        : 16 expectationvalues\n",
      "\n",
      "active variables : 4\n",
      "\n",
      "E=-15.32489654\n",
      "E=-15.36734877\n",
      "E=-15.41240260\n",
      "E=-15.41839521\n",
      "E=-15.42377158\n",
      "E=-15.42452388\n",
      "E=-15.42541351\n",
      "E=-15.42545313\n",
      "E=-15.42545820\n",
      "E=-15.42545997\n",
      "Optimization terminated successfully.\n",
      "         Current function value: -15.425460\n",
      "         Iterations: 9\n",
      "         Function evaluations: 10\n",
      "         Gradient evaluations: 10\n",
      "Optimizer: <class 'tequila.optimizers.optimizer_scipy.OptimizerSciPy'> \n",
      "backend         : qulacs\n",
      "device          : None\n",
      "samples         : None\n",
      "save_history    : True\n",
      "noise           : None\n",
      "\n",
      "Method          : BFGS\n",
      "Objective       : 1 expectationvalues\n",
      "gradient        : 24 expectationvalues\n",
      "\n",
      "active variables : 6\n",
      "\n",
      "E=-15.29162168\n",
      "E=-15.34463389\n",
      "E=-15.48914536\n",
      "E=-15.50630305\n",
      "E=-15.51101088\n",
      "E=-15.51256932\n",
      "E=-15.51488093\n",
      "E=-15.51602328\n",
      "E=-15.51618701\n",
      "E=-15.51624505\n",
      "E=-15.51624952\n",
      "Optimization terminated successfully.\n",
      "         Current function value: -15.516250\n",
      "         Iterations: 9\n",
      "         Function evaluations: 11\n",
      "         Gradient evaluations: 11\n"
     ]
    }
   ],
   "source": [
    "# SPA optimization\n",
    "E = tq.ExpectationValue(H=H, U=U)\n",
    "result = tq.minimize(E, print_level=2)\n",
    "errors2[\"SPA\"]=fci2-result.energy\n",
    "\n",
    "# SPA+GAS optimization (approximated singles rotations)\n",
    "E2 = tq.ExpectationValue(H=H, U=U2)\n",
    "active_variables=[x for x in E2.extract_variables() if x not in E.extract_variables()]\n",
    "ival={**{k:numpy.random.uniform(-1.0,1.0,1) for k in E2.extract_variables()}, **result.variables}\n",
    "result2 = tq.minimize(E2, initial_values=ival, variables=active_variables, print_level=2)\n",
    "errors2[\"SPA+GAS\"]=fci2-result2.energy\n",
    "\n",
    "# SPA+S optimization\n",
    "# enforce more symmetry by not approximating singles\n",
    "# spin-adaption will be turned on by default\n",
    "U3 = U + mol.make_upccgsd_ansatz(name=\"S\", include_reference=False)\n",
    "E3 = tq.ExpectationValue(H=H, U=U3)\n",
    "active_variables=[x for x in E3.extract_variables() if x not in E.extract_variables()]\n",
    "ival={**{k:numpy.random.uniform(-1.0,1.0,1) for k in E3.extract_variables()}, **result.variables}\n",
    "result3 = tq.minimize(E3, initial_values=ival, variables=active_variables, print_level=2)\n",
    "errors2[\"SPA+S\"]=fci2-result3.energy\n",
    "\n",
    "# SPA+GS optimization\n",
    "# the same with generalized singles\n",
    "U4 = U + mol.make_upccgsd_ansatz(name=\"GS\", include_reference=False)\n",
    "E4 = tq.ExpectationValue(H=H, U=U4)\n",
    "active_variables=[x for x in E4.extract_variables() if x not in E.extract_variables()]\n",
    "ival={**{k:numpy.random.uniform(-1.0,1.0,1) for k in E4.extract_variables()}, **result3.variables}\n",
    "result4 = tq.minimize(E4, initial_values=ival, variables=active_variables, print_level=2)\n",
    "errors2[\"SPA+GS\"]=fci2-result4.energy"
   ]
  },
  {
   "cell_type": "markdown",
   "metadata": {},
   "source": [
    "This is what we get:  \n",
    "Adding the singles layer can improve the result significantly. This is what is demonstrated in the article on LiH and C$_2$H$_6$ in more detail. \n",
    "On first glance it doesn't seem to make a difference if the singles are approximated or not."
   ]
  },
  {
   "cell_type": "code",
   "execution_count": 14,
   "metadata": {},
   "outputs": [
    {
     "data": {
      "image/png": "[encoded data removed]",
      "text/plain": [
       "<Figure size 432x288 with 1 Axes>"
      ]
     },
     "metadata": {
      "needs_background": "light"
     },
     "output_type": "display_data"
    }
   ],
   "source": [
    "plt.figure()\n",
    "plt.bar(list(errors2.keys()), list(errors2.values()), label=\"Errors/Eh\")\n",
    "plt.legend()\n",
    "plt.show()"
   ]
  },
  {
   "cell_type": "markdown",
   "metadata": {},
   "source": [
    "Since we are dealing with a 8 qubit model here, we can diagonalize the corresponding Hamiltonian exactly without much trouble. If we do so, we discover, that for this instance, the groundstate is a triplet, and the targeted singlet groundstate is slightly higher in energy. Note that the simple numpy diagonalization does usually lead to the triplet in it's canonical representation, instead the spin-polarized and spin-neutral parts are mixed.\n",
    "\n",
    "Note that we are operating in a system-adapted basis that targets the singlet groundstate (this is what the madness code does) - see more in this [article](https://doi.org/10.1021/acs.jpclett.0c03410) (or [arxiv:2008.02819](https://arxiv.org/abs/2008.02819)). So, we are targeting the singlet groundstate.\n",
    "Let's see how much overlap we have with this state by using either the plain Hartree-Fock wavefunction, the SPA wavefunction or it's extended versions SPA+GAS and SPA+GS. Be aware that for SPA+GAS/GS different runs might result in different outcomes due to the slightly random initialization - good initialization protocols would be great in the future :-)."
   ]
  },
  {
   "cell_type": "code",
   "execution_count": 15,
   "metadata": {},
   "outputs": [
    {
     "name": "stdout",
     "output_type": "stream",
     "text": [
      "state 0, E=-15.55191\n",
      "fidelity(HF)     :+0.00000\n",
      "fidelity(SPA)    :+0.00000\n",
      "fidelity(SPA+GAS):+0.00009\n",
      "fidelity(SPA+GS):+0.00000\n",
      "state 1, E=-15.55191\n",
      "fidelity(HF)     :+0.00000\n",
      "fidelity(SPA)    :+0.00000\n",
      "fidelity(SPA+GAS):+0.00000\n",
      "fidelity(SPA+GS):+0.00000\n",
      "state 2, E=-15.55191\n",
      "fidelity(HF)     :+0.00000\n",
      "fidelity(SPA)    :+0.00000\n",
      "fidelity(SPA+GAS):+0.77405\n",
      "fidelity(SPA+GS):+0.00000\n",
      "state 3, E=-15.55134\n",
      "fidelity(HF)     :+0.45924\n",
      "fidelity(SPA)    :+0.73419\n",
      "fidelity(SPA+GAS):+0.13462\n",
      "fidelity(SPA+GS):+0.76548\n"
     ]
    }
   ],
   "source": [
    "v,vv = numpy.linalg.eigh(H.to_matrix())\n",
    "UHF = mol.prepare_reference()\n",
    "UHF.n_qubits=8\n",
    "hf_wfn = tq.simulate(UHF)\n",
    "spa_wfn = tq.simulate(U, variables=result.variables)\n",
    "spa_gas_wfn = tq.simulate(U2, variables=result2.variables)\n",
    "spa_gs_wfn = tq.simulate(U3, variables=result3.variables)\n",
    "energies=[]\n",
    "# 0,1,2 is a triplet, state 3 is the singlet groundstate\n",
    "fidelity={\"SPA+GS\":[], \"SPA+GAS\":[], \"SPA\":[], \"HF\":[]}\n",
    "for i in range(len(v)):\n",
    "    if abs(v[i]) < 1:\n",
    "        break\n",
    "    energies.append(v[i])\n",
    "    exact_wfn = tq.QubitWaveFunction.from_array(vv[:,i])\n",
    "    fidelity[\"HF\"]      += [abs(exact_wfn.inner(hf_wfn))**2]\n",
    "    fidelity[\"SPA\"]     += [abs(exact_wfn.inner(spa_wfn))**2]\n",
    "    fidelity[\"SPA+GAS\"] += [abs(exact_wfn.inner(spa_gas_wfn))**2]\n",
    "    fidelity[\"SPA+GS\"]  += [abs(exact_wfn.inner(spa_gs_wfn))**2]\n",
    "    if i>3:\n",
    "        continue\n",
    "    print(\"state {}, E={:+2.5f}\".format(i,v[i]))\n",
    "    print(\"fidelity(HF)     :{:+2.5f}\".format(fidelity[\"HF\"][-1]))\n",
    "    print(\"fidelity(SPA)    :{:+2.5f}\".format(fidelity[\"SPA\"][-1]))\n",
    "    print(\"fidelity(SPA+GAS):{:+2.5f}\".format(fidelity[\"SPA+GAS\"][-1]))\n",
    "    print(\"fidelity(SPA+GS):{:+2.5f}\".format(fidelity[\"SPA+GS\"][-1]))"
   ]
  },
  {
   "cell_type": "code",
   "execution_count": 16,
   "metadata": {},
   "outputs": [
    {
     "data": {
      "image/png": "[encoded data removed]",
      "text/plain": [
       "<Figure size 432x288 with 1 Axes>"
      ]
     },
     "metadata": {
      "needs_background": "light"
     },
     "output_type": "display_data"
    }
   ],
   "source": [
    "plt.figure()\n",
    "plt.bar(energies,fidelity[\"SPA\"], label=\"SPA\", width=0.05, align=\"edge\", color=\"tab:red\")\n",
    "plt.bar(energies,fidelity[\"SPA+GS\"], label=\"SPA+GS\", width=-0.05, align=\"edge\", color=\"tab:green\")\n",
    "plt.bar(energies,fidelity[\"HF\"], label=\"HF\", width=0.05, align=\"center\", color=\"navy\")\n",
    "plt.bar(energies,fidelity[\"SPA+GAS\"], label=\"SPA+GAS\", width=0.01, align=\"center\", color=\"gray\")\n",
    "plt.ylabel(\"fidelity\")\n",
    "plt.xlabel(\"eigenenergy\")\n",
    "plt.legend()\n",
    "plt.savefig(\"beh2_profile.pdf\")\n",
    "plt.show()"
   ]
  },
  {
   "cell_type": "markdown",
   "metadata": {},
   "source": [
    "As in the [article](https://arxiv.org/abs/2105.03836), SPA improves upon HF for a fair price in additional gates in the preparation of the intitial state. By adding the generalized singles layer, the overlap with the singlet groundstate can ne further improved. Note, a similar result as in SPA+GS could be realized by an orbital-optimized version of SPA (see the article).\n",
    "\n",
    "Approximating the singles (SPA+GAS) does in this case also lead to overlap with the low-lying triplet state that is nearly degenerate with the singlet groundstate. Through the approximation, the generalized singles loose their spin-adaption, SPA and SPA+GS can on the other hand not leave the singlet manifold -- note that you could switch off the spin-adaption for non-approximated singles by adding `spin_adapt_singles=False` to the construction of the GS layer or by manually construcing the circuits. Spin adaptation in this sense is just using the same variable for spin-up and spin-down orbital rotations.  "
   ]
  },
  {
   "cell_type": "markdown",
   "metadata": {},
   "source": [
    "### What's next?\n",
    "\n",
    "Some suggestions what to do with the SPA circuits introduced in this tutorial  \n",
    "- Use them as initial state `Upre` in [adaptive algorithms](https://github.com/aspuru-guzik-group/tequila-tutorials/blob/main/AdaptiveSolver.ipynb). Maybe: Also construct your own pools!\n",
    "- Use them as initial state for your own algorithms. If the goal is a VQE: Can you improve the correlation between the pairs?  \n",
    "- Try it out in combination with other algorithms (see the [article](https://arxiv.org/abs/2105.03836) for some suggestions)\n",
    "- Try to implement an orbital-optimized variant of SPA (see the [article](https://arxiv.org/abs/2105.03836) for references on that)\n",
    "- Compare it to other algorithms (you can for example use the Hamiltonians from this notebook)\n"
   ]
  },
  {
   "cell_type": "markdown",
   "metadata": {},
   "source": [
    "### More Molecules without explicitly computing them?\n",
    "\n",
    "In the [data/basis-set-free-molecules](https://github.com/aspuru-guzik-group/tequila-tutorials) directory, there are some more molecules provided (BeH$_2$, N$_2$ and BH$_3$ from the [article](https://arxiv.org/abs/2105.03836)). \n",
    "\n",
    "Here is a small illustration:"
   ]
  },
  {
   "cell_type": "code",
   "execution_count": 17,
   "metadata": {
    "scrolled": true
   },
   "outputs": [
    {
     "name": "stdout",
     "output_type": "stream",
     "text": [
      "converged SCF energy = -108.219618505039\n"
     ]
    },
    {
     "name": "stderr",
     "output_type": "stream",
     "text": [
      "Overwritten attributes  get_hcore get_ovlp  of <class 'pyscf.scf.hf.RHF'>\n"
     ]
    },
    {
     "name": "stdout",
     "output_type": "stream",
     "text": [
      "E(CCSD) = -108.2592452736504  E_corr = -0.03962687882806944\n",
      "converged SCF energy = -108.517802407507\n",
      "E(CCSD) = -108.5586199859993  E_corr = -0.0408176324203082\n",
      "converged SCF energy = -108.849354595195\n",
      "E(CCSD) = -108.9302391959811  E_corr = -0.0808846007860704\n",
      "converged SCF energy = -108.975355879149\n",
      "E(CCSD) = -109.0721287262912  E_corr = -0.09677284714251284\n",
      "converged SCF energy = -108.990380121489\n",
      "E(CCSD) = -109.1050001796051  E_corr = -0.1146200581155742\n",
      "converged SCF energy = -108.946781283974\n",
      "E(CCSD) = -109.0810218850768  E_corr = -0.1342406011026258\n",
      "converged SCF energy = -108.912941071501\n",
      "E(CCSD) = -109.0576114367936  E_corr = -0.1446703652930684\n",
      "converged SCF energy = -108.875454293809\n",
      "E(CCSD) = -109.0309255596254  E_corr = -0.1554712658165696\n",
      "converged SCF energy = -108.794272716089\n",
      "E(CCSD) = -108.972420566356  E_corr = -0.1781478502666871\n",
      "converged SCF energy = -108.710483208957\n",
      "E(CCSD) = -108.9126516635462  E_corr = -0.2021684545888488\n",
      "converged SCF energy = -108.520537474022\n",
      "E(CCSD) = -108.7929328225831  E_corr = -0.2723953485613564\n",
      "converged SCF energy = -108.368210415296\n",
      "E(CCSD) = -108.737195408695  E_corr = -0.3689849933963003\n",
      "converged SCF energy = -108.250675205664\n",
      "E(CCSD) = -108.7428678530771  E_corr = -0.4921926473699521\n",
      "converged SCF energy = -108.160707773816\n",
      "E(CCSD) = -108.7801761282331  E_corr = -0.6194683539390043\n",
      "converged SCF energy = -108.093177043107\n",
      "CCSD not converged\n",
      "E(CCSD) = -108.4293684123311  E_corr = -0.3361913688098769\n",
      "converged SCF energy = -108.040635702206\n",
      "CCSD not converged\n",
      "E(CCSD) = -108.5082697098897  E_corr = -0.467633969495111\n"
     ]
    }
   ],
   "source": [
    "fci={}\n",
    "spa={}\n",
    "hf={}\n",
    "ccsd={}\n",
    "for R in sorted([0.75+i*0.25 for i in range(10)] + [0.8,0.9, 1.1, 1.2, 1.3, 1.4]):\n",
    "    mol3 = tq.Molecule(geometry=\"N 0.0 0.0 0.0\\nN 0.0 0.0 {R}\".format(R=R), name=datadir+\"/n2_{R}\".format(R=R), n_pno=None)\n",
    "    fci[R] = mol3.compute_energy(method=\"fci\") # needs pyscf installed\n",
    "    spa[R] = mol3.compute_energy(method=\"spa\", silent=True)\n",
    "    hf[R]=mol3.compute_energy(\"hf\") # needs pyscf installed\n",
    "    ccsd[R]=mol3.compute_energy(\"ccsd\") # needs pyscf installed"
   ]
  },
  {
   "cell_type": "code",
   "execution_count": 18,
   "metadata": {},
   "outputs": [
    {
     "data": {
      "image/png": "[encoded data removed]",
      "text/plain": [
       "<Figure size 432x288 with 1 Axes>"
      ]
     },
     "metadata": {
      "needs_background": "light"
     },
     "output_type": "display_data"
    }
   ],
   "source": [
    "plt.figure()\n",
    "plt.plot(list(hf.keys()), list(hf.values()), marker=\".\", label=\"HF\", color=\"navy\")\n",
    "plt.plot(list(ccsd.keys()), list(ccsd.values()), marker=\".\", label=\"HF\", color=\"darkgreen\")\n",
    "plt.plot(list(spa.keys()), list(spa.values()), marker=\"o\", label=\"SPA\", color=\"tab:red\")\n",
    "plt.plot(list(fci.keys()), list(fci.values()), marker=\"x\", label=\"FCI\", color=\"black\")\n",
    "plt.show()"
   ]
  },
  {
   "cell_type": "code",
   "execution_count": null,
   "metadata": {},
   "outputs": [],
   "source": []
  }
 ],
 "metadata": {
  "kernelspec": {
   "display_name": "tequila-3.7",
   "language": "python",
   "name": "tequila-3.7"
  },
  "language_info": {
   "codemirror_mode": {
    "name": "ipython",
    "version": 3
   },
   "file_extension": ".py",
   "mimetype": "text/x-python",
   "name": "python",
   "nbconvert_exporter": "python",
   "pygments_lexer": "ipython3",
   "version": "3.7.9"
  }
 },
 "nbformat": 4,
 "nbformat_minor": 2
}

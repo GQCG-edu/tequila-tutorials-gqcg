{
 "cells": [
  {
   "cell_type": "markdown",
   "metadata": {},
   "source": [
    "# Low-Depth Quantum Circuits using a Separable Pair Approximation"
   ]
  },
  {
   "cell_type": "code",
   "execution_count": 1,
   "metadata": {},
   "outputs": [],
   "source": [
    "# needs version >= 1.5\n",
    "import tequila as tq\n",
    "import numpy\n",
    "import matplotlib.pyplot as plt"
   ]
  },
  {
   "cell_type": "markdown",
   "metadata": {},
   "source": [
    "This notebook illustrates some examples for the separable pair ansatz (SPA) following [arxiv:2105.03836](https://arxiv.org/abs/2105.03836).  \n",
    "\n",
    "As in the article, we will use a combination with the basis-set-free VQE from [arxiv:2008.02819](https://arxiv.org/pdf/2008.02819.pdf).\n",
    "\n",
    "Feel free to contact [me](mailto:jakob.kottmann@utoronto.ca) if you have questions :-) \n",
    "\n",
    "### Dependencies\n",
    "Here are some instructions, you need to follow if you want to compute your own basis-set-free Hamiltonians with madness. You however don't need to install it and can just use the provided pre-computed Hamiltonians.\n",
    "The necessary data for all molecules of this notebook (and some more) is provided (`.npy` and `pnoinfo.txt` files in `data/basis-set-free-molecules/`), in order to read the data in, set `npno=None` in the cell below and of course, make sure to have the [data](https://github.com/aspuru-guzik-group/tequila-tutorials/tree/main/data/basis-set-free-molecules) available on your system.\n",
    "\n",
    "If you want to compute your own Hamiltonians, tequila needs a special [fork](https://github.com/kottmanj/madness) of madness compiled - instruction on compilation can be found by following the link. Note, that Windows is not supported as an OS. See also the corresponding [tutorial](https://github.com/aspuru-guzik-group/tequila-tutorials/blob/main/ChemistryMadnessInterface.ipynb) on the madness interface.\n",
    "\n",
    "In order for tequila to find the madness backend, the directory where madness was compiled needs to be exported to the environment variable `MAD_ROOT_DIR`. In the cell below this is illustrated for this notebook. Of course, the path needs to be adapted depending where you have installed madness. If you plan to read the data from the provided files, just ignore the next cell. See the `madness_interface` tutorial for more information."
   ]
  },
  {
   "cell_type": "code",
   "execution_count": 2,
   "metadata": {},
   "outputs": [],
   "source": [
    "import os\n",
    "os.environ['MAD_ROOT_DIR'] = \"/home/jsk/devel/madness/build-opt\" # needs to be adapted\n",
    "\n",
    "#if set to None we will read data from files. Make sure those files are there (in data/basis-set-free-molecules/)\n",
    "#set n_pno=2 (or other value) in order to compute with madness as backend (will delete old files)\n",
    "n_pno=None\n",
    "\n",
    "#if data is not read in it is recommended to switch the directory in order to not overwrite files\n",
    "datadir=\"data/basis-set-free-molecules\""
   ]
  },
  {
   "cell_type": "markdown",
   "metadata": {},
   "source": [
    "## Example1: BeH$_2$ near equilibrium\n",
    "\n",
    "We will start with a simple calculation of the BeH$_2$ molecule. This molecule has 6 electrons.\n",
    "By default the `frozen_core` approximation is activated, this means that 2 of the 6 electrons are neglected in the correlated treatment.\n",
    "The two electrons are the core-electrons of the Be atom (the occupied Hartree-Fock orbital with the lowest energy). So we will end up with 4 electrons in 2+`n_pno` spatial orbitals.\n",
    "In this notebook we have `n_pno=2` which leads to 4 electrons in 4 spatial orbitals (8 qubits/spin-orbitals) i.e. BeH$_2$(4,8)."
   ]
  },
  {
   "cell_type": "code",
   "execution_count": 3,
   "metadata": {},
   "outputs": [],
   "source": [
    "geometry=\"Be 0.0 0.0 0.0\\nH 0.0 0.0 {R}\\nH 0.0 0.0 -{R}\"\n",
    "name=datadir+\"/beh2_{R}\""
   ]
  },
  {
   "cell_type": "code",
   "execution_count": 4,
   "metadata": {},
   "outputs": [],
   "source": [
    "R=1.5\n",
    "mol = tq.Molecule(name=name.format(R=R), geometry=geometry.format(R=R), n_pno=n_pno)"
   ]
  },
  {
   "cell_type": "markdown",
   "metadata": {},
   "source": [
    "We can print the molecule, in order to obtain some more information about it. Note that orbital 0 is missing (due to `frozen_core=True` which is the default but can be deactivated by passing the keyword to `tq.Molecule`)."
   ]
  },
  {
   "cell_type": "code",
   "execution_count": 5,
   "metadata": {},
   "outputs": [
    {
     "name": "stdout",
     "output_type": "stream",
     "text": [
      "<class 'tequila.quantumchemistry.madness_interface.QuantumChemistryMadness'>\n",
      "Qubit Encoding\n",
      "JordanWigner\n",
      "\n",
      "Parameters\n",
      "basis_set       : custom          \n",
      "geometry        : Be 0.0 0.0 0.0\n",
      "H 0.0 0.0 1.5\n",
      "H 0.0 0.0 -1.5 \n",
      "description     :                 \n",
      "multiplicity    : 1               \n",
      "charge          : 0               \n",
      "closed_shell    : True            \n",
      "name            : data/basis-set-free-molecules/beh2_1.5 \n",
      "\n",
      "MRA Orbitals    :\n",
      "orbital 1, occupied reference orbital (1,), energy -0.451953 \n",
      "orbital 2, occupied reference orbital (2,), energy -0.451953 \n",
      "orbital 3, pno from pair (1, 1), MP2 occ 0.00920606 \n",
      "orbital 4, pno from pair (2, 2), MP2 occ 0.00920605 \n",
      "\n",
      "executable      : /home/jsk/devel/madness/build-opt/src/apps/pno/pno_integrals\n",
      "htensor         : data/basis-set-free-molecules/beh2_1.5_htensor.npy\n",
      "gtensor         : data/basis-set-free-molecules/beh2_1.5_gtensor.npy\n",
      "\n"
     ]
    }
   ],
   "source": [
    "print(mol)"
   ]
  },
  {
   "cell_type": "markdown",
   "metadata": {},
   "source": [
    "Let's compute some energies (two classical methods: MP2, CCSD and two VQE methods: SPA and UpCCGSD)"
   ]
  },
  {
   "cell_type": "code",
   "execution_count": 6,
   "metadata": {
    "scrolled": true
   },
   "outputs": [
    {
     "name": "stderr",
     "output_type": "stream",
     "text": [
      "WARNING:absl:No GPU/TPU found, falling back to CPU. (Set TF_CPP_MIN_LOG_LEVEL=0 and rerun for more info.)\n"
     ]
    },
    {
     "name": "stdout",
     "output_type": "stream",
     "text": [
      "E(MP2) = -15.7783424618309  E_corr = -0.0191803844502508\n",
      "E(CCSD) = -15.78941228695859  E_corr = -0.03025020957798473\n"
     ]
    },
    {
     "data": {
      "image/png": "[encoded data removed]",
      "text/plain": [
       "<Figure size 432x288 with 1 Axes>"
      ]
     },
     "metadata": {
      "needs_background": "light"
     },
     "output_type": "display_data"
    }
   ],
   "source": [
    "errors = {}\n",
    "reference = mol.compute_energy(\"fci\")\n",
    "for method in [\"SPA\", \"UpCCGSD\", \"MP2\", \"CCSD\"]:\n",
    "    errors[method] = reference-mol.compute_energy(method, silent=True)\n",
    "\n",
    "plt.bar(list(errors.keys()), list(errors.values()))\n",
    "plt.ylabel(\"Errors/Eh\")\n",
    "plt.show()"
   ]
  },
  {
   "cell_type": "markdown",
   "metadata": {},
   "source": [
    "## Example2: Stretched BeH$_2$  \n",
    "\n",
    "For the second example we use the same molecule, but a more challenging structure. In the following we will construct the SPA circuit and combine it with a layer of (approximate) generalized singles rotations.  \n",
    "\n",
    "First we construct the molecule and compute some reference values (same procedure as before)"
   ]
  },
  {
   "cell_type": "code",
   "execution_count": 7,
   "metadata": {},
   "outputs": [],
   "source": [
    "R=4.5\n",
    "mol2 = tq.Molecule(name=name.format(R=R), geometry=geometry.format(R=R), n_pno=n_pno)"
   ]
  },
  {
   "cell_type": "code",
   "execution_count": 8,
   "metadata": {},
   "outputs": [
    {
     "name": "stdout",
     "output_type": "stream",
     "text": [
      "E(MP2) = -15.6166747605039  E_corr = -0.290106192723903\n"
     ]
    }
   ],
   "source": [
    "errors2={}\n",
    "fci2 = mol2.compute_energy(\"fci\")\n",
    "errors2[\"MP2\"]=fci2 - mol2.compute_energy(\"MP2\")"
   ]
  },
  {
   "cell_type": "markdown",
   "metadata": {},
   "source": [
    "Now we construct the SPA ansatz and get the qubit Hamiltonian from the molecule. Later this will be combined to expectation values that can be optimized.  \n",
    "\n",
    "See the Chemistry, BasicUsage and Optimizer tutorials of tequila for more information about the individual components."
   ]
  },
  {
   "cell_type": "code",
   "execution_count": 9,
   "metadata": {},
   "outputs": [],
   "source": [
    "U = mol2.make_upccgsd_ansatz(name=\"spa\")\n",
    "H = mol2.make_hamiltonian()"
   ]
  },
  {
   "cell_type": "markdown",
   "metadata": {},
   "source": [
    "Let's see how the SPA circuit looks like in this case. Wee will use the local\\_qubit\\_map to see the pair strucutre of the circuit. Note that you can transform the Hamiltonian in the same way if you want to use this qubit mapping. The local qubit map groups the orbitals of the separable electron pairs together ( pair $x$ has Hartree-Fock orbital $x$ and all PNOs of MP2 pair $(x,x)$. "
   ]
  },
  {
   "cell_type": "code",
   "execution_count": 10,
   "metadata": {},
   "outputs": [],
   "source": [
    "# not necessary to use the map, but will give more overview in circuit plots\n",
    "# the map sorts the orbitals by their respective pairs (naturally they are sorted by their occupation numbers in the MP2-MRA-PNO surrogate model)\n",
    "qm = mol2.local_qubit_map()\n",
    "tq.circuit.export_to(U.map_qubits(qm), filename=\"pics/beh2_spa.png\")"
   ]
  },
  {
   "cell_type": "markdown",
   "metadata": {},
   "source": [
    "This is the circuit that was drawn by the code above:\n",
    "<img src=\"pics/beh2_spa.png\" alt=\"SPA Circuit\" width=\"200\"/>"
   ]
  },
  {
   "cell_type": "markdown",
   "metadata": {},
   "source": [
    "In the second circuit we take the SPA circuit and add a further layer of generalized approximate singles to it. The apprioximation corresponds to neglecting all $Z$ terms in the Jordan-Wigner strings of the excitation operators that generate the corresponding gates. The approximation is triggered by the \"A\" in the name and will only work for Jordan-Wigner encoding.\n",
    "\n",
    "Further down we construct a similar circuit using standard single excitations."
   ]
  },
  {
   "cell_type": "code",
   "execution_count": 11,
   "metadata": {},
   "outputs": [],
   "source": [
    "U2 = U + mol2.make_upccgsd_ansatz(name=\"GAS\", include_reference=False)"
   ]
  },
  {
   "cell_type": "code",
   "execution_count": 12,
   "metadata": {},
   "outputs": [],
   "source": [
    "tq.circuit.export_to(U2.map_qubits(qm), filename=\"pics/beh2_spa+gas.png\")"
   ]
  },
  {
   "cell_type": "markdown",
   "metadata": {},
   "source": [
    "<img src=\"pics/beh2_spa+gas.png\" alt=\"drawing\" width=\"500\"/>"
   ]
  },
  {
   "cell_type": "markdown",
   "metadata": {},
   "source": [
    "Now we optimize the expectation values resulting from the different circuits. Note that the standard initialization (all variables to 0.0) will result in faulty convergence for the signles layer, so we let the initial values deviate a bit)."
   ]
  },
  {
   "cell_type": "code",
   "execution_count": 13,
   "metadata": {
    "scrolled": true
   },
   "outputs": [
    {
     "name": "stdout",
     "output_type": "stream",
     "text": [
      "Optimizer: <class 'tequila.optimizers.optimizer_scipy.OptimizerSciPy'> \n",
      "backend         : qulacs\n",
      "device          : None\n",
      "samples         : None\n",
      "save_history    : True\n",
      "noise           : None\n",
      "\n",
      "Method          : BFGS\n",
      "Objective       : 1 expectationvalues\n",
      "gradient        : 4 expectationvalues\n",
      "\n",
      "active variables : 2\n",
      "\n",
      "E=-15.32656857\n",
      "E=-15.34381382\n",
      "E=-15.36510721\n",
      "E=-15.36609255\n",
      "Optimization terminated successfully.\n",
      "         Current function value: -15.366093\n",
      "         Iterations: 3\n",
      "         Function evaluations: 4\n",
      "         Gradient evaluations: 4\n",
      "Optimizer: <class 'tequila.optimizers.optimizer_scipy.OptimizerSciPy'> \n",
      "backend         : qulacs\n",
      "device          : None\n",
      "samples         : None\n",
      "save_history    : True\n",
      "noise           : None\n",
      "\n",
      "Method          : BFGS\n",
      "Objective       : 1 expectationvalues\n",
      "gradient        : 28 expectationvalues\n",
      "\n",
      "active variables : 14\n",
      "\n",
      "E=-15.17366403\n",
      "E=-15.24613408\n",
      "E=-15.36181899\n",
      "E=-15.40156802\n",
      "E=-15.40732876\n",
      "E=-15.41265069\n",
      "E=-15.41630052\n",
      "E=-15.41754111\n",
      "E=-15.41831749\n",
      "E=-15.41913854\n",
      "E=-15.41980569\n",
      "E=-15.42029553\n",
      "E=-15.42072391\n",
      "E=-15.42129870\n",
      "E=-15.42226080\n",
      "E=-15.42435323\n",
      "E=-15.40815245\n",
      "E=-15.42683025\n",
      "E=-15.34722519\n",
      "E=-15.42740304\n",
      "E=-15.42847952\n",
      "E=-15.43050466\n",
      "E=-15.43410356\n",
      "E=-15.43947105\n",
      "E=-15.44424293\n",
      "E=-15.44772251\n",
      "E=-15.45116502\n",
      "E=-15.45283445\n",
      "E=-15.45569285\n",
      "E=-15.46032704\n",
      "E=-15.46600236\n",
      "E=-15.46982296\n",
      "E=-15.47620108\n",
      "E=-15.48494720\n",
      "E=-15.49116136\n",
      "E=-15.49646210\n",
      "E=-15.49923316\n",
      "E=-15.50123498\n",
      "E=-15.50232053\n",
      "E=-15.50323012\n",
      "E=-15.50357095\n",
      "E=-15.50375094\n",
      "E=-15.50393763\n",
      "E=-15.50406577\n",
      "E=-15.50413287\n",
      "E=-15.50416791\n",
      "E=-15.50419384\n",
      "E=-15.50421189\n",
      "E=-15.50422514\n",
      "E=-15.50423884\n",
      "E=-15.50425710\n",
      "E=-15.50427777\n",
      "E=-15.50429362\n",
      "E=-15.50430244\n",
      "Optimization terminated successfully.\n",
      "         Current function value: -15.504302\n",
      "         Iterations: 50\n",
      "         Function evaluations: 54\n",
      "         Gradient evaluations: 54\n",
      "Optimizer: <class 'tequila.optimizers.optimizer_scipy.OptimizerSciPy'> \n",
      "backend         : qulacs\n",
      "device          : None\n",
      "samples         : None\n",
      "save_history    : True\n",
      "noise           : None\n",
      "\n",
      "Method          : BFGS\n",
      "Objective       : 1 expectationvalues\n",
      "gradient        : 20 expectationvalues\n",
      "\n",
      "active variables : 6\n",
      "\n",
      "E=-15.27379420\n",
      "E=-15.31240182\n",
      "E=-15.34338865\n",
      "E=-15.34748093\n",
      "E=-15.35505406\n",
      "E=-15.36557593\n",
      "E=-15.36846604\n",
      "E=-15.37054899\n",
      "E=-15.37238561\n",
      "E=-15.37262998\n",
      "E=-15.37267341\n",
      "E=-15.37268112\n",
      "Optimization terminated successfully.\n",
      "         Current function value: -15.372681\n",
      "         Iterations: 11\n",
      "         Function evaluations: 12\n",
      "         Gradient evaluations: 12\n",
      "Optimizer: <class 'tequila.optimizers.optimizer_scipy.OptimizerSciPy'> \n",
      "backend         : qulacs\n",
      "device          : None\n",
      "samples         : None\n",
      "save_history    : True\n",
      "noise           : None\n",
      "\n",
      "Method          : BFGS\n",
      "Objective       : 1 expectationvalues\n",
      "gradient        : 28 expectationvalues\n",
      "\n",
      "active variables : 8\n",
      "\n",
      "E=-15.18200081\n",
      "E=-15.27060165\n",
      "E=-15.32410950\n",
      "E=-15.32840028\n",
      "E=-15.33617713\n",
      "E=-15.34955212\n",
      "E=-15.36365026\n",
      "E=-15.38134265\n",
      "E=-15.44425530\n",
      "E=-15.39734566\n",
      "E=-15.48520934\n",
      "E=-15.47939904\n",
      "E=-15.50047337\n",
      "E=-15.52487992\n",
      "E=-15.55288461\n",
      "E=-15.55865813\n",
      "E=-15.56258044\n",
      "E=-15.56307967\n",
      "E=-15.56328541\n",
      "E=-15.56345928\n",
      "E=-15.56350486\n",
      "E=-15.56351173\n",
      "Optimization terminated successfully.\n",
      "         Current function value: -15.563512\n",
      "         Iterations: 18\n",
      "         Function evaluations: 22\n",
      "         Gradient evaluations: 22\n"
     ]
    }
   ],
   "source": [
    "# SPA optimization\n",
    "E = tq.ExpectationValue(H=H, U=U)\n",
    "result = tq.minimize(E, print_level=2)\n",
    "errors2[\"SPA\"]=fci2-result.energy\n",
    "\n",
    "# perturbation for starting points (starting singles in 0.0 usually is already a local minimum)\n",
    "x = numpy.pi/4\n",
    "\n",
    "# SPA+GAS optimization (approximated singles rotations)\n",
    "E2 = tq.ExpectationValue(H=H, U=U2)\n",
    "ival={**{k:numpy.random.normal(scale=x,loc=0.0) for k in E2.extract_variables()}, **result.variables}\n",
    "result2 = tq.minimize(E2, initial_values=ival, print_level=2)\n",
    "errors2[\"SPA+GAS\"]=fci2-result2.energy\n",
    "\n",
    "# SPA+S optimization\n",
    "# enforce more symmetry by not approximating singles\n",
    "# spin-adaption will be turned on by default\n",
    "U3 = U + mol2.make_upccgsd_ansatz(name=\"S\", include_reference=False)\n",
    "E3 = tq.ExpectationValue(H=H, U=U3)\n",
    "ival={**{k:numpy.random.normal(scale=x,loc=0.0) for k in E3.extract_variables()}, **result.variables}\n",
    "result3 = tq.minimize(E3, initial_values=ival, print_level=2)\n",
    "errors2[\"SPA+S\"]=fci2-result3.energy\n",
    "\n",
    "# SPA+GS optimization\n",
    "# the same with generalized singles\n",
    "U4 = U + mol2.make_upccgsd_ansatz(name=\"GS\", include_reference=False)\n",
    "E4 = tq.ExpectationValue(H=H, U=U4)\n",
    "ival={**{k:numpy.random.normal(scale=x,loc=0.0) for k in E4.extract_variables()}, **result.variables}\n",
    "result4 = tq.minimize(E4, initial_values=ival, print_level=2)\n",
    "errors2[\"SPA+GS\"]=fci2-result4.energy"
   ]
  },
  {
   "cell_type": "markdown",
   "metadata": {},
   "source": [
    "This is what we get:  \n",
    "Adding the singles layer can improve the result significantly. This is what is demonstrated in the article on LiH and C$_2$H$_6$ in more detail. \n",
    "On first glance it doesn't seem to make a huge difference if the singles are approximated or not."
   ]
  },
  {
   "cell_type": "code",
   "execution_count": 14,
   "metadata": {},
   "outputs": [
    {
     "data": {
      "image/png": "[encoded data removed]",
      "text/plain": [
       "<Figure size 432x288 with 1 Axes>"
      ]
     },
     "metadata": {
      "needs_background": "light"
     },
     "output_type": "display_data"
    }
   ],
   "source": [
    "plt.figure()\n",
    "plt.bar(list(errors2.keys()), list(errors2.values()), label=\"Errors/Eh\")\n",
    "plt.legend()\n",
    "plt.show()"
   ]
  },
  {
   "cell_type": "markdown",
   "metadata": {},
   "source": [
    "Since we are dealing with a 8 qubit model here, we can diagonalize the corresponding Hamiltonian exactly without much trouble. If we do so, we discover, that for this instance, the groundstate is a triplet, and the targeted singlet groundstate is slightly higher in energy. Note that the simple numpy diagonalization does usually not lead to the triplet in it's canonical representation, instead the spin-polarized and spin-neutral parts are mixed (this will vary each run).\n",
    "\n",
    "Note that we are operating in a system-adapted basis that targets the singlet groundstate (this is what the madness code does) - see more in this [article](https://doi.org/10.1021/acs.jpclett.0c03410) (or [arxiv:2008.02819](https://arxiv.org/abs/2008.02819)).\n",
    "Let's see how much overlap we have with this state by using either the plain Hartree-Fock wavefunction, the SPA wavefunction or it's extended versions SPA+GAS and SPA+GS. Be aware that for SPA+GAS/GS different runs might result in different outcomes due to the slightly random initialization - good initialization protocols would be great in the future :-)."
   ]
  },
  {
   "cell_type": "code",
   "execution_count": 15,
   "metadata": {
    "scrolled": true
   },
   "outputs": [
    {
     "name": "stdout",
     "output_type": "stream",
     "text": [
      "state 0, E=-15.56382\n",
      "fidelity(HF)     :+0.00000\n",
      "fidelity(SPA)    :+0.00000\n",
      "fidelity(SPA+GAS):+0.16755\n",
      "fidelity(SPA+S)  :+0.00000\n",
      "fidelity(SPA+GS) :+0.00000\n",
      "state 1, E=-15.56382\n",
      "fidelity(HF)     :+0.00000\n",
      "fidelity(SPA)    :+0.00000\n",
      "fidelity(SPA+GAS):+0.00000\n",
      "fidelity(SPA+S)  :+0.00000\n",
      "fidelity(SPA+GS) :+0.00000\n",
      "state 2, E=-15.56382\n",
      "fidelity(HF)     :+0.00000\n",
      "fidelity(SPA)    :+0.00000\n",
      "fidelity(SPA+GAS):+0.00000\n",
      "fidelity(SPA+S)  :+0.00000\n",
      "fidelity(SPA+GS) :+0.00000\n",
      "state 3, E=-15.56353\n",
      "fidelity(HF)     :+0.38814\n",
      "fidelity(SPA)    :+0.44696\n",
      "fidelity(SPA+GAS):+0.62318\n",
      "fidelity(SPA+S)  :+0.36569\n",
      "fidelity(SPA+GS) :+0.99993\n"
     ]
    }
   ],
   "source": [
    "v,vv = numpy.linalg.eigh(H.to_matrix())\n",
    "UHF = mol2.prepare_reference()\n",
    "UHF.n_qubits=8\n",
    "hf_wfn = tq.simulate(UHF)\n",
    "spa_wfn = tq.simulate(U, variables=result.variables)\n",
    "spa_gas_wfn = tq.simulate(U2, variables=result2.variables)\n",
    "spa_s_wfn = tq.simulate(U3, variables=result3.variables)\n",
    "spa_gs_wfn = tq.simulate(U4, variables=result4.variables)\n",
    "energies=[]\n",
    "# 0,1,2 is a triplet, state 3 is the singlet groundstate\n",
    "fidelity={\"SPA+GS\":[], \"SPA+S\":[], \"SPA+GAS\":[], \"SPA\":[], \"HF\":[]}\n",
    "for i in range(len(v)):\n",
    "    if abs(v[i]) < 1:\n",
    "        break\n",
    "    energies.append(v[i])\n",
    "    exact_wfn = tq.QubitWaveFunction.from_array(vv[:,i])\n",
    "    fidelity[\"SPA+GS\"]  += [abs(exact_wfn.inner(spa_gs_wfn))**2]\n",
    "    fidelity[\"SPA+GAS\"] += [abs(exact_wfn.inner(spa_gas_wfn))**2]\n",
    "    fidelity[\"HF\"]      += [abs(exact_wfn.inner(hf_wfn))**2]\n",
    "    fidelity[\"SPA\"]     += [abs(exact_wfn.inner(spa_wfn))**2]\n",
    "    fidelity[\"SPA+S\"]  += [abs(exact_wfn.inner(spa_s_wfn))**2]\n",
    "    if i>3:\n",
    "        continue\n",
    "    print(\"state {}, E={:+2.5f}\".format(i,v[i]))\n",
    "    print(\"fidelity(HF)     :{:+2.5f}\".format(fidelity[\"HF\"][-1]))\n",
    "    print(\"fidelity(SPA)    :{:+2.5f}\".format(fidelity[\"SPA\"][-1]))\n",
    "    print(\"fidelity(SPA+GAS):{:+2.5f}\".format(fidelity[\"SPA+GAS\"][-1]))\n",
    "    print(\"fidelity(SPA+S)  :{:+2.5f}\".format(fidelity[\"SPA+S\"][-1]))\n",
    "    print(\"fidelity(SPA+GS) :{:+2.5f}\".format(fidelity[\"SPA+GS\"][-1]))"
   ]
  },
  {
   "cell_type": "code",
   "execution_count": 16,
   "metadata": {},
   "outputs": [
    {
     "data": {
      "image/png": "[encoded data removed]",
      "text/plain": [
       "<Figure size 432x288 with 1 Axes>"
      ]
     },
     "metadata": {
      "needs_background": "light"
     },
     "output_type": "display_data"
    }
   ],
   "source": [
    "plt.figure()\n",
    "plt.bar(energies,fidelity[\"SPA\"], label=\"SPA\", width=0.05, align=\"edge\", color=\"tab:red\")\n",
    "plt.bar(energies,fidelity[\"SPA+GS\"], label=\"SPA+GS\", width=-0.05, align=\"edge\", color=\"tab:green\")\n",
    "plt.bar(energies,fidelity[\"HF\"], label=\"HF\", width=0.05, align=\"center\", color=\"navy\")\n",
    "plt.bar(energies,fidelity[\"SPA+GAS\"], label=\"SPA+GAS\", width=0.01, align=\"center\", color=\"gray\")\n",
    "plt.ylabel(\"fidelity\")\n",
    "plt.xlabel(\"eigenenergy\")\n",
    "plt.legend()\n",
    "plt.savefig(\"beh2_profile.pdf\")\n",
    "plt.show()"
   ]
  },
  {
   "cell_type": "markdown",
   "metadata": {},
   "source": [
    "As in the [article](https://arxiv.org/abs/2105.03836), SPA improves upon HF for a fair price in additional gates in the preparation of the intitial state. By adding the generalized singles layer, the overlap with the singlet groundstate can ne further improved. Note, a similar result as in SPA+GS could be realized by an orbital-optimized version of SPA (see the article).\n",
    "\n",
    "Approximating the singles (SPA+GAS) does in this case also lead to overlap with the low-lying triplet state that is nearly degenerate with the singlet groundstate. Through the approximation, the generalized singles loose their spin-adaption, SPA and SPA+GS can on the other hand not leave the singlet manifold -- note that you could switch off the spin-adaption for non-approximated singles by adding `spin_adapt_singles=False` to the construction of the GS layer or by manually construcing the circuits. Spin adaptation in this sense is just using the same variable for spin-up and spin-down orbital rotations.  "
   ]
  },
  {
   "cell_type": "markdown",
   "metadata": {},
   "source": [
    "### What's next?\n",
    "\n",
    "Some suggestions what to do with the SPA circuits introduced in this tutorial  \n",
    "- Use them as initial state `Upre` in [adaptive algorithms](https://github.com/aspuru-guzik-group/tequila-tutorials/blob/main/AdaptiveSolver.ipynb). Maybe: Also construct your own pools!\n",
    "- Use them as initial state for your own algorithms. If the goal is a VQE: Can you improve the correlation between the pairs?  \n",
    "- Try it out in combination with other algorithms (see the [article](https://arxiv.org/abs/2105.03836) for some suggestions)\n",
    "- Try to implement an orbital-optimized variant of SPA (see the [article](https://arxiv.org/abs/2105.03836) for references on that)\n",
    "- Compare it to other algorithms (you can for example use the Hamiltonians from this notebook)\n"
   ]
  },
  {
   "cell_type": "markdown",
   "metadata": {},
   "source": [
    "### More Molecules without explicitly computing them?\n",
    "\n",
    "In the [data/basis-set-free-molecules](https://github.com/aspuru-guzik-group/tequila-tutorials/tree/main/data/basis-set-free-molecules) directory, there are some more molecules provided (BeH$_2$, N$_2$ and BH$_3$ from the [article](https://arxiv.org/abs/2105.03836)). \n",
    "\n",
    "Here are some examples:"
   ]
  },
  {
   "cell_type": "markdown",
   "metadata": {},
   "source": [
    "#### BeH$_2$(4,8)"
   ]
  },
  {
   "cell_type": "code",
   "execution_count": 17,
   "metadata": {},
   "outputs": [
    {
     "name": "stdout",
     "output_type": "stream",
     "text": [
      "converged SCF energy = -15.6679922148016\n"
     ]
    },
    {
     "name": "stderr",
     "output_type": "stream",
     "text": [
      "Overwritten attributes  get_ovlp get_hcore  of <class 'pyscf.scf.hf.RHF'>\n"
     ]
    },
    {
     "name": "stdout",
     "output_type": "stream",
     "text": [
      "E(CCSD) = -15.69012723669342  E_corr = -0.02213503604590025\n",
      "converged SCF energy = -15.7294463607983\n",
      "E(CCSD) = -15.75113529861235  E_corr = -0.02168894286225017\n",
      "converged SCF energy = -15.7686061773643\n",
      "E(CCSD) = -15.79204467396438  E_corr = -0.0234385062695811\n",
      "converged SCF energy = -15.7723514947862\n",
      "E(CCSD) = -15.79687608435765  E_corr = -0.02452459417397273\n",
      "converged SCF energy = -15.7702967080772\n",
      "E(CCSD) = -15.79747313960713  E_corr = -0.02717644794397351\n",
      "converged SCF energy = -15.7591621026432\n",
      "E(CCSD) = -15.78941228695859  E_corr = -0.03025020957798473\n",
      "converged SCF energy = -15.7095603221439\n",
      "E(CCSD) = -15.74934650810662  E_corr = -0.03978628321087558\n",
      "converged SCF energy = -15.6482279092726\n",
      "E(CCSD) = -15.70004439651029  E_corr = -0.05181648801340595\n",
      "converged SCF energy = -15.5867126527238\n",
      "E(CCSD) = -15.6534197842735  E_corr = -0.06670713204783171\n",
      "converged SCF energy = -15.5302972565422\n",
      "E(CCSD) = -15.61528790851992  E_corr = -0.08499066177949531\n",
      "converged SCF energy = -15.4808298316051\n",
      "E(CCSD) = -15.58966601526279  E_corr = -0.1088362131994106\n",
      "converged SCF energy = -15.4392073666015\n",
      "E(CCSD) = -15.57856976659562  E_corr = -0.1393626950940665\n",
      "converged SCF energy = -15.4052721118636\n",
      "E(CCSD) = -15.57444901684651  E_corr = -0.1691769445172192\n",
      "converged SCF energy = -15.3787902461209\n",
      "E(CCSD) = -15.57108677052327  E_corr = -0.1922965973676519\n",
      "converged SCF energy = -15.3587353722218\n",
      "E(CCSD) = -15.56764911549893  E_corr = -0.2089138206021457\n",
      "converged SCF energy = -15.3442569563406\n",
      "E(CCSD) = -15.56545249924039  E_corr = -0.2211955915327244\n",
      "converged SCF energy = -15.3339272044203\n",
      "E(CCSD) = -15.56432458715129  E_corr = -0.2303973860709097\n",
      "converged SCF energy = -15.3265685994394\n",
      "E(CCSD) = -15.56357458191621  E_corr = -0.2370060141362515\n"
     ]
    }
   ],
   "source": [
    "have_pyscf = False\n",
    "try:\n",
    "    import pyscf\n",
    "    have_pyscf = True\n",
    "except:\n",
    "    have_pyscf = False\n",
    "\n",
    "fci={}\n",
    "spa={}\n",
    "hf={}\n",
    "ccsd={}\n",
    "n_pno = None # read data! computed with n_pno=2\n",
    "for R in sorted([1.0+i*0.25 for i in range(15)] + [1.1, 1.3, 1.4]):\n",
    "    mol3 = tq.Molecule(geometry=\"Be 0.0 0.0 0.0\\nH 0.0 0.0 {R}\\nH 0.0 0.0 -{R}\".format(R=R), name=datadir+\"/beh2_{R}\".format(R=R), n_pno=None)\n",
    "    spa[R] = mol3.compute_energy(method=\"spa\", silent=True)\n",
    "    if have_pyscf:\n",
    "        fci[R] = mol3.compute_energy(method=\"fci\") # needs pyscf installed\n",
    "        hf[R]=mol3.compute_energy(\"hf\") # needs pyscf installed\n",
    "        ccsd[R]=mol3.compute_energy(\"ccsd\") # needs pyscf installed"
   ]
  },
  {
   "cell_type": "code",
   "execution_count": 18,
   "metadata": {},
   "outputs": [
    {
     "data": {
      "image/png": "[encoded data removed]",
      "text/plain": [
       "<Figure size 432x288 with 1 Axes>"
      ]
     },
     "metadata": {
      "needs_background": "light"
     },
     "output_type": "display_data"
    }
   ],
   "source": [
    "plt.figure()\n",
    "plt.plot(list(hf.keys()), list(hf.values()), marker=\".\", label=\"HF\", color=\"navy\")\n",
    "plt.plot(list(ccsd.keys()), list(ccsd.values()), marker=\".\", label=\"CCSD\", color=\"darkgreen\")\n",
    "plt.plot(list(spa.keys()), list(spa.values()), marker=\"o\", label=\"SPA\", color=\"tab:red\")\n",
    "plt.plot(list(fci.keys()), list(fci.values()), marker=\"x\", label=\"FCI\", color=\"black\")\n",
    "plt.show()"
   ]
  },
  {
   "cell_type": "markdown",
   "metadata": {},
   "source": [
    "#### N$_2$(6,12)"
   ]
  },
  {
   "cell_type": "code",
   "execution_count": 19,
   "metadata": {
    "scrolled": true
   },
   "outputs": [
    {
     "name": "stdout",
     "output_type": "stream",
     "text": [
      "converged SCF energy = -108.219618505039\n",
      "E(CCSD) = -108.2592452736504  E_corr = -0.03962687882806944\n",
      "converged SCF energy = -108.517802407507\n",
      "E(CCSD) = -108.5586199859993  E_corr = -0.0408176324203082\n",
      "converged SCF energy = -108.849354595195\n",
      "E(CCSD) = -108.9302391959811  E_corr = -0.0808846007860704\n",
      "converged SCF energy = -108.975355879149\n",
      "E(CCSD) = -109.0721287262912  E_corr = -0.09677284714251284\n",
      "converged SCF energy = -108.990380121489\n",
      "E(CCSD) = -109.1050001796051  E_corr = -0.1146200581155742\n",
      "converged SCF energy = -108.946781283974\n",
      "E(CCSD) = -109.0810218850768  E_corr = -0.1342406011026258\n",
      "converged SCF energy = -108.912941071501\n",
      "E(CCSD) = -109.0576114367936  E_corr = -0.1446703652930684\n",
      "converged SCF energy = -108.875454293809\n",
      "E(CCSD) = -109.0309255596254  E_corr = -0.1554712658165696\n",
      "converged SCF energy = -108.794272716089\n",
      "E(CCSD) = -108.972420566356  E_corr = -0.1781478502666871\n",
      "converged SCF energy = -108.710483208957\n",
      "E(CCSD) = -108.9126516635462  E_corr = -0.2021684545888488\n",
      "converged SCF energy = -108.520537474022\n",
      "E(CCSD) = -108.7929328225831  E_corr = -0.2723953485613564\n",
      "converged SCF energy = -108.368210415296\n",
      "E(CCSD) = -108.737195408695  E_corr = -0.3689849933963003\n",
      "converged SCF energy = -108.250675205664\n",
      "E(CCSD) = -108.7428678530771  E_corr = -0.4921926473699521\n",
      "converged SCF energy = -108.160707773816\n",
      "E(CCSD) = -108.7801761282331  E_corr = -0.6194683539390043\n",
      "converged SCF energy = -108.093177043107\n",
      "CCSD not converged\n",
      "E(CCSD) = -108.4293684123311  E_corr = -0.3361913688098769\n",
      "converged SCF energy = -108.040635702206\n",
      "CCSD not converged\n",
      "E(CCSD) = -108.5082697098897  E_corr = -0.467633969495111\n"
     ]
    }
   ],
   "source": [
    "fci={}\n",
    "spa={}\n",
    "hf={}\n",
    "ccsd={}\n",
    "n_pno = None # read data! computed with n_pno=3\n",
    "for R in sorted([0.75+i*0.25 for i in range(10)] + [0.8,0.9, 1.1, 1.2, 1.3, 1.4]):\n",
    "    mol3 = tq.Molecule(geometry=\"N 0.0 0.0 0.0\\nN 0.0 0.0 {R}\".format(R=R), name=datadir+\"/n2_{R}\".format(R=R), n_pno=None)\n",
    "    spa[R] = mol3.compute_energy(method=\"spa\", silent=True)\n",
    "    if have_pyscf:\n",
    "        fci[R] = mol3.compute_energy(method=\"fci\") # needs pyscf installed\n",
    "        hf[R]=mol3.compute_energy(\"hf\") # needs pyscf installed\n",
    "        ccsd[R]=mol3.compute_energy(\"ccsd\") # needs pyscf installed"
   ]
  },
  {
   "cell_type": "code",
   "execution_count": 20,
   "metadata": {},
   "outputs": [
    {
     "data": {
      "image/png": "[encoded data removed]",
      "text/plain": [
       "<Figure size 432x288 with 1 Axes>"
      ]
     },
     "metadata": {
      "needs_background": "light"
     },
     "output_type": "display_data"
    }
   ],
   "source": [
    "plt.figure()\n",
    "plt.plot(list(hf.keys()), list(hf.values()), marker=\".\", label=\"HF\", color=\"navy\")\n",
    "plt.plot(list(ccsd.keys()), list(ccsd.values()), marker=\".\", label=\"CCSD\", color=\"darkgreen\")\n",
    "plt.plot(list(spa.keys()), list(spa.values()), marker=\"o\", label=\"SPA\", color=\"tab:red\")\n",
    "plt.plot(list(fci.keys()), list(fci.values()), marker=\"x\", label=\"FCI\", color=\"black\")\n",
    "plt.show()"
   ]
  },
  {
   "cell_type": "code",
   "execution_count": 21,
   "metadata": {},
   "outputs": [
    {
     "name": "stdout",
     "output_type": "stream",
     "text": [
      "converged SCF energy = -7.20102085961948\n",
      "E(CCSD) = -7.218624946180478  E_corr = -0.01760408656285888\n",
      "converged SCF energy = -7.69107721498333\n",
      "E(CCSD) = -7.708444925700343  E_corr = -0.01736774138905986\n",
      "converged SCF energy = -7.88831330312215\n",
      "E(CCSD) = -7.904031258477795  E_corr = -0.01571795725185135\n",
      "converged SCF energy = -7.96336595814755\n",
      "E(CCSD) = -7.978078419113489  E_corr = -0.01471246732458815\n",
      "converged SCF energy = -7.9807475475029\n",
      "E(CCSD) = -7.995411657448162  E_corr = -0.01466411310233367\n",
      "converged SCF energy = -7.98573080958623\n",
      "E(CCSD) = -8.000624035476035  E_corr = -0.01489323647756964\n",
      "converged SCF energy = -7.98718874276588\n",
      "E(CCSD) = -8.002509109447631  E_corr = -0.01532041728860519\n",
      "converged SCF energy = -7.98621713584729\n",
      "E(CCSD) = -8.002134548569908  E_corr = -0.01591744703347765\n",
      "converged SCF energy = -7.98500153292525\n",
      "E(CCSD) = -8.001274108453581  E_corr = -0.01627260648202502\n",
      "converged SCF energy = -7.97473522400141\n",
      "E(CCSD) = -7.99319238865208  E_corr = -0.01845717764032883\n",
      "converged SCF energy = -7.96055460482735\n",
      "E(CCSD) = -7.981605117254819  E_corr = -0.02105051539411246\n",
      "converged SCF energy = -7.9455902917976\n",
      "E(CCSD) = -7.969414336194683  E_corr = -0.02382404459262781\n",
      "converged SCF energy = -7.93099491182978\n",
      "E(CCSD) = -7.957653544421325  E_corr = -0.0266586367736402\n",
      "converged SCF energy = -7.91718225500422\n",
      "E(CCSD) = -7.946692572050927  E_corr = -0.02951031948599142\n",
      "converged SCF energy = -7.90468655933383\n",
      "E(CCSD) = -7.937056736903319  E_corr = -0.03237017922200248\n",
      "converged SCF energy = -7.89323586481007\n",
      "E(CCSD) = -7.928424780910102  E_corr = -0.03518891616153751\n",
      "converged SCF energy = -7.88291772289871\n",
      "E(CCSD) = -7.920962199902631  E_corr = -0.03804447731138417\n",
      "converged SCF energy = -7.87394232347893\n",
      "E(CCSD) = -7.914904686754236  E_corr = -0.04096240598604318\n",
      "converged SCF energy = -7.86565650523915\n",
      "E(CCSD) = -7.909681332078108  E_corr = -0.04402497508913499\n",
      "converged SCF energy = -7.85846134655302\n",
      "E(CCSD) = -7.905899496173217  E_corr = -0.04743815020815261\n",
      "converged SCF energy = -7.85201894792605\n",
      "E(CCSD) = -7.903057287559932  E_corr = -0.05103834251497057\n",
      "converged SCF energy = -7.84615186904446\n",
      "E(CCSD) = -7.901061287600457  E_corr = -0.05490942327428704\n",
      "converged SCF energy = -7.84097631046527\n",
      "E(CCSD) = -7.899819261995368  E_corr = -0.05884296304972754\n"
     ]
    }
   ],
   "source": [
    "fci={}\n",
    "spa={}\n",
    "hf={}\n",
    "ccsd={}\n",
    "n_pno=None # read data! it was computed with n_pno=1\n",
    "for R in sorted([0.5 + x*0.25 for x in range(20)] + [1.4, 1.6, 1.7]):\n",
    "    mol3 = tq.Molecule(n_pno=n_pno, geometry=\"Li 0.0 0.0 0.0\\nH 0.0 0.0 {R}\".format(R=R), name=datadir+\"/lih_{R}\".format(R=R))\n",
    "    spa[R] = mol3.compute_energy(method=\"spa\", silent=True)\n",
    "    if have_pyscf:\n",
    "        fci[R] = mol3.compute_energy(method=\"fci\") # needs pyscf installed\n",
    "        hf[R]=mol3.compute_energy(\"hf\") # needs pyscf installed\n",
    "        ccsd[R]=mol3.compute_energy(\"ccsd\") # needs pyscf installed"
   ]
  },
  {
   "cell_type": "code",
   "execution_count": 22,
   "metadata": {},
   "outputs": [
    {
     "data": {
      "image/png": "[encoded data removed]",
      "text/plain": [
       "<Figure size 432x288 with 1 Axes>"
      ]
     },
     "metadata": {
      "needs_background": "light"
     },
     "output_type": "display_data"
    }
   ],
   "source": [
    "plt.figure()\n",
    "plt.plot(list(hf.keys()), list(hf.values()), marker=\".\", label=\"HF\", color=\"navy\")\n",
    "plt.plot(list(ccsd.keys()), list(ccsd.values()), marker=\".\", label=\"CCSD\", color=\"darkgreen\")\n",
    "plt.plot(list(spa.keys()), list(spa.values()), marker=\"o\", label=\"SPA\", color=\"tab:red\")\n",
    "plt.plot(list(fci.keys()), list(fci.values()), marker=\"x\", label=\"FCI\", color=\"black\")\n",
    "plt.legend()\n",
    "plt.show()"
   ]
  },
  {
   "cell_type": "markdown",
   "metadata": {},
   "source": [
    "#### H$_2$(2,4)"
   ]
  },
  {
   "cell_type": "code",
   "execution_count": 23,
   "metadata": {
    "scrolled": true
   },
   "outputs": [
    {
     "name": "stdout",
     "output_type": "stream",
     "text": [
      "converged SCF energy = -1.06490592310947\n",
      "E(CCSD) = -1.077562507938891  E_corr = -0.01265658482942324\n",
      "converged SCF energy = -1.11639792428107\n",
      "E(CCSD) = -1.131093452548504  E_corr = -0.01469552826742964\n",
      "converged SCF energy = -1.13274963279915\n",
      "E(CCSD) = -1.14976689395565  E_corr = -0.01701726115650304\n",
      "converged SCF energy = -1.13335757683105\n",
      "E(CCSD) = -1.151648306604335  E_corr = -0.0182907297732816\n",
      "converged SCF energy = -1.1308207167049\n",
      "E(CCSD) = -1.15046329950247  E_corr = -0.01964258279757117\n",
      "converged SCF energy = -1.1192174182263\n",
      "E(CCSD) = -1.141818743308879  E_corr = -0.02260132508257617\n",
      "converged SCF energy = -1.1025577024318\n",
      "E(CCSD) = -1.128477953913592  E_corr = -0.0259202514817888\n",
      "converged SCF energy = -1.05333748712716\n",
      "E(CCSD) = -1.089243434591529  E_corr = -0.03590594746437135\n",
      "converged SCF energy = -1.00496702890711\n",
      "E(CCSD) = -1.053578278876645  E_corr = -0.04861124996953886\n",
      "converged SCF energy = -0.962386670820461\n",
      "E(CCSD) = -1.026226767246037  E_corr = -0.0638400964255763\n",
      "converged SCF energy = -0.926379418612553\n",
      "E(CCSD) = -1.007246702958041  E_corr = -0.08086728434548923\n",
      "converged SCF energy = -0.896432738069918\n",
      "E(CCSD) = -0.9949878994209024  E_corr = -0.09855516135098601\n",
      "converged SCF energy = -0.871658207906793\n",
      "E(CCSD) = -0.9874027086041572  E_corr = -0.1157445006973646\n",
      "converged SCF energy = -0.851378683296851\n",
      "E(CCSD) = -0.983085757679831  E_corr = -0.1317070743829799\n"
     ]
    }
   ],
   "source": [
    "fci={}\n",
    "spa={}\n",
    "hf={}\n",
    "ccsd={}\n",
    "n_pno = None # read data! computed with n_pno=1\n",
    "for R in sorted([0.5+i*0.25 for i in range(10)] + [0.6, 0.7, 0.8, 0.9]):\n",
    "    mol3 = tq.Molecule(geometry=\"H 0.0 0.0 0.0\\nH 0.0 0.0 {R}\".format(R=R), name=datadir+\"/h2_{R}\".format(R=R), n_pno=n_pno)\n",
    "    spa[R] = mol3.compute_energy(method=\"spa\", silent=True)\n",
    "    if have_pyscf:\n",
    "        fci[R] = mol3.compute_energy(method=\"fci\") # needs pyscf installed\n",
    "        hf[R]=mol3.compute_energy(\"hf\") # needs pyscf installed\n",
    "        ccsd[R]=mol3.compute_energy(\"ccsd\") # needs pyscf installed"
   ]
  },
  {
   "cell_type": "code",
   "execution_count": 24,
   "metadata": {},
   "outputs": [
    {
     "data": {
      "image/png": "[encoded data removed]",
      "text/plain": [
       "<Figure size 432x288 with 1 Axes>"
      ]
     },
     "metadata": {
      "needs_background": "light"
     },
     "output_type": "display_data"
    }
   ],
   "source": [
    "plt.figure()\n",
    "plt.plot(list(hf.keys()), list(hf.values()), marker=\".\", label=\"HF\", color=\"navy\")\n",
    "plt.plot(list(ccsd.keys()), list(ccsd.values()), marker=\".\", label=\"CCSD\", color=\"darkgreen\")\n",
    "plt.plot(list(spa.keys()), list(spa.values()), marker=\"o\", label=\"SPA\", color=\"tab:red\")\n",
    "plt.plot(list(fci.keys()), list(fci.values()), marker=\"x\", label=\"FCI\", color=\"black\")\n",
    "plt.legend()\n",
    "plt.show()"
   ]
  },
  {
   "cell_type": "markdown",
   "metadata": {},
   "source": [
    "#### BH$_3$"
   ]
  },
  {
   "cell_type": "code",
   "execution_count": 25,
   "metadata": {
    "scrolled": true
   },
   "outputs": [
    {
     "name": "stdout",
     "output_type": "stream",
     "text": [
      "converged SCF energy = -23.6353315382324\n",
      "E(CCSD) = -23.67534366226616  E_corr = -0.0400121241357447\n",
      "converged SCF energy = -24.860006338728\n",
      "E(CCSD) = -24.89723308867797  E_corr = -0.03722675397076936\n",
      "converged SCF energy = -25.8012462834438\n",
      "E(CCSD) = -25.83445078403519  E_corr = -0.03320450988325745\n",
      "converged SCF energy = -26.2112858544112\n",
      "E(CCSD) = -26.24294895999107  E_corr = -0.0316631075062785\n",
      "converged SCF energy = -26.3347554988658\n",
      "E(CCSD) = -26.3689704674294  E_corr = -0.03421497396190476\n",
      "converged SCF energy = -26.3899651451976\n",
      "E(CCSD) = -26.42850456114387  E_corr = -0.03853943893040206\n",
      "converged SCF energy = -26.3969258467741\n",
      "E(CCSD) = -26.4436192127379  E_corr = -0.04669341157847136\n",
      "converged SCF energy = -26.3125420611316\n",
      "E(CCSD) = -26.37691759802942  E_corr = -0.06437580862698729\n",
      "converged SCF energy = -26.189553959395\n",
      "E(CCSD) = -26.27613114584645  E_corr = -0.08657722252868216\n",
      "converged SCF energy = -26.0682615750206\n",
      "E(CCSD) = -26.18127177562996  E_corr = -0.1130102116112621\n",
      "converged SCF energy = -25.9639788577742\n",
      "E(CCSD) = -26.1064354724567  E_corr = -0.1424569159738616\n",
      "converged SCF energy = -25.8818851894708\n",
      "E(CCSD) = -26.05285800383601  E_corr = -0.1709730128617117\n",
      "converged SCF energy = -25.821207076058\n",
      "E(CCSD) = -26.01294019040434  E_corr = -0.1917332991298376\n"
     ]
    }
   ],
   "source": [
    "fci={}\n",
    "spa={}\n",
    "hf={}\n",
    "ccsd={}\n",
    "n_pno = None # read data! computed with n_pno=3\n",
    "for R in sorted([0.5+i*0.25 for i in range(10)] + [0.6, 0.9, 1.1]):\n",
    "    mol3 = tq.Molecule(geometry=datadir+\"/bh3_{}.xyz\".format(R), name=datadir+\"/bh3_{R}\".format(R=R), n_pno=n_pno)\n",
    "    spa[R] = mol3.compute_energy(method=\"spa\", silent=True)\n",
    "    if have_pyscf:\n",
    "        fci[R] = mol3.compute_energy(method=\"fci\") # needs pyscf installed\n",
    "        hf[R]=mol3.compute_energy(\"hf\") # needs pyscf installed\n",
    "        ccsd[R]=mol3.compute_energy(\"ccsd\") # needs pyscf installed"
   ]
  },
  {
   "cell_type": "code",
   "execution_count": 26,
   "metadata": {},
   "outputs": [
    {
     "data": {
      "image/png": "[encoded data removed]",
      "text/plain": [
       "<Figure size 432x288 with 1 Axes>"
      ]
     },
     "metadata": {
      "needs_background": "light"
     },
     "output_type": "display_data"
    }
   ],
   "source": [
    "plt.figure()\n",
    "plt.plot(list(hf.keys()), list(hf.values()), marker=\".\", label=\"HF\", color=\"navy\")\n",
    "plt.plot(list(ccsd.keys()), list(ccsd.values()), marker=\".\", label=\"CCSD\", color=\"darkgreen\")\n",
    "plt.plot(list(spa.keys()), list(spa.values()), marker=\"o\", label=\"SPA\", color=\"tab:red\")\n",
    "plt.plot(list(fci.keys()), list(fci.values()), marker=\"x\", label=\"FCI\", color=\"black\")\n",
    "plt.legend()\n",
    "plt.show()"
   ]
  },
  {
   "cell_type": "code",
   "execution_count": 27,
   "metadata": {},
   "outputs": [],
   "source": [
    "# Since it might be useful, here is one convenient way to create the BH3 coordinates over a Z-Matrix\n",
    "# You will need to have psi4 installed for this\n",
    "def bh3(R):\n",
    "    try:\n",
    "        import psi4\n",
    "    except:\n",
    "        raise Exception(\"You need psi4\")\n",
    "    ZM = \"\"\"\n",
    "    0 1\n",
    "    B\n",
    "    H       1        {R}\n",
    "    H       1        {R}         2      120.00000\n",
    "    H       1        {R}         2      120.00000     3      180.0\n",
    "    \"\"\"\n",
    "\n",
    "    mol = psi4.geometry(ZM.format(R=R))\n",
    "    coord = mol.save_string_xyz_file()\n",
    "    with open( datadir+\"/bh3_{}.xyz\".format(R) , \"w\") as f:\n",
    "        print(coord, file=f)\n",
    "    "
   ]
  },
  {
   "cell_type": "code",
   "execution_count": null,
   "metadata": {},
   "outputs": [],
   "source": []
  },
  {
   "cell_type": "code",
   "execution_count": null,
   "metadata": {},
   "outputs": [],
   "source": []
  }
 ],
 "metadata": {
  "kernelspec": {
   "display_name": "tequila-3.7",
   "language": "python",
   "name": "tequila-3.7"
  },
  "language_info": {
   "codemirror_mode": {
    "name": "ipython",
    "version": 3
   },
   "file_extension": ".py",
   "mimetype": "text/x-python",
   "name": "python",
   "nbconvert_exporter": "python",
   "pygments_lexer": "ipython3",
   "version": "3.7.9"
  }
 },
 "nbformat": 4,
 "nbformat_minor": 2
}

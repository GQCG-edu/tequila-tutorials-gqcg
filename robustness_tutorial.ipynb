{
 "cells": [
  {
   "cell_type": "markdown",
   "id": "1dc54617",
   "metadata": {},
   "source": [
    "# Robust Interval Guarantee for Quantum Measurements on Approximate States"
   ]
  },
  {
   "cell_type": "markdown",
   "id": "f0684960",
   "metadata": {},
   "source": [
    "This notebook illustrates the usage of the robustness application within Tequila following the paper [\"Toward Reliability in the NISQ Era:  Robust Interval Guarantee for Quantum Measurements on Approximate States\"](link) [1]. We will first briefly explain the results of the paper and the show how this can be applied to get robustness intervals for a variational quantum eigensolver (VQE)."
   ]
  },
  {
   "cell_type": "markdown",
   "id": "d1d70310",
   "metadata": {},
   "source": [
    "On a high level, the goal of this paper is to derive robustness intervals for estimates of expectation values arising from imperfect approximations of a target state $\\sigma$. These imperfections can arise from limited expressibility of ansatz states or from noise. To that end, three methods are proposed to obtain such robustness intervals based on different methods. As a crucial ingredient, each method expects the fidelity (or a corresponding lower bound) with the target state as input."
   ]
  },
  {
   "cell_type": "markdown",
   "id": "8bb2ec9a",
   "metadata": {},
   "source": [
    "The first robustness interval takes only the first moment of the observable into account. Let $\\rho$ denote the approximate state to which we have access to and which could be, for example, a noisy state obtained via the variational quantum eigensolver (VQE). Let $\\sigma$ be the target state to which we do not have full access (e.g. the ground state of a Hamiltonian). For an observable $A$ which satisifies $-\\mathbb{1} \\leq A \\leq \\mathbb{1}$, a robustness interval for the (unknown) expectation value $\\langle A\\rangle_\\sigma$ is given by\n",
    "\n",
    "$$\n",
    "    (1 - 2\\epsilon)\\cdot\\langle A\\rangle_\\rho - 2\\sqrt{\\epsilon(1 - \\epsilon)(1 - \\langle A \\rangle_\\rho^2)} \\ \\leq \\ \\langle A\\rangle_\\sigma \\ \\leq \\ (1 - 2\\epsilon)\\cdot\\langle A\\rangle_\\rho + 2\\sqrt{\\epsilon(1 - \\epsilon)(1 - \\langle A \\rangle_\\rho^2)} \n",
    "$$\n",
    "\n",
    "where $\\epsilon \\geq 0$ is such that the fidelity is lower bounded by $\\mathcal{F}(\\rho,\\,\\sigma) \\geq 1-\\epsilon$. The upper bound holds for small enough $\\epsilon$ with $\\epsilon \\leq \\frac{1}{2}(1 - \\langle A\\rangle_\\rho)$ and the lower bound hold for $\\epsilon$ with $\\epsilon \\leq \\frac{1}{2}(1 + \\langle A\\rangle_\\rho)$"
   ]
  },
  {
   "cell_type": "markdown",
   "id": "84478773",
   "metadata": {},
   "source": [
    "The second method yields a lower bound to expectation values of positive observables $A\\geq 0$ and takes into account second moments. It is obtained via the non-negativity of Gram matrices and is given by\n",
    "\n",
    "$$\n",
    "    \\langle A\\rangle_\\sigma \\geq (1 - 2\\epsilon)\\langle A\\rangle_\\rho -2 \\sqrt{\\epsilon(1-\\epsilon)}\\Delta A_\\rho + \\frac{\\epsilon\\langle A^2\\rangle_\\rho}{\\langle A\\rangle_\\rho}.\n",
    "$$\n",
    "\n",
    "where $\\epsilon$ is again a lower bound to the infidelity and $(\\Delta A_\\rho) = \\langle A^2 \\rangle_\\rho - \\langle A \\rangle_\\rho^2$ is the variance."
   ]
  },
  {
   "cell_type": "markdown",
   "id": "0e907151",
   "metadata": {},
   "source": [
    "The third method is similar the second one and is also based on the non-negativity of Gram matrices. The difference here however is that the target state is assumed to be an eigenstste of a general observable $A$. Writing the target state as $\\sigma = \\lvert \\psi \\rangle\\langle \\psi\\rvert$ with eigenstate $A\\lvert \\psi \\rangle = \\lambda \\lvert \\psi \\rangle$, we have bounds on the eignvalue $\\lambda$ in terms of the approximate state $\\rho$:\n",
    "\n",
    "$$\n",
    "    \\langle A\\rangle_\\rho - \\Delta A_\\rho\\sqrt{\\frac{\\epsilon}{1-\\epsilon}} \\ \\leq \\ \\lambda \\ \\leq \\ \\langle A\\rangle_\\rho + \\Delta A_\\rho\\sqrt{\\frac{\\epsilon}{1-\\epsilon}}\n",
    "$$\n"
   ]
  },
  {
   "cell_type": "markdown",
   "id": "3b0e7993",
   "metadata": {},
   "source": [
    "In the following, we explain the implementation of these bounds in Tequila using two examples."
   ]
  },
  {
   "cell_type": "code",
   "execution_count": null,
   "id": "b08879cb",
   "metadata": {},
   "outputs": [],
   "source": [
    "import tequila as tq\n",
    "import numpy as np\n",
    "from tequila.apps.robustness import robustness_interval"
   ]
  },
  {
   "cell_type": "markdown",
   "id": "60790d9c",
   "metadata": {},
   "source": [
    "## Example 1: VQE with imperfect ansatz"
   ]
  },
  {
   "cell_type": "markdown",
   "id": "40b79788",
   "metadata": {},
   "source": [
    "Here we use an Ansatz which cannot represent the eigenstate of a given Hamiltonian. Namely, we use the separable pair ansatz (SPA, see [arXiv:2105.03836](https://arxiv.org/abs/2105.03836)) to determine the ground state energies of BeH$_2$(4,8) within the basis-set free VQE ([arXiv:2008.02819](https://arxiv.org/abs/2008.02819)). We first setup the molecule."
   ]
  },
  {
   "cell_type": "code",
   "execution_count": null,
   "id": "53edd230",
   "metadata": {},
   "outputs": [],
   "source": [
    "datadir=\"data/basis-set-free-molecules\"\n",
    "geometry = \"Li .0 .0 .0\\nH .0 .0 5.25\"\n",
    "mol = tq.Molecule(name=datadir + '/lih_5.25', geometry=geometry, n_pno=None)\n",
    "H = mol.make_hamiltonian()"
   ]
  },
  {
   "cell_type": "markdown",
   "id": "74cdb021",
   "metadata": {},
   "source": [
    "For reference, we compute the ground state and corresponding energy classically using numpy:"
   ]
  },
  {
   "cell_type": "code",
   "execution_count": null,
   "id": "505a677b",
   "metadata": {},
   "outputs": [],
   "source": [
    "eigenvalues, eigenstates = np.linalg.eigh(H.to_matrix())\n",
    "ground_state_energy = eigenvalues[0]\n",
    "ground_state = eigenstates[:,0]"
   ]
  },
  {
   "cell_type": "markdown",
   "id": "e6ed15ab",
   "metadata": {},
   "source": [
    "Now, we create the ansatz circuit and optimize it to minimize the expectation value $\\langle H\\rangle_\\theta$"
   ]
  },
  {
   "cell_type": "code",
   "execution_count": null,
   "id": "69b05f6d",
   "metadata": {},
   "outputs": [],
   "source": [
    "U = mol.make_upccgsd_ansatz('spa')\n",
    "E = tq.ExpectationValue(U=U, H=H)\n",
    "result = tq.minimize(E, silent=True)\n",
    "print(f'VQE energy\\t: {result.energy:.5f}')\n",
    "print(f'exact energy\\t: {ground_state_energy:.5f}')"
   ]
  },
  {
   "cell_type": "markdown",
   "id": "3022fea5",
   "metadata": {},
   "source": [
    "To get the robustness interval, we need the fidelity of the optimized state and the target state, i.e. the true ground state. In practice, this needs to be estimated and a lower bound can be used as input. To illustrate the usage of the funcitonality, here we assume knowledge of the true fidelity which we compute in Tequila by encoding the target state as a Hamiltonian, and calculate its expectation value under the approximate (i.e. ansatz) state."
   ]
  },
  {
   "cell_type": "code",
   "execution_count": null,
   "id": "15d5cee6",
   "metadata": {},
   "outputs": [],
   "source": [
    "ground_state_wfn = tq.QubitWaveFunction.from_array(ground_state)\n",
    "ground_state_projector = tq.paulis.Projector(wfn=ground_state_wfn)\n",
    "fidelity = tq.simulate(objective=tq.ExpectationValue(U=U, H=ground_state_projector), variables=result.variables, \n",
    "                       backend='qulacs')\n",
    "print(f'ground state fidelity\\t: {fidelity}')"
   ]
  },
  {
   "cell_type": "markdown",
   "id": "0387198f",
   "metadata": {},
   "source": [
    "Getting the robustness interval is now straight forward using the function $\\texttt{robustness_interval}$. As input, we provide the function with the ansatz circuit $U$, the Hamiltonian $H$, the ground state fidelity and the optimal parameters. Setting the additional parameter $\\texttt{kind=\"eigval\"}$ indicates that the target state is an eigenstate of the Hamiltonian. In this setting, the function uses the Gramian eigenvalue method to compute the interval which is generally more accurate than the expectation value bounds. Finally, the function returns a tuple consisting of (lower_bound, vqe_energy, upper_bound)."
   ]
  },
  {
   "cell_type": "code",
   "execution_count": null,
   "id": "c6d45257",
   "metadata": {},
   "outputs": [],
   "source": [
    "(lower_bound, vqe_energy, upper_bound), _ = robustness_interval(U=U, H=H, fidelity=fidelity, backend='qulacs', variables=result.variables,\n",
    "                                                               kind='eigval')\n",
    "print(f'upper bound\\t: {upper_bound:.5f}')\n",
    "print(f'VQE         \\t: {vqe_energy:.5f}')\n",
    "print(f'exact energy\\t: {ground_state_energy:.5f}')\n",
    "print(f'lower bound\\t: {lower_bound:.5f}')"
   ]
  },
  {
   "cell_type": "markdown",
   "id": "d90f86b7",
   "metadata": {},
   "source": [
    "## Example 2: Noisy VQE"
   ]
  },
  {
   "cell_type": "code",
   "execution_count": null,
   "id": "06dbde5a",
   "metadata": {},
   "outputs": [],
   "source": [
    "from tequila.circuit.noise import BitFlip, DepolarizingError"
   ]
  },
  {
   "cell_type": "markdown",
   "id": "c8ed276c",
   "metadata": {},
   "source": [
    "We first setup the _H$_2$_ molecule in the STO-3G basis and print the resulting molecule together with the FCI energy:"
   ]
  },
  {
   "cell_type": "code",
   "execution_count": null,
   "id": "41c03d40",
   "metadata": {},
   "outputs": [],
   "source": [
    "geometry = 'H .0 .0 .0\\nH .0 .0 0.75'\n",
    "mol = tq.Molecule(geometry='H .0 .0 .0\\nH .0 .0 0.75', basis_set='sto-3g')\n",
    "print(mol)\n",
    "print(f\"FCI energy\\t: {mol.compute_energy('fci')}\")"
   ]
  },
  {
   "cell_type": "markdown",
   "id": "4cf7c090",
   "metadata": {},
   "source": [
    "Now we create the Hamiltonian, intialize an UpCCGSD ansatz and the objective which is later optimized to approximate the corresponding ground state energy of _H$_2$_:"
   ]
  },
  {
   "cell_type": "code",
   "execution_count": null,
   "id": "7c1d86a9",
   "metadata": {},
   "outputs": [],
   "source": [
    "H = mol.make_hamiltonian()\n",
    "U = mol.make_upccgsd_ansatz()\n",
    "E = tq.ExpectationValue(U=U, H=H)\n",
    "\n",
    "print(f'Hamiltonian     \\t: {H}')\n",
    "print(f'number of terms \\t: {len(H)}')\n",
    "print(f'number of qubits\\t: {H.n_qubits}')"
   ]
  },
  {
   "cell_type": "markdown",
   "id": "6ea94f37",
   "metadata": {},
   "source": [
    "We can calculate the exact ground state energy and eigenstate with numpy."
   ]
  },
  {
   "cell_type": "code",
   "execution_count": null,
   "id": "b2e2fbd4",
   "metadata": {},
   "outputs": [],
   "source": [
    "eigvals, eigvecs = np.linalg.eigh(H.to_matrix())\n",
    "exact_energy = min(eigvals)\n",
    "exact_ground_state = eigvecs[:, 0]\n",
    "print(f\"exact ground state energy \\t: {exact_energy:.6f}\")\n",
    "print(f\"exact ground state        \\t: {exact_ground_state}\")"
   ]
  },
  {
   "cell_type": "markdown",
   "id": "3124f795",
   "metadata": {},
   "source": [
    "We now use a VQE to approximate the ground state and the corresponding energy. As real devices are subject to noise, we model this noise with a combination of bit flip errors acting on single qubit gates, and depolarizing noise acting on two qubit gates. We use 1% error probability for both noise models."
   ]
  },
  {
   "cell_type": "markdown",
   "id": "433aa58d",
   "metadata": {},
   "source": [
    "To setup this noise model in Tequila, we can simply run the following code line (see also the tutorial on noise [here](https://github.com/aspuru-guzik-group/tequila-tutorials/blob/main/Noise_tutorial.ipynb)):"
   ]
  },
  {
   "cell_type": "code",
   "execution_count": null,
   "id": "e27961f0",
   "metadata": {},
   "outputs": [],
   "source": [
    "noise_model = BitFlip(p=0.01, level=1) + DepolarizingError(p=0.01, level=2)"
   ]
  },
  {
   "cell_type": "markdown",
   "id": "ca087fba",
   "metadata": {},
   "source": [
    "And now, to run the noisy VQE optimization, we pass the noise model as argument to $\\texttt{tq.minimize}$ and set the number of samples to 512."
   ]
  },
  {
   "cell_type": "code",
   "execution_count": null,
   "id": "76fc8f21",
   "metadata": {},
   "outputs": [],
   "source": [
    "num_samples = 512"
   ]
  },
  {
   "cell_type": "code",
   "execution_count": null,
   "id": "1d185290",
   "metadata": {},
   "outputs": [],
   "source": [
    "# run noiseless VQE\n",
    "result_noiseless = tq.minimize(E, backend='qiskit', silent=True)\n",
    "error_noiseless = exact_energy - result_noiseless.energy\n",
    "print(f'VQE energy without noise\\t: {result_noiseless.energy:.6f}\\t(error = {error_noiseless})')\n",
    "\n",
    "# run noisy VQE\n",
    "result_noisy = tq.minimize(E, backend='qiskit', samples=num_samples, noise=noise_model, silent=True)\n",
    "error_noisy = exact_energy - result_noisy.energy\n",
    "print(f'VQE energy with noise   \\t: {result_noisy.energy:.6f}\\t(error = {error_noisy})')"
   ]
  },
  {
   "cell_type": "markdown",
   "id": "40169c5d",
   "metadata": {},
   "source": [
    "We see that the noiseless VQE is very close to the true energy. On the other hand, if there is noise, then the error of VQE is increased dramatically leading to an inaccurate energy estimate. We can also compute and compare the fidelity with the true ground state, leading to a similar picture."
   ]
  },
  {
   "cell_type": "code",
   "execution_count": null,
   "id": "77499e56",
   "metadata": {},
   "outputs": [],
   "source": [
    "# encode exact wave function as a Hamiltonian\n",
    "exact_ground_state_wfn = tq.QubitWaveFunction.from_array(exact_ground_state)\n",
    "exact_ground_state_projector = tq.paulis.Projector(wfn=exact_ground_state_wfn)\n",
    "objective = tq.ExpectationValue(U=U, H=exact_ground_state_projector)\n",
    "\n",
    "# ground state fidelity of the noiseless VQE\n",
    "fidelity_noiseless = tq.simulate(objective=objective, \n",
    "                                 variables=result_noiseless.variables, \n",
    "                                 backend='qiskit')\n",
    "\n",
    "print(f'ground state fideltiy for the noiseless VQE\\t: {fidelity_noiseless}')\n",
    "\n",
    "# ground state fidelity of the noisy VQE\n",
    "fidelity_noisy = tq.simulate(objective=objective, \n",
    "                             variables=result_noisy.variables, \n",
    "                             backend='qiskit',  \n",
    "                             noise=noise_model,\n",
    "                             samples=num_samples)\n",
    "\n",
    "print(f'ground state fideltiy for the noisy VQE   \\t: {fidelity_noisy}')"
   ]
  },
  {
   "cell_type": "markdown",
   "id": "87a2ebeb",
   "metadata": {},
   "source": [
    "Given the ground state fidelity, we can now compute a robustness interval based on the noisy VQE. This interval is guaranteed to contain the true ground state energy. Note that, due to a finite number of samples, we need to repeat the computation a few times and caculate confidence intervals for the true value of the bounds (i.e. robustness interval)."
   ]
  },
  {
   "cell_type": "code",
   "execution_count": null,
   "id": "ce609229",
   "metadata": {},
   "outputs": [],
   "source": [
    "from scipy import stats\n",
    "\n",
    "# compute intervals\n",
    "intervals = []\n",
    "variables = result_noisy.variables\n",
    "for _ in range(30):\n",
    "    f = tq.simulate(objective=objective, variables=variables,  backend='qiskit', noise=noise_model, \n",
    "                    samples=num_samples)\n",
    "    interval, _ = robustness_interval(U=U, H=H, fidelity=f, kind='eigval', method='gramian',  noise=noise_model, \n",
    "                                      samples=num_samples, backend='qiskit', variables=result_noisy.variables)\n",
    "    intervals.append(interval)\n",
    "\n",
    "# compute mean energy\n",
    "vqe_energy = np.mean([interval[1] for interval in intervals])\n",
    "\n",
    "# compute confidence intervals\n",
    "lower_bound_mean = np.mean([interval[0] for interval in intervals])\n",
    "lower_bound_var = np.var([interval[0] for interval in intervals], ddof=1)\n",
    "lower_bound = lower_bound_mean - np.sqrt(lower_bound_var / 30) * stats.t.ppf(q=0.99, df=29)\n",
    "\n",
    "upper_bound_mean = np.mean([interval[2] for interval in intervals])\n",
    "upper_bound_var = np.var([interval[2] for interval in intervals], ddof=1)\n",
    "upper_bound = upper_bound_mean + np.sqrt(upper_bound_var / 30) * stats.t.ppf(q=0.99, df=29)\n",
    "    \n",
    "print(f'VQE energy               : {vqe_energy:.6f}')\n",
    "print(f'True ground state energy : {exact_energy:.6f}')\n",
    "print(f'Robustness interval      : [{lower_bound:.6f}, {upper_bound:.6f}]')"
   ]
  },
  {
   "cell_type": "markdown",
   "id": "ef83909c",
   "metadata": {},
   "source": [
    "## References\n",
    "[1] Maurice Weber, Abhinav Anand, Alba Cervera-Lierta, Jakob S. Kottmann, Thi Ha Kyaw, Bo Li, Alán Aspuru-Guzik, Ce Zhang and Zhikuan Zhao. \"Toward Reliability in the NISQ Era: Robust Interval Guarantee for Quantum Measurements on Approximate States\", [arxiv:2110.09793](https://arxiv.org/abs/2110.09793) (2021)"
   ]
  },
  {
   "cell_type": "code",
   "execution_count": null,
   "id": "a751a08e",
   "metadata": {},
   "outputs": [],
   "source": []
  }
 ],
 "metadata": {
  "kernelspec": {
   "display_name": "Python 3 (ipykernel)",
   "language": "python",
   "name": "python3"
  },
  "language_info": {
   "codemirror_mode": {
    "name": "ipython",
    "version": 3
   },
   "file_extension": ".py",
   "mimetype": "text/x-python",
   "name": "python",
   "nbconvert_exporter": "python",
   "pygments_lexer": "ipython3",
   "version": "3.7.10"
  }
 },
 "nbformat": 4,
 "nbformat_minor": 5
}

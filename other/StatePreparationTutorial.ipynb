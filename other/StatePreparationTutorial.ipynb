{
 "cells": [
  {
   "cell_type": "markdown",
   "metadata": {},
   "source": [
    "# State preparation algorithm tutorial\n",
    "\n",
    "This tutorial shows:\n",
    "- How to define a quantum gate not included in Tequila's gate set\n",
    "- How to construct a parametrized quantum circuit\n",
    "- How to compute the fidelity between two states\n",
    "- How to train a parametrized quantum circuit"
   ]
  },
  {
   "cell_type": "code",
   "execution_count": 1,
   "metadata": {},
   "outputs": [],
   "source": [
    "# Import everthing you need\n",
    "import tequila as tq\n",
    "import numpy as np\n",
    "import random\n",
    "import time"
   ]
  },
  {
   "cell_type": "markdown",
   "metadata": {},
   "source": [
    "## Quantum gate construction\n",
    "\n",
    "Sometimes, one may need to use a particular quantum gate that is not included in the basic gate set. If we know the decomposition of this gate in terms of Tequila's gates, we can define a function that runs a small quantum circuit that constructs this particular gate.  \n",
    "  \n",
    "As an example, let's define the general one-qubit unitary gate  \n",
    "$$ U(\\theta,\\phi,\\lambda) = \\left( \\begin{array}{cc}\n",
    " e^{-\\frac{1}{2} i (\\lambda +\\phi )} \\cos \\left(\\frac{\\theta }{2}\\right) & -e^{\\frac{1}{2} i (\\lambda -\\phi )} \\sin \\left(\\frac{\\theta }{2}\\right) \\\\\n",
    " e^{-\\frac{1}{2} i (\\lambda -\\phi )} \\sin \\left(\\frac{\\theta }{2}\\right) & e^{\\frac{1}{2} i (\\lambda +\\phi )} \\cos \\left(\\frac{\\theta }{2}\\right) \\end{array} \\right) = R_{z}\\left(\\phi\\right) R_{y}\\left(\\theta\\right) R_{z}\\left(\\lambda\\right) $$"
   ]
  },
  {
   "cell_type": "code",
   "execution_count": 2,
   "metadata": {},
   "outputs": [
    {
     "name": "stdout",
     "output_type": "stream",
     "text": [
      "0: ───Rz(0.25π)───Ry(π)───Rz(0.5π)───\n"
     ]
    }
   ],
   "source": [
    "# q0 = target qubit\n",
    "def U(th,phi,lam,q0):\n",
    "    ugate = tq.gates.Rz(target=q0,angle=phi) + tq.gates.Ry(target=q0,angle=th) + tq.gates.Rz(target=q0,angle=lam)\n",
    "    return ugate\n",
    "# draw the circuit for some (th,phi,lam) for qubit \"0\"\n",
    "tq.draw(U(np.pi, np.pi/4.0, np.pi/2.0, 0))"
   ]
  },
  {
   "cell_type": "markdown",
   "metadata": {},
   "source": [
    "Similarly, we can construct a multi-qubit gate. For instance, the controlled-phase gate:  \n",
    "$$ CPh\\left(\\varphi \\right) = \\left(\n",
    "\\begin{array}{cccc}\n",
    " 1 & 0 & 0 & 0 \\\\\n",
    " 0 & 1 & 0 & 0 \\\\\n",
    " 0 & 0 & 1 & 0 \\\\\n",
    " 0 & 0 & 0 & e^{i \\varphi } \\\\\n",
    "\\end{array}\n",
    "\\right)  = e^{i\\phi/4} \\left(R_{z}\\left(\\varphi/2\\right)\\otimes\\mathbb{I}\\right)CR_{z}\\left(\\phi/2\\right)$$"
   ]
  },
  {
   "cell_type": "code",
   "execution_count": 3,
   "metadata": {},
   "outputs": [
    {
     "name": "stdout",
     "output_type": "stream",
     "text": [
      "0: ───Rz(0.25π)───@───────────\n",
      "                  │\n",
      "1: ───────────────Rz(0.25π)───\n"
     ]
    }
   ],
   "source": [
    "# q0 = control qubit\n",
    "# q1 = target qubit\n",
    "def CPh(phi,q0,q1):\n",
    "    cph = tq.gates.Rz(target=q0, angle=phi/2) + tq.gates.CRz(control=q0, target=q1, angle=phi/2)\n",
    "    return cph\n",
    "# draw the circuit for some varphi for qubits \"0\" and \"1\"\n",
    "tq.draw(CPh(np.pi/2,0,1))"
   ]
  },
  {
   "cell_type": "markdown",
   "metadata": {},
   "source": [
    "The gate defined is equal to $CPh(\\varphi)$ gate up to a global phase."
   ]
  },
  {
   "cell_type": "markdown",
   "metadata": {},
   "source": [
    "## Compute the fidelity\n",
    "\n",
    "Let's compute the fidelity between two states, one constructed from a string (target state $|\\tilde{\\psi}\\rangle$) and other obtained from a given quantum circuit, $|\\psi\\rangle$."
   ]
  },
  {
   "cell_type": "code",
   "execution_count": 4,
   "metadata": {},
   "outputs": [
    {
     "name": "stdout",
     "output_type": "stream",
     "text": [
      "target state:  +0.7071|00> +0.7071|11> \n"
     ]
    }
   ],
   "source": [
    "# Target state example: Bell state\n",
    "wfn_targ = tq.QubitWaveFunction.from_string(string=\"1.0*|00> + 1.0*|11>\")\n",
    "wfn_targ = wfn_targ.normalize() # Remember to normalize the state!!! \n",
    "print(\"target state: \", wfn_targ) # Print the wavefunction"
   ]
  },
  {
   "cell_type": "code",
   "execution_count": 5,
   "metadata": {},
   "outputs": [
    {
     "name": "stdout",
     "output_type": "stream",
     "text": [
      "circuit state:  +0.9641e^(-0.3614πi)|00> +0.0247e^(+0.8932πi)|10> +0.2462e^(-0.3614πi)|01> +0.0967e^(-0.1068πi)|11> \n",
      "circuit diagram: \n",
      "0: ───Rz(0.5π)───Ry(0.064π)───Rz(0.159π)───@───Rz(0.064π)───@─────────────────────────\n",
      "                                           │                │\n",
      "1: ────────────────────────────────────────X────────────────Rz(0.064π)───Ry(0.159π)───\n"
     ]
    }
   ],
   "source": [
    "# Quantum circuit\n",
    "q0 = 0\n",
    "q1 = 1\n",
    "qc = U(0.2, np.pi/2.0, 0.5, q0) + tq.gates.CNOT(target=q1,control=q0) + CPh(0.4,q0,q1) + tq.gates.Ry(target=q1,angle=0.5)\n",
    "wfn_qc = tq.simulate(qc) # Simulate the wavefunction \n",
    "print(\"circuit state: \", wfn_qc) \n",
    "print(\"circuit diagram: \")\n",
    "tq.draw(qc)"
   ]
  },
  {
   "cell_type": "markdown",
   "metadata": {},
   "source": [
    "There are two ways to compute the fidelity of these two states. The natural way to do it, in case we have both wavefunctions, is just by computing the inner product of these two states:\n",
    "$$ F\\left(|\\psi\\rangle, |\\tilde{\\psi}\\rangle\\right) = |\\langle \\psi | \\tilde{\\psi} \\rangle|^2 $$"
   ]
  },
  {
   "cell_type": "code",
   "execution_count": 6,
   "metadata": {},
   "outputs": [
    {
     "name": "stdout",
     "output_type": "stream",
     "text": [
      "fidelity =  0.5343666886804502\n"
     ]
    }
   ],
   "source": [
    "fidelity = abs(wfn_targ.inner(wfn_qc))**2\n",
    "print('fidelity = ', fidelity)"
   ]
  },
  {
   "cell_type": "markdown",
   "metadata": {},
   "source": [
    "The second method consists on computing the expected value of the target state density matrix operator $\\rho = |\\tilde{\\psi}\\rangle\\langle\\tilde{\\psi}|$, i.e. \n",
    "$$ F\\left(|\\psi\\rangle, |\\tilde{\\psi}\\rangle\\right) = \\langle \\psi | \\rho |\\psi\\rangle = \\langle \\psi |\\tilde{\\psi}\\rangle \\langle \\tilde{\\psi} |\\psi\\rangle = |\\langle \\psi | \\tilde{\\psi} \\rangle|^2$$\n",
    "\n",
    "To do so, we need to write the density operator in terms of pauli matrices:"
   ]
  },
  {
   "cell_type": "code",
   "execution_count": 7,
   "metadata": {},
   "outputs": [
    {
     "name": "stdout",
     "output_type": "stream",
     "text": [
      "+0.2500+0.2500Z(0)Z(1)+0.2500X(0)X(1)-0.2500Y(0)Y(1)\n"
     ]
    }
   ],
   "source": [
    "# construct the density operator of target state\n",
    "rho_targ =  tq.paulis.Projector(wfn=wfn_targ)\n",
    "print(rho_targ)"
   ]
  },
  {
   "cell_type": "markdown",
   "metadata": {},
   "source": [
    "Then, we trait this operator as a Hamiltonian and compute the objective expectation value:"
   ]
  },
  {
   "cell_type": "code",
   "execution_count": 8,
   "metadata": {},
   "outputs": [
    {
     "name": "stdout",
     "output_type": "stream",
     "text": [
      "fidelity =  0.5343666886804503\n"
     ]
    }
   ],
   "source": [
    "O = tq.Objective.ExpectationValue(U=qc, H=rho_targ)\n",
    "fidelity= tq.simulate(O)\n",
    "print('fidelity = ', fidelity)"
   ]
  },
  {
   "cell_type": "markdown",
   "metadata": {},
   "source": [
    "## Construct a parametrized quantum circuit \n",
    "\n",
    "Parametrized quantum circuits (PQC) are usually defined with a small gate set. Same gates are used along the circuit with different parameters, which makes more natural to define them as vectors. In the following example, we construct a parametrized quantum circuit of two qubits using the $U(\\theta,\\phi,\\lambda)$ (defined above) and a CNOT gate. Parameters are identified with the vectors $\\vec{\\theta}$, $\\vec{\\phi}$ and $\\vec{\\lambda}$. The circuit ansatz consist on applying general unitary gates on both qubits, then entangle them with the CNOT gate, and finally apply another unitary gate."
   ]
  },
  {
   "cell_type": "code",
   "execution_count": 9,
   "metadata": {},
   "outputs": [],
   "source": [
    "#qubits\n",
    "q0=0\n",
    "q1=1\n",
    "\n",
    "#define variables\n",
    "th = [tq.Variable(name='theta_{}'.format(i)) for i in range(0,4)]\n",
    "phi = [tq.Variable(name='phi_{}'.format(i)) for i in range(0,4)]\n",
    "lam = [tq.Variable(name='lam_{}'.format(i)) for i in range(0,4)]\n",
    "\n",
    "# PQC\n",
    "pqc  = U(th[0],phi[0],lam[0],q0) + U(th[1],phi[1],lam[1],q1) \n",
    "pqc += tq.gates.CNOT(control = q0, target = q1)\n",
    "pqc += U(th[2],phi[2],lam[2],q0) + U(th[3],phi[3],lam[3],q1)"
   ]
  },
  {
   "cell_type": "code",
   "execution_count": 10,
   "metadata": {},
   "outputs": [
    {
     "name": "stdout",
     "output_type": "stream",
     "text": [
      "0: ───Rz(0.318309886183791*pi*f((phi_0,))_0)───Ry(0.318309886183791*pi*f((theta_0,))_1)───Rz(0.318309886183791*pi*f((lam_0,))_2)───@───Rz(0.318309886183791*pi*f((phi_2,))_6)───Ry(0.318309886183791*pi*f((theta_2,))_7)────Rz(0.318309886183791*pi*f((lam_2,))_8)────\n",
      "                                                                                                                                   │\n",
      "1: ───Rz(0.318309886183791*pi*f((phi_1,))_3)───Ry(0.318309886183791*pi*f((theta_1,))_4)───Rz(0.318309886183791*pi*f((lam_1,))_5)───X───Rz(0.318309886183791*pi*f((phi_3,))_9)───Ry(0.318309886183791*pi*f((theta_3,))_10)───Rz(0.318309886183791*pi*f((lam_3,))_11)───\n"
     ]
    }
   ],
   "source": [
    "# Draw the circuit \n",
    "n_th = len(th)\n",
    "n_phi = len(phi)\n",
    "n_lam = len(lam)\n",
    "\n",
    "tq.draw(pqc)"
   ]
  },
  {
   "cell_type": "code",
   "execution_count": 11,
   "metadata": {},
   "outputs": [],
   "source": [
    "# initialize random values for the variables\n",
    "th0 ={key : random.uniform(0, np.pi) for key in th}\n",
    "phi0 = {key: random.uniform(0, np.pi) for key in phi}\n",
    "lam0 = {key: random.uniform(0, np.pi) for key in lam}\n",
    "all_values = {**th0, **phi0, **lam0}"
   ]
  },
  {
   "cell_type": "code",
   "execution_count": 12,
   "metadata": {},
   "outputs": [
    {
     "data": {
      "text/plain": [
       "{theta_0: 1.9400742456012434,\n",
       " theta_1: 0.18708644852210973,\n",
       " theta_2: 1.6718785378724963,\n",
       " theta_3: 2.9210555160438036}"
      ]
     },
     "execution_count": 12,
     "metadata": {},
     "output_type": "execute_result"
    }
   ],
   "source": [
    "th0"
   ]
  },
  {
   "cell_type": "code",
   "execution_count": 13,
   "metadata": {},
   "outputs": [
    {
     "name": "stdout",
     "output_type": "stream",
     "text": [
      "0: ───Rz(0.318309886183791*pi*f((phi_0,))_0)───Ry(0.318309886183791*pi*f((theta_0,))_1)───Rz(0.318309886183791*pi*f((lam_0,))_2)───@───Rz(0.318309886183791*pi*f((phi_2,))_6)───Ry(0.318309886183791*pi*f((theta_2,))_7)────Rz(0.318309886183791*pi*f((lam_2,))_8)────\n",
      "                                                                                                                                   │\n",
      "1: ───Rz(0.318309886183791*pi*f((phi_1,))_3)───Ry(0.318309886183791*pi*f((theta_1,))_4)───Rz(0.318309886183791*pi*f((lam_1,))_5)───X───Rz(0.318309886183791*pi*f((phi_3,))_9)───Ry(0.318309886183791*pi*f((theta_3,))_10)───Rz(0.318309886183791*pi*f((lam_3,))_11)───\n"
     ]
    }
   ],
   "source": [
    "# in case you want to look at the circuit with specific values\n",
    "tq.draw(pqc, variables=all_values)"
   ]
  },
  {
   "cell_type": "markdown",
   "metadata": {},
   "source": [
    "We can now compute the fidelity of the output state of this PQC with some two-qubit random state:"
   ]
  },
  {
   "cell_type": "code",
   "execution_count": 14,
   "metadata": {},
   "outputs": [
    {
     "name": "stdout",
     "output_type": "stream",
     "text": [
      "random state:  +0.5890e^(-0.1420πi)|00> +0.4439e^(-0.2940πi)|01> +0.5727e^(-0.7747πi)|10> +0.3577e^(-0.4773πi)|11> \n"
     ]
    }
   ],
   "source": [
    "# 2-qubit random state wavefunction from array\n",
    "rand_array = np.asarray([random.uniform(-1, 1)+1j*random.uniform(-1, 1) for x in range(1,5)])\n",
    "wfn_rand = tq.QubitWaveFunction.from_array(rand_array)\n",
    "wfn_rand = wfn_rand.normalize()\n",
    "print(\"random state: \", wfn_rand)"
   ]
  },
  {
   "cell_type": "markdown",
   "metadata": {},
   "source": [
    "And now we can compute the fidelity of these two states:"
   ]
  },
  {
   "cell_type": "code",
   "execution_count": 15,
   "metadata": {},
   "outputs": [
    {
     "name": "stdout",
     "output_type": "stream",
     "text": [
      "fidelity =  0.18646916747892608\n",
      "fidelity =  0.18646916747892608\n"
     ]
    }
   ],
   "source": [
    "# Fidelity method 1: using inner product\n",
    "wfn_pqc = tq.simulate(pqc, variables=all_values) # compute the PQC wavefunction\n",
    "fid_rand = abs(wfn_rand.inner(wfn_pqc))**2\n",
    "print(\"fidelity = \", fid_rand)\n",
    "\n",
    "# Fidelity method 2: using the the density matrix as objective\n",
    "rho_rand = tq.paulis.Projector(wfn=wfn_rand) # density operator target state\n",
    "fid_pqc = tq.Objective.ExpectationValue(U=pqc, H=rho_rand)\n",
    "print(\"fidelity = \", tq.simulate(fid_pqc, variables = all_values))"
   ]
  },
  {
   "cell_type": "markdown",
   "metadata": {},
   "source": [
    "## State preparation algorithm\n",
    "\n",
    "This algorithm minimizes the fidelity between a PQC and a the target state. Since the optimizer only minimizes, we will minimize the infidelity, i.e. $ 1 - F(|\\tilde{\\psi}\\rangle,|\\psi\\rangle)$.\n",
    "\n",
    "We can use any of the two methods to compute the infidelity, but it will be more convenient to use the second one.\n",
    "\n",
    "The goal of this example is to obtain a quantum circuit that generates the Bell state\n",
    "$$ |\\tilde{\\psi}\\rangle = \\frac{1}{\\sqrt{2}}\\left(|00\\rangle + |11\\rangle\\right) $$"
   ]
  },
  {
   "cell_type": "code",
   "execution_count": 16,
   "metadata": {},
   "outputs": [
    {
     "name": "stdout",
     "output_type": "stream",
     "text": [
      "Bell state:  +0.7071|00> +0.7071|11> \n"
     ]
    }
   ],
   "source": [
    "# Bell state wavefunction from array\n",
    "bell_array = np.asarray([1,0,0,1])\n",
    "wfn_bell = tq.QubitWaveFunction.from_array(bell_array)\n",
    "wfn_bell = wfn_targ.normalize()\n",
    "print(\"Bell state: \", wfn_bell)"
   ]
  },
  {
   "cell_type": "code",
   "execution_count": 17,
   "metadata": {
    "scrolled": true
   },
   "outputs": [
    {
     "name": "stdout",
     "output_type": "stream",
     "text": [
      "Optimizer: <class 'tequila.optimizers.optimizer_scipy.OptimizerSciPy'> \n",
      "backend         : qulacs\n",
      "samples         : None\n",
      "save_history    : True\n",
      "noise           : None\n",
      "\n",
      "Method          : TNC\n",
      "Objective       : 1 expectationvalues\n",
      "bounds          : {theta_0: [0, 6.283185307179586], theta_1: [0, 6.283185307179586], theta_2: [0, 6.283185307179586], theta_3: [0, 6.283185307179586], phi_0: [0, 6.283185307179586], phi_1: [0, 6.283185307179586], phi_2: [0, 6.283185307179586], phi_3: [0, 6.283185307179586], lam_0: [0, 6.283185307179586], lam_1: [0, 6.283185307179586], lam_2: [0, 6.283185307179586], lam_3: [0, 6.283185307179586]}\n",
      "gradient        : 36 expectationvalues\n",
      "\n",
      "active variables : 12\n",
      "\n",
      "E=+0.97978838  angles= {theta_1: 0.18708644852210973, phi_2: 0.814058741440068, theta_2: 1.6718785378724963, phi_0: 0.2345203432452239, lam_2: 1.4159205992271224, lam_3: 0.13148303719773408, lam_1: 2.2681484065626556, lam_0: 2.3054575437873366, theta_0: 1.9400742456012434, phi_3: 1.535128381817424, theta_3: 2.9210555160438036, phi_1: 0.3289124675729237}  samples= None\n",
      "E=+0.97978833  angles= {theta_1: 0.18708646000189555, phi_2: 0.814058833791607, theta_2: 1.6718785383234156, phi_0: 0.23452034324522408, lam_2: 1.415920500429734, lam_3: 0.13148293840034553, lam_1: 2.2681483849790918, lam_0: 2.305457636138876, theta_0: 1.9400743288187945, phi_3: 1.5351284785470272, theta_3: 2.92105543325136, phi_1: 0.3289124675729238}  samples= None\n",
      "E=+0.85149465  angles= {theta_1: 0.2023641517385193, phi_2: 0.9369634159388589, theta_2: 1.6724786370702835, phi_0: 0.23452034324522408, lam_2: 1.2844375620293884, lam_3: 0.0, lam_1: 2.2394242408406675, lam_0: 2.4283622182861277, theta_0: 2.0508230875941647, phi_3: 1.6638595378398793, theta_3: 2.8108724224129618, phi_1: 0.3289124675729238}  samples= None\n",
      "E=+0.85149431  angles= {theta_1: 0.2023642802237453, phi_2: 0.9369636874231029, theta_2: 1.6724786704097288, phi_0: 0.23452034324522408, lam_2: 1.2844372717859731, lam_3: 0.0, lam_1: 2.2394241923699836, lam_0: 2.4283624897703713, theta_0: 2.050823147531501, phi_3: 1.6638598242833953, theta_3: 2.8108721796234564, phi_1: 0.3289124675729238}  samples= None\n",
      "E=+0.81863091  angles= {theta_1: 0.770960170998253, phi_2: 2.138384505960894, theta_2: 1.82001836892913, phi_0: 0.23452034324522408, lam_2: 0.0, lam_3: 0.0, lam_1: 2.0249230194821095, lam_0: 3.6297833083081628, theta_0: 2.3160686088759577, phi_3: 2.931481100380665, theta_3: 1.736436469372996, phi_1: 0.32891246757292425}  samples= None\n",
      "E=+0.16575584  angles= {theta_1: 0.48666216136838614, phi_2: 1.5376739609498764, theta_2: 1.7462485029997068, phi_0: 0.23452034324522408, lam_2: 0.642218781014694, lam_3: 0.0, lam_1: 2.1321736301613887, lam_0: 3.0290727632971453, theta_0: 2.183445848235061, phi_3: 2.297670319110272, theta_3: 2.273654445892979, phi_1: 0.32891246757292425}  samples= None\n",
      "E=+0.16575572  angles= {theta_1: 0.48666227262304407, phi_2: 1.5376739611263435, theta_2: 1.7462486073305992, phi_0: 0.23452034324522408, lam_2: 0.6422185127771218, lam_3: 0.0, lam_1: 2.132173524155168, lam_0: 3.029072763473612, theta_0: 2.1834456081792064, phi_3: 2.2976704050408365, theta_3: 2.273654352135036, phi_1: 0.32891246757292425}  samples= None\n",
      "E=+0.16575582  angles= {theta_1: 0.4866621494975738, phi_2: 1.5376739299684588, theta_2: 1.7462484283132789, phi_0: 0.23452034324522453, lam_2: 0.6422187020957812, lam_3: 0.0, lam_1: 2.132173575551841, lam_0: 3.0290727323157274, theta_0: 2.1834458264374574, phi_3: 2.29767031979944, theta_3: 2.2736544354244668, phi_1: 0.32891246757292425}  samples= None\n",
      "E=+0.16575574  angles= {theta_1: 0.48666227988751487, phi_2: 1.5376737685485447, theta_2: 1.7462481752768262, phi_0: 0.23452034324522408, lam_2: 0.6422185089202155, lam_3: 0.0, lam_1: 2.1321733759939048, lam_0: 3.0290725708958157, theta_0: 2.1834457798304143, phi_3: 2.2976701916997615, theta_3: 2.273654181670317, phi_1: 0.32891246757292425}  samples= None\n",
      "E=+0.08113876  angles= {theta_1: 0.5427053432896312, phi_2: 1.3917605441194907, theta_2: 1.499116903717589, phi_0: 0.2345203442100483, lam_2: 0.0, lam_3: 0.0, lam_1: 1.767930638584934, lam_0: 2.8831593468762438, theta_0: 1.8389547309123337, phi_3: 2.387441218774743, theta_3: 2.129888432702298, phi_1: 0.3289124675729247}  samples= None\n",
      "E=+0.08726450  angles= {theta_1: 0.5146837523290086, phi_2: 1.4647172525346837, theta_2: 1.622682703358648, phi_0: 0.23452034372763642, lam_2: 0.32110939050734677, lam_3: 0.0, lam_1: 1.9500521343731614, lam_0: 2.9561160550866945, theta_0: 2.011200289573697, phi_3: 2.342555768942508, theta_3: 2.2017714392976386, phi_1: 0.3289124675729247}  samples= None\n",
      "E=+0.07436449  angles= {theta_1: 0.5286945478093199, phi_2: 1.4282388983270873, theta_2: 1.5608998035381185, phi_0: 0.23452034396884214, lam_2: 0.1605546952536736, lam_3: 0.0, lam_1: 1.8589913864790477, lam_0: 2.919637700981469, theta_0: 1.9250775102430155, phi_3: 2.3649984938586255, theta_3: 2.165829935999968, phi_1: 0.3289124675729247}  samples= None\n",
      "E=+0.07436447  angles= {theta_1: 0.5286945539738492, phi_2: 1.4282388811537676, theta_2: 1.5608997893806995, phi_0: 0.23452034396884214, lam_2: 0.16055465306835526, lam_3: 1.3108153540386525e-07, lam_1: 1.8589913525322808, lam_0: 2.91963768380815, theta_0: 1.9250774762797043, phi_3: 2.3649984869514364, theta_3: 2.165829920201008, phi_1: 0.3289124675729247}  samples= None\n",
      "E=+0.07436448  angles= {theta_1: 0.5286945569985897, phi_2: 1.4282388919853437, theta_2: 1.5608998117277175, phi_0: 0.2345203439688408, lam_2: 0.1605546850756836, lam_3: 0.0, lam_1: 1.8589913740684647, lam_0: 2.9196376946397256, theta_0: 1.9250774978573206, phi_3: 2.364998484604847, theta_3: 2.1658299247020203, phi_1: 0.3289124675729247}  samples= None\n",
      "E=+0.07436449  angles= {theta_1: 0.5286945452911498, phi_2: 1.428238899428805, theta_2: 1.5608998006492636, phi_0: 0.23452034396883725, lam_2: 0.16055469563179736, lam_3: 0.0, lam_1: 1.858991377976206, lam_0: 2.9196377020831874, theta_0: 1.9250775002608946, phi_3: 2.36499848958337, theta_3: 2.165829937176665, phi_1: 0.3289124675729247}  samples= None\n",
      "E=+0.07436449  angles= {theta_1: 0.5286945451915859, phi_2: 1.428238905615189, theta_2: 1.5608998115570107, phi_0: 0.23452034396881904, lam_2: 0.16055470981843056, lam_3: 0.0, lam_1: 1.8589913754294178, lam_0: 2.9196377082695713, theta_0: 1.9250775033341594, phi_3: 2.3649984844601795, theta_3: 2.1658299404436274, phi_1: 0.3289124675729247}  samples= None\n",
      "E=+0.00709803  angles= {theta_1: 0.5606696392198067, phi_2: 1.3640003738170998, theta_2: 1.529935097807913, phi_0: 0.23452026377458557, lam_2: 0.0, lam_3: 0.2190515959374082, lam_1: 1.5777560538300686, lam_0: 2.855399178375335, theta_0: 1.6224789494137757, phi_3: 2.2321879608371633, theta_3: 2.0777091495701763, phi_1: 0.3289124675729256}  samples= None\n",
      "E=+0.00709803  angles= {theta_1: 0.5606696392039807, phi_2: 1.364000371409756, theta_2: 1.5299350986021882, phi_0: 0.23452026377458557, lam_2: 0.0, lam_3: 0.2190516011976067, lam_1: 1.577756054985087, lam_0: 2.855399175967991, theta_0: 1.6224789474072632, phi_3: 2.232187956728475, theta_3: 2.077709148018407, phi_1: 0.3289124675729256}  samples= None\n",
      "E=+0.00709803  angles= {theta_1: 0.5606696404457652, phi_2: 1.3640003758712678, theta_2: 1.5299351003827062, phi_0: 0.23452026377458557, lam_2: 0.0, lam_3: 0.21905159868476298, lam_1: 1.5777560471059562, lam_0: 2.855399180429503, theta_0: 1.6224789469409322, phi_3: 2.232187960753988, theta_3: 2.077709146686549, phi_1: 0.3289124675729256}  samples= None\n",
      "E=+0.00004723  angles= {theta_1: 0.5682047456782451, phi_2: 1.3432743639677562, theta_2: 1.557352684944983, phi_0: 0.23452026381421165, lam_2: 0.0, lam_3: 0.310121390877224, lam_1: 1.5513916250917585, lam_0: 2.8346731681628277, theta_0: 1.5787249237101468, phi_3: 2.1741055936153617, theta_3: 2.037726258960663, phi_1: 0.3289124675729256}  samples= None\n",
      "E=+0.00004723  angles= {theta_1: 0.5682047032403403, phi_2: 1.3432744140182464, theta_2: 1.5573526406157854, phi_0: 0.23452026381421165, lam_2: 0.0, lam_3: 0.3101213945509178, lam_1: 1.5513917157632686, lam_0: 2.834673218213318, theta_0: 1.5787247953018517, phi_3: 2.1741056465643167, theta_3: 2.037726285914776, phi_1: 0.3289124675729256}  samples= None\n",
      "E=+0.00004723  angles= {theta_1: 0.5682047586305501, phi_2: 1.3432743399327565, theta_2: 1.5573527054670637, phi_0: 0.23452026381421165, lam_2: 0.0, lam_3: 0.31012139399891403, lam_1: 1.551391739330553, lam_0: 2.834673144127828, theta_0: 1.5787248270916314, phi_3: 2.174105566104301, theta_3: 2.037726246757807, phi_1: 0.3289124675729256}  samples= None\n"
     ]
    },
    {
     "name": "stdout",
     "output_type": "stream",
     "text": [
      "E=+0.00004723  angles= {theta_1: 0.5682047495405631, phi_2: 1.3432743674824092, theta_2: 1.5573526873581178, phi_0: 0.2345202638142112, lam_2: 0.0, lam_3: 0.3101213860430594, lam_1: 1.551391698079409, lam_0: 2.8346731716774802, theta_0: 1.5787249436490394, phi_3: 2.174105598157262, theta_3: 2.0377262555491673, phi_1: 0.3289124675729256}  samples= None\n",
      "E=+0.00004723  angles= {theta_1: 0.5682047276855315, phi_2: 1.3432743522593686, theta_2: 1.5573526673001021, phi_0: 0.23452026381420987, lam_2: 0.0, lam_3: 0.31012140049050085, lam_1: 1.5513916613688044, lam_0: 2.834673156454439, theta_0: 1.5787249381088497, phi_3: 2.1741055840078936, theta_3: 2.0377262793832838, phi_1: 0.3289124675729256}  samples= None\n",
      "E=+0.00000001  angles= {theta_1: 0.5670536193843128, phi_2: 1.344372507559821, theta_2: 1.5563466101327212, phi_0: 0.23452026373299661, lam_2: 0.0, lam_3: 0.3100936072527172, lam_1: 1.57078726889731, lam_0: 2.8357713116589265, theta_0: 1.5707849336977442, phi_3: 2.1753215680989224, theta_3: 2.038346318435992, phi_1: 0.3289124675729256}  samples= None\n",
      "E=+0.00000001  angles= {theta_1: 0.5670536068271934, phi_2: 1.3443725425168338, theta_2: 1.5563466667480204, phi_0: 0.23452026373299661, lam_2: 1.2136837801435263e-07, lam_3: 0.3100937286210952, lam_1: 1.5707872705321904, lam_0: 2.8357713466159393, theta_0: 1.5707849408264822, phi_3: 2.175321526205309, theta_3: 2.038346254387977, phi_1: 0.3289124675729256}  samples= None\n",
      "E=+0.00000001  angles= {theta_1: 0.5670536225433711, phi_2: 1.3443725161628017, theta_2: 1.5563466125885126, phi_0: 0.23452026373299617, lam_2: 0.0, lam_3: 0.3100936053340444, lam_1: 1.570787270325883, lam_0: 2.8357713202619075, theta_0: 1.5707849375850738, phi_3: 2.175321575631915, theta_3: 2.038346313459311, phi_1: 0.3289124675729256}  samples= None\n",
      "E=+0.00000000  angles= {theta_1: 0.5670461281848205, phi_2: 1.3444030838073346, theta_2: 1.5563897167244758, phi_0: 0.23452026373288248, lam_2: 8.839510847957754e-05, lam_3: 0.3101820023612252, lam_1: 1.5707892723719388, lam_0: 2.835801887906597, theta_0: 1.5707923609973422, phi_3: 2.175294895597056, theta_3: 2.0382963240591634, phi_1: 0.3289124675729256}  samples= None\n",
      "E=+0.00000000  angles= {theta_1: 0.5670461281848205, phi_2: 1.3444030838073346, theta_2: 1.5563897167244758, phi_0: 0.23452026373288248, lam_2: 8.839510847957754e-05, lam_3: 0.3101820023612252, lam_1: 1.5707892723719388, lam_0: 2.835801887906597, theta_0: 1.5707923609973422, phi_3: 2.175294895597056, theta_3: 2.0382963240591634, phi_1: 0.3289124675729256}  samples= None\n",
      "Infidelity =  7.946199254149633e-12\n",
      "Fidelity =  0.9999999999920538\n",
      "Execution time:  7.999989986419678  sec\n"
     ]
    },
    {
     "data": {
      "image/png": "[encoded data removed]",
      "text/plain": [
       "<Figure size 432x288 with 1 Axes>"
      ]
     },
     "metadata": {
      "needs_background": "light"
     },
     "output_type": "display_data"
    },
    {
     "name": "stdout",
     "output_type": "stream",
     "text": [
      "None\n"
     ]
    },
    {
     "data": {
      "image/png": "[encoded data removed]",
      "text/plain": [
       "<Figure size 432x288 with 1 Axes>"
      ]
     },
     "metadata": {
      "needs_background": "light"
     },
     "output_type": "display_data"
    },
    {
     "name": "stdout",
     "output_type": "stream",
     "text": [
      "None\n"
     ]
    }
   ],
   "source": [
    "rho_bell = tq.paulis.Projector(wfn=wfn_bell) # density operator\n",
    "\n",
    "# we take as initial values ther random values generated above\n",
    "initial_values = all_values\n",
    "# Infidelity = 1 - Fidelity\n",
    "inf =  1.0 - tq.Objective.ExpectationValue(U=pqc, H=rho_bell)\n",
    "\n",
    "# we can define the bounds on the parameters\n",
    "# Caution! Not all minimizers accept bounds! In this example, we use 'TNC' minimizer.\n",
    "# bounds should be defined in a dictionary form, as initial_values\n",
    "max_angles = 2*np.pi\n",
    "min_angles = 0\n",
    "bnds_list = [[min_angles,max_angles]]\n",
    "for i in range(0, len(all_values)):\n",
    "    bnds_list.append([min_angles,max_angles])\n",
    "bnds = dict(zip([str(th[i]) for i in range(0,n_th)],bnds_list))\n",
    "bnds = {**bnds, **dict(zip([str(phi[i]) for i in range(0,n_phi)],bnds_list))}\n",
    "bnds = {**bnds, **dict(zip([str(lam[i]) for i in range(0,n_lam)],bnds_list))}\n",
    "\n",
    "# set \"silent = True\" to avoid printing all the minimization process\n",
    "t0 = time.time()\n",
    "infid = tq.optimizer_scipy.minimize(objective=inf, initial_values=initial_values, method = 'TNC', method_bounds = bnds, silent=True)\n",
    "t1 = time.time()\n",
    "\n",
    "print(\"Infidelity = \", infid.energy)\n",
    "print(\"Fidelity = \", 1.0-infid.energy)\n",
    "print(\"Execution time: \", t1-t0, \" sec\" )\n",
    "\n",
    "print(infid.history.plot('energies', label='fidelity'))\n",
    "print(infid.history.plot('angles', label=\"\"))"
   ]
  },
  {
   "cell_type": "code",
   "execution_count": 18,
   "metadata": {},
   "outputs": [
    {
     "data": {
      "image/png": "[encoded data removed]",
      "text/plain": [
       "<Figure size 432x288 with 1 Axes>"
      ]
     },
     "metadata": {
      "needs_background": "light"
     },
     "output_type": "display_data"
    }
   ],
   "source": [
    "# some example on how to use the convenience plotter\n",
    "infid.history.plot([\"angles\", \"gradients\"], key=[\"lam_1\", \"lam_2\"], labels=[\"\", \"grad\"], title=\"Some Data\", ylim=(-1.0, 3.0), xlim=(-3, 5), loc=\"upper left\")"
   ]
  },
  {
   "cell_type": "code",
   "execution_count": 19,
   "metadata": {},
   "outputs": [],
   "source": [
    "# in case you want to extract the history data\n",
    "history_phi_0 = infid.history.extract_angles(\"phi_0\")\n",
    "history_energies = infid.history.extract_energies()"
   ]
  },
  {
   "cell_type": "markdown",
   "metadata": {},
   "source": [
    "We can check that the final state solution is the Bell state up to a global phase:"
   ]
  },
  {
   "cell_type": "code",
   "execution_count": 20,
   "metadata": {},
   "outputs": [
    {
     "name": "stdout",
     "output_type": "stream",
     "text": [
      "final state solution: \n",
      "+0.7071e^(+0.6603πi)|00> +0.0000i|10> -0.0000|01> +0.7071e^(+0.6603πi)|11> \n"
     ]
    }
   ],
   "source": [
    "wfn_sol = tq.simulate(pqc, variables=infid.angles)\n",
    "print('final state solution: ')\n",
    "print(wfn_sol)"
   ]
  },
  {
   "cell_type": "markdown",
   "metadata": {},
   "source": [
    "To obtain the angles of the PQC:"
   ]
  },
  {
   "cell_type": "code",
   "execution_count": 21,
   "metadata": {},
   "outputs": [
    {
     "data": {
      "text/plain": [
       "theta_1 : 0.5670461281848205\n",
       "phi_2 : 1.3444030838073346\n",
       "theta_2 : 1.5563897167244758\n",
       "phi_0 : 0.23452026373288248\n",
       "lam_2 : 8.839510847957754e-05\n",
       "lam_3 : 0.3101820023612252\n",
       "lam_1 : 1.5707892723719388\n",
       "lam_0 : 2.835801887906597\n",
       "theta_0 : 1.5707923609973422\n",
       "phi_3 : 2.175294895597056\n",
       "theta_3 : 2.0382963240591634\n",
       "phi_1 : 0.3289124675729256"
      ]
     },
     "execution_count": 21,
     "metadata": {},
     "output_type": "execute_result"
    }
   ],
   "source": [
    "infid.angles"
   ]
  },
  {
   "cell_type": "code",
   "execution_count": null,
   "metadata": {},
   "outputs": [],
   "source": []
  }
 ],
 "metadata": {
  "kernelspec": {
   "display_name": "tqenv",
   "language": "python",
   "name": "tqenv"
  },
  "language_info": {
   "codemirror_mode": {
    "name": "ipython",
    "version": 3
   },
   "file_extension": ".py",
   "mimetype": "text/x-python",
   "name": "python",
   "nbconvert_exporter": "python",
   "pygments_lexer": "ipython3",
   "version": "3.7.4"
  }
 },
 "nbformat": 4,
 "nbformat_minor": 2
}

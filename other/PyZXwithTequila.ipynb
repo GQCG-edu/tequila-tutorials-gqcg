{
 "cells": [
  {
   "cell_type": "markdown",
   "metadata": {},
   "source": [
    "# Tequila circuit conversion to PyZX and viceversa"
   ]
  },
  {
   "cell_type": "markdown",
   "metadata": {},
   "source": [
    "[PyZX](https://github.com/Quantomatic/pyzx) (pronounce as Pisics) is a Python tool implementing the theory of ZX-calculus for the creation, visualisation, and automated rewriting of large-scale quantum circuits.\n",
    "\n",
    "The [ZX-calculus](https://en.wikipedia.org/wiki/ZX-calculus) is a rigorous graphical language for reasoning about linear maps between qubits, which are represented as *ZX-diagrams*. A ZX-diagram consists of a set of generators called *spiders* that represent specific tensors. \n",
    "\n",
    "Due to the symmetries of the spiders and the properties of the underlying category, topologically deforming a ZX-diagram (i.e. moving the generators without changing their connections) does not affect the linear map it represents. The ZX-calculus also has a set of graphical rewrite rules for transforming ZX-diagrams into one another. The ZX-calculus is universal in the sense that any linear map between qubits can be represented as a ZX-diagram, and different sets of graphical rewrite rules are complete for different families of linear maps. ZX-diagrams can be seen as a generalisation of quantum circuit notation."
   ]
  },
  {
   "cell_type": "markdown",
   "metadata": {},
   "source": [
    "## Convert to PyZX circuit"
   ]
  },
  {
   "cell_type": "markdown",
   "metadata": {},
   "source": [
    "### Note: If you don't have the [PyZX](https://github.com/Quantomatic/pyzx) package installed, this tutorial won't work"
   ]
  },
  {
   "cell_type": "markdown",
   "metadata": {},
   "source": [
    "Once you have a circuit in Tequila, it is possible to convert it to its equivalent in PyZX circuit, using the `convert_to_pyzx` function, for example:"
   ]
  },
  {
   "cell_type": "code",
   "execution_count": 1,
   "metadata": {},
   "outputs": [],
   "source": [
    "import tequila as tq\n",
    "from numpy import pi"
   ]
  },
  {
   "cell_type": "code",
   "execution_count": 2,
   "metadata": {},
   "outputs": [
    {
     "name": "stdout",
     "output_type": "stream",
     "text": [
      "0: ───H───X──────────@───\n",
      "                     │\n",
      "1: ───H──────────────┼───\n",
      "                     │\n",
      "2: ───Z───Rz(0.2π)───┼───\n",
      "                     │\n",
      "3: ──────────────────X───\n"
     ]
    }
   ],
   "source": [
    "circuit = tq.gates.H(target=[0,1]) + \\\n",
    "          tq.gates.X(target=0) + \\\n",
    "          tq.gates.Z(target=2) + \\\n",
    "          tq.gates.CX(target=3, control=0) + \\\n",
    "          tq.gates.Rz(target=2, angle=pi/5)\n",
    "\n",
    "tq.draw(circuit)"
   ]
  },
  {
   "cell_type": "code",
   "execution_count": 3,
   "metadata": {},
   "outputs": [],
   "source": [
    "pyzx_cir = tq.convert_to_pyzx(circuit)"
   ]
  },
  {
   "cell_type": "markdown",
   "metadata": {},
   "source": [
    "Once you have the pyzx circuit, you can use the functionality of the package to manipulate the circuit."
   ]
  },
  {
   "cell_type": "code",
   "execution_count": 4,
   "metadata": {},
   "outputs": [],
   "source": [
    "import pyzx as zx"
   ]
  },
  {
   "cell_type": "code",
   "execution_count": 5,
   "metadata": {},
   "outputs": [
    {
     "data": {
      "image/png": "[encoded data removed]",
      "text/plain": [
       "<Figure size 576x144 with 1 Axes>"
      ]
     },
     "execution_count": 5,
     "metadata": {},
     "output_type": "execute_result"
    }
   ],
   "source": [
    "# indicate drawing mode for PyZX\n",
    "zx.settings.drawing_backend = 'matplotlib' # could be 'd3' and will use the D3 Javascript library\n",
    "                                           # to generate a more interactive representation\n",
    "\n",
    "zx.draw(pyzx_cir)"
   ]
  },
  {
   "cell_type": "markdown",
   "metadata": {},
   "source": [
    "The blue lines represent edges that have a Hadamard gate on them."
   ]
  },
  {
   "cell_type": "markdown",
   "metadata": {},
   "source": [
    "In the picture above we see the ZX-diagram of the original quantum circuit.\n",
    "A ZX-diagram is a graphical representation of a linear map between qubits that evoke a conventional quantum circuit."
   ]
  },
  {
   "cell_type": "markdown",
   "metadata": {},
   "source": [
    "### Parametrized Circuits"
   ]
  },
  {
   "cell_type": "markdown",
   "metadata": {},
   "source": [
    "If the Tequila circuit is created with variables, the corresponding values must explicitly given when converting to a PyZX circuit:"
   ]
  },
  {
   "cell_type": "code",
   "execution_count": 6,
   "metadata": {},
   "outputs": [
    {
     "name": "stdout",
     "output_type": "stream",
     "text": [
      "0: ───H───X───────────────────────────────────────@───Rx(0.318309886183791*pi*f((var2,))_1)───\n",
      "                                                  │\n",
      "1: ───H───────────────────────────────────────────┼───────────────────────────────────────────\n",
      "                                                  │\n",
      "2: ───Z───Rz(0.318309886183791*pi*f((var1,))_0)───┼───────────────────────────────────────────\n",
      "                                                  │\n",
      "3: ───────────────────────────────────────────────X───────────────────────────────────────────\n"
     ]
    }
   ],
   "source": [
    "circuit_var = tq.gates.H(target=[0,1]) + \\\n",
    "              tq.gates.X(target=0) + \\\n",
    "              tq.gates.Z(target=2) + \\\n",
    "              tq.gates.CX(target=3, control=0) + \\\n",
    "              tq.gates.Rz(target=2, angle=\"var1\") + \\\n",
    "              tq.gates.Rx(target=0, angle=\"var2\")\n",
    "\n",
    "tq.draw(circuit_var)"
   ]
  },
  {
   "cell_type": "code",
   "execution_count": 7,
   "metadata": {},
   "outputs": [
    {
     "data": {
      "image/png": "[encoded data removed]",
      "text/plain": [
       "<Figure size 576x144 with 1 Axes>"
      ]
     },
     "execution_count": 7,
     "metadata": {},
     "output_type": "execute_result"
    }
   ],
   "source": [
    "variables = {\"var1\":pi/13, \"var2\": pi/7}\n",
    "\n",
    "pyzx_cir_var = tq.convert_to_pyzx(circuit_var, variables=variables)\n",
    "\n",
    "zx.draw(pyzx_cir_var)"
   ]
  },
  {
   "cell_type": "markdown",
   "metadata": {},
   "source": [
    "Since there are no `Y` gates (`Y`, `Ry`, `Cy`, `CRy`) in ZX-calculus, the conversion of a Tequila circuit to a PyZX circuit includes the transformation of said gates to their equivalents in 'X' and 'Z' rotations, for example"
   ]
  },
  {
   "cell_type": "code",
   "execution_count": 8,
   "metadata": {},
   "outputs": [
    {
     "name": "stdout",
     "output_type": "stream",
     "text": [
      "0: ───Y───\n"
     ]
    },
    {
     "data": {
      "image/png": "[encoded data removed]",
      "text/plain": [
       "<Figure size 288x36 with 1 Axes>"
      ]
     },
     "execution_count": 8,
     "metadata": {},
     "output_type": "execute_result"
    }
   ],
   "source": [
    "circuit_y = tq.gates.Y(target=0)\n",
    "\n",
    "tq.draw(circuit_y)\n",
    "\n",
    "pyzx_cir_y = tq.convert_to_pyzx(circuit_y)\n",
    "\n",
    "zx.draw(pyzx_cir_y, figsize=(4,0.5))"
   ]
  },
  {
   "cell_type": "code",
   "execution_count": 9,
   "metadata": {},
   "outputs": [
    {
     "name": "stdout",
     "output_type": "stream",
     "text": [
      "0: ───Ry(1.23π)───\n"
     ]
    },
    {
     "data": {
      "image/png": "[encoded data removed]",
      "text/plain": [
       "<Figure size 288x36 with 1 Axes>"
      ]
     },
     "execution_count": 9,
     "metadata": {},
     "output_type": "execute_result"
    }
   ],
   "source": [
    "circuit_ry = tq.gates.Ry(target=0, angle=1.23*pi)\n",
    "\n",
    "tq.draw(circuit_ry)\n",
    "\n",
    "pyzx_cir_ry = tq.convert_to_pyzx(circuit_ry)\n",
    "\n",
    "zx.draw(pyzx_cir_ry, figsize=(4,0.5))"
   ]
  },
  {
   "cell_type": "markdown",
   "metadata": {},
   "source": [
    "## Convert from PyZX circuit"
   ]
  },
  {
   "cell_type": "markdown",
   "metadata": {},
   "source": [
    "You can convert a PyZX circuit to a Tequila circuit with the help of the `convert_from_pyzx` function, for example:"
   ]
  },
  {
   "cell_type": "code",
   "execution_count": 10,
   "metadata": {},
   "outputs": [
    {
     "name": "stdout",
     "output_type": "stream",
     "text": [
      "0: ───H───X──────────@───\n",
      "                     │\n",
      "1: ───H──────────────┼───\n",
      "                     │\n",
      "2: ───Z───Rz(0.2π)───┼───\n",
      "                     │\n",
      "3: ──────────────────X───\n"
     ]
    }
   ],
   "source": [
    "tequila_cir = tq.convert_from_pyzx(pyzx_cir)\n",
    "\n",
    "tq.draw(tequila_cir)"
   ]
  },
  {
   "cell_type": "code",
   "execution_count": 11,
   "metadata": {},
   "outputs": [
    {
     "data": {
      "image/png": "[encoded data removed]",
      "text/plain": [
       "<Figure size 576x144 with 1 Axes>"
      ]
     },
     "execution_count": 11,
     "metadata": {},
     "output_type": "execute_result"
    }
   ],
   "source": [
    "pyzx_circuit = zx.Circuit(qubit_amount=3)  # creates a new PyZX circuit\n",
    "pyzx_circuit.add_gates(\"S T HAD\", 2)\n",
    "pyzx_circuit.add_gate(\"CNOT\", 0, 1)\n",
    "\n",
    "zx.draw(pyzx_circuit)"
   ]
  },
  {
   "cell_type": "code",
   "execution_count": 12,
   "metadata": {},
   "outputs": [
    {
     "name": "stdout",
     "output_type": "stream",
     "text": [
      "0: ───@──────────────────────────\n",
      "      │\n",
      "1: ───X──────────────────────────\n",
      "\n",
      "2: ───Rz(0.5π)───Rz(0.25π)───H───\n"
     ]
    }
   ],
   "source": [
    "tequila_circuit = tq.convert_from_pyzx(pyzx_circuit)\n",
    "\n",
    "tq.draw(tequila_circuit)"
   ]
  },
  {
   "cell_type": "markdown",
   "metadata": {},
   "source": [
    "## Optimizations with PyZX"
   ]
  },
  {
   "cell_type": "markdown",
   "metadata": {},
   "source": [
    "The main function of PyZX is the ability to optimize quantum circuits. The main optimization methods work by converting a circut into a ZX-diagram, simplifying this diagram, and then converting it back into a quantum circuit. This process is explained below."
   ]
  },
  {
   "cell_type": "markdown",
   "metadata": {},
   "source": [
    "### Optimizing circuits\n",
    "\n",
    "PyZX allow the simplification of quantum circuits via a translation to the ZX-calculus.\n",
    "\n",
    "For the following example, we will create a circuit in Tequila first, then convert it to a PyZX circuit."
   ]
  },
  {
   "cell_type": "code",
   "execution_count": 13,
   "metadata": {},
   "outputs": [
    {
     "name": "stdout",
     "output_type": "stream",
     "text": [
      "0: ───────────@───────────────────────────────────@───────────@───\n",
      "              │                                   │           │\n",
      "1: ───────────┼───────────────────@───────────────@───────@───┼───\n",
      "              │                   │               │       │   │\n",
      "2: ───────────┼───@───────────────@───────@───────┼───────┼───┼───\n",
      "              │   │               │       │       │       │   │\n",
      "3: ───────────@───@───────@───────┼───────┼───────┼───────┼───┼───\n",
      "              │   │       │       │       │       │       │   │\n",
      "4: ───X───H───Z───Z───H───X───H───Z───H───X───H───Z───H───X───X───\n"
     ]
    }
   ],
   "source": [
    "cir_tequila = tq.gates.X(target=4) + \\\n",
    "              tq.gates.H(target=4) + \\\n",
    "              tq.gates.CZ(target=4, control=[0, 3]) + \\\n",
    "              tq.gates.CZ(target=4, control=[2, 3]) + \\\n",
    "              tq.gates.H(target=4) + \\\n",
    "              tq.gates.CX(target=4, control=3) + \\\n",
    "              tq.gates.H(target=4) + \\\n",
    "              tq.gates.CZ(target=4, control=[1, 2]) + \\\n",
    "              tq.gates.H(target=4) + \\\n",
    "              tq.gates.CX(target=4, control=2) + \\\n",
    "              tq.gates.H(target=4) + \\\n",
    "              tq.gates.CZ(target=4, control=[0, 1]) + \\\n",
    "              tq.gates.H(target=4) + \\\n",
    "              tq.gates.CX(target=4, control=1) + \\\n",
    "              tq.gates.CX(target=4, control=0)\n",
    "\n",
    "tq.draw(cir_tequila)"
   ]
  },
  {
   "cell_type": "markdown",
   "metadata": {},
   "source": [
    "This time we choose an alternative way of drawing the circuit in PyZX, with a slight difference in the notation for the Hadamard gate (more in [this demo](https://github.com/Quantomatic/pyzx/blob/master/demos/AllFeatures.ipynb)):"
   ]
  },
  {
   "cell_type": "code",
   "execution_count": 14,
   "metadata": {},
   "outputs": [
    {
     "name": "stdout",
     "output_type": "stream",
     "text": [
      "Original T-count: 28\n"
     ]
    },
    {
     "data": {
      "image/png": "[encoded data removed]",
      "text/plain": [
       "<Figure size 1296x144 with 1 Axes>"
      ]
     },
     "execution_count": 14,
     "metadata": {},
     "output_type": "execute_result"
    }
   ],
   "source": [
    "c = tq.convert_to_pyzx(cir_tequila)\n",
    "\n",
    "print(\"Original T-count:\", zx.tcount(c))\n",
    "\n",
    "zx.draw_matplotlib(c, figsize=(18,2), h_edge_draw='box')"
   ]
  },
  {
   "cell_type": "markdown",
   "metadata": {},
   "source": [
    "The green and red nodes represent Z- and X-phase gates respectively, the yellow boxes are Hadamard gates, and the vertical lines going between two different colored nodes are CNOT gates.\n",
    "\n",
    "Using `to_basic_gates()` a version of the circuit is generated with each gate expanded in terms of X/Z phases, Hadamards and the 2-qubit gates CNOT, CZ, CX:"
   ]
  },
  {
   "cell_type": "code",
   "execution_count": 15,
   "metadata": {},
   "outputs": [],
   "source": [
    "c = c.to_basic_gates()"
   ]
  },
  {
   "cell_type": "markdown",
   "metadata": {},
   "source": [
    "To use the ZX-diagram simplification routines, the circuit must first be converted to a ZX-diagram:"
   ]
  },
  {
   "cell_type": "code",
   "execution_count": 16,
   "metadata": {},
   "outputs": [],
   "source": [
    "g = c.to_graph()"
   ]
  },
  {
   "cell_type": "markdown",
   "metadata": {},
   "source": [
    "Now we can use any of the simplification strategies built into PyZX for ZX-diagrams. The most powerful of these is `full_reduce`:"
   ]
  },
  {
   "cell_type": "code",
   "execution_count": 17,
   "metadata": {},
   "outputs": [
    {
     "name": "stdout",
     "output_type": "stream",
     "text": [
      "spider_simp: 13. 8. 5. 3. 2. 1.  6 iterations\n",
      "id_simp: 3.  1 iterations\n",
      "spider_simp: 3.  1 iterations\n",
      "pivot_simp: 1. 1.  2 iterations\n",
      "pivot_gadget_simp: 11. 6. 1. 1. 1.  5 iterations\n",
      "id_simp: 8.  1 iterations\n",
      "spider_simp: 1. 1. 3. 1.  4 iterations\n",
      "gadget_simp: 4.  1 iterations\n",
      "lcomp_simp: 4. 4.  2 iterations\n"
     ]
    }
   ],
   "source": [
    "zx.full_reduce(g, quiet=False)"
   ]
  },
  {
   "cell_type": "code",
   "execution_count": 18,
   "metadata": {},
   "outputs": [
    {
     "name": "stdout",
     "output_type": "stream",
     "text": [
      "Optimized T-count: 8\n"
     ]
    },
    {
     "data": {
      "image/png": "[encoded data removed]",
      "text/plain": [
       "<Figure size 936x216 with 1 Axes>"
      ]
     },
     "execution_count": 18,
     "metadata": {},
     "output_type": "execute_result"
    }
   ],
   "source": [
    "g.normalize() # Makes the graph more suitable for displaying\n",
    "print(\"Optimized T-count:\", zx.tcount(g))\n",
    "zx.draw(g, figsize=(13,3))"
   ]
  },
  {
   "cell_type": "markdown",
   "metadata": {},
   "source": [
    "That has reduced the T-count from 28 down to 8!"
   ]
  },
  {
   "cell_type": "markdown",
   "metadata": {},
   "source": [
    "Reliable quantum circuits must be able to tolerate noise errors. Fault tolerant\n",
    "quantum gates (such as Clifford+T gates) and quantum error correcting codes can be used to make\n",
    "quantum circuits resistant to noise errors. However, the increased tolerance\n",
    "to noise errors comes with the increased implementation overhead associated with the quantum T\n",
    "gate. Because of the increased cost to realize the T gate, **T-count** has become an\n",
    "important performance measure for fault tolerant quantum circuit design. [E. Muñoz-Coreas and H. Thapliyal, 2010](https://arxiv.org/pdf/1712.08254.pdf)"
   ]
  },
  {
   "cell_type": "markdown",
   "metadata": {},
   "source": [
    "The next step is to turn this graph back into a circuit (in PyZX) and finally into a Tequila circuit."
   ]
  },
  {
   "cell_type": "code",
   "execution_count": 19,
   "metadata": {},
   "outputs": [
    {
     "data": {
      "image/png": "[encoded data removed]",
      "text/plain": [
       "<Figure size 1296x144 with 1 Axes>"
      ]
     },
     "execution_count": 19,
     "metadata": {},
     "output_type": "execute_result"
    }
   ],
   "source": [
    "c_optimized = zx.extract_circuit(g.copy())\n",
    "\n",
    "zx.draw(c_optimized, figsize=(18,2))"
   ]
  },
  {
   "cell_type": "code",
   "execution_count": 20,
   "metadata": {},
   "outputs": [
    {
     "name": "stdout",
     "output_type": "stream",
     "text": [
      "Circuit  on 5 qubits with 66 gates.\n",
      "        8 is the T-count\n",
      "        58 Cliffords among which \n",
      "        24 2-qubit gates (0 CNOT, 24 other) and\n",
      "        34 Hadamard gates.\n"
     ]
    }
   ],
   "source": [
    "print(c_optimized.stats())"
   ]
  },
  {
   "cell_type": "code",
   "execution_count": 21,
   "metadata": {},
   "outputs": [
    {
     "name": "stdout",
     "output_type": "stream",
     "text": [
      "circuit: \n",
      "X(target=(4,), control=(2,))\n",
      "X(target=(2,), control=(4,))\n",
      "X(target=(4,), control=(2,))\n",
      "X(target=(4,), control=(0,))\n",
      "X(target=(0,), control=(4,))\n",
      "X(target=(4,), control=(0,))\n",
      "H(target=(4,))\n",
      "H(target=(3,))\n",
      "H(target=(1,))\n",
      "H(target=(0,))\n",
      "H(target=(1,))\n",
      "Z(target=(1,), control=(0,))\n",
      "H(target=(0,))\n",
      "Z(target=(2,), control=(0,))\n",
      "H(target=(2,))\n",
      "Z(target=(4,), control=(2,))\n",
      "Z(target=(4,), control=(1,))\n",
      "Z(target=(4,), control=(0,))\n",
      "H(target=(4,))\n",
      "Rz(target=(4,), parameter=0.7853981633974483)\n",
      "H(target=(4,))\n",
      "Z(target=(4,), control=(2,))\n",
      "Z(target=(3,), control=(2,))\n",
      "Z(target=(3,), control=(1,))\n",
      "Rz(target=(2,), parameter=0.7853981633974483)\n",
      "H(target=(3,))\n",
      "H(target=(2,))\n",
      "Z(target=(4,), control=(3,))\n",
      "Z(target=(3,), control=(2,))\n",
      "Z(target=(2,), control=(0,))\n",
      "Rz(target=(3,), parameter=0.7853981633974483)\n",
      "Rz(target=(0,), parameter=5.497787143782138)\n",
      "H(target=(3,))\n",
      "H(target=(0,))\n",
      "H(target=(4,))\n",
      "H(target=(2,))\n",
      "Z(target=(4,), control=(3,))\n",
      "Z(target=(3,), control=(2,))\n",
      "Z(target=(2,), control=(0,))\n",
      "Rz(target=(2,), parameter=5.497787143782138)\n",
      "Rz(target=(4,), parameter=0.7853981633974483)\n",
      "H(target=(2,))\n",
      "H(target=(4,))\n",
      "H(target=(3,))\n",
      "Z(target=(4,), control=(3,))\n",
      "Z(target=(3,), control=(2,))\n",
      "Z(target=(3,), control=(0,))\n",
      "Rz(target=(3,), parameter=5.497787143782138)\n",
      "H(target=(3,))\n",
      "H(target=(0,))\n",
      "Z(target=(3,), control=(0,))\n",
      "Z(target=(2,), control=(0,))\n",
      "Rz(target=(0,), parameter=5.497787143782138)\n",
      "H(target=(0,))\n",
      "Z(target=(3,), control=(1,))\n",
      "Z(target=(2,), control=(1,))\n",
      "Z(target=(1,), control=(0,))\n",
      "H(target=(2,))\n",
      "H(target=(4,))\n",
      "H(target=(0,))\n",
      "H(target=(3,))\n",
      "H(target=(4,))\n",
      "H(target=(3,))\n",
      "H(target=(2,))\n",
      "H(target=(1,))\n",
      "H(target=(0,))\n",
      "H(target=(3,))\n",
      "H(target=(2,))\n",
      "H(target=(1,))\n",
      "H(target=(0,))\n",
      "\n"
     ]
    }
   ],
   "source": [
    "tequila_circuit_optimized = tq.convert_from_pyzx(c_optimized)\n",
    "\n",
    "tq.draw(tequila_circuit_optimized, backend='symbolic')"
   ]
  },
  {
   "cell_type": "code",
   "execution_count": null,
   "metadata": {},
   "outputs": [],
   "source": []
  }
 ],
 "metadata": {
  "@webio": {
   "lastCommId": null,
   "lastKernelId": null
  },
  "kernelspec": {
   "display_name": "Python 3",
   "language": "python",
   "name": "python3"
  },
  "language_info": {
   "codemirror_mode": {
    "name": "ipython",
    "version": 3
   },
   "file_extension": ".py",
   "mimetype": "text/x-python",
   "name": "python",
   "nbconvert_exporter": "python",
   "pygments_lexer": "ipython3",
   "version": "3.7.9"
  }
 },
 "nbformat": 4,
 "nbformat_minor": 4
}

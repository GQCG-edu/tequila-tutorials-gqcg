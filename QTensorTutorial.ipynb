{
 "cells": [
  {
   "cell_type": "markdown",
   "id": "59528bf1",
   "metadata": {},
   "source": [
    "## A short tutorial on using QTensor class:\n",
    "\n",
    "This tutorial introduces you to the QTensor class using which you can form vectors, matrices, or tensors whose elements are tequila objectives. This class is derived from numpy.ndarray and therefore, all operations that can be performed on an ndarray object can be performed on a QTensor object."
   ]
  },
  {
   "cell_type": "code",
   "execution_count": 1,
   "id": "eaff0803",
   "metadata": {
    "scrolled": true
   },
   "outputs": [
    {
     "name": "stderr",
     "output_type": "stream",
     "text": [
      "[Qibo 0.1.6|INFO|2022-01-14 12:15:36]: Using numpy backend on /CPU:0\n",
      "[Qibo 0.1.6|WARNING|2022-01-14 12:15:36]: numpy backend uses `np.einsum` and supports CPU only. Consider installing the qibojit or qibotf backends for increased performance and to enable GPU acceleration.\n"
     ]
    }
   ],
   "source": [
    "# tequila version must be larger than version 1.6.2\n",
    "# Meanwhile, you can checkout the devel branch\n",
    "\n",
    "import tequila as tq\n",
    "from tequila import numpy\n",
    "from numpy import pi"
   ]
  },
  {
   "cell_type": "code",
   "execution_count": 2,
   "id": "3daa568d",
   "metadata": {},
   "outputs": [
    {
     "name": "stdout",
     "output_type": "stream",
     "text": [
      "backend         | wfn        | sampling   | noise      | installed \n",
      "--------------------------------------------------------------------\n",
      "qulacs_gpu      | False      | False      | False      | False     \n",
      "qulacs          | True       | True       | True       | True      \n",
      "qibo            | True       | True       | True       | True      \n",
      "qiskit          | True       | True       | True       | True      \n",
      "cirq            | True       | True       | True       | True      \n",
      "pyquil          | True       | True       | True       | True      \n",
      "symbolic        | True       | False      | False      | True      \n",
      "qlm             | False      | False      | False      | False     \n"
     ]
    }
   ],
   "source": [
    "tq.show_available_simulators()"
   ]
  },
  {
   "cell_type": "markdown",
   "id": "b1464c10",
   "metadata": {},
   "source": [
    "We first create some simple Hamiltonians and tequila objectives to be used as elements in forthcoming examples"
   ]
  },
  {
   "cell_type": "code",
   "execution_count": 3,
   "id": "af834128",
   "metadata": {},
   "outputs": [],
   "source": [
    "# Hamiltonians\n",
    "H = tq.paulis.X(0)\n",
    "Hz = tq.paulis.Z(0)\n",
    "\n",
    "# Gates/circuits\n",
    "U1 = tq.gates.Ry(angle='a',target=0) \n",
    "U2 = tq.gates.X(0)+U1\n",
    "U3 = tq.gates.Ry(angle='b',target=0) \n",
    "\n",
    "# Expectation Values\n",
    "E1 = tq.ExpectationValue(H=H, U=U1)\n",
    "E2 = tq.ExpectationValue(H=H, U=U2)\n",
    "E3 = tq.ExpectationValue(H=H, U=U1+U3)\n",
    "E4 = tq.ExpectationValue(H=H, U=U3)\n",
    "E5 = tq.ExpectationValue(H=Hz, U=U1)\n",
    "E6 = tq.ExpectationValue(H=Hz, U = U3)\n",
    "\n",
    "# variables\n",
    "variables={'a':numpy.pi/4, 'b':numpy.pi/3} "
   ]
  },
  {
   "cell_type": "markdown",
   "id": "29ebbfc8",
   "metadata": {},
   "source": [
    "Now let us construct QTensors.<br>\n",
    "First suppose we want an array (of objectives) of length 3. We define a QTensor in the following way:"
   ]
  },
  {
   "cell_type": "code",
   "execution_count": 4,
   "id": "a28ea8a9",
   "metadata": {},
   "outputs": [],
   "source": [
    "V1 = tq.QTensor(shape=[3])\n",
    "V1[0] = E1\n",
    "V1[1] = E2\n",
    "V1[2] = E3"
   ]
  },
  {
   "cell_type": "markdown",
   "id": "79d89b86",
   "metadata": {},
   "source": [
    "In the above example, we first initialized a QTensor of `shape` (3,1). Then, we assigned a tequila objective to each element of the QTensor.<br>\n",
    "Another way of initializing a QTensor is by providing it an objective list (using `objective_list`) and a `shape` as follows. "
   ]
  },
  {
   "cell_type": "code",
   "execution_count": 5,
   "id": "cd23a577",
   "metadata": {},
   "outputs": [],
   "source": [
    "V1_ = tq.QTensor(objective_list = [E1,E2,E3], shape=[3])"
   ]
  },
  {
   "cell_type": "markdown",
   "id": "a76e4ae4",
   "metadata": {},
   "source": [
    "Caution: The elements of `objctive_list` must be tequila objectives!"
   ]
  },
  {
   "cell_type": "markdown",
   "id": "f310950b",
   "metadata": {},
   "source": [
    "To view the details of the QTensor, we can use `print(<QTensor_name>)`:"
   ]
  },
  {
   "cell_type": "code",
   "execution_count": 22,
   "id": "dfc0074d",
   "metadata": {},
   "outputs": [
    {
     "name": "stdout",
     "output_type": "stream",
     "text": [
      "V1: QTensor of shape (3,) with 3 unique expectation values\n",
      "total measurements = 3\n",
      "variables          = [a, b]\n",
      "types              = not compiled\n",
      "\n",
      "\n",
      "V1_: QTensor of shape (3,) with 3 unique expectation values\n",
      "total measurements = 3\n",
      "variables          = [a, b]\n",
      "types              = not compiled\n",
      "array(['f([a])', 'f([a])', 'f([a, b])'], dtype=object)\n",
      "<class 'tequila.objective.objective.Objective'>\n"
     ]
    }
   ],
   "source": [
    "print('V1:',V1)\n",
    "print('\\n')\n",
    "print('V1_:',V1_)"
   ]
  },
  {
   "cell_type": "markdown",
   "id": "0a2b9d5c",
   "metadata": {},
   "source": [
    "Similarly, we can create matrices and tensors. \n",
    "Note that it is not necessary that the tensor element is a single expectation value.\n",
    "See the following example:"
   ]
  },
  {
   "cell_type": "code",
   "execution_count": 7,
   "id": "a67a44dd",
   "metadata": {},
   "outputs": [],
   "source": [
    "V2 = tq.QTensor(shape=[2,2])\n",
    "V2[0,0] = E1\n",
    "V2[0,1] = E4\n",
    "V2[1,0] = E5\n",
    "V2[1,1] = E6 + E5.apply(tq.numpy.square)"
   ]
  },
  {
   "cell_type": "markdown",
   "id": "7e5cb63b",
   "metadata": {},
   "source": [
    "We can similarly create tensors. Below we create a `(2,2,2)` tensor wich has 8 elements and we fill it using 6 different expectation values"
   ]
  },
  {
   "cell_type": "code",
   "execution_count": 8,
   "id": "8829e846",
   "metadata": {},
   "outputs": [],
   "source": [
    "V3 = tq.QTensor(shape=[2,2,2])\n",
    "V3[0,0,0] = E1\n",
    "V3[0,0,1] = E2\n",
    "V3[0,1,0] = E3\n",
    "V3[0,1,1] = E4\n",
    "V3[1,0,0] = E5\n",
    "V3[1,0,1] = E6\n",
    "V3[1,1,0] = E4\n",
    "V3[1,1,1] = E3 + E4**2"
   ]
  },
  {
   "cell_type": "code",
   "execution_count": 9,
   "id": "e466a873",
   "metadata": {},
   "outputs": [
    {
     "name": "stdout",
     "output_type": "stream",
     "text": [
      "V2:\n",
      " QTensor of shape (2, 2) with 4 unique expectation values\n",
      "total measurements = 4\n",
      "variables          = [a, b]\n",
      "types              = not compiled\n",
      "\n",
      "V3:\n",
      " QTensor of shape (2, 2, 2) with 6 unique expectation values\n",
      "total measurements = 6\n",
      "variables          = [a, b]\n",
      "types              = not compiled\n"
     ]
    }
   ],
   "source": [
    "print(\"V2:\\n\",V2)\n",
    "print(\"\\nV3:\\n\",V3)"
   ]
  },
  {
   "cell_type": "markdown",
   "id": "089ff037",
   "metadata": {},
   "source": [
    "#### Compilation and Simulation:\n",
    "We can compile and simulate QTensors in exactly the same way as we compile and simulate objectives."
   ]
  },
  {
   "cell_type": "code",
   "execution_count": 10,
   "id": "742c5f0e",
   "metadata": {},
   "outputs": [
    {
     "name": "stdout",
     "output_type": "stream",
     "text": [
      "[ 0.70710678 -0.70710678  0.96592583]\n"
     ]
    }
   ],
   "source": [
    "print(tq.simulate(V1,variables)) "
   ]
  },
  {
   "cell_type": "code",
   "execution_count": 11,
   "id": "c1a7b6b7",
   "metadata": {},
   "outputs": [
    {
     "name": "stdout",
     "output_type": "stream",
     "text": [
      "QTensor of shape (2, 2) with 5 unique expectation values\n",
      "total measurements = 5\n",
      "variables          = [a, b]\n",
      "types              = [<class 'tequila.simulators.simulator_qulacs.BackendExpectationValueQulacs'>] \n",
      "\n",
      "[[0.70710678 0.8660254 ]\n",
      " [0.70710678 1.        ]]\n"
     ]
    }
   ],
   "source": [
    "V4 = tq.compile(V2,variables)\n",
    "print(V4,'\\n')\n",
    "print(V4(variables))"
   ]
  },
  {
   "cell_type": "markdown",
   "id": "38353a4b",
   "metadata": {},
   "source": [
    "#### Applying transformations on QTensors:"
   ]
  },
  {
   "cell_type": "markdown",
   "id": "995019a2",
   "metadata": {},
   "source": [
    "We can apply any operation to the QTensor like we apply to a tequila objective. In the case of QTensors, the function/operation is applied element-wise. For instance"
   ]
  },
  {
   "cell_type": "code",
   "execution_count": 12,
   "id": "5f8c7209",
   "metadata": {},
   "outputs": [
    {
     "name": "stdout",
     "output_type": "stream",
     "text": [
      "QTensor of shape (3,) with 3 unique expectation values\n",
      "total measurements = 3\n",
      "variables          = [a, b]\n",
      "types              = not compiled\n",
      "[2.02811498 0.49306869 2.62721888]\n"
     ]
    }
   ],
   "source": [
    "V5 = V1.apply(numpy.exp)\n",
    "print(V5)\n",
    "print(tq.simulate(V5,variables))"
   ]
  },
  {
   "cell_type": "code",
   "execution_count": 13,
   "id": "531db7cc",
   "metadata": {},
   "outputs": [
    {
     "name": "stdout",
     "output_type": "stream",
     "text": [
      "array(['f([a])', 'f([b])', 'f([a])', 'f([b, a])'], dtype=object)\n",
      "array(['f([a])', 'f([b])', 'f([a])', 'f([b, a])'], dtype=object)\n",
      "[[0.64963694 0.76175998]\n",
      " [0.64963694 0.84147098]]\n"
     ]
    }
   ],
   "source": [
    "V6 = V2.apply(numpy.sin)\n",
    "\n",
    "print(repr(V6))\n",
    "\n",
    "V6compiled  = tq.compile(V6,variables)\n",
    "print(repr(V6compiled))\n",
    "print(V6compiled(variables))\n",
    "\n",
    "# print(tq.simulate(V6,variables))"
   ]
  },
  {
   "cell_type": "markdown",
   "id": "8f6b3d27",
   "metadata": {},
   "source": [
    "You can even define your own function and give it as input:"
   ]
  },
  {
   "cell_type": "code",
   "execution_count": 14,
   "id": "988a6e1f",
   "metadata": {},
   "outputs": [
    {
     "name": "stdout",
     "output_type": "stream",
     "text": [
      "[[[ 1.41421356 -1.41421356]\n",
      "  [ 1.93185165  1.73205081]]\n",
      "\n",
      " [[ 1.41421356  1.        ]\n",
      "  [ 1.73205081  3.43185165]]]\n"
     ]
    }
   ],
   "source": [
    "def my_func(x):\n",
    "    return 2*x\n",
    "\n",
    "V7 = V3.apply(my_func)\n",
    "print(tq.simulate(V7,variables))"
   ]
  },
  {
   "cell_type": "markdown",
   "id": "c894b5bc",
   "metadata": {},
   "source": [
    "Similarly, we can apply gradient function on QTensor. `grad` is applied on each element of the QTensor"
   ]
  },
  {
   "cell_type": "code",
   "execution_count": 15,
   "id": "f382682d",
   "metadata": {
    "scrolled": false
   },
   "outputs": [
    {
     "name": "stdout",
     "output_type": "stream",
     "text": [
      "array(['f([a])', 'f([])', 'f([a])', 'f([b, a])'], dtype=object)\n",
      "<class 'tequila.objective.qtensor.QTensor'>\n",
      "QTensor of shape (2, 2) with 8 unique expectation values\n",
      "total measurements = 8\n",
      "variables          = [a, b]\n",
      "types              = not compiled\n",
      "QTensor of shape (2, 2) with 6 unique expectation values\n",
      "total measurements = 6\n",
      "variables          = [b, a]\n",
      "types              = not compiled\n",
      "[[0. 0.]\n",
      " [0. 0.]]\n"
     ]
    }
   ],
   "source": [
    "# print(V6)\n",
    "dV2da = tq.grad(V2,'a')\n",
    "\n",
    "print(repr(dV2da))\n",
    "print(type(dV2da))\n",
    "print(dV2da)\n",
    "\n",
    "dV2dab = tq.grad(dV2da,'b')\n",
    "print(dV2dab)\n",
    "# compiled_dV2 = tq.compile(dV2da)\n",
    "# print(compiled_dV2(variables))\n",
    "\n",
    "print(tq.simulate(dV2dab,variables))"
   ]
  },
  {
   "cell_type": "markdown",
   "id": "5e657ad1",
   "metadata": {},
   "source": [
    "With these QTensors, we can do all the operations that we can with numpy arrays. Some of them are given below:"
   ]
  },
  {
   "cell_type": "code",
   "execution_count": 16,
   "id": "703fdd1b",
   "metadata": {},
   "outputs": [
    {
     "name": "stdout",
     "output_type": "stream",
     "text": [
      "[[0.70710678 0.8660254 ]\n",
      " [0.70710678 1.        ]]\n",
      "[[0.5  0.75]\n",
      " [0.5  1.  ]]\n"
     ]
    }
   ],
   "source": [
    "V8 = V2*V2\n",
    "print(tq.simulate(V2,variables))\n",
    "print(tq.simulate(V8,variables))"
   ]
  },
  {
   "cell_type": "markdown",
   "id": "8f4f4437",
   "metadata": {},
   "source": [
    "dot product of two arrays:"
   ]
  },
  {
   "cell_type": "code",
   "execution_count": 17,
   "id": "d8e406a0",
   "metadata": {},
   "outputs": [
    {
     "name": "stdout",
     "output_type": "stream",
     "text": [
      "[ 0.70710678 -0.70710678  0.96592583]\n",
      "1.9330127018922196\n"
     ]
    }
   ],
   "source": [
    "V9 = numpy.dot(V1,V1)\n",
    "print(tq.simulate(V1,variables))\n",
    "print(tq.simulate(V9,variables))"
   ]
  },
  {
   "cell_type": "code",
   "execution_count": 18,
   "id": "293a6309",
   "metadata": {},
   "outputs": [
    {
     "name": "stdout",
     "output_type": "stream",
     "text": [
      "<class 'tequila.objective.qtensor.QTensor'>\n",
      "[[0.70710678 0.8660254 ]\n",
      " [0.70710678 1.        ]]\n",
      "[[1.11237244 1.47839784]\n",
      " [1.20710678 1.61237244]]\n",
      "\n",
      "\n",
      "<class 'tequila.objective.qtensor.QTensor'>\n",
      "[[1.11237244 1.47839784]\n",
      " [1.20710678 1.61237244]]\n"
     ]
    }
   ],
   "source": [
    "V10 = numpy.dot(V2,V2)\n",
    "V11 = numpy.matmul(V2,V2)\n",
    "print(type(V10))\n",
    "print(tq.simulate(V2,variables))\n",
    "print(tq.simulate(V10,variables))\n",
    "print('\\n')\n",
    "print(type(V11))\n",
    "print(tq.simulate(V11,variables))"
   ]
  },
  {
   "cell_type": "markdown",
   "id": "05293314",
   "metadata": {},
   "source": [
    "However, there is one exception that we found. The `tensordot` method returns an ndarray rather than a QTensor when acting on QTensor objects. If such an issue occurs, recast as follows:"
   ]
  },
  {
   "cell_type": "code",
   "execution_count": 19,
   "id": "440f2fe1",
   "metadata": {},
   "outputs": [
    {
     "name": "stdout",
     "output_type": "stream",
     "text": [
      "[f([a, b]), f([a, b]), f([a, b]), f([a, b])]\n",
      "<class 'tequila.objective.objective.Objective'>\n",
      "QTensor of shape (2, 2) with 6 unique expectation values\n",
      "total measurements = 6\n",
      "variables          = [a, b]\n",
      "types              = not compiled\n",
      "<class 'tequila.objective.objective.Objective'>\n",
      "[[1.25       0.85662583]\n",
      " [3.08137071 3.31042685]]\n"
     ]
    }
   ],
   "source": [
    "V12_tmp = numpy.tensordot(V3,V3)#compiledV3, compiledV3, axes =2)\n",
    "print(list(V12_tmp.flatten()))\n",
    "print(type(V12_tmp[0,0]))\n",
    "V12 = tq.QTensor(objective_list = list(V12_tmp.flatten()),shape=V12_tmp.shape)\n",
    "\n",
    "print(V12)\n",
    "print(type(V12[0,1]))\n",
    "# print(tq.simulate(V3,variables))\n",
    "print(tq.simulate(V12,variables))"
   ]
  },
  {
   "cell_type": "code",
   "execution_count": null,
   "id": "038a651b",
   "metadata": {},
   "outputs": [],
   "source": []
  }
 ],
 "metadata": {
  "kernelspec": {
   "display_name": "tequila_devel",
   "language": "python",
   "name": "tequila_devel"
  },
  "language_info": {
   "codemirror_mode": {
    "name": "ipython",
    "version": 3
   },
   "file_extension": ".py",
   "mimetype": "text/x-python",
   "name": "python",
   "nbconvert_exporter": "python",
   "pygments_lexer": "ipython3",
   "version": "3.8.12"
  }
 },
 "nbformat": 4,
 "nbformat_minor": 5
}

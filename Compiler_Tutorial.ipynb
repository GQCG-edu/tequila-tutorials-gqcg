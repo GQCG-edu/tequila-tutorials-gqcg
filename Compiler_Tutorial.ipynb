{
 "cells": [
  {
   "cell_type": "markdown",
   "metadata": {},
   "source": [
    "## A short tutorial on Gate Generators & Tequila's compilation procedure\n",
    "In this tutorial:\n",
    "1. we introduce the concept of a *generator* and how it is used in Tequila.\n",
    "2. briefly describe how native compiler in Tequila works, and\n",
    "3. how you can optimize your circuits using external compiler t|ket>"
   ]
  },
  {
   "cell_type": "markdown",
   "metadata": {},
   "source": [
    "Every unitary gate $ U $ can be written as:\n",
    "$$ U = e^{-i \\frac{a}{2} G} $$\n",
    "\n",
    "where $ G $ is a Hermitian matrix (i.e $ G = G^{\\dagger} $) called the *generator* of $ U $.\n",
    "\n",
    "Tequila uses above representation with the convention that \n",
    "\n",
    "- $ a $ equals `U.parameter` if gate $ U $ is parametrized, or\n",
    "- $ a = \\pi $ \n",
    "\n",
    "To avoid confusion, $ U $ should be of type `QGateImpl`. Usually in Tequila, one has high level access to `QCircuit` data structure."
   ]
  },
  {
   "cell_type": "code",
   "execution_count": 1,
   "metadata": {},
   "outputs": [],
   "source": [
    "from numpy import pi\n",
    "\n",
    "import tequila as tq\n",
    "import tequila.circuit.gates as gates\n",
    "\n",
    "from tequila import QCircuit"
   ]
  },
  {
   "cell_type": "markdown",
   "metadata": {},
   "source": [
    "Let's look at some simple examples for one qubit - gates.\n",
    "- Rotation around Z - axis of angle $ a $: \n",
    "$\\hspace{0.7em} R_z(a) = e^{-i \\frac{a}{2} Z} $\n",
    "\n",
    "- a-th power of Z: \n",
    "$\\hspace{1.5em} Z = e^{-i \\frac{\\pi}{2} (Z - 1)} \\implies Z^a = e^{-i \\frac{a \\cdot \\pi}{2} (Z - 1)} = e^{i \\frac{a \\cdot \\pi}{2}} \\cdot R_z(a \\cdot \\pi) $"
   ]
  },
  {
   "cell_type": "code",
   "execution_count": 2,
   "metadata": {},
   "outputs": [
    {
     "name": "stdout",
     "output_type": "stream",
     "text": [
      "Gate: Rz | Generator: +1.0000Z(0)\n",
      "Gate:  Z | Generator: +1.0000Z(0)-1.0000\n"
     ]
    }
   ],
   "source": [
    "qc  = QCircuit()\n",
    "qc += gates.Rz(pi / 2, 0)\n",
    "qc += gates.Z(0, power=0.5)\n",
    "\n",
    "# let's see how the data structure looks\n",
    "for U in qc.gates:\n",
    "    G = U.generator\n",
    "    print('Gate: {:>2} | Generator: {}'.format(U.name, G))"
   ]
  },
  {
   "cell_type": "markdown",
   "metadata": {},
   "source": [
    "Going forward, a controlled - $ U $ gate with $ k $ qubits as controls is written as:\n",
    "\n",
    "$$ U_c = e^{-i \\frac{a}{2} \\cdot |1 \\rangle \\langle 1 |^{\\otimes k} G} = e^{-i \\frac{a}{2} \\big(\\frac{I - Z}{2}\\big)^{\\otimes k}G} $$\n",
    "\n",
    "We can justify the above expression since if:\n",
    "- any of the control qubits in state $ | \\psi \\rangle $ are in $ |0 \\rangle $ state: \n",
    "\n",
    "$$ |1 \\rangle \\langle 1 |^{\\otimes k} G \\cdot | \\psi \\rangle = 0 \\implies U_c |\\psi \\rangle = |\\psi \\rangle $$\n",
    "\n",
    "- all the control qubits in state $ | \\psi \\rangle = |c \\rangle |t \\rangle $ are in $ |1 \\rangle $ state: \n",
    "\n",
    "$$ |1 \\rangle \\langle 1 |^{\\otimes k} G \\cdot | \\psi \\rangle = \n",
    "   |1 \\rangle^{\\otimes k} G |t \\rangle \n",
    "   \\implies \n",
    "   U_c |\\psi \\rangle = |1 \\rangle^{\\otimes k} U |t \\rangle \n",
    "$$\n",
    "   \n",
    "   \n",
    "In Tequila:"
   ]
  },
  {
   "cell_type": "code",
   "execution_count": 3,
   "metadata": {},
   "outputs": [
    {
     "name": "stdout",
     "output_type": "stream",
     "text": [
      "\n",
      "Gate:  Rx \n",
      " | Is controlled?  True \n",
      " | Generator: +1.0000X(1) \n",
      " | Full Generator:  +0.5000X(1)-0.5000Z(0)X(1)\n"
     ]
    }
   ],
   "source": [
    "qc = gates.Rx(pi / 2, control=0, target=1)\n",
    "\n",
    "for U in qc.gates:\n",
    "    G  = U.generator\n",
    "    Gc = U.make_generator(include_controls=True)\n",
    "    \n",
    "    print('\\nGate: ', U.name, \n",
    "          '\\n | Is controlled? ', U.is_controlled(), \n",
    "          '\\n | Generator:', G, \n",
    "          '\\n | Full Generator: ', Gc)"
   ]
  },
  {
   "cell_type": "markdown",
   "metadata": {},
   "source": [
    "## Gates decomposition\n",
    "In this section we explain the gates decomposition used by Tequila's compiler.\n",
    "\n",
    "As a start, for backends that do not natively support power gates (eg. `qiskit`), we decompose them as an equivalent up to a global phase sequence of rotations (see above for $ Z^a $).\n",
    "\n",
    "A special case is the Hadamard gate:\n",
    "$ \\hspace{0.5em}\n",
    "H = R_y(\\frac{\\pi}{4}) \\cdot Z \\cdot R_y(-\\frac{\\pi}{4}) \\implies \n",
    "H^a =  e^{i \\frac{a \\cdot \\pi}{2}} \\cdot R_y(\\frac{\\pi}{4}) \\cdot R_z(a \\cdot \\pi) \\cdot R_y(-\\frac{\\pi}{4}) $"
   ]
  },
  {
   "cell_type": "code",
   "execution_count": 4,
   "metadata": {},
   "outputs": [
    {
     "name": "stdout",
     "output_type": "stream",
     "text": [
      "     ┌──────────┐┌─────────┐┌─────────┐\n",
      "q_0: ┤ Ry(-π/4) ├┤ Rz(π/2) ├┤ Ry(π/4) ├\n",
      "     └──────────┘└─────────┘└─────────┘\n",
      "c: 1/══════════════════════════════════\n",
      "                                       \n"
     ]
    }
   ],
   "source": [
    "qc = gates.H(target=0, power=0.5)\n",
    "\n",
    "compiled = tq.compile(qc, backend='qiskit')\n",
    "print(compiled.circuit)"
   ]
  },
  {
   "cell_type": "markdown",
   "metadata": {},
   "source": [
    "Remember quantum circuits are written in reversed order than matrix multiplication. Also notice that the global phase is dropped in the decomposition."
   ]
  },
  {
   "cell_type": "markdown",
   "metadata": {},
   "source": [
    "Regarding (multi) controlled gates, Tequila decompose everything in terms of $ CNOT $ and single qubit - rotations if a backend does not support the corresponding operation. \n",
    "\n",
    "Let's start first with a controlled - $ Z $ rotation with k qubits acting as controls. All other cases will be reduced to it.\n",
    "\n",
    "$$ CRz_k(a) = e^{-i \\frac{a}{2} \\big(\\frac{I - Z}{2}\\big)^{\\otimes k} Z} = \n",
    "\\prod_{m = 0}^{k} \\prod_{\\sigma \\in C_{k, m}} e^{-i \\frac{(-1)^{m} \\cdot a/2^k}{2} Z_{\\sigma(1)} Z_{\\sigma(2)} .. Z_{\\sigma(m)} Z} $$\n",
    "The idea is to sort the terms in $ \\big(I - Z\\big)^{\\otimes k} $ expansion in Gray code order. In this order, when we synthesize the individual Exponential-Pauli gates, consecutive $ CNOT $ gates meet and cancel out.\n",
    "\n",
    "For example:\n",
    "\n",
    "$$ CRz_2(a) = e^{-i \\frac{a}{2} \\big(\\frac{I - Z}{2}\\big)^{\\otimes 2}} = \n",
    "e^{-i \\frac{a/4}{2} I_0 I_1 Z} \\cdot \n",
    "e^{i \\frac{a/4}{2} Z_0 I_1 Z}  \\cdot\n",
    "e^{-i \\frac{a/4}{2} Z_0 Z_1 Z} \\cdot\n",
    "e^{i \\frac{a/4}{2} I_0 Z_1 Z} $$"
   ]
  },
  {
   "cell_type": "code",
   "execution_count": 5,
   "metadata": {},
   "outputs": [
    {
     "name": "stdout",
     "output_type": "stream",
     "text": [
      "                                                                       \n",
      "q_0: ─────────────■────────────────────────────────■───────────────────\n",
      "                  │                                │                   \n",
      "q_1: ─────────────┼────────────────■───────────────┼────────────────■──\n",
      "     ┌─────────┐┌─┴─┐┌──────────┐┌─┴─┐┌─────────┐┌─┴─┐┌──────────┐┌─┴─┐\n",
      "q_2: ┤ Rz(π/4) ├┤ X ├┤ Rz(-π/4) ├┤ X ├┤ Rz(π/4) ├┤ X ├┤ Rz(-π/4) ├┤ X ├\n",
      "     └─────────┘└───┘└──────────┘└───┘└─────────┘└───┘└──────────┘└───┘\n",
      "c: 3/══════════════════════════════════════════════════════════════════\n",
      "                                                                       \n"
     ]
    }
   ],
   "source": [
    "qc = gates.Rz(pi, control=[0, 1], target=2)\n",
    "\n",
    "compiled = tq.compile(qc, backend='qiskit')\n",
    "print(compiled.circuit)"
   ]
  },
  {
   "cell_type": "markdown",
   "metadata": {},
   "source": [
    "That was a lot at once. \n",
    "\n",
    "Let's see how the decomposition of $ e^{-i \\frac{a/4}{2} Z_0 Z_1 Z}  $ looks like."
   ]
  },
  {
   "cell_type": "code",
   "execution_count": 6,
   "metadata": {},
   "outputs": [
    {
     "name": "stdout",
     "output_type": "stream",
     "text": [
      "                                    \n",
      "q_0: ──■─────────────────────────■──\n",
      "     ┌─┴─┐                     ┌─┴─┐\n",
      "q_1: ┤ X ├──■───────────────■──┤ X ├\n",
      "     └───┘┌─┴─┐┌─────────┐┌─┴─┐└───┘\n",
      "q_2: ─────┤ X ├┤ Rz(π/4) ├┤ X ├─────\n",
      "          └───┘└─────────┘└───┘     \n",
      "c: 3/═══════════════════════════════\n",
      "                                    \n"
     ]
    }
   ],
   "source": [
    "qc = gates.ExpPauli(paulistring='Z(0)Z(1)Z(2)', angle=pi/4)\n",
    "\n",
    "compiled = tq.compile(qc, backend='qiskit')\n",
    "print(compiled.circuit)"
   ]
  },
  {
   "cell_type": "markdown",
   "metadata": {},
   "source": [
    "The decomposition of other terms look similar. You can write them down and see how the $ CNOT $ gates cancel out."
   ]
  },
  {
   "cell_type": "markdown",
   "metadata": {},
   "source": [
    "Controlled - Phase gates:\n",
    "\n",
    "$$ CP_k(a) = e^{i a \\big(\\frac{I - Z}{2}\\big)^{\\otimes k} \\frac{I - Z}{2}} =  \n",
    "e^{i \\frac{a}{2} \\big(\\frac{I - Z}{2}\\big)^{\\otimes k}} \\cdot e^{-i \\frac{a}{2} \\big(\\frac{I - Z}{2}\\big)^{\\otimes k} Z} = \n",
    "CP_{k-1}(\\frac{a}{2}) \\cdot CRz_k(a)$$\n",
    "\n",
    "The above equality provides a recurrent way to decompose $ CP_k(a) $ with base case $ CP_0(a) = Phase(a) = e^{i\\frac{a}{2}} R_z(a) $."
   ]
  },
  {
   "cell_type": "code",
   "execution_count": 7,
   "metadata": {},
   "outputs": [
    {
     "name": "stdout",
     "output_type": "stream",
     "text": [
      "     ┌─────────┐                      \n",
      "q_0: ┤ Rz(π/2) ├──■────────────────■──\n",
      "     ├─────────┤┌─┴─┐┌──────────┐┌─┴─┐\n",
      "q_1: ┤ Rz(π/2) ├┤ X ├┤ Rz(-π/2) ├┤ X ├\n",
      "     └─────────┘└───┘└──────────┘└───┘\n",
      "c: 2/═════════════════════════════════\n",
      "                                      \n"
     ]
    }
   ],
   "source": [
    "qc = gates.Phase(phase=pi, control=0, target=1)\n",
    "\n",
    "compiled = tq.compile(qc, backend='qiskit')\n",
    "print(compiled.circuit)"
   ]
  },
  {
   "cell_type": "markdown",
   "metadata": {},
   "source": [
    "Controlled power gates are equivalent to controlled - phase gates after a basis change. Specifically:\n",
    "\n",
    "- $ X = H Z H \\implies CX_k^a = H \\cdot CP_k(a \\cdot \\pi) \\cdot H $\n",
    "- $ Y = R_x(- \\frac{\\pi}{2}) \\cdot Z \\cdot R_x(\\frac{\\pi}{2})  \\implies CY_k^a = R_x(- \\frac{\\pi}{2}) \\cdot CP_k(a \\cdot \\pi) \\cdot R_x(\\frac{\\pi}{2}) $"
   ]
  },
  {
   "cell_type": "markdown",
   "metadata": {},
   "source": [
    "It is worh mentioning here that Tequila decomposes gates only when it is needed, i.e either a backend does not support a gate type or a translation between Tequila and backend object is not supported.\n",
    "\n",
    "For example, a Toffoli gate in `cirq` backend will not be decomposed further:"
   ]
  },
  {
   "cell_type": "code",
   "execution_count": 8,
   "metadata": {},
   "outputs": [
    {
     "name": "stdout",
     "output_type": "stream",
     "text": [
      "0: ───@───\n",
      "      │\n",
      "1: ───@───\n",
      "      │\n",
      "2: ───X───\n"
     ]
    }
   ],
   "source": [
    "qc = gates.Toffoli(0, 1, 2)\n",
    "\n",
    "compiled = tq.compile(qc, backend='cirq')\n",
    "print(compiled.circuit)"
   ]
  },
  {
   "cell_type": "markdown",
   "metadata": {},
   "source": [
    "But with `qiskit` we have to decompose it in terms of one and two qubit gates."
   ]
  },
  {
   "cell_type": "code",
   "execution_count": 9,
   "metadata": {},
   "outputs": [
    {
     "name": "stdout",
     "output_type": "stream",
     "text": [
      "                                                                              »\n",
      "q_0: ──■──────────────────────■────────────────────────────────■──────────────»\n",
      "       │U1(π/2)               │                                │              »\n",
      "q_1: ──■──────────────────────┼────────────────■───────────────┼──────────────»\n",
      "     ┌──────────┐┌─────────┐┌─┴─┐┌──────────┐┌─┴─┐┌─────────┐┌─┴─┐┌──────────┐»\n",
      "q_2: ┤ Ry(-π/2) ├┤ Rz(π/4) ├┤ X ├┤ Rz(-π/4) ├┤ X ├┤ Rz(π/4) ├┤ X ├┤ Rz(-π/4) ├»\n",
      "     └──────────┘└─────────┘└───┘└──────────┘└───┘└─────────┘└───┘└──────────┘»\n",
      "c: 3/═════════════════════════════════════════════════════════════════════════»\n",
      "                                                                              »\n",
      "«                     \n",
      "«q_0: ────────────────\n",
      "«                     \n",
      "«q_1: ──■─────────────\n",
      "«     ┌─┴─┐┌─────────┐\n",
      "«q_2: ┤ X ├┤ Ry(π/2) ├\n",
      "«     └───┘└─────────┘\n",
      "«c: 3/════════════════\n",
      "«                     \n"
     ]
    }
   ],
   "source": [
    "qc = gates.Toffoli(0, 1, 2)\n",
    "\n",
    "compiled = tq.compile(qc, backend='qiskit')\n",
    "print(compiled.circuit)"
   ]
  }
 ],
 "metadata": {
  "kernelspec": {
   "display_name": "tequila-3.8",
   "language": "python",
   "name": "tequila-3.8"
  },
  "language_info": {
   "codemirror_mode": {
    "name": "ipython",
    "version": 3
   },
   "file_extension": ".py",
   "mimetype": "text/x-python",
   "name": "python",
   "nbconvert_exporter": "python",
   "pygments_lexer": "ipython3",
   "version": "3.8.11"
  }
 },
 "nbformat": 4,
 "nbformat_minor": 2
}
